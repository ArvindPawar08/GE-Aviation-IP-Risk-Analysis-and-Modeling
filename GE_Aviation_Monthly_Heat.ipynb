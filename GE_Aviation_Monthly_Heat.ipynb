{
 "cells": [
  {
   "cell_type": "code",
   "execution_count": 1,
   "metadata": {},
   "outputs": [],
   "source": [
    "import numpy as np\n",
    "import pandas as pd\n",
    "import os\n",
    "import seaborn as sns\n",
    "import matplotlib as mlp\n",
    "import matplotlib.pyplot as plt\n",
    "from sklearn.tree import DecisionTreeRegressor\n",
    "from imblearn.over_sampling import (RandomOverSampler)"
   ]
  },
  {
   "cell_type": "code",
   "execution_count": 2,
   "metadata": {},
   "outputs": [
    {
     "data": {
      "text/plain": [
       "'/Users/arvindpawar'"
      ]
     },
     "execution_count": 2,
     "metadata": {},
     "output_type": "execute_result"
    }
   ],
   "source": [
    "os.getcwd()"
   ]
  },
  {
   "cell_type": "code",
   "execution_count": 3,
   "metadata": {},
   "outputs": [],
   "source": [
    "os.chdir(r'/Users/arvindpawar/Desktop/XN Updated')"
   ]
  },
  {
   "cell_type": "code",
   "execution_count": 4,
   "metadata": {},
   "outputs": [],
   "source": [
    "indicatorData=pd.read_csv('indicator_pairs_data updated.csv')"
   ]
  },
  {
   "cell_type": "code",
   "execution_count": 5,
   "metadata": {},
   "outputs": [
    {
     "data": {
      "text/plain": [
       "Atomic          92589\n",
       "Daily_Heat      16379\n",
       "Weekly_Heat     11681\n",
       "Monthly_Heat    11428\n",
       "Name: alert_type, dtype: int64"
      ]
     },
     "execution_count": 5,
     "metadata": {},
     "output_type": "execute_result"
    }
   ],
   "source": [
    "indicatorData['alert_type'].value_counts()"
   ]
  },
  {
   "cell_type": "code",
   "execution_count": 6,
   "metadata": {},
   "outputs": [
    {
     "data": {
      "text/html": [
       "<div>\n",
       "<style scoped>\n",
       "    .dataframe tbody tr th:only-of-type {\n",
       "        vertical-align: middle;\n",
       "    }\n",
       "\n",
       "    .dataframe tbody tr th {\n",
       "        vertical-align: top;\n",
       "    }\n",
       "\n",
       "    .dataframe thead th {\n",
       "        text-align: right;\n",
       "    }\n",
       "</style>\n",
       "<table border=\"1\" class=\"dataframe\">\n",
       "  <thead>\n",
       "    <tr style=\"text-align: right;\">\n",
       "      <th></th>\n",
       "      <th>index</th>\n",
       "      <th>alert_escalation_date</th>\n",
       "      <th>alert_id_fk</th>\n",
       "      <th>insert_date</th>\n",
       "      <th>score</th>\n",
       "      <th>owner_name</th>\n",
       "      <th>employee_id</th>\n",
       "      <th>risk_factor</th>\n",
       "      <th>avg_score</th>\n",
       "      <th>classification</th>\n",
       "      <th>hru</th>\n",
       "      <th>alert_category</th>\n",
       "      <th>alert_type</th>\n",
       "      <th>indicator_pairs</th>\n",
       "    </tr>\n",
       "  </thead>\n",
       "  <tbody>\n",
       "    <tr>\n",
       "      <td>0</td>\n",
       "      <td>7776</td>\n",
       "      <td>2/9/2018</td>\n",
       "      <td>976584706</td>\n",
       "      <td>1/24/2018</td>\n",
       "      <td>174</td>\n",
       "      <td>Senior_Analyst_1</td>\n",
       "      <td>19616361638</td>\n",
       "      <td>1.74</td>\n",
       "      <td>100</td>\n",
       "      <td>TP/DE</td>\n",
       "      <td>None</td>\n",
       "      <td>Heat</td>\n",
       "      <td>Daily_Heat</td>\n",
       "      <td>App_1_Heat_Box_PRE_2016_Q3</td>\n",
       "    </tr>\n",
       "    <tr>\n",
       "      <td>1</td>\n",
       "      <td>7793</td>\n",
       "      <td>2/9/2018</td>\n",
       "      <td>1764316194</td>\n",
       "      <td>1/24/2018</td>\n",
       "      <td>171</td>\n",
       "      <td>Senior_Analyst_1</td>\n",
       "      <td>19616361638</td>\n",
       "      <td>1.71</td>\n",
       "      <td>100</td>\n",
       "      <td>TP/DE</td>\n",
       "      <td>None</td>\n",
       "      <td>Heat</td>\n",
       "      <td>Daily_Heat</td>\n",
       "      <td>App_1_Heat_Box_PRE_2016_Q3</td>\n",
       "    </tr>\n",
       "    <tr>\n",
       "      <td>2</td>\n",
       "      <td>8092</td>\n",
       "      <td>2/9/2018</td>\n",
       "      <td>342985575</td>\n",
       "      <td>1/26/2018</td>\n",
       "      <td>321</td>\n",
       "      <td>Senior_Analyst_1</td>\n",
       "      <td>19616361638</td>\n",
       "      <td>3.21</td>\n",
       "      <td>100</td>\n",
       "      <td>TP/DE</td>\n",
       "      <td>None</td>\n",
       "      <td>Heat</td>\n",
       "      <td>Daily_Heat</td>\n",
       "      <td>App_1_Heat_Box_PRE_2016_Q3</td>\n",
       "    </tr>\n",
       "    <tr>\n",
       "      <td>3</td>\n",
       "      <td>8099</td>\n",
       "      <td>2/9/2018</td>\n",
       "      <td>1279998910</td>\n",
       "      <td>1/26/2018</td>\n",
       "      <td>312</td>\n",
       "      <td>Senior_Analyst_1</td>\n",
       "      <td>19616361638</td>\n",
       "      <td>3.12</td>\n",
       "      <td>100</td>\n",
       "      <td>TP/DE</td>\n",
       "      <td>None</td>\n",
       "      <td>Heat</td>\n",
       "      <td>Daily_Heat</td>\n",
       "      <td>App_1_Heat_Box_PRE_2016_Q3</td>\n",
       "    </tr>\n",
       "    <tr>\n",
       "      <td>4</td>\n",
       "      <td>8104</td>\n",
       "      <td>2/9/2018</td>\n",
       "      <td>1235439264</td>\n",
       "      <td>1/26/2018</td>\n",
       "      <td>300</td>\n",
       "      <td>Senior_Analyst_1</td>\n",
       "      <td>19616361638</td>\n",
       "      <td>3.00</td>\n",
       "      <td>100</td>\n",
       "      <td>TP/DE</td>\n",
       "      <td>None</td>\n",
       "      <td>Heat</td>\n",
       "      <td>Daily_Heat</td>\n",
       "      <td>App_1_Heat_Box_PRE_2016_Q3</td>\n",
       "    </tr>\n",
       "    <tr>\n",
       "      <td>...</td>\n",
       "      <td>...</td>\n",
       "      <td>...</td>\n",
       "      <td>...</td>\n",
       "      <td>...</td>\n",
       "      <td>...</td>\n",
       "      <td>...</td>\n",
       "      <td>...</td>\n",
       "      <td>...</td>\n",
       "      <td>...</td>\n",
       "      <td>...</td>\n",
       "      <td>...</td>\n",
       "      <td>...</td>\n",
       "      <td>...</td>\n",
       "      <td>...</td>\n",
       "    </tr>\n",
       "    <tr>\n",
       "      <td>16374</td>\n",
       "      <td>132066</td>\n",
       "      <td>9/24/2019</td>\n",
       "      <td>2039231178</td>\n",
       "      <td>9/24/2019</td>\n",
       "      <td>193</td>\n",
       "      <td>Analyst_6</td>\n",
       "      <td>19620542356</td>\n",
       "      <td>1.93</td>\n",
       "      <td>100</td>\n",
       "      <td>TP/DE</td>\n",
       "      <td>None</td>\n",
       "      <td>Heat</td>\n",
       "      <td>Daily_Heat</td>\n",
       "      <td>App_3_Heat_Email_ZIP/Threshold_Heat_Email_IND</td>\n",
       "    </tr>\n",
       "    <tr>\n",
       "      <td>16375</td>\n",
       "      <td>132069</td>\n",
       "      <td>9/24/2019</td>\n",
       "      <td>1159457803</td>\n",
       "      <td>9/24/2019</td>\n",
       "      <td>177</td>\n",
       "      <td>Analyst_7</td>\n",
       "      <td>11864624910</td>\n",
       "      <td>1.77</td>\n",
       "      <td>100</td>\n",
       "      <td>TP/DE</td>\n",
       "      <td>None</td>\n",
       "      <td>Heat</td>\n",
       "      <td>Daily_Heat</td>\n",
       "      <td>App_7_Heat_USB_NON_MIL/Threshold_Heat_BA_IND/T...</td>\n",
       "    </tr>\n",
       "    <tr>\n",
       "      <td>16376</td>\n",
       "      <td>132073</td>\n",
       "      <td>9/24/2019</td>\n",
       "      <td>1076301311</td>\n",
       "      <td>9/24/2019</td>\n",
       "      <td>316</td>\n",
       "      <td>Analyst_7</td>\n",
       "      <td>665484379</td>\n",
       "      <td>3.16</td>\n",
       "      <td>100</td>\n",
       "      <td>TP/DE</td>\n",
       "      <td>None</td>\n",
       "      <td>Heat</td>\n",
       "      <td>Daily_Heat</td>\n",
       "      <td>App_15_Heat_Badge_MS/App_9_Heat_Email_IND/Thre...</td>\n",
       "    </tr>\n",
       "    <tr>\n",
       "      <td>16377</td>\n",
       "      <td>132076</td>\n",
       "      <td>9/24/2019</td>\n",
       "      <td>1118121933</td>\n",
       "      <td>9/24/2019</td>\n",
       "      <td>216</td>\n",
       "      <td>Analyst_6</td>\n",
       "      <td>3669677450</td>\n",
       "      <td>2.16</td>\n",
       "      <td>100</td>\n",
       "      <td>TP/DE</td>\n",
       "      <td>None</td>\n",
       "      <td>Heat</td>\n",
       "      <td>Daily_Heat</td>\n",
       "      <td>App_9_Heat_Email_IND/Threshold_Heat_Email_IND</td>\n",
       "    </tr>\n",
       "    <tr>\n",
       "      <td>16378</td>\n",
       "      <td>132077</td>\n",
       "      <td>9/24/2019</td>\n",
       "      <td>1159467821</td>\n",
       "      <td>9/24/2019</td>\n",
       "      <td>198</td>\n",
       "      <td>Analyst_7</td>\n",
       "      <td>37607289000</td>\n",
       "      <td>1.98</td>\n",
       "      <td>100</td>\n",
       "      <td>TP/DE</td>\n",
       "      <td>None</td>\n",
       "      <td>Heat</td>\n",
       "      <td>Daily_Heat</td>\n",
       "      <td>App_3_Heat_Email_ZIP/App_9_Heat_Email_IND/Thre...</td>\n",
       "    </tr>\n",
       "  </tbody>\n",
       "</table>\n",
       "<p>16379 rows × 14 columns</p>\n",
       "</div>"
      ],
      "text/plain": [
       "        index alert_escalation_date  alert_id_fk insert_date  score  \\\n",
       "0        7776              2/9/2018    976584706   1/24/2018    174   \n",
       "1        7793              2/9/2018   1764316194   1/24/2018    171   \n",
       "2        8092              2/9/2018    342985575   1/26/2018    321   \n",
       "3        8099              2/9/2018   1279998910   1/26/2018    312   \n",
       "4        8104              2/9/2018   1235439264   1/26/2018    300   \n",
       "...       ...                   ...          ...         ...    ...   \n",
       "16374  132066             9/24/2019   2039231178   9/24/2019    193   \n",
       "16375  132069             9/24/2019   1159457803   9/24/2019    177   \n",
       "16376  132073             9/24/2019   1076301311   9/24/2019    316   \n",
       "16377  132076             9/24/2019   1118121933   9/24/2019    216   \n",
       "16378  132077             9/24/2019   1159467821   9/24/2019    198   \n",
       "\n",
       "             owner_name  employee_id  risk_factor  avg_score classification  \\\n",
       "0      Senior_Analyst_1  19616361638         1.74        100          TP/DE   \n",
       "1      Senior_Analyst_1  19616361638         1.71        100          TP/DE   \n",
       "2      Senior_Analyst_1  19616361638         3.21        100          TP/DE   \n",
       "3      Senior_Analyst_1  19616361638         3.12        100          TP/DE   \n",
       "4      Senior_Analyst_1  19616361638         3.00        100          TP/DE   \n",
       "...                 ...          ...          ...        ...            ...   \n",
       "16374         Analyst_6  19620542356         1.93        100          TP/DE   \n",
       "16375         Analyst_7  11864624910         1.77        100          TP/DE   \n",
       "16376         Analyst_7    665484379         3.16        100          TP/DE   \n",
       "16377         Analyst_6   3669677450         2.16        100          TP/DE   \n",
       "16378         Analyst_7  37607289000         1.98        100          TP/DE   \n",
       "\n",
       "        hru alert_category  alert_type  \\\n",
       "0      None           Heat  Daily_Heat   \n",
       "1      None           Heat  Daily_Heat   \n",
       "2      None           Heat  Daily_Heat   \n",
       "3      None           Heat  Daily_Heat   \n",
       "4      None           Heat  Daily_Heat   \n",
       "...     ...            ...         ...   \n",
       "16374  None           Heat  Daily_Heat   \n",
       "16375  None           Heat  Daily_Heat   \n",
       "16376  None           Heat  Daily_Heat   \n",
       "16377  None           Heat  Daily_Heat   \n",
       "16378  None           Heat  Daily_Heat   \n",
       "\n",
       "                                         indicator_pairs  \n",
       "0                             App_1_Heat_Box_PRE_2016_Q3  \n",
       "1                             App_1_Heat_Box_PRE_2016_Q3  \n",
       "2                             App_1_Heat_Box_PRE_2016_Q3  \n",
       "3                             App_1_Heat_Box_PRE_2016_Q3  \n",
       "4                             App_1_Heat_Box_PRE_2016_Q3  \n",
       "...                                                  ...  \n",
       "16374      App_3_Heat_Email_ZIP/Threshold_Heat_Email_IND  \n",
       "16375  App_7_Heat_USB_NON_MIL/Threshold_Heat_BA_IND/T...  \n",
       "16376  App_15_Heat_Badge_MS/App_9_Heat_Email_IND/Thre...  \n",
       "16377      App_9_Heat_Email_IND/Threshold_Heat_Email_IND  \n",
       "16378  App_3_Heat_Email_ZIP/App_9_Heat_Email_IND/Thre...  \n",
       "\n",
       "[16379 rows x 14 columns]"
      ]
     },
     "execution_count": 6,
     "metadata": {},
     "output_type": "execute_result"
    }
   ],
   "source": [
    "indicatorData.loc[indicatorData['alert_type'] == 'Daily_Heat'].reset_index()"
   ]
  },
  {
   "cell_type": "code",
   "execution_count": 7,
   "metadata": {},
   "outputs": [],
   "source": [
    "indicatorData=indicatorData.loc[indicatorData['alert_type'] == 'Daily_Heat'].reset_index()"
   ]
  },
  {
   "cell_type": "code",
   "execution_count": 8,
   "metadata": {},
   "outputs": [
    {
     "data": {
      "text/plain": [
       "(16379, 14)"
      ]
     },
     "execution_count": 8,
     "metadata": {},
     "output_type": "execute_result"
    }
   ],
   "source": [
    "indicatorData.shape"
   ]
  },
  {
   "cell_type": "code",
   "execution_count": 9,
   "metadata": {},
   "outputs": [
    {
     "data": {
      "text/plain": [
       "TP/DE      12224\n",
       "FP          2566\n",
       "TP/LOW      1114\n",
       "TP/HIGH      475\n",
       "Name: classification, dtype: int64"
      ]
     },
     "execution_count": 9,
     "metadata": {},
     "output_type": "execute_result"
    }
   ],
   "source": [
    "indicatorData['classification'].value_counts()"
   ]
  },
  {
   "cell_type": "code",
   "execution_count": 10,
   "metadata": {},
   "outputs": [],
   "source": [
    "employeeData=pd.read_csv('obfuscated_demo_data2.csv')"
   ]
  },
  {
   "cell_type": "code",
   "execution_count": 11,
   "metadata": {},
   "outputs": [
    {
     "data": {
      "text/html": [
       "<div>\n",
       "<style scoped>\n",
       "    .dataframe tbody tr th:only-of-type {\n",
       "        vertical-align: middle;\n",
       "    }\n",
       "\n",
       "    .dataframe tbody tr th {\n",
       "        vertical-align: top;\n",
       "    }\n",
       "\n",
       "    .dataframe thead th {\n",
       "        text-align: right;\n",
       "    }\n",
       "</style>\n",
       "<table border=\"1\" class=\"dataframe\">\n",
       "  <thead>\n",
       "    <tr style=\"text-align: right;\">\n",
       "      <th></th>\n",
       "      <th>employee_id</th>\n",
       "      <th>person_type</th>\n",
       "      <th>person_status</th>\n",
       "      <th>ge_hire_date</th>\n",
       "      <th>city</th>\n",
       "      <th>state_name</th>\n",
       "      <th>country_name</th>\n",
       "      <th>function_group</th>\n",
       "      <th>job_function</th>\n",
       "      <th>career_band</th>\n",
       "      <th>industry_focus_name</th>\n",
       "    </tr>\n",
       "  </thead>\n",
       "  <tbody>\n",
       "    <tr>\n",
       "      <td>0</td>\n",
       "      <td>2163707601</td>\n",
       "      <td>EMPLOYEE</td>\n",
       "      <td>A</td>\n",
       "      <td>9/1/1997 0:00</td>\n",
       "      <td>Reau</td>\n",
       "      <td>No_Data</td>\n",
       "      <td>France</td>\n",
       "      <td>Production</td>\n",
       "      <td>JOB_FUNCTION_7</td>\n",
       "      <td>CAREER_BAND_10</td>\n",
       "      <td>BUSINESS_SEGMENT_4</td>\n",
       "    </tr>\n",
       "    <tr>\n",
       "      <td>1</td>\n",
       "      <td>9225331209</td>\n",
       "      <td>EMPLOYEE</td>\n",
       "      <td>A</td>\n",
       "      <td>8/22/2006 0:00</td>\n",
       "      <td>Dubai</td>\n",
       "      <td>Dubai</td>\n",
       "      <td>United Arab Emirates</td>\n",
       "      <td>Commercial</td>\n",
       "      <td>JOB_FUNCTION_22</td>\n",
       "      <td>CAREER_BAND_9</td>\n",
       "      <td>BUSINESS_SEGMENT_4</td>\n",
       "    </tr>\n",
       "    <tr>\n",
       "      <td>2</td>\n",
       "      <td>9777696464</td>\n",
       "      <td>EMPLOYEE</td>\n",
       "      <td>I</td>\n",
       "      <td>3/1/2007 0:00</td>\n",
       "      <td>Dubai</td>\n",
       "      <td>Dubai</td>\n",
       "      <td>United Arab Emirates</td>\n",
       "      <td>Production</td>\n",
       "      <td>JOB_FUNCTION_24</td>\n",
       "      <td>CAREER_BAND_4</td>\n",
       "      <td>BUSINESS_SEGMENT_4</td>\n",
       "    </tr>\n",
       "    <tr>\n",
       "      <td>3</td>\n",
       "      <td>8893235549</td>\n",
       "      <td>EMPLOYEE</td>\n",
       "      <td>A</td>\n",
       "      <td>9/1/2003 0:00</td>\n",
       "      <td>Dzierzoniow</td>\n",
       "      <td>Lower Silesian</td>\n",
       "      <td>Poland</td>\n",
       "      <td>Enabling</td>\n",
       "      <td>JOB_FUNCTION_10</td>\n",
       "      <td>CAREER_BAND_4</td>\n",
       "      <td>BUSINESS_SEGMENT_4</td>\n",
       "    </tr>\n",
       "    <tr>\n",
       "      <td>4</td>\n",
       "      <td>1310142434</td>\n",
       "      <td>EMPLOYEE</td>\n",
       "      <td>I</td>\n",
       "      <td>9/4/2000 0:00</td>\n",
       "      <td>Veresegyhaz</td>\n",
       "      <td>Pest</td>\n",
       "      <td>Hungary</td>\n",
       "      <td>Production</td>\n",
       "      <td>JOB_FUNCTION_7</td>\n",
       "      <td>CAREER_BAND_10</td>\n",
       "      <td>BUSINESS_SEGMENT_4</td>\n",
       "    </tr>\n",
       "  </tbody>\n",
       "</table>\n",
       "</div>"
      ],
      "text/plain": [
       "   employee_id person_type person_status    ge_hire_date         city  \\\n",
       "0   2163707601    EMPLOYEE             A   9/1/1997 0:00         Reau   \n",
       "1   9225331209    EMPLOYEE             A  8/22/2006 0:00        Dubai   \n",
       "2   9777696464    EMPLOYEE             I   3/1/2007 0:00        Dubai   \n",
       "3   8893235549    EMPLOYEE             A   9/1/2003 0:00  Dzierzoniow   \n",
       "4   1310142434    EMPLOYEE             I   9/4/2000 0:00  Veresegyhaz   \n",
       "\n",
       "       state_name          country_name function_group     job_function  \\\n",
       "0         No_Data                France     Production   JOB_FUNCTION_7   \n",
       "1           Dubai  United Arab Emirates     Commercial  JOB_FUNCTION_22   \n",
       "2           Dubai  United Arab Emirates     Production  JOB_FUNCTION_24   \n",
       "3  Lower Silesian                Poland       Enabling  JOB_FUNCTION_10   \n",
       "4            Pest               Hungary     Production   JOB_FUNCTION_7   \n",
       "\n",
       "      career_band industry_focus_name  \n",
       "0  CAREER_BAND_10  BUSINESS_SEGMENT_4  \n",
       "1   CAREER_BAND_9  BUSINESS_SEGMENT_4  \n",
       "2   CAREER_BAND_4  BUSINESS_SEGMENT_4  \n",
       "3   CAREER_BAND_4  BUSINESS_SEGMENT_4  \n",
       "4  CAREER_BAND_10  BUSINESS_SEGMENT_4  "
      ]
     },
     "execution_count": 11,
     "metadata": {},
     "output_type": "execute_result"
    }
   ],
   "source": [
    "employeeData.head()"
   ]
  },
  {
   "cell_type": "code",
   "execution_count": 12,
   "metadata": {},
   "outputs": [
    {
     "data": {
      "text/plain": [
       "array(['A', 'I'], dtype=object)"
      ]
     },
     "execution_count": 12,
     "metadata": {},
     "output_type": "execute_result"
    }
   ],
   "source": [
    "employeeData['person_status'].unique()"
   ]
  },
  {
   "cell_type": "code",
   "execution_count": 13,
   "metadata": {},
   "outputs": [],
   "source": [
    "employeeData=employeeData.drop_duplicates(subset =\"employee_id\")"
   ]
  },
  {
   "cell_type": "code",
   "execution_count": 14,
   "metadata": {},
   "outputs": [
    {
     "data": {
      "text/plain": [
       "(3157, 11)"
      ]
     },
     "execution_count": 14,
     "metadata": {},
     "output_type": "execute_result"
    }
   ],
   "source": [
    "employeeData.shape"
   ]
  },
  {
   "cell_type": "code",
   "execution_count": 15,
   "metadata": {},
   "outputs": [],
   "source": [
    "employeeData['Year']=pd.DatetimeIndex(employeeData['ge_hire_date']).year"
   ]
  },
  {
   "cell_type": "code",
   "execution_count": 16,
   "metadata": {},
   "outputs": [
    {
     "data": {
      "text/plain": [
       "employee_id              0\n",
       "person_type              0\n",
       "person_status            0\n",
       "ge_hire_date           478\n",
       "city                   142\n",
       "state_name             174\n",
       "country_name           174\n",
       "function_group         174\n",
       "job_function             0\n",
       "career_band              0\n",
       "industry_focus_name      0\n",
       "Year                   478\n",
       "dtype: int64"
      ]
     },
     "execution_count": 16,
     "metadata": {},
     "output_type": "execute_result"
    }
   ],
   "source": [
    "employeeData.isnull().sum()"
   ]
  },
  {
   "cell_type": "code",
   "execution_count": 17,
   "metadata": {},
   "outputs": [],
   "source": [
    "employeeData['tenure']=(2020-employeeData['Year'])"
   ]
  },
  {
   "cell_type": "code",
   "execution_count": 18,
   "metadata": {},
   "outputs": [],
   "source": [
    "empdummydata=pd.get_dummies(employeeData, columns=['career_band', 'job_function'])"
   ]
  },
  {
   "cell_type": "code",
   "execution_count": 19,
   "metadata": {},
   "outputs": [],
   "source": [
    "empdummydata=empdummydata.iloc[:, np.r_[0,10:47]]"
   ]
  },
  {
   "cell_type": "code",
   "execution_count": 20,
   "metadata": {},
   "outputs": [
    {
     "data": {
      "text/html": [
       "<div>\n",
       "<style scoped>\n",
       "    .dataframe tbody tr th:only-of-type {\n",
       "        vertical-align: middle;\n",
       "    }\n",
       "\n",
       "    .dataframe tbody tr th {\n",
       "        vertical-align: top;\n",
       "    }\n",
       "\n",
       "    .dataframe thead th {\n",
       "        text-align: right;\n",
       "    }\n",
       "</style>\n",
       "<table border=\"1\" class=\"dataframe\">\n",
       "  <thead>\n",
       "    <tr style=\"text-align: right;\">\n",
       "      <th></th>\n",
       "      <th>employee_id</th>\n",
       "      <th>tenure</th>\n",
       "      <th>career_band_CAREER_BAND_1</th>\n",
       "      <th>career_band_CAREER_BAND_10</th>\n",
       "      <th>career_band_CAREER_BAND_2</th>\n",
       "      <th>career_band_CAREER_BAND_3</th>\n",
       "      <th>career_band_CAREER_BAND_4</th>\n",
       "      <th>career_band_CAREER_BAND_5</th>\n",
       "      <th>career_band_CAREER_BAND_6</th>\n",
       "      <th>career_band_CAREER_BAND_7</th>\n",
       "      <th>...</th>\n",
       "      <th>job_function_JOB_FUNCTION_24</th>\n",
       "      <th>job_function_JOB_FUNCTION_25</th>\n",
       "      <th>job_function_JOB_FUNCTION_26</th>\n",
       "      <th>job_function_JOB_FUNCTION_3</th>\n",
       "      <th>job_function_JOB_FUNCTION_4</th>\n",
       "      <th>job_function_JOB_FUNCTION_5</th>\n",
       "      <th>job_function_JOB_FUNCTION_6</th>\n",
       "      <th>job_function_JOB_FUNCTION_7</th>\n",
       "      <th>job_function_JOB_FUNCTION_8</th>\n",
       "      <th>job_function_JOB_FUNCTION_9</th>\n",
       "    </tr>\n",
       "  </thead>\n",
       "  <tbody>\n",
       "    <tr>\n",
       "      <td>0</td>\n",
       "      <td>2163707601</td>\n",
       "      <td>23.0</td>\n",
       "      <td>0</td>\n",
       "      <td>1</td>\n",
       "      <td>0</td>\n",
       "      <td>0</td>\n",
       "      <td>0</td>\n",
       "      <td>0</td>\n",
       "      <td>0</td>\n",
       "      <td>0</td>\n",
       "      <td>...</td>\n",
       "      <td>0</td>\n",
       "      <td>0</td>\n",
       "      <td>0</td>\n",
       "      <td>0</td>\n",
       "      <td>0</td>\n",
       "      <td>0</td>\n",
       "      <td>0</td>\n",
       "      <td>1</td>\n",
       "      <td>0</td>\n",
       "      <td>0</td>\n",
       "    </tr>\n",
       "    <tr>\n",
       "      <td>1</td>\n",
       "      <td>9225331209</td>\n",
       "      <td>14.0</td>\n",
       "      <td>0</td>\n",
       "      <td>0</td>\n",
       "      <td>0</td>\n",
       "      <td>0</td>\n",
       "      <td>0</td>\n",
       "      <td>0</td>\n",
       "      <td>0</td>\n",
       "      <td>0</td>\n",
       "      <td>...</td>\n",
       "      <td>0</td>\n",
       "      <td>0</td>\n",
       "      <td>0</td>\n",
       "      <td>0</td>\n",
       "      <td>0</td>\n",
       "      <td>0</td>\n",
       "      <td>0</td>\n",
       "      <td>0</td>\n",
       "      <td>0</td>\n",
       "      <td>0</td>\n",
       "    </tr>\n",
       "    <tr>\n",
       "      <td>2</td>\n",
       "      <td>9777696464</td>\n",
       "      <td>13.0</td>\n",
       "      <td>0</td>\n",
       "      <td>0</td>\n",
       "      <td>0</td>\n",
       "      <td>0</td>\n",
       "      <td>1</td>\n",
       "      <td>0</td>\n",
       "      <td>0</td>\n",
       "      <td>0</td>\n",
       "      <td>...</td>\n",
       "      <td>1</td>\n",
       "      <td>0</td>\n",
       "      <td>0</td>\n",
       "      <td>0</td>\n",
       "      <td>0</td>\n",
       "      <td>0</td>\n",
       "      <td>0</td>\n",
       "      <td>0</td>\n",
       "      <td>0</td>\n",
       "      <td>0</td>\n",
       "    </tr>\n",
       "    <tr>\n",
       "      <td>3</td>\n",
       "      <td>8893235549</td>\n",
       "      <td>17.0</td>\n",
       "      <td>0</td>\n",
       "      <td>0</td>\n",
       "      <td>0</td>\n",
       "      <td>0</td>\n",
       "      <td>1</td>\n",
       "      <td>0</td>\n",
       "      <td>0</td>\n",
       "      <td>0</td>\n",
       "      <td>...</td>\n",
       "      <td>0</td>\n",
       "      <td>0</td>\n",
       "      <td>0</td>\n",
       "      <td>0</td>\n",
       "      <td>0</td>\n",
       "      <td>0</td>\n",
       "      <td>0</td>\n",
       "      <td>0</td>\n",
       "      <td>0</td>\n",
       "      <td>0</td>\n",
       "    </tr>\n",
       "    <tr>\n",
       "      <td>4</td>\n",
       "      <td>1310142434</td>\n",
       "      <td>20.0</td>\n",
       "      <td>0</td>\n",
       "      <td>1</td>\n",
       "      <td>0</td>\n",
       "      <td>0</td>\n",
       "      <td>0</td>\n",
       "      <td>0</td>\n",
       "      <td>0</td>\n",
       "      <td>0</td>\n",
       "      <td>...</td>\n",
       "      <td>0</td>\n",
       "      <td>0</td>\n",
       "      <td>0</td>\n",
       "      <td>0</td>\n",
       "      <td>0</td>\n",
       "      <td>0</td>\n",
       "      <td>0</td>\n",
       "      <td>1</td>\n",
       "      <td>0</td>\n",
       "      <td>0</td>\n",
       "    </tr>\n",
       "  </tbody>\n",
       "</table>\n",
       "<p>5 rows × 38 columns</p>\n",
       "</div>"
      ],
      "text/plain": [
       "   employee_id  tenure  career_band_CAREER_BAND_1  career_band_CAREER_BAND_10  \\\n",
       "0   2163707601    23.0                          0                           1   \n",
       "1   9225331209    14.0                          0                           0   \n",
       "2   9777696464    13.0                          0                           0   \n",
       "3   8893235549    17.0                          0                           0   \n",
       "4   1310142434    20.0                          0                           1   \n",
       "\n",
       "   career_band_CAREER_BAND_2  career_band_CAREER_BAND_3  \\\n",
       "0                          0                          0   \n",
       "1                          0                          0   \n",
       "2                          0                          0   \n",
       "3                          0                          0   \n",
       "4                          0                          0   \n",
       "\n",
       "   career_band_CAREER_BAND_4  career_band_CAREER_BAND_5  \\\n",
       "0                          0                          0   \n",
       "1                          0                          0   \n",
       "2                          1                          0   \n",
       "3                          1                          0   \n",
       "4                          0                          0   \n",
       "\n",
       "   career_band_CAREER_BAND_6  career_band_CAREER_BAND_7  ...  \\\n",
       "0                          0                          0  ...   \n",
       "1                          0                          0  ...   \n",
       "2                          0                          0  ...   \n",
       "3                          0                          0  ...   \n",
       "4                          0                          0  ...   \n",
       "\n",
       "   job_function_JOB_FUNCTION_24  job_function_JOB_FUNCTION_25  \\\n",
       "0                             0                             0   \n",
       "1                             0                             0   \n",
       "2                             1                             0   \n",
       "3                             0                             0   \n",
       "4                             0                             0   \n",
       "\n",
       "   job_function_JOB_FUNCTION_26  job_function_JOB_FUNCTION_3  \\\n",
       "0                             0                            0   \n",
       "1                             0                            0   \n",
       "2                             0                            0   \n",
       "3                             0                            0   \n",
       "4                             0                            0   \n",
       "\n",
       "   job_function_JOB_FUNCTION_4  job_function_JOB_FUNCTION_5  \\\n",
       "0                            0                            0   \n",
       "1                            0                            0   \n",
       "2                            0                            0   \n",
       "3                            0                            0   \n",
       "4                            0                            0   \n",
       "\n",
       "   job_function_JOB_FUNCTION_6  job_function_JOB_FUNCTION_7  \\\n",
       "0                            0                            1   \n",
       "1                            0                            0   \n",
       "2                            0                            0   \n",
       "3                            0                            0   \n",
       "4                            0                            1   \n",
       "\n",
       "   job_function_JOB_FUNCTION_8  job_function_JOB_FUNCTION_9  \n",
       "0                            0                            0  \n",
       "1                            0                            0  \n",
       "2                            0                            0  \n",
       "3                            0                            0  \n",
       "4                            0                            0  \n",
       "\n",
       "[5 rows x 38 columns]"
      ]
     },
     "execution_count": 20,
     "metadata": {},
     "output_type": "execute_result"
    }
   ],
   "source": [
    "empdummydata.head()"
   ]
  },
  {
   "cell_type": "code",
   "execution_count": 21,
   "metadata": {},
   "outputs": [],
   "source": [
    "testset=empdummydata[empdummydata['tenure'].isnull()]"
   ]
  },
  {
   "cell_type": "code",
   "execution_count": 22,
   "metadata": {},
   "outputs": [],
   "source": [
    "trainset=empdummydata[~empdummydata['tenure'].isnull()]"
   ]
  },
  {
   "cell_type": "code",
   "execution_count": 23,
   "metadata": {},
   "outputs": [
    {
     "data": {
      "text/html": [
       "<div>\n",
       "<style scoped>\n",
       "    .dataframe tbody tr th:only-of-type {\n",
       "        vertical-align: middle;\n",
       "    }\n",
       "\n",
       "    .dataframe tbody tr th {\n",
       "        vertical-align: top;\n",
       "    }\n",
       "\n",
       "    .dataframe thead th {\n",
       "        text-align: right;\n",
       "    }\n",
       "</style>\n",
       "<table border=\"1\" class=\"dataframe\">\n",
       "  <thead>\n",
       "    <tr style=\"text-align: right;\">\n",
       "      <th></th>\n",
       "      <th>employee_id</th>\n",
       "      <th>tenure</th>\n",
       "      <th>career_band_CAREER_BAND_1</th>\n",
       "      <th>career_band_CAREER_BAND_10</th>\n",
       "      <th>career_band_CAREER_BAND_2</th>\n",
       "      <th>career_band_CAREER_BAND_3</th>\n",
       "      <th>career_band_CAREER_BAND_4</th>\n",
       "      <th>career_band_CAREER_BAND_5</th>\n",
       "      <th>career_band_CAREER_BAND_6</th>\n",
       "      <th>career_band_CAREER_BAND_7</th>\n",
       "      <th>...</th>\n",
       "      <th>job_function_JOB_FUNCTION_24</th>\n",
       "      <th>job_function_JOB_FUNCTION_25</th>\n",
       "      <th>job_function_JOB_FUNCTION_26</th>\n",
       "      <th>job_function_JOB_FUNCTION_3</th>\n",
       "      <th>job_function_JOB_FUNCTION_4</th>\n",
       "      <th>job_function_JOB_FUNCTION_5</th>\n",
       "      <th>job_function_JOB_FUNCTION_6</th>\n",
       "      <th>job_function_JOB_FUNCTION_7</th>\n",
       "      <th>job_function_JOB_FUNCTION_8</th>\n",
       "      <th>job_function_JOB_FUNCTION_9</th>\n",
       "    </tr>\n",
       "  </thead>\n",
       "  <tbody>\n",
       "    <tr>\n",
       "      <td>0</td>\n",
       "      <td>2163707601</td>\n",
       "      <td>23.0</td>\n",
       "      <td>0</td>\n",
       "      <td>1</td>\n",
       "      <td>0</td>\n",
       "      <td>0</td>\n",
       "      <td>0</td>\n",
       "      <td>0</td>\n",
       "      <td>0</td>\n",
       "      <td>0</td>\n",
       "      <td>...</td>\n",
       "      <td>0</td>\n",
       "      <td>0</td>\n",
       "      <td>0</td>\n",
       "      <td>0</td>\n",
       "      <td>0</td>\n",
       "      <td>0</td>\n",
       "      <td>0</td>\n",
       "      <td>1</td>\n",
       "      <td>0</td>\n",
       "      <td>0</td>\n",
       "    </tr>\n",
       "    <tr>\n",
       "      <td>1</td>\n",
       "      <td>9225331209</td>\n",
       "      <td>14.0</td>\n",
       "      <td>0</td>\n",
       "      <td>0</td>\n",
       "      <td>0</td>\n",
       "      <td>0</td>\n",
       "      <td>0</td>\n",
       "      <td>0</td>\n",
       "      <td>0</td>\n",
       "      <td>0</td>\n",
       "      <td>...</td>\n",
       "      <td>0</td>\n",
       "      <td>0</td>\n",
       "      <td>0</td>\n",
       "      <td>0</td>\n",
       "      <td>0</td>\n",
       "      <td>0</td>\n",
       "      <td>0</td>\n",
       "      <td>0</td>\n",
       "      <td>0</td>\n",
       "      <td>0</td>\n",
       "    </tr>\n",
       "    <tr>\n",
       "      <td>2</td>\n",
       "      <td>9777696464</td>\n",
       "      <td>13.0</td>\n",
       "      <td>0</td>\n",
       "      <td>0</td>\n",
       "      <td>0</td>\n",
       "      <td>0</td>\n",
       "      <td>1</td>\n",
       "      <td>0</td>\n",
       "      <td>0</td>\n",
       "      <td>0</td>\n",
       "      <td>...</td>\n",
       "      <td>1</td>\n",
       "      <td>0</td>\n",
       "      <td>0</td>\n",
       "      <td>0</td>\n",
       "      <td>0</td>\n",
       "      <td>0</td>\n",
       "      <td>0</td>\n",
       "      <td>0</td>\n",
       "      <td>0</td>\n",
       "      <td>0</td>\n",
       "    </tr>\n",
       "    <tr>\n",
       "      <td>3</td>\n",
       "      <td>8893235549</td>\n",
       "      <td>17.0</td>\n",
       "      <td>0</td>\n",
       "      <td>0</td>\n",
       "      <td>0</td>\n",
       "      <td>0</td>\n",
       "      <td>1</td>\n",
       "      <td>0</td>\n",
       "      <td>0</td>\n",
       "      <td>0</td>\n",
       "      <td>...</td>\n",
       "      <td>0</td>\n",
       "      <td>0</td>\n",
       "      <td>0</td>\n",
       "      <td>0</td>\n",
       "      <td>0</td>\n",
       "      <td>0</td>\n",
       "      <td>0</td>\n",
       "      <td>0</td>\n",
       "      <td>0</td>\n",
       "      <td>0</td>\n",
       "    </tr>\n",
       "    <tr>\n",
       "      <td>4</td>\n",
       "      <td>1310142434</td>\n",
       "      <td>20.0</td>\n",
       "      <td>0</td>\n",
       "      <td>1</td>\n",
       "      <td>0</td>\n",
       "      <td>0</td>\n",
       "      <td>0</td>\n",
       "      <td>0</td>\n",
       "      <td>0</td>\n",
       "      <td>0</td>\n",
       "      <td>...</td>\n",
       "      <td>0</td>\n",
       "      <td>0</td>\n",
       "      <td>0</td>\n",
       "      <td>0</td>\n",
       "      <td>0</td>\n",
       "      <td>0</td>\n",
       "      <td>0</td>\n",
       "      <td>1</td>\n",
       "      <td>0</td>\n",
       "      <td>0</td>\n",
       "    </tr>\n",
       "  </tbody>\n",
       "</table>\n",
       "<p>5 rows × 38 columns</p>\n",
       "</div>"
      ],
      "text/plain": [
       "   employee_id  tenure  career_band_CAREER_BAND_1  career_band_CAREER_BAND_10  \\\n",
       "0   2163707601    23.0                          0                           1   \n",
       "1   9225331209    14.0                          0                           0   \n",
       "2   9777696464    13.0                          0                           0   \n",
       "3   8893235549    17.0                          0                           0   \n",
       "4   1310142434    20.0                          0                           1   \n",
       "\n",
       "   career_band_CAREER_BAND_2  career_band_CAREER_BAND_3  \\\n",
       "0                          0                          0   \n",
       "1                          0                          0   \n",
       "2                          0                          0   \n",
       "3                          0                          0   \n",
       "4                          0                          0   \n",
       "\n",
       "   career_band_CAREER_BAND_4  career_band_CAREER_BAND_5  \\\n",
       "0                          0                          0   \n",
       "1                          0                          0   \n",
       "2                          1                          0   \n",
       "3                          1                          0   \n",
       "4                          0                          0   \n",
       "\n",
       "   career_band_CAREER_BAND_6  career_band_CAREER_BAND_7  ...  \\\n",
       "0                          0                          0  ...   \n",
       "1                          0                          0  ...   \n",
       "2                          0                          0  ...   \n",
       "3                          0                          0  ...   \n",
       "4                          0                          0  ...   \n",
       "\n",
       "   job_function_JOB_FUNCTION_24  job_function_JOB_FUNCTION_25  \\\n",
       "0                             0                             0   \n",
       "1                             0                             0   \n",
       "2                             1                             0   \n",
       "3                             0                             0   \n",
       "4                             0                             0   \n",
       "\n",
       "   job_function_JOB_FUNCTION_26  job_function_JOB_FUNCTION_3  \\\n",
       "0                             0                            0   \n",
       "1                             0                            0   \n",
       "2                             0                            0   \n",
       "3                             0                            0   \n",
       "4                             0                            0   \n",
       "\n",
       "   job_function_JOB_FUNCTION_4  job_function_JOB_FUNCTION_5  \\\n",
       "0                            0                            0   \n",
       "1                            0                            0   \n",
       "2                            0                            0   \n",
       "3                            0                            0   \n",
       "4                            0                            0   \n",
       "\n",
       "   job_function_JOB_FUNCTION_6  job_function_JOB_FUNCTION_7  \\\n",
       "0                            0                            1   \n",
       "1                            0                            0   \n",
       "2                            0                            0   \n",
       "3                            0                            0   \n",
       "4                            0                            1   \n",
       "\n",
       "   job_function_JOB_FUNCTION_8  job_function_JOB_FUNCTION_9  \n",
       "0                            0                            0  \n",
       "1                            0                            0  \n",
       "2                            0                            0  \n",
       "3                            0                            0  \n",
       "4                            0                            0  \n",
       "\n",
       "[5 rows x 38 columns]"
      ]
     },
     "execution_count": 23,
     "metadata": {},
     "output_type": "execute_result"
    }
   ],
   "source": [
    "trainset.head()"
   ]
  },
  {
   "cell_type": "code",
   "execution_count": 24,
   "metadata": {},
   "outputs": [
    {
     "data": {
      "text/html": [
       "<div>\n",
       "<style scoped>\n",
       "    .dataframe tbody tr th:only-of-type {\n",
       "        vertical-align: middle;\n",
       "    }\n",
       "\n",
       "    .dataframe tbody tr th {\n",
       "        vertical-align: top;\n",
       "    }\n",
       "\n",
       "    .dataframe thead th {\n",
       "        text-align: right;\n",
       "    }\n",
       "</style>\n",
       "<table border=\"1\" class=\"dataframe\">\n",
       "  <thead>\n",
       "    <tr style=\"text-align: right;\">\n",
       "      <th></th>\n",
       "      <th>employee_id</th>\n",
       "      <th>tenure</th>\n",
       "      <th>career_band_CAREER_BAND_1</th>\n",
       "      <th>career_band_CAREER_BAND_10</th>\n",
       "      <th>career_band_CAREER_BAND_2</th>\n",
       "      <th>career_band_CAREER_BAND_3</th>\n",
       "      <th>career_band_CAREER_BAND_4</th>\n",
       "      <th>career_band_CAREER_BAND_5</th>\n",
       "      <th>career_band_CAREER_BAND_6</th>\n",
       "      <th>career_band_CAREER_BAND_7</th>\n",
       "      <th>...</th>\n",
       "      <th>job_function_JOB_FUNCTION_24</th>\n",
       "      <th>job_function_JOB_FUNCTION_25</th>\n",
       "      <th>job_function_JOB_FUNCTION_26</th>\n",
       "      <th>job_function_JOB_FUNCTION_3</th>\n",
       "      <th>job_function_JOB_FUNCTION_4</th>\n",
       "      <th>job_function_JOB_FUNCTION_5</th>\n",
       "      <th>job_function_JOB_FUNCTION_6</th>\n",
       "      <th>job_function_JOB_FUNCTION_7</th>\n",
       "      <th>job_function_JOB_FUNCTION_8</th>\n",
       "      <th>job_function_JOB_FUNCTION_9</th>\n",
       "    </tr>\n",
       "  </thead>\n",
       "  <tbody>\n",
       "    <tr>\n",
       "      <td>5</td>\n",
       "      <td>8714002494</td>\n",
       "      <td>NaN</td>\n",
       "      <td>1</td>\n",
       "      <td>0</td>\n",
       "      <td>0</td>\n",
       "      <td>0</td>\n",
       "      <td>0</td>\n",
       "      <td>0</td>\n",
       "      <td>0</td>\n",
       "      <td>0</td>\n",
       "      <td>...</td>\n",
       "      <td>0</td>\n",
       "      <td>0</td>\n",
       "      <td>0</td>\n",
       "      <td>0</td>\n",
       "      <td>0</td>\n",
       "      <td>0</td>\n",
       "      <td>0</td>\n",
       "      <td>1</td>\n",
       "      <td>0</td>\n",
       "      <td>0</td>\n",
       "    </tr>\n",
       "    <tr>\n",
       "      <td>11</td>\n",
       "      <td>187153423</td>\n",
       "      <td>NaN</td>\n",
       "      <td>1</td>\n",
       "      <td>0</td>\n",
       "      <td>0</td>\n",
       "      <td>0</td>\n",
       "      <td>0</td>\n",
       "      <td>0</td>\n",
       "      <td>0</td>\n",
       "      <td>0</td>\n",
       "      <td>...</td>\n",
       "      <td>0</td>\n",
       "      <td>0</td>\n",
       "      <td>0</td>\n",
       "      <td>0</td>\n",
       "      <td>0</td>\n",
       "      <td>0</td>\n",
       "      <td>0</td>\n",
       "      <td>1</td>\n",
       "      <td>0</td>\n",
       "      <td>0</td>\n",
       "    </tr>\n",
       "    <tr>\n",
       "      <td>12</td>\n",
       "      <td>4680091097</td>\n",
       "      <td>NaN</td>\n",
       "      <td>1</td>\n",
       "      <td>0</td>\n",
       "      <td>0</td>\n",
       "      <td>0</td>\n",
       "      <td>0</td>\n",
       "      <td>0</td>\n",
       "      <td>0</td>\n",
       "      <td>0</td>\n",
       "      <td>...</td>\n",
       "      <td>0</td>\n",
       "      <td>1</td>\n",
       "      <td>0</td>\n",
       "      <td>0</td>\n",
       "      <td>0</td>\n",
       "      <td>0</td>\n",
       "      <td>0</td>\n",
       "      <td>0</td>\n",
       "      <td>0</td>\n",
       "      <td>0</td>\n",
       "    </tr>\n",
       "    <tr>\n",
       "      <td>14</td>\n",
       "      <td>9678700500</td>\n",
       "      <td>NaN</td>\n",
       "      <td>1</td>\n",
       "      <td>0</td>\n",
       "      <td>0</td>\n",
       "      <td>0</td>\n",
       "      <td>0</td>\n",
       "      <td>0</td>\n",
       "      <td>0</td>\n",
       "      <td>0</td>\n",
       "      <td>...</td>\n",
       "      <td>0</td>\n",
       "      <td>1</td>\n",
       "      <td>0</td>\n",
       "      <td>0</td>\n",
       "      <td>0</td>\n",
       "      <td>0</td>\n",
       "      <td>0</td>\n",
       "      <td>0</td>\n",
       "      <td>0</td>\n",
       "      <td>0</td>\n",
       "    </tr>\n",
       "    <tr>\n",
       "      <td>91</td>\n",
       "      <td>19639355437</td>\n",
       "      <td>NaN</td>\n",
       "      <td>1</td>\n",
       "      <td>0</td>\n",
       "      <td>0</td>\n",
       "      <td>0</td>\n",
       "      <td>0</td>\n",
       "      <td>0</td>\n",
       "      <td>0</td>\n",
       "      <td>0</td>\n",
       "      <td>...</td>\n",
       "      <td>0</td>\n",
       "      <td>0</td>\n",
       "      <td>0</td>\n",
       "      <td>0</td>\n",
       "      <td>0</td>\n",
       "      <td>0</td>\n",
       "      <td>0</td>\n",
       "      <td>1</td>\n",
       "      <td>0</td>\n",
       "      <td>0</td>\n",
       "    </tr>\n",
       "  </tbody>\n",
       "</table>\n",
       "<p>5 rows × 38 columns</p>\n",
       "</div>"
      ],
      "text/plain": [
       "    employee_id  tenure  career_band_CAREER_BAND_1  \\\n",
       "5    8714002494     NaN                          1   \n",
       "11    187153423     NaN                          1   \n",
       "12   4680091097     NaN                          1   \n",
       "14   9678700500     NaN                          1   \n",
       "91  19639355437     NaN                          1   \n",
       "\n",
       "    career_band_CAREER_BAND_10  career_band_CAREER_BAND_2  \\\n",
       "5                            0                          0   \n",
       "11                           0                          0   \n",
       "12                           0                          0   \n",
       "14                           0                          0   \n",
       "91                           0                          0   \n",
       "\n",
       "    career_band_CAREER_BAND_3  career_band_CAREER_BAND_4  \\\n",
       "5                           0                          0   \n",
       "11                          0                          0   \n",
       "12                          0                          0   \n",
       "14                          0                          0   \n",
       "91                          0                          0   \n",
       "\n",
       "    career_band_CAREER_BAND_5  career_band_CAREER_BAND_6  \\\n",
       "5                           0                          0   \n",
       "11                          0                          0   \n",
       "12                          0                          0   \n",
       "14                          0                          0   \n",
       "91                          0                          0   \n",
       "\n",
       "    career_band_CAREER_BAND_7  ...  job_function_JOB_FUNCTION_24  \\\n",
       "5                           0  ...                             0   \n",
       "11                          0  ...                             0   \n",
       "12                          0  ...                             0   \n",
       "14                          0  ...                             0   \n",
       "91                          0  ...                             0   \n",
       "\n",
       "    job_function_JOB_FUNCTION_25  job_function_JOB_FUNCTION_26  \\\n",
       "5                              0                             0   \n",
       "11                             0                             0   \n",
       "12                             1                             0   \n",
       "14                             1                             0   \n",
       "91                             0                             0   \n",
       "\n",
       "    job_function_JOB_FUNCTION_3  job_function_JOB_FUNCTION_4  \\\n",
       "5                             0                            0   \n",
       "11                            0                            0   \n",
       "12                            0                            0   \n",
       "14                            0                            0   \n",
       "91                            0                            0   \n",
       "\n",
       "    job_function_JOB_FUNCTION_5  job_function_JOB_FUNCTION_6  \\\n",
       "5                             0                            0   \n",
       "11                            0                            0   \n",
       "12                            0                            0   \n",
       "14                            0                            0   \n",
       "91                            0                            0   \n",
       "\n",
       "    job_function_JOB_FUNCTION_7  job_function_JOB_FUNCTION_8  \\\n",
       "5                             1                            0   \n",
       "11                            1                            0   \n",
       "12                            0                            0   \n",
       "14                            0                            0   \n",
       "91                            1                            0   \n",
       "\n",
       "    job_function_JOB_FUNCTION_9  \n",
       "5                             0  \n",
       "11                            0  \n",
       "12                            0  \n",
       "14                            0  \n",
       "91                            0  \n",
       "\n",
       "[5 rows x 38 columns]"
      ]
     },
     "execution_count": 24,
     "metadata": {},
     "output_type": "execute_result"
    }
   ],
   "source": [
    "testset.head()"
   ]
  },
  {
   "cell_type": "code",
   "execution_count": 25,
   "metadata": {},
   "outputs": [],
   "source": [
    "X=trainset.iloc[:, 2:]"
   ]
  },
  {
   "cell_type": "code",
   "execution_count": 26,
   "metadata": {},
   "outputs": [],
   "source": [
    "# X=trainset.iloc[:, 2:]\n",
    "Y=trainset.iloc[:, 1]\n",
    "# regressor=DecisionTreeRegressor(random_state=0)\n",
    "# regressor.fit(X,Y)\n",
    "# testset_pred=testset.iloc[:,2:]\n",
    "# tenure_predict=regressor.predict(testset_pred)\n",
    "# testset=testset.reset_index()\n",
    "# testset=testset.drop(['index'], axis=1)\n",
    "# testset['tenure_pred']=pd.DataFrame({\"tenure_pred\":tenure_predict})\n",
    "# testset=testset.drop(['tenure'], axis=1)\n",
    "# employeeData.loc[employeeData.employee_id.isin(testset.employee_id),'tenure'] = employeeData.employee_id.map(testset.set_index('employee_id').tenure_pred)"
   ]
  },
  {
   "cell_type": "code",
   "execution_count": 27,
   "metadata": {},
   "outputs": [],
   "source": [
    "regressor=DecisionTreeRegressor(random_state=0)"
   ]
  },
  {
   "cell_type": "code",
   "execution_count": 28,
   "metadata": {},
   "outputs": [
    {
     "data": {
      "text/plain": [
       "DecisionTreeRegressor(ccp_alpha=0.0, criterion='mse', max_depth=None,\n",
       "                      max_features=None, max_leaf_nodes=None,\n",
       "                      min_impurity_decrease=0.0, min_impurity_split=None,\n",
       "                      min_samples_leaf=1, min_samples_split=2,\n",
       "                      min_weight_fraction_leaf=0.0, presort='deprecated',\n",
       "                      random_state=0, splitter='best')"
      ]
     },
     "execution_count": 28,
     "metadata": {},
     "output_type": "execute_result"
    }
   ],
   "source": [
    "regressor.fit(X,Y)"
   ]
  },
  {
   "cell_type": "code",
   "execution_count": 29,
   "metadata": {},
   "outputs": [],
   "source": [
    "testset_pred=testset.iloc[:,2:]"
   ]
  },
  {
   "cell_type": "code",
   "execution_count": 30,
   "metadata": {},
   "outputs": [],
   "source": [
    "tenure_predict=regressor.predict(testset_pred)"
   ]
  },
  {
   "cell_type": "code",
   "execution_count": 31,
   "metadata": {},
   "outputs": [],
   "source": [
    "testset=testset.reset_index()"
   ]
  },
  {
   "cell_type": "code",
   "execution_count": 32,
   "metadata": {},
   "outputs": [],
   "source": [
    "testset=testset.drop(['index'], axis=1)"
   ]
  },
  {
   "cell_type": "code",
   "execution_count": 33,
   "metadata": {},
   "outputs": [],
   "source": [
    "testset['tenure_pred']=pd.DataFrame({\"tenure_pred\":tenure_predict})"
   ]
  },
  {
   "cell_type": "code",
   "execution_count": 34,
   "metadata": {},
   "outputs": [],
   "source": [
    "testset=testset.drop(['tenure'], axis=1)"
   ]
  },
  {
   "cell_type": "code",
   "execution_count": 35,
   "metadata": {},
   "outputs": [],
   "source": [
    "employeeData.loc[employeeData.employee_id.isin(testset.employee_id),'tenure'] = employeeData.employee_id.map(testset.set_index('employee_id').tenure_pred)"
   ]
  },
  {
   "cell_type": "code",
   "execution_count": 36,
   "metadata": {},
   "outputs": [
    {
     "data": {
      "text/plain": [
       "employee_id              0\n",
       "person_type              0\n",
       "person_status            0\n",
       "ge_hire_date           478\n",
       "city                   142\n",
       "state_name             174\n",
       "country_name           174\n",
       "function_group         174\n",
       "job_function             0\n",
       "career_band              0\n",
       "industry_focus_name      0\n",
       "Year                   478\n",
       "tenure                   0\n",
       "dtype: int64"
      ]
     },
     "execution_count": 36,
     "metadata": {},
     "output_type": "execute_result"
    }
   ],
   "source": [
    "employeeData.isnull().sum()"
   ]
  },
  {
   "cell_type": "code",
   "execution_count": 37,
   "metadata": {},
   "outputs": [],
   "source": [
    "newdata = indicatorData.merge(employeeData,\n",
    "                             left_on = 'employee_id',\n",
    "                             right_on = 'employee_id',\n",
    "                             how = 'left')"
   ]
  },
  {
   "cell_type": "code",
   "execution_count": 38,
   "metadata": {},
   "outputs": [
    {
     "data": {
      "text/plain": [
       "index                       0\n",
       "alert_escalation_date       0\n",
       "alert_id_fk                 0\n",
       "insert_date                 0\n",
       "score                       0\n",
       "owner_name                 79\n",
       "employee_id                 0\n",
       "risk_factor                 0\n",
       "avg_score                   0\n",
       "classification              0\n",
       "hru                         0\n",
       "alert_category              0\n",
       "alert_type                  0\n",
       "indicator_pairs             0\n",
       "person_type                 0\n",
       "person_status               0\n",
       "ge_hire_date             4409\n",
       "city                     1272\n",
       "state_name               1499\n",
       "country_name             1499\n",
       "function_group           1499\n",
       "job_function                0\n",
       "career_band                 0\n",
       "industry_focus_name         0\n",
       "Year                     4409\n",
       "tenure                      0\n",
       "dtype: int64"
      ]
     },
     "execution_count": 38,
     "metadata": {},
     "output_type": "execute_result"
    }
   ],
   "source": [
    "newdata.isnull().sum()"
   ]
  },
  {
   "cell_type": "code",
   "execution_count": 39,
   "metadata": {},
   "outputs": [
    {
     "data": {
      "text/plain": [
       "TP/DE      12224\n",
       "FP          2566\n",
       "TP/LOW      1114\n",
       "TP/HIGH      475\n",
       "Name: classification, dtype: int64"
      ]
     },
     "execution_count": 39,
     "metadata": {},
     "output_type": "execute_result"
    }
   ],
   "source": [
    "newdata['classification'].value_counts()"
   ]
  },
  {
   "cell_type": "code",
   "execution_count": 40,
   "metadata": {},
   "outputs": [],
   "source": [
    "newdata[\"owner_name\"].fillna(\"None\", inplace = True) "
   ]
  },
  {
   "cell_type": "code",
   "execution_count": 41,
   "metadata": {},
   "outputs": [],
   "source": [
    "newdata[\"country_name\"].fillna(\"None\", inplace = True) "
   ]
  },
  {
   "cell_type": "code",
   "execution_count": 42,
   "metadata": {},
   "outputs": [
    {
     "data": {
      "text/plain": [
       "index                       0\n",
       "alert_escalation_date       0\n",
       "alert_id_fk                 0\n",
       "insert_date                 0\n",
       "score                       0\n",
       "owner_name                  0\n",
       "employee_id                 0\n",
       "risk_factor                 0\n",
       "avg_score                   0\n",
       "classification              0\n",
       "hru                         0\n",
       "alert_category              0\n",
       "alert_type                  0\n",
       "indicator_pairs             0\n",
       "person_type                 0\n",
       "person_status               0\n",
       "ge_hire_date             4409\n",
       "city                     1272\n",
       "state_name               1499\n",
       "country_name                0\n",
       "function_group           1499\n",
       "job_function                0\n",
       "career_band                 0\n",
       "industry_focus_name         0\n",
       "Year                     4409\n",
       "tenure                      0\n",
       "dtype: int64"
      ]
     },
     "execution_count": 42,
     "metadata": {},
     "output_type": "execute_result"
    }
   ],
   "source": [
    "newdata.isnull().sum()"
   ]
  },
  {
   "cell_type": "code",
   "execution_count": 43,
   "metadata": {},
   "outputs": [
    {
     "data": {
      "text/plain": [
       "(16379, 26)"
      ]
     },
     "execution_count": 43,
     "metadata": {},
     "output_type": "execute_result"
    }
   ],
   "source": [
    "newdata.shape"
   ]
  },
  {
   "cell_type": "code",
   "execution_count": 44,
   "metadata": {},
   "outputs": [
    {
     "data": {
      "text/plain": [
       "TP/DE      12224\n",
       "FP          2566\n",
       "TP/LOW      1114\n",
       "TP/HIGH      475\n",
       "Name: classification, dtype: int64"
      ]
     },
     "execution_count": 44,
     "metadata": {},
     "output_type": "execute_result"
    }
   ],
   "source": [
    "newdata['classification'].value_counts()"
   ]
  },
  {
   "cell_type": "code",
   "execution_count": 45,
   "metadata": {},
   "outputs": [],
   "source": [
    "from pandas import Series"
   ]
  },
  {
   "cell_type": "code",
   "execution_count": 46,
   "metadata": {},
   "outputs": [],
   "source": [
    "s=newdata['indicator_pairs'].str.split('/').apply(Series, 1).stack()"
   ]
  },
  {
   "cell_type": "code",
   "execution_count": 47,
   "metadata": {},
   "outputs": [],
   "source": [
    "s.index=s.index.droplevel(-1)"
   ]
  },
  {
   "cell_type": "code",
   "execution_count": 48,
   "metadata": {},
   "outputs": [],
   "source": [
    "s.name='indicators'"
   ]
  },
  {
   "cell_type": "code",
   "execution_count": 49,
   "metadata": {},
   "outputs": [],
   "source": [
    "newdata_fin_s=newdata.join(s)"
   ]
  },
  {
   "cell_type": "code",
   "execution_count": 50,
   "metadata": {},
   "outputs": [
    {
     "data": {
      "text/plain": [
       "(41189, 27)"
      ]
     },
     "execution_count": 50,
     "metadata": {},
     "output_type": "execute_result"
    }
   ],
   "source": [
    "newdata_fin_s.shape"
   ]
  },
  {
   "cell_type": "code",
   "execution_count": null,
   "metadata": {},
   "outputs": [],
   "source": []
  },
  {
   "cell_type": "code",
   "execution_count": 51,
   "metadata": {},
   "outputs": [],
   "source": [
    "d=newdata_fin_s.duplicated(subset=None, keep='last')"
   ]
  },
  {
   "cell_type": "code",
   "execution_count": 52,
   "metadata": {},
   "outputs": [
    {
     "data": {
      "text/plain": [
       "False    37519\n",
       "True      3670\n",
       "dtype: int64"
      ]
     },
     "execution_count": 52,
     "metadata": {},
     "output_type": "execute_result"
    }
   ],
   "source": [
    "d.value_counts()"
   ]
  },
  {
   "cell_type": "code",
   "execution_count": 53,
   "metadata": {},
   "outputs": [],
   "source": [
    "newdata_fin_s.drop_duplicates(keep='last', inplace=True)"
   ]
  },
  {
   "cell_type": "code",
   "execution_count": 54,
   "metadata": {},
   "outputs": [],
   "source": [
    "newdata_fin_s.to_csv(r'/Users/arvindpawar/Desktop/XN Updated/new_fin_s_nipa_updated.csv')"
   ]
  },
  {
   "cell_type": "code",
   "execution_count": 55,
   "metadata": {},
   "outputs": [
    {
     "data": {
      "text/plain": [
       "(37519, 27)"
      ]
     },
     "execution_count": 55,
     "metadata": {},
     "output_type": "execute_result"
    }
   ],
   "source": [
    "newdata_fin_s.shape"
   ]
  },
  {
   "cell_type": "code",
   "execution_count": 56,
   "metadata": {},
   "outputs": [
    {
     "data": {
      "text/plain": [
       "TP/DE      29077\n",
       "FP          3790\n",
       "TP/LOW      3280\n",
       "TP/HIGH     1372\n",
       "Name: classification, dtype: int64"
      ]
     },
     "execution_count": 56,
     "metadata": {},
     "output_type": "execute_result"
    }
   ],
   "source": [
    "newdata_fin_s['classification'].value_counts()"
   ]
  },
  {
   "cell_type": "code",
   "execution_count": 57,
   "metadata": {},
   "outputs": [],
   "source": [
    "newdata1 = newdata_fin_s.drop(['alert_escalation_date','insert_date','alert_category','alert_type'\n",
    "                               ,'person_status','ge_hire_date','city','state_name',\n",
    "                         'function_group', 'alert_id_fk', 'avg_score', 'Year', \n",
    "                               'person_type', 'country_name', 'industry_focus_name'\n",
    "                               ], axis=1)"
   ]
  },
  {
   "cell_type": "code",
   "execution_count": 58,
   "metadata": {},
   "outputs": [],
   "source": [
    "newdata_fin_dummy=pd.get_dummies(newdata1, columns=['owner_name','classification','hru','job_function','indicators',\n",
    "                                                       'career_band'\n",
    "                                                    ])"
   ]
  },
  {
   "cell_type": "code",
   "execution_count": 59,
   "metadata": {},
   "outputs": [],
   "source": [
    "newdata_fin_dummy_backup=newdata_fin_dummy.copy()"
   ]
  },
  {
   "cell_type": "code",
   "execution_count": 60,
   "metadata": {},
   "outputs": [],
   "source": [
    "newdata_final_avi = newdata_fin_dummy.drop(['employee_id', 'indicator_pairs'], axis=1)"
   ]
  },
  {
   "cell_type": "code",
   "execution_count": 61,
   "metadata": {},
   "outputs": [],
   "source": [
    "newdata_final_avi=newdata_final_avi.drop(['index'], axis=1)"
   ]
  },
  {
   "cell_type": "code",
   "execution_count": 62,
   "metadata": {},
   "outputs": [
    {
     "data": {
      "text/html": [
       "<div>\n",
       "<style scoped>\n",
       "    .dataframe tbody tr th:only-of-type {\n",
       "        vertical-align: middle;\n",
       "    }\n",
       "\n",
       "    .dataframe tbody tr th {\n",
       "        vertical-align: top;\n",
       "    }\n",
       "\n",
       "    .dataframe thead th {\n",
       "        text-align: right;\n",
       "    }\n",
       "</style>\n",
       "<table border=\"1\" class=\"dataframe\">\n",
       "  <thead>\n",
       "    <tr style=\"text-align: right;\">\n",
       "      <th></th>\n",
       "      <th>score</th>\n",
       "      <th>risk_factor</th>\n",
       "      <th>tenure</th>\n",
       "      <th>owner_name_Analyst_1</th>\n",
       "      <th>owner_name_Analyst_3</th>\n",
       "      <th>owner_name_Analyst_4</th>\n",
       "      <th>owner_name_Analyst_6</th>\n",
       "      <th>owner_name_Analyst_7</th>\n",
       "      <th>owner_name_Analyst_8</th>\n",
       "      <th>owner_name_None</th>\n",
       "      <th>...</th>\n",
       "      <th>indicators_Top_Users_Heat_USB_IND</th>\n",
       "      <th>career_band_CAREER_BAND_1</th>\n",
       "      <th>career_band_CAREER_BAND_10</th>\n",
       "      <th>career_band_CAREER_BAND_2</th>\n",
       "      <th>career_band_CAREER_BAND_3</th>\n",
       "      <th>career_band_CAREER_BAND_4</th>\n",
       "      <th>career_band_CAREER_BAND_5</th>\n",
       "      <th>career_band_CAREER_BAND_6</th>\n",
       "      <th>career_band_CAREER_BAND_7</th>\n",
       "      <th>career_band_CAREER_BAND_8</th>\n",
       "    </tr>\n",
       "  </thead>\n",
       "  <tbody>\n",
       "    <tr>\n",
       "      <td>0</td>\n",
       "      <td>174</td>\n",
       "      <td>1.74</td>\n",
       "      <td>22.0</td>\n",
       "      <td>0</td>\n",
       "      <td>0</td>\n",
       "      <td>0</td>\n",
       "      <td>0</td>\n",
       "      <td>0</td>\n",
       "      <td>0</td>\n",
       "      <td>0</td>\n",
       "      <td>...</td>\n",
       "      <td>0</td>\n",
       "      <td>0</td>\n",
       "      <td>0</td>\n",
       "      <td>1</td>\n",
       "      <td>0</td>\n",
       "      <td>0</td>\n",
       "      <td>0</td>\n",
       "      <td>0</td>\n",
       "      <td>0</td>\n",
       "      <td>0</td>\n",
       "    </tr>\n",
       "    <tr>\n",
       "      <td>1</td>\n",
       "      <td>171</td>\n",
       "      <td>1.71</td>\n",
       "      <td>22.0</td>\n",
       "      <td>0</td>\n",
       "      <td>0</td>\n",
       "      <td>0</td>\n",
       "      <td>0</td>\n",
       "      <td>0</td>\n",
       "      <td>0</td>\n",
       "      <td>0</td>\n",
       "      <td>...</td>\n",
       "      <td>0</td>\n",
       "      <td>0</td>\n",
       "      <td>0</td>\n",
       "      <td>1</td>\n",
       "      <td>0</td>\n",
       "      <td>0</td>\n",
       "      <td>0</td>\n",
       "      <td>0</td>\n",
       "      <td>0</td>\n",
       "      <td>0</td>\n",
       "    </tr>\n",
       "    <tr>\n",
       "      <td>2</td>\n",
       "      <td>321</td>\n",
       "      <td>3.21</td>\n",
       "      <td>22.0</td>\n",
       "      <td>0</td>\n",
       "      <td>0</td>\n",
       "      <td>0</td>\n",
       "      <td>0</td>\n",
       "      <td>0</td>\n",
       "      <td>0</td>\n",
       "      <td>0</td>\n",
       "      <td>...</td>\n",
       "      <td>0</td>\n",
       "      <td>0</td>\n",
       "      <td>0</td>\n",
       "      <td>1</td>\n",
       "      <td>0</td>\n",
       "      <td>0</td>\n",
       "      <td>0</td>\n",
       "      <td>0</td>\n",
       "      <td>0</td>\n",
       "      <td>0</td>\n",
       "    </tr>\n",
       "    <tr>\n",
       "      <td>3</td>\n",
       "      <td>312</td>\n",
       "      <td>3.12</td>\n",
       "      <td>22.0</td>\n",
       "      <td>0</td>\n",
       "      <td>0</td>\n",
       "      <td>0</td>\n",
       "      <td>0</td>\n",
       "      <td>0</td>\n",
       "      <td>0</td>\n",
       "      <td>0</td>\n",
       "      <td>...</td>\n",
       "      <td>0</td>\n",
       "      <td>0</td>\n",
       "      <td>0</td>\n",
       "      <td>1</td>\n",
       "      <td>0</td>\n",
       "      <td>0</td>\n",
       "      <td>0</td>\n",
       "      <td>0</td>\n",
       "      <td>0</td>\n",
       "      <td>0</td>\n",
       "    </tr>\n",
       "    <tr>\n",
       "      <td>4</td>\n",
       "      <td>300</td>\n",
       "      <td>3.00</td>\n",
       "      <td>22.0</td>\n",
       "      <td>0</td>\n",
       "      <td>0</td>\n",
       "      <td>0</td>\n",
       "      <td>0</td>\n",
       "      <td>0</td>\n",
       "      <td>0</td>\n",
       "      <td>0</td>\n",
       "      <td>...</td>\n",
       "      <td>0</td>\n",
       "      <td>0</td>\n",
       "      <td>0</td>\n",
       "      <td>1</td>\n",
       "      <td>0</td>\n",
       "      <td>0</td>\n",
       "      <td>0</td>\n",
       "      <td>0</td>\n",
       "      <td>0</td>\n",
       "      <td>0</td>\n",
       "    </tr>\n",
       "  </tbody>\n",
       "</table>\n",
       "<p>5 rows × 146 columns</p>\n",
       "</div>"
      ],
      "text/plain": [
       "   score  risk_factor  tenure  owner_name_Analyst_1  owner_name_Analyst_3  \\\n",
       "0    174         1.74    22.0                     0                     0   \n",
       "1    171         1.71    22.0                     0                     0   \n",
       "2    321         3.21    22.0                     0                     0   \n",
       "3    312         3.12    22.0                     0                     0   \n",
       "4    300         3.00    22.0                     0                     0   \n",
       "\n",
       "   owner_name_Analyst_4  owner_name_Analyst_6  owner_name_Analyst_7  \\\n",
       "0                     0                     0                     0   \n",
       "1                     0                     0                     0   \n",
       "2                     0                     0                     0   \n",
       "3                     0                     0                     0   \n",
       "4                     0                     0                     0   \n",
       "\n",
       "   owner_name_Analyst_8  owner_name_None  ...  \\\n",
       "0                     0                0  ...   \n",
       "1                     0                0  ...   \n",
       "2                     0                0  ...   \n",
       "3                     0                0  ...   \n",
       "4                     0                0  ...   \n",
       "\n",
       "   indicators_Top_Users_Heat_USB_IND  career_band_CAREER_BAND_1  \\\n",
       "0                                  0                          0   \n",
       "1                                  0                          0   \n",
       "2                                  0                          0   \n",
       "3                                  0                          0   \n",
       "4                                  0                          0   \n",
       "\n",
       "   career_band_CAREER_BAND_10  career_band_CAREER_BAND_2  \\\n",
       "0                           0                          1   \n",
       "1                           0                          1   \n",
       "2                           0                          1   \n",
       "3                           0                          1   \n",
       "4                           0                          1   \n",
       "\n",
       "   career_band_CAREER_BAND_3  career_band_CAREER_BAND_4  \\\n",
       "0                          0                          0   \n",
       "1                          0                          0   \n",
       "2                          0                          0   \n",
       "3                          0                          0   \n",
       "4                          0                          0   \n",
       "\n",
       "   career_band_CAREER_BAND_5  career_band_CAREER_BAND_6  \\\n",
       "0                          0                          0   \n",
       "1                          0                          0   \n",
       "2                          0                          0   \n",
       "3                          0                          0   \n",
       "4                          0                          0   \n",
       "\n",
       "   career_band_CAREER_BAND_7  career_band_CAREER_BAND_8  \n",
       "0                          0                          0  \n",
       "1                          0                          0  \n",
       "2                          0                          0  \n",
       "3                          0                          0  \n",
       "4                          0                          0  \n",
       "\n",
       "[5 rows x 146 columns]"
      ]
     },
     "execution_count": 62,
     "metadata": {},
     "output_type": "execute_result"
    }
   ],
   "source": [
    "newdata_final_avi.head()"
   ]
  },
  {
   "cell_type": "code",
   "execution_count": 63,
   "metadata": {},
   "outputs": [],
   "source": [
    "from sklearn.cluster import KMeans"
   ]
  },
  {
   "cell_type": "code",
   "execution_count": 64,
   "metadata": {},
   "outputs": [],
   "source": [
    "distortions = []\n",
    "K = range(1,11)\n",
    "for k in K:\n",
    "    kmeanModel = KMeans(n_clusters=k)\n",
    "    kmeanModel.fit(newdata_final_avi)\n",
    "    distortions.append(kmeanModel.inertia_)"
   ]
  },
  {
   "cell_type": "code",
   "execution_count": 65,
   "metadata": {},
   "outputs": [
    {
     "data": {
      "text/plain": [
       "Text(0.5, 1.0, 'The Elbow Method showing the optimal k')"
      ]
     },
     "execution_count": 65,
     "metadata": {},
     "output_type": "execute_result"
    },
    {
     "data": {
      "image/png": "[encoded data removed]",
      "text/plain": [
       "<Figure size 1152x576 with 1 Axes>"
      ]
     },
     "metadata": {
      "needs_background": "light"
     },
     "output_type": "display_data"
    }
   ],
   "source": [
    "plt.figure(figsize=(16,8))\n",
    "plt.plot(K, distortions, 'bx-', color='green')\n",
    "plt.xlabel('k')\n",
    "plt.ylabel('Distortion')\n",
    "plt.title('The Elbow Method showing the optimal k')"
   ]
  },
  {
   "cell_type": "code",
   "execution_count": 66,
   "metadata": {},
   "outputs": [],
   "source": [
    "# from sklearn.metrics import silhouette_score\n",
    "# range_n_clusters = list (range(3,10))\n",
    "# for n_clusters in range_n_clusters:\n",
    "#     clusterer = KMeans(n_clusters=n_clusters)\n",
    "#     preds = clusterer.fit_predict(newdata_final_avi)\n",
    "#     centers = clusterer.cluster_centers_\n",
    "\n",
    "#     score = silhouette_score(newdata_final_avi, preds)\n",
    "#     print(\"For n_clusters = {}, silhouette score is {})\".format(n_clusters, score))"
   ]
  },
  {
   "cell_type": "code",
   "execution_count": 67,
   "metadata": {},
   "outputs": [],
   "source": [
    "kmeans = KMeans(n_clusters=6, random_state=0)"
   ]
  },
  {
   "cell_type": "code",
   "execution_count": 68,
   "metadata": {},
   "outputs": [],
   "source": [
    "clusters = kmeans.fit_predict(newdata_final_avi)"
   ]
  },
  {
   "cell_type": "code",
   "execution_count": 69,
   "metadata": {},
   "outputs": [
    {
     "name": "stdout",
     "output_type": "stream",
     "text": [
      "[0 0 0 ... 0 0 0]\n"
     ]
    }
   ],
   "source": [
    "print(clusters)"
   ]
  },
  {
   "cell_type": "code",
   "execution_count": 70,
   "metadata": {},
   "outputs": [],
   "source": [
    "newdata_fin_dummy=newdata_fin_dummy.drop(['index', 'employee_id'], axis=1)"
   ]
  },
  {
   "cell_type": "code",
   "execution_count": 71,
   "metadata": {},
   "outputs": [
    {
     "data": {
      "text/html": [
       "<div>\n",
       "<style scoped>\n",
       "    .dataframe tbody tr th:only-of-type {\n",
       "        vertical-align: middle;\n",
       "    }\n",
       "\n",
       "    .dataframe tbody tr th {\n",
       "        vertical-align: top;\n",
       "    }\n",
       "\n",
       "    .dataframe thead th {\n",
       "        text-align: right;\n",
       "    }\n",
       "</style>\n",
       "<table border=\"1\" class=\"dataframe\">\n",
       "  <thead>\n",
       "    <tr style=\"text-align: right;\">\n",
       "      <th></th>\n",
       "      <th>score</th>\n",
       "      <th>risk_factor</th>\n",
       "      <th>indicator_pairs</th>\n",
       "      <th>tenure</th>\n",
       "      <th>owner_name_Analyst_1</th>\n",
       "      <th>owner_name_Analyst_3</th>\n",
       "      <th>owner_name_Analyst_4</th>\n",
       "      <th>owner_name_Analyst_6</th>\n",
       "      <th>owner_name_Analyst_7</th>\n",
       "      <th>owner_name_Analyst_8</th>\n",
       "      <th>...</th>\n",
       "      <th>indicators_Top_Users_Heat_USB_IND</th>\n",
       "      <th>career_band_CAREER_BAND_1</th>\n",
       "      <th>career_band_CAREER_BAND_10</th>\n",
       "      <th>career_band_CAREER_BAND_2</th>\n",
       "      <th>career_band_CAREER_BAND_3</th>\n",
       "      <th>career_band_CAREER_BAND_4</th>\n",
       "      <th>career_band_CAREER_BAND_5</th>\n",
       "      <th>career_band_CAREER_BAND_6</th>\n",
       "      <th>career_band_CAREER_BAND_7</th>\n",
       "      <th>career_band_CAREER_BAND_8</th>\n",
       "    </tr>\n",
       "  </thead>\n",
       "  <tbody>\n",
       "    <tr>\n",
       "      <td>0</td>\n",
       "      <td>174</td>\n",
       "      <td>1.74</td>\n",
       "      <td>App_1_Heat_Box_PRE_2016_Q3</td>\n",
       "      <td>22.0</td>\n",
       "      <td>0</td>\n",
       "      <td>0</td>\n",
       "      <td>0</td>\n",
       "      <td>0</td>\n",
       "      <td>0</td>\n",
       "      <td>0</td>\n",
       "      <td>...</td>\n",
       "      <td>0</td>\n",
       "      <td>0</td>\n",
       "      <td>0</td>\n",
       "      <td>1</td>\n",
       "      <td>0</td>\n",
       "      <td>0</td>\n",
       "      <td>0</td>\n",
       "      <td>0</td>\n",
       "      <td>0</td>\n",
       "      <td>0</td>\n",
       "    </tr>\n",
       "    <tr>\n",
       "      <td>1</td>\n",
       "      <td>171</td>\n",
       "      <td>1.71</td>\n",
       "      <td>App_1_Heat_Box_PRE_2016_Q3</td>\n",
       "      <td>22.0</td>\n",
       "      <td>0</td>\n",
       "      <td>0</td>\n",
       "      <td>0</td>\n",
       "      <td>0</td>\n",
       "      <td>0</td>\n",
       "      <td>0</td>\n",
       "      <td>...</td>\n",
       "      <td>0</td>\n",
       "      <td>0</td>\n",
       "      <td>0</td>\n",
       "      <td>1</td>\n",
       "      <td>0</td>\n",
       "      <td>0</td>\n",
       "      <td>0</td>\n",
       "      <td>0</td>\n",
       "      <td>0</td>\n",
       "      <td>0</td>\n",
       "    </tr>\n",
       "    <tr>\n",
       "      <td>2</td>\n",
       "      <td>321</td>\n",
       "      <td>3.21</td>\n",
       "      <td>App_1_Heat_Box_PRE_2016_Q3</td>\n",
       "      <td>22.0</td>\n",
       "      <td>0</td>\n",
       "      <td>0</td>\n",
       "      <td>0</td>\n",
       "      <td>0</td>\n",
       "      <td>0</td>\n",
       "      <td>0</td>\n",
       "      <td>...</td>\n",
       "      <td>0</td>\n",
       "      <td>0</td>\n",
       "      <td>0</td>\n",
       "      <td>1</td>\n",
       "      <td>0</td>\n",
       "      <td>0</td>\n",
       "      <td>0</td>\n",
       "      <td>0</td>\n",
       "      <td>0</td>\n",
       "      <td>0</td>\n",
       "    </tr>\n",
       "    <tr>\n",
       "      <td>3</td>\n",
       "      <td>312</td>\n",
       "      <td>3.12</td>\n",
       "      <td>App_1_Heat_Box_PRE_2016_Q3</td>\n",
       "      <td>22.0</td>\n",
       "      <td>0</td>\n",
       "      <td>0</td>\n",
       "      <td>0</td>\n",
       "      <td>0</td>\n",
       "      <td>0</td>\n",
       "      <td>0</td>\n",
       "      <td>...</td>\n",
       "      <td>0</td>\n",
       "      <td>0</td>\n",
       "      <td>0</td>\n",
       "      <td>1</td>\n",
       "      <td>0</td>\n",
       "      <td>0</td>\n",
       "      <td>0</td>\n",
       "      <td>0</td>\n",
       "      <td>0</td>\n",
       "      <td>0</td>\n",
       "    </tr>\n",
       "    <tr>\n",
       "      <td>4</td>\n",
       "      <td>300</td>\n",
       "      <td>3.00</td>\n",
       "      <td>App_1_Heat_Box_PRE_2016_Q3</td>\n",
       "      <td>22.0</td>\n",
       "      <td>0</td>\n",
       "      <td>0</td>\n",
       "      <td>0</td>\n",
       "      <td>0</td>\n",
       "      <td>0</td>\n",
       "      <td>0</td>\n",
       "      <td>...</td>\n",
       "      <td>0</td>\n",
       "      <td>0</td>\n",
       "      <td>0</td>\n",
       "      <td>1</td>\n",
       "      <td>0</td>\n",
       "      <td>0</td>\n",
       "      <td>0</td>\n",
       "      <td>0</td>\n",
       "      <td>0</td>\n",
       "      <td>0</td>\n",
       "    </tr>\n",
       "    <tr>\n",
       "      <td>...</td>\n",
       "      <td>...</td>\n",
       "      <td>...</td>\n",
       "      <td>...</td>\n",
       "      <td>...</td>\n",
       "      <td>...</td>\n",
       "      <td>...</td>\n",
       "      <td>...</td>\n",
       "      <td>...</td>\n",
       "      <td>...</td>\n",
       "      <td>...</td>\n",
       "      <td>...</td>\n",
       "      <td>...</td>\n",
       "      <td>...</td>\n",
       "      <td>...</td>\n",
       "      <td>...</td>\n",
       "      <td>...</td>\n",
       "      <td>...</td>\n",
       "      <td>...</td>\n",
       "      <td>...</td>\n",
       "      <td>...</td>\n",
       "      <td>...</td>\n",
       "    </tr>\n",
       "    <tr>\n",
       "      <td>16377</td>\n",
       "      <td>216</td>\n",
       "      <td>2.16</td>\n",
       "      <td>App_9_Heat_Email_IND/Threshold_Heat_Email_IND</td>\n",
       "      <td>4.0</td>\n",
       "      <td>0</td>\n",
       "      <td>0</td>\n",
       "      <td>0</td>\n",
       "      <td>1</td>\n",
       "      <td>0</td>\n",
       "      <td>0</td>\n",
       "      <td>...</td>\n",
       "      <td>0</td>\n",
       "      <td>0</td>\n",
       "      <td>0</td>\n",
       "      <td>0</td>\n",
       "      <td>0</td>\n",
       "      <td>0</td>\n",
       "      <td>0</td>\n",
       "      <td>1</td>\n",
       "      <td>0</td>\n",
       "      <td>0</td>\n",
       "    </tr>\n",
       "    <tr>\n",
       "      <td>16377</td>\n",
       "      <td>216</td>\n",
       "      <td>2.16</td>\n",
       "      <td>App_9_Heat_Email_IND/Threshold_Heat_Email_IND</td>\n",
       "      <td>4.0</td>\n",
       "      <td>0</td>\n",
       "      <td>0</td>\n",
       "      <td>0</td>\n",
       "      <td>1</td>\n",
       "      <td>0</td>\n",
       "      <td>0</td>\n",
       "      <td>...</td>\n",
       "      <td>0</td>\n",
       "      <td>0</td>\n",
       "      <td>0</td>\n",
       "      <td>0</td>\n",
       "      <td>0</td>\n",
       "      <td>0</td>\n",
       "      <td>0</td>\n",
       "      <td>1</td>\n",
       "      <td>0</td>\n",
       "      <td>0</td>\n",
       "    </tr>\n",
       "    <tr>\n",
       "      <td>16378</td>\n",
       "      <td>198</td>\n",
       "      <td>1.98</td>\n",
       "      <td>App_3_Heat_Email_ZIP/App_9_Heat_Email_IND/Thre...</td>\n",
       "      <td>4.0</td>\n",
       "      <td>0</td>\n",
       "      <td>0</td>\n",
       "      <td>0</td>\n",
       "      <td>0</td>\n",
       "      <td>1</td>\n",
       "      <td>0</td>\n",
       "      <td>...</td>\n",
       "      <td>0</td>\n",
       "      <td>0</td>\n",
       "      <td>0</td>\n",
       "      <td>0</td>\n",
       "      <td>0</td>\n",
       "      <td>0</td>\n",
       "      <td>0</td>\n",
       "      <td>1</td>\n",
       "      <td>0</td>\n",
       "      <td>0</td>\n",
       "    </tr>\n",
       "    <tr>\n",
       "      <td>16378</td>\n",
       "      <td>198</td>\n",
       "      <td>1.98</td>\n",
       "      <td>App_3_Heat_Email_ZIP/App_9_Heat_Email_IND/Thre...</td>\n",
       "      <td>4.0</td>\n",
       "      <td>0</td>\n",
       "      <td>0</td>\n",
       "      <td>0</td>\n",
       "      <td>0</td>\n",
       "      <td>1</td>\n",
       "      <td>0</td>\n",
       "      <td>...</td>\n",
       "      <td>0</td>\n",
       "      <td>0</td>\n",
       "      <td>0</td>\n",
       "      <td>0</td>\n",
       "      <td>0</td>\n",
       "      <td>0</td>\n",
       "      <td>0</td>\n",
       "      <td>1</td>\n",
       "      <td>0</td>\n",
       "      <td>0</td>\n",
       "    </tr>\n",
       "    <tr>\n",
       "      <td>16378</td>\n",
       "      <td>198</td>\n",
       "      <td>1.98</td>\n",
       "      <td>App_3_Heat_Email_ZIP/App_9_Heat_Email_IND/Thre...</td>\n",
       "      <td>4.0</td>\n",
       "      <td>0</td>\n",
       "      <td>0</td>\n",
       "      <td>0</td>\n",
       "      <td>0</td>\n",
       "      <td>1</td>\n",
       "      <td>0</td>\n",
       "      <td>...</td>\n",
       "      <td>0</td>\n",
       "      <td>0</td>\n",
       "      <td>0</td>\n",
       "      <td>0</td>\n",
       "      <td>0</td>\n",
       "      <td>0</td>\n",
       "      <td>0</td>\n",
       "      <td>1</td>\n",
       "      <td>0</td>\n",
       "      <td>0</td>\n",
       "    </tr>\n",
       "  </tbody>\n",
       "</table>\n",
       "<p>37519 rows × 147 columns</p>\n",
       "</div>"
      ],
      "text/plain": [
       "       score  risk_factor                                    indicator_pairs  \\\n",
       "0        174         1.74                         App_1_Heat_Box_PRE_2016_Q3   \n",
       "1        171         1.71                         App_1_Heat_Box_PRE_2016_Q3   \n",
       "2        321         3.21                         App_1_Heat_Box_PRE_2016_Q3   \n",
       "3        312         3.12                         App_1_Heat_Box_PRE_2016_Q3   \n",
       "4        300         3.00                         App_1_Heat_Box_PRE_2016_Q3   \n",
       "...      ...          ...                                                ...   \n",
       "16377    216         2.16      App_9_Heat_Email_IND/Threshold_Heat_Email_IND   \n",
       "16377    216         2.16      App_9_Heat_Email_IND/Threshold_Heat_Email_IND   \n",
       "16378    198         1.98  App_3_Heat_Email_ZIP/App_9_Heat_Email_IND/Thre...   \n",
       "16378    198         1.98  App_3_Heat_Email_ZIP/App_9_Heat_Email_IND/Thre...   \n",
       "16378    198         1.98  App_3_Heat_Email_ZIP/App_9_Heat_Email_IND/Thre...   \n",
       "\n",
       "       tenure  owner_name_Analyst_1  owner_name_Analyst_3  \\\n",
       "0        22.0                     0                     0   \n",
       "1        22.0                     0                     0   \n",
       "2        22.0                     0                     0   \n",
       "3        22.0                     0                     0   \n",
       "4        22.0                     0                     0   \n",
       "...       ...                   ...                   ...   \n",
       "16377     4.0                     0                     0   \n",
       "16377     4.0                     0                     0   \n",
       "16378     4.0                     0                     0   \n",
       "16378     4.0                     0                     0   \n",
       "16378     4.0                     0                     0   \n",
       "\n",
       "       owner_name_Analyst_4  owner_name_Analyst_6  owner_name_Analyst_7  \\\n",
       "0                         0                     0                     0   \n",
       "1                         0                     0                     0   \n",
       "2                         0                     0                     0   \n",
       "3                         0                     0                     0   \n",
       "4                         0                     0                     0   \n",
       "...                     ...                   ...                   ...   \n",
       "16377                     0                     1                     0   \n",
       "16377                     0                     1                     0   \n",
       "16378                     0                     0                     1   \n",
       "16378                     0                     0                     1   \n",
       "16378                     0                     0                     1   \n",
       "\n",
       "       owner_name_Analyst_8  ...  indicators_Top_Users_Heat_USB_IND  \\\n",
       "0                         0  ...                                  0   \n",
       "1                         0  ...                                  0   \n",
       "2                         0  ...                                  0   \n",
       "3                         0  ...                                  0   \n",
       "4                         0  ...                                  0   \n",
       "...                     ...  ...                                ...   \n",
       "16377                     0  ...                                  0   \n",
       "16377                     0  ...                                  0   \n",
       "16378                     0  ...                                  0   \n",
       "16378                     0  ...                                  0   \n",
       "16378                     0  ...                                  0   \n",
       "\n",
       "       career_band_CAREER_BAND_1  career_band_CAREER_BAND_10  \\\n",
       "0                              0                           0   \n",
       "1                              0                           0   \n",
       "2                              0                           0   \n",
       "3                              0                           0   \n",
       "4                              0                           0   \n",
       "...                          ...                         ...   \n",
       "16377                          0                           0   \n",
       "16377                          0                           0   \n",
       "16378                          0                           0   \n",
       "16378                          0                           0   \n",
       "16378                          0                           0   \n",
       "\n",
       "       career_band_CAREER_BAND_2  career_band_CAREER_BAND_3  \\\n",
       "0                              1                          0   \n",
       "1                              1                          0   \n",
       "2                              1                          0   \n",
       "3                              1                          0   \n",
       "4                              1                          0   \n",
       "...                          ...                        ...   \n",
       "16377                          0                          0   \n",
       "16377                          0                          0   \n",
       "16378                          0                          0   \n",
       "16378                          0                          0   \n",
       "16378                          0                          0   \n",
       "\n",
       "       career_band_CAREER_BAND_4  career_band_CAREER_BAND_5  \\\n",
       "0                              0                          0   \n",
       "1                              0                          0   \n",
       "2                              0                          0   \n",
       "3                              0                          0   \n",
       "4                              0                          0   \n",
       "...                          ...                        ...   \n",
       "16377                          0                          0   \n",
       "16377                          0                          0   \n",
       "16378                          0                          0   \n",
       "16378                          0                          0   \n",
       "16378                          0                          0   \n",
       "\n",
       "       career_band_CAREER_BAND_6  career_band_CAREER_BAND_7  \\\n",
       "0                              0                          0   \n",
       "1                              0                          0   \n",
       "2                              0                          0   \n",
       "3                              0                          0   \n",
       "4                              0                          0   \n",
       "...                          ...                        ...   \n",
       "16377                          1                          0   \n",
       "16377                          1                          0   \n",
       "16378                          1                          0   \n",
       "16378                          1                          0   \n",
       "16378                          1                          0   \n",
       "\n",
       "       career_band_CAREER_BAND_8  \n",
       "0                              0  \n",
       "1                              0  \n",
       "2                              0  \n",
       "3                              0  \n",
       "4                              0  \n",
       "...                          ...  \n",
       "16377                          0  \n",
       "16377                          0  \n",
       "16378                          0  \n",
       "16378                          0  \n",
       "16378                          0  \n",
       "\n",
       "[37519 rows x 147 columns]"
      ]
     },
     "execution_count": 71,
     "metadata": {},
     "output_type": "execute_result"
    }
   ],
   "source": [
    "newdata_fin_dummy"
   ]
  },
  {
   "cell_type": "code",
   "execution_count": 72,
   "metadata": {},
   "outputs": [],
   "source": [
    "newdata_fin_dummy= newdata_fin_dummy.reset_index()\n",
    "df= pd.DataFrame(clusters)\n",
    "df.columns = ['cluster_pred']\n",
    "df1_avi= pd.concat([newdata_fin_dummy, df], axis = 1).reset_index()"
   ]
  },
  {
   "cell_type": "code",
   "execution_count": 73,
   "metadata": {},
   "outputs": [],
   "source": [
    "# df1_avi.head()"
   ]
  },
  {
   "cell_type": "code",
   "execution_count": 74,
   "metadata": {},
   "outputs": [],
   "source": [
    "# df1_avi.iloc[:, 7:]"
   ]
  },
  {
   "cell_type": "code",
   "execution_count": 75,
   "metadata": {},
   "outputs": [],
   "source": [
    "gb = df1_avi.groupby(['cluster_pred']).sum()"
   ]
  },
  {
   "cell_type": "code",
   "execution_count": 76,
   "metadata": {},
   "outputs": [
    {
     "data": {
      "text/html": [
       "<div>\n",
       "<style scoped>\n",
       "    .dataframe tbody tr th:only-of-type {\n",
       "        vertical-align: middle;\n",
       "    }\n",
       "\n",
       "    .dataframe tbody tr th {\n",
       "        vertical-align: top;\n",
       "    }\n",
       "\n",
       "    .dataframe thead th {\n",
       "        text-align: right;\n",
       "    }\n",
       "</style>\n",
       "<table border=\"1\" class=\"dataframe\">\n",
       "  <thead>\n",
       "    <tr style=\"text-align: right;\">\n",
       "      <th></th>\n",
       "      <th>classification_TP/HIGH</th>\n",
       "      <th>classification_TP/LOW</th>\n",
       "    </tr>\n",
       "    <tr>\n",
       "      <th>cluster_pred</th>\n",
       "      <th></th>\n",
       "      <th></th>\n",
       "    </tr>\n",
       "  </thead>\n",
       "  <tbody>\n",
       "    <tr>\n",
       "      <td>0</td>\n",
       "      <td>1221.0</td>\n",
       "      <td>2950.0</td>\n",
       "    </tr>\n",
       "    <tr>\n",
       "      <td>1</td>\n",
       "      <td>0.0</td>\n",
       "      <td>0.0</td>\n",
       "    </tr>\n",
       "    <tr>\n",
       "      <td>2</td>\n",
       "      <td>0.0</td>\n",
       "      <td>30.0</td>\n",
       "    </tr>\n",
       "    <tr>\n",
       "      <td>3</td>\n",
       "      <td>8.0</td>\n",
       "      <td>39.0</td>\n",
       "    </tr>\n",
       "    <tr>\n",
       "      <td>4</td>\n",
       "      <td>0.0</td>\n",
       "      <td>0.0</td>\n",
       "    </tr>\n",
       "    <tr>\n",
       "      <td>5</td>\n",
       "      <td>143.0</td>\n",
       "      <td>261.0</td>\n",
       "    </tr>\n",
       "  </tbody>\n",
       "</table>\n",
       "</div>"
      ],
      "text/plain": [
       "              classification_TP/HIGH  classification_TP/LOW\n",
       "cluster_pred                                               \n",
       "0                             1221.0                 2950.0\n",
       "1                                0.0                    0.0\n",
       "2                                0.0                   30.0\n",
       "3                                8.0                   39.0\n",
       "4                                0.0                    0.0\n",
       "5                              143.0                  261.0"
      ]
     },
     "execution_count": 76,
     "metadata": {},
     "output_type": "execute_result"
    }
   ],
   "source": [
    "gb[['classification_TP/HIGH', 'classification_TP/LOW']]"
   ]
  },
  {
   "cell_type": "code",
   "execution_count": 82,
   "metadata": {},
   "outputs": [],
   "source": [
    "gb.to_csv(r'/Users/arvindpawar/Desktop/XN Updated/updated_Daily_avi_6.csv')"
   ]
  },
  {
   "cell_type": "code",
   "execution_count": null,
   "metadata": {},
   "outputs": [],
   "source": []
  },
  {
   "cell_type": "code",
   "execution_count": 83,
   "metadata": {},
   "outputs": [],
   "source": [
    "##TP/HIGH is 1 and rest are 0 - predictive analytics"
   ]
  },
  {
   "cell_type": "code",
   "execution_count": null,
   "metadata": {},
   "outputs": [],
   "source": []
  },
  {
   "cell_type": "code",
   "execution_count": null,
   "metadata": {},
   "outputs": [],
   "source": []
  },
  {
   "cell_type": "code",
   "execution_count": 77,
   "metadata": {},
   "outputs": [
    {
     "name": "stdout",
     "output_type": "stream",
     "text": [
      "Libraries Imported\n",
      "0    0\n",
      "1    0\n",
      "2    0\n",
      "3    0\n",
      "4    0\n",
      "Name: classification, dtype: int64\n",
      "Index(['1', '2', '3', '0'], dtype='object')\n"
     ]
    },
    {
     "name": "stderr",
     "output_type": "stream",
     "text": [
      "/Users/arvindpawar/opt/anaconda3/lib/python3.7/site-packages/sklearn/externals/joblib/__init__.py:15: FutureWarning: sklearn.externals.joblib is deprecated in 0.21 and will be removed in 0.23. Please import this functionality directly from joblib, which can be installed with: pip install joblib. If this warning is raised when loading pickled models, you may need to re-serialize those models with scikit-learn 0.21+.\n",
      "  warnings.warn(msg, category=FutureWarning)\n"
     ]
    }
   ],
   "source": [
    "#random forest\n",
    "import numpy as np\n",
    "import pandas as pd\n",
    "from sklearn.model_selection import train_test_split\n",
    "from sklearn.preprocessing import StandardScaler\n",
    "from sklearn.ensemble import RandomForestClassifier\n",
    "from sklearn.metrics import confusion_matrix\n",
    "from sklearn.externals import joblib\n",
    "print('Libraries Imported')\n",
    "newdata_rf_dummy=pd.get_dummies(newdata1, columns=['owner_name','hru','indicators',\n",
    "                                                    'job_function','career_band'\n",
    "                                                       ])\n",
    "\n",
    "newdata_rf_dummy=newdata_rf_dummy.drop(['indicator_pairs'], axis=1)\n",
    "newdata_rf_dummy['classification'].replace({\"FP\":\"0\", \"TP/DE\":\"1\", \"TP/LOW\":\"2\", \"TP/HIGH\":\"3\"}, inplace=True)\n",
    "newdata_rf_dummy=newdata_rf_dummy.drop(['index'], axis=1)\n",
    "\n",
    "#Creating the dependent variable class\n",
    "factor = pd.factorize(newdata_rf_dummy['classification'])\n",
    "newdata_rf_dummy.classification = factor[0]\n",
    "definitions = factor[1]\n",
    "print(newdata_rf_dummy.classification.head())\n",
    "print(definitions)"
   ]
  },
  {
   "cell_type": "code",
   "execution_count": 78,
   "metadata": {},
   "outputs": [],
   "source": [
    "#newdata_rf_dummy=newdata_rf_dummy.drop(['index'], axis=1)"
   ]
  },
  {
   "cell_type": "code",
   "execution_count": 79,
   "metadata": {},
   "outputs": [],
   "source": [
    "tpHighDf=newdata_rf_dummy.copy()"
   ]
  },
  {
   "cell_type": "code",
   "execution_count": 80,
   "metadata": {},
   "outputs": [
    {
     "data": {
      "text/plain": [
       "array([0, 1, 2, 3])"
      ]
     },
     "execution_count": 80,
     "metadata": {},
     "output_type": "execute_result"
    }
   ],
   "source": [
    "tpHighDf['classification'].unique()"
   ]
  },
  {
   "cell_type": "code",
   "execution_count": 81,
   "metadata": {},
   "outputs": [],
   "source": [
    "tpHighDf['classification'] = (tpHighDf['classification'] == 3).astype(int)"
   ]
  },
  {
   "cell_type": "code",
   "execution_count": 82,
   "metadata": {},
   "outputs": [
    {
     "data": {
      "text/plain": [
       "0    33729\n",
       "1     3790\n",
       "Name: classification, dtype: int64"
      ]
     },
     "execution_count": 82,
     "metadata": {},
     "output_type": "execute_result"
    }
   ],
   "source": [
    "tpHighDf['classification'].value_counts()"
   ]
  },
  {
   "cell_type": "code",
   "execution_count": 83,
   "metadata": {},
   "outputs": [
    {
     "data": {
      "text/plain": [
       "(37519, 144)"
      ]
     },
     "execution_count": 83,
     "metadata": {},
     "output_type": "execute_result"
    }
   ],
   "source": [
    "tpHighDf.shape"
   ]
  },
  {
   "cell_type": "code",
   "execution_count": 84,
   "metadata": {},
   "outputs": [],
   "source": [
    "#Decision Tree TP/HIGH = 1 and rest are 0"
   ]
  },
  {
   "cell_type": "code",
   "execution_count": 85,
   "metadata": {},
   "outputs": [],
   "source": [
    "from sklearn.tree import DecisionTreeClassifier"
   ]
  },
  {
   "cell_type": "code",
   "execution_count": 86,
   "metadata": {},
   "outputs": [],
   "source": [
    "from sklearn.model_selection import train_test_split"
   ]
  },
  {
   "cell_type": "code",
   "execution_count": 87,
   "metadata": {},
   "outputs": [],
   "source": [
    "from sklearn import metrics"
   ]
  },
  {
   "cell_type": "code",
   "execution_count": 88,
   "metadata": {},
   "outputs": [
    {
     "data": {
      "text/html": [
       "<div>\n",
       "<style scoped>\n",
       "    .dataframe tbody tr th:only-of-type {\n",
       "        vertical-align: middle;\n",
       "    }\n",
       "\n",
       "    .dataframe tbody tr th {\n",
       "        vertical-align: top;\n",
       "    }\n",
       "\n",
       "    .dataframe thead th {\n",
       "        text-align: right;\n",
       "    }\n",
       "</style>\n",
       "<table border=\"1\" class=\"dataframe\">\n",
       "  <thead>\n",
       "    <tr style=\"text-align: right;\">\n",
       "      <th></th>\n",
       "      <th>score</th>\n",
       "      <th>employee_id</th>\n",
       "      <th>risk_factor</th>\n",
       "      <th>classification</th>\n",
       "      <th>tenure</th>\n",
       "      <th>owner_name_Analyst_1</th>\n",
       "      <th>owner_name_Analyst_3</th>\n",
       "      <th>owner_name_Analyst_4</th>\n",
       "      <th>owner_name_Analyst_6</th>\n",
       "      <th>owner_name_Analyst_7</th>\n",
       "      <th>...</th>\n",
       "      <th>job_function_JOB_FUNCTION_8</th>\n",
       "      <th>career_band_CAREER_BAND_1</th>\n",
       "      <th>career_band_CAREER_BAND_10</th>\n",
       "      <th>career_band_CAREER_BAND_2</th>\n",
       "      <th>career_band_CAREER_BAND_3</th>\n",
       "      <th>career_band_CAREER_BAND_4</th>\n",
       "      <th>career_band_CAREER_BAND_5</th>\n",
       "      <th>career_band_CAREER_BAND_6</th>\n",
       "      <th>career_band_CAREER_BAND_7</th>\n",
       "      <th>career_band_CAREER_BAND_8</th>\n",
       "    </tr>\n",
       "  </thead>\n",
       "  <tbody>\n",
       "    <tr>\n",
       "      <td>0</td>\n",
       "      <td>174</td>\n",
       "      <td>19616361638</td>\n",
       "      <td>1.74</td>\n",
       "      <td>0</td>\n",
       "      <td>22.0</td>\n",
       "      <td>0</td>\n",
       "      <td>0</td>\n",
       "      <td>0</td>\n",
       "      <td>0</td>\n",
       "      <td>0</td>\n",
       "      <td>...</td>\n",
       "      <td>0</td>\n",
       "      <td>0</td>\n",
       "      <td>0</td>\n",
       "      <td>1</td>\n",
       "      <td>0</td>\n",
       "      <td>0</td>\n",
       "      <td>0</td>\n",
       "      <td>0</td>\n",
       "      <td>0</td>\n",
       "      <td>0</td>\n",
       "    </tr>\n",
       "    <tr>\n",
       "      <td>1</td>\n",
       "      <td>171</td>\n",
       "      <td>19616361638</td>\n",
       "      <td>1.71</td>\n",
       "      <td>0</td>\n",
       "      <td>22.0</td>\n",
       "      <td>0</td>\n",
       "      <td>0</td>\n",
       "      <td>0</td>\n",
       "      <td>0</td>\n",
       "      <td>0</td>\n",
       "      <td>...</td>\n",
       "      <td>0</td>\n",
       "      <td>0</td>\n",
       "      <td>0</td>\n",
       "      <td>1</td>\n",
       "      <td>0</td>\n",
       "      <td>0</td>\n",
       "      <td>0</td>\n",
       "      <td>0</td>\n",
       "      <td>0</td>\n",
       "      <td>0</td>\n",
       "    </tr>\n",
       "    <tr>\n",
       "      <td>2</td>\n",
       "      <td>321</td>\n",
       "      <td>19616361638</td>\n",
       "      <td>3.21</td>\n",
       "      <td>0</td>\n",
       "      <td>22.0</td>\n",
       "      <td>0</td>\n",
       "      <td>0</td>\n",
       "      <td>0</td>\n",
       "      <td>0</td>\n",
       "      <td>0</td>\n",
       "      <td>...</td>\n",
       "      <td>0</td>\n",
       "      <td>0</td>\n",
       "      <td>0</td>\n",
       "      <td>1</td>\n",
       "      <td>0</td>\n",
       "      <td>0</td>\n",
       "      <td>0</td>\n",
       "      <td>0</td>\n",
       "      <td>0</td>\n",
       "      <td>0</td>\n",
       "    </tr>\n",
       "    <tr>\n",
       "      <td>3</td>\n",
       "      <td>312</td>\n",
       "      <td>19616361638</td>\n",
       "      <td>3.12</td>\n",
       "      <td>0</td>\n",
       "      <td>22.0</td>\n",
       "      <td>0</td>\n",
       "      <td>0</td>\n",
       "      <td>0</td>\n",
       "      <td>0</td>\n",
       "      <td>0</td>\n",
       "      <td>...</td>\n",
       "      <td>0</td>\n",
       "      <td>0</td>\n",
       "      <td>0</td>\n",
       "      <td>1</td>\n",
       "      <td>0</td>\n",
       "      <td>0</td>\n",
       "      <td>0</td>\n",
       "      <td>0</td>\n",
       "      <td>0</td>\n",
       "      <td>0</td>\n",
       "    </tr>\n",
       "    <tr>\n",
       "      <td>4</td>\n",
       "      <td>300</td>\n",
       "      <td>19616361638</td>\n",
       "      <td>3.00</td>\n",
       "      <td>0</td>\n",
       "      <td>22.0</td>\n",
       "      <td>0</td>\n",
       "      <td>0</td>\n",
       "      <td>0</td>\n",
       "      <td>0</td>\n",
       "      <td>0</td>\n",
       "      <td>...</td>\n",
       "      <td>0</td>\n",
       "      <td>0</td>\n",
       "      <td>0</td>\n",
       "      <td>1</td>\n",
       "      <td>0</td>\n",
       "      <td>0</td>\n",
       "      <td>0</td>\n",
       "      <td>0</td>\n",
       "      <td>0</td>\n",
       "      <td>0</td>\n",
       "    </tr>\n",
       "  </tbody>\n",
       "</table>\n",
       "<p>5 rows × 144 columns</p>\n",
       "</div>"
      ],
      "text/plain": [
       "   score  employee_id  risk_factor  classification  tenure  \\\n",
       "0    174  19616361638         1.74               0    22.0   \n",
       "1    171  19616361638         1.71               0    22.0   \n",
       "2    321  19616361638         3.21               0    22.0   \n",
       "3    312  19616361638         3.12               0    22.0   \n",
       "4    300  19616361638         3.00               0    22.0   \n",
       "\n",
       "   owner_name_Analyst_1  owner_name_Analyst_3  owner_name_Analyst_4  \\\n",
       "0                     0                     0                     0   \n",
       "1                     0                     0                     0   \n",
       "2                     0                     0                     0   \n",
       "3                     0                     0                     0   \n",
       "4                     0                     0                     0   \n",
       "\n",
       "   owner_name_Analyst_6  owner_name_Analyst_7  ...  \\\n",
       "0                     0                     0  ...   \n",
       "1                     0                     0  ...   \n",
       "2                     0                     0  ...   \n",
       "3                     0                     0  ...   \n",
       "4                     0                     0  ...   \n",
       "\n",
       "   job_function_JOB_FUNCTION_8  career_band_CAREER_BAND_1  \\\n",
       "0                            0                          0   \n",
       "1                            0                          0   \n",
       "2                            0                          0   \n",
       "3                            0                          0   \n",
       "4                            0                          0   \n",
       "\n",
       "   career_band_CAREER_BAND_10  career_band_CAREER_BAND_2  \\\n",
       "0                           0                          1   \n",
       "1                           0                          1   \n",
       "2                           0                          1   \n",
       "3                           0                          1   \n",
       "4                           0                          1   \n",
       "\n",
       "   career_band_CAREER_BAND_3  career_band_CAREER_BAND_4  \\\n",
       "0                          0                          0   \n",
       "1                          0                          0   \n",
       "2                          0                          0   \n",
       "3                          0                          0   \n",
       "4                          0                          0   \n",
       "\n",
       "   career_band_CAREER_BAND_5  career_band_CAREER_BAND_6  \\\n",
       "0                          0                          0   \n",
       "1                          0                          0   \n",
       "2                          0                          0   \n",
       "3                          0                          0   \n",
       "4                          0                          0   \n",
       "\n",
       "   career_band_CAREER_BAND_7  career_band_CAREER_BAND_8  \n",
       "0                          0                          0  \n",
       "1                          0                          0  \n",
       "2                          0                          0  \n",
       "3                          0                          0  \n",
       "4                          0                          0  \n",
       "\n",
       "[5 rows x 144 columns]"
      ]
     },
     "execution_count": 88,
     "metadata": {},
     "output_type": "execute_result"
    }
   ],
   "source": [
    "tpHighDf.head()"
   ]
  },
  {
   "cell_type": "code",
   "execution_count": 89,
   "metadata": {},
   "outputs": [
    {
     "data": {
      "text/html": [
       "<div>\n",
       "<style scoped>\n",
       "    .dataframe tbody tr th:only-of-type {\n",
       "        vertical-align: middle;\n",
       "    }\n",
       "\n",
       "    .dataframe tbody tr th {\n",
       "        vertical-align: top;\n",
       "    }\n",
       "\n",
       "    .dataframe thead th {\n",
       "        text-align: right;\n",
       "    }\n",
       "</style>\n",
       "<table border=\"1\" class=\"dataframe\">\n",
       "  <thead>\n",
       "    <tr style=\"text-align: right;\">\n",
       "      <th></th>\n",
       "      <th>score</th>\n",
       "      <th>risk_factor</th>\n",
       "      <th>tenure</th>\n",
       "      <th>owner_name_Analyst_1</th>\n",
       "      <th>owner_name_Analyst_3</th>\n",
       "      <th>owner_name_Analyst_4</th>\n",
       "      <th>owner_name_Analyst_6</th>\n",
       "      <th>owner_name_Analyst_7</th>\n",
       "      <th>owner_name_Analyst_8</th>\n",
       "      <th>owner_name_None</th>\n",
       "      <th>...</th>\n",
       "      <th>job_function_JOB_FUNCTION_8</th>\n",
       "      <th>career_band_CAREER_BAND_1</th>\n",
       "      <th>career_band_CAREER_BAND_10</th>\n",
       "      <th>career_band_CAREER_BAND_2</th>\n",
       "      <th>career_band_CAREER_BAND_3</th>\n",
       "      <th>career_band_CAREER_BAND_4</th>\n",
       "      <th>career_band_CAREER_BAND_5</th>\n",
       "      <th>career_band_CAREER_BAND_6</th>\n",
       "      <th>career_band_CAREER_BAND_7</th>\n",
       "      <th>career_band_CAREER_BAND_8</th>\n",
       "    </tr>\n",
       "  </thead>\n",
       "  <tbody>\n",
       "    <tr>\n",
       "      <td>0</td>\n",
       "      <td>174</td>\n",
       "      <td>1.74</td>\n",
       "      <td>22.0</td>\n",
       "      <td>0</td>\n",
       "      <td>0</td>\n",
       "      <td>0</td>\n",
       "      <td>0</td>\n",
       "      <td>0</td>\n",
       "      <td>0</td>\n",
       "      <td>0</td>\n",
       "      <td>...</td>\n",
       "      <td>0</td>\n",
       "      <td>0</td>\n",
       "      <td>0</td>\n",
       "      <td>1</td>\n",
       "      <td>0</td>\n",
       "      <td>0</td>\n",
       "      <td>0</td>\n",
       "      <td>0</td>\n",
       "      <td>0</td>\n",
       "      <td>0</td>\n",
       "    </tr>\n",
       "    <tr>\n",
       "      <td>1</td>\n",
       "      <td>171</td>\n",
       "      <td>1.71</td>\n",
       "      <td>22.0</td>\n",
       "      <td>0</td>\n",
       "      <td>0</td>\n",
       "      <td>0</td>\n",
       "      <td>0</td>\n",
       "      <td>0</td>\n",
       "      <td>0</td>\n",
       "      <td>0</td>\n",
       "      <td>...</td>\n",
       "      <td>0</td>\n",
       "      <td>0</td>\n",
       "      <td>0</td>\n",
       "      <td>1</td>\n",
       "      <td>0</td>\n",
       "      <td>0</td>\n",
       "      <td>0</td>\n",
       "      <td>0</td>\n",
       "      <td>0</td>\n",
       "      <td>0</td>\n",
       "    </tr>\n",
       "    <tr>\n",
       "      <td>2</td>\n",
       "      <td>321</td>\n",
       "      <td>3.21</td>\n",
       "      <td>22.0</td>\n",
       "      <td>0</td>\n",
       "      <td>0</td>\n",
       "      <td>0</td>\n",
       "      <td>0</td>\n",
       "      <td>0</td>\n",
       "      <td>0</td>\n",
       "      <td>0</td>\n",
       "      <td>...</td>\n",
       "      <td>0</td>\n",
       "      <td>0</td>\n",
       "      <td>0</td>\n",
       "      <td>1</td>\n",
       "      <td>0</td>\n",
       "      <td>0</td>\n",
       "      <td>0</td>\n",
       "      <td>0</td>\n",
       "      <td>0</td>\n",
       "      <td>0</td>\n",
       "    </tr>\n",
       "    <tr>\n",
       "      <td>3</td>\n",
       "      <td>312</td>\n",
       "      <td>3.12</td>\n",
       "      <td>22.0</td>\n",
       "      <td>0</td>\n",
       "      <td>0</td>\n",
       "      <td>0</td>\n",
       "      <td>0</td>\n",
       "      <td>0</td>\n",
       "      <td>0</td>\n",
       "      <td>0</td>\n",
       "      <td>...</td>\n",
       "      <td>0</td>\n",
       "      <td>0</td>\n",
       "      <td>0</td>\n",
       "      <td>1</td>\n",
       "      <td>0</td>\n",
       "      <td>0</td>\n",
       "      <td>0</td>\n",
       "      <td>0</td>\n",
       "      <td>0</td>\n",
       "      <td>0</td>\n",
       "    </tr>\n",
       "    <tr>\n",
       "      <td>4</td>\n",
       "      <td>300</td>\n",
       "      <td>3.00</td>\n",
       "      <td>22.0</td>\n",
       "      <td>0</td>\n",
       "      <td>0</td>\n",
       "      <td>0</td>\n",
       "      <td>0</td>\n",
       "      <td>0</td>\n",
       "      <td>0</td>\n",
       "      <td>0</td>\n",
       "      <td>...</td>\n",
       "      <td>0</td>\n",
       "      <td>0</td>\n",
       "      <td>0</td>\n",
       "      <td>1</td>\n",
       "      <td>0</td>\n",
       "      <td>0</td>\n",
       "      <td>0</td>\n",
       "      <td>0</td>\n",
       "      <td>0</td>\n",
       "      <td>0</td>\n",
       "    </tr>\n",
       "    <tr>\n",
       "      <td>...</td>\n",
       "      <td>...</td>\n",
       "      <td>...</td>\n",
       "      <td>...</td>\n",
       "      <td>...</td>\n",
       "      <td>...</td>\n",
       "      <td>...</td>\n",
       "      <td>...</td>\n",
       "      <td>...</td>\n",
       "      <td>...</td>\n",
       "      <td>...</td>\n",
       "      <td>...</td>\n",
       "      <td>...</td>\n",
       "      <td>...</td>\n",
       "      <td>...</td>\n",
       "      <td>...</td>\n",
       "      <td>...</td>\n",
       "      <td>...</td>\n",
       "      <td>...</td>\n",
       "      <td>...</td>\n",
       "      <td>...</td>\n",
       "      <td>...</td>\n",
       "    </tr>\n",
       "    <tr>\n",
       "      <td>16377</td>\n",
       "      <td>216</td>\n",
       "      <td>2.16</td>\n",
       "      <td>4.0</td>\n",
       "      <td>0</td>\n",
       "      <td>0</td>\n",
       "      <td>0</td>\n",
       "      <td>1</td>\n",
       "      <td>0</td>\n",
       "      <td>0</td>\n",
       "      <td>0</td>\n",
       "      <td>...</td>\n",
       "      <td>0</td>\n",
       "      <td>0</td>\n",
       "      <td>0</td>\n",
       "      <td>0</td>\n",
       "      <td>0</td>\n",
       "      <td>0</td>\n",
       "      <td>0</td>\n",
       "      <td>1</td>\n",
       "      <td>0</td>\n",
       "      <td>0</td>\n",
       "    </tr>\n",
       "    <tr>\n",
       "      <td>16377</td>\n",
       "      <td>216</td>\n",
       "      <td>2.16</td>\n",
       "      <td>4.0</td>\n",
       "      <td>0</td>\n",
       "      <td>0</td>\n",
       "      <td>0</td>\n",
       "      <td>1</td>\n",
       "      <td>0</td>\n",
       "      <td>0</td>\n",
       "      <td>0</td>\n",
       "      <td>...</td>\n",
       "      <td>0</td>\n",
       "      <td>0</td>\n",
       "      <td>0</td>\n",
       "      <td>0</td>\n",
       "      <td>0</td>\n",
       "      <td>0</td>\n",
       "      <td>0</td>\n",
       "      <td>1</td>\n",
       "      <td>0</td>\n",
       "      <td>0</td>\n",
       "    </tr>\n",
       "    <tr>\n",
       "      <td>16378</td>\n",
       "      <td>198</td>\n",
       "      <td>1.98</td>\n",
       "      <td>4.0</td>\n",
       "      <td>0</td>\n",
       "      <td>0</td>\n",
       "      <td>0</td>\n",
       "      <td>0</td>\n",
       "      <td>1</td>\n",
       "      <td>0</td>\n",
       "      <td>0</td>\n",
       "      <td>...</td>\n",
       "      <td>0</td>\n",
       "      <td>0</td>\n",
       "      <td>0</td>\n",
       "      <td>0</td>\n",
       "      <td>0</td>\n",
       "      <td>0</td>\n",
       "      <td>0</td>\n",
       "      <td>1</td>\n",
       "      <td>0</td>\n",
       "      <td>0</td>\n",
       "    </tr>\n",
       "    <tr>\n",
       "      <td>16378</td>\n",
       "      <td>198</td>\n",
       "      <td>1.98</td>\n",
       "      <td>4.0</td>\n",
       "      <td>0</td>\n",
       "      <td>0</td>\n",
       "      <td>0</td>\n",
       "      <td>0</td>\n",
       "      <td>1</td>\n",
       "      <td>0</td>\n",
       "      <td>0</td>\n",
       "      <td>...</td>\n",
       "      <td>0</td>\n",
       "      <td>0</td>\n",
       "      <td>0</td>\n",
       "      <td>0</td>\n",
       "      <td>0</td>\n",
       "      <td>0</td>\n",
       "      <td>0</td>\n",
       "      <td>1</td>\n",
       "      <td>0</td>\n",
       "      <td>0</td>\n",
       "    </tr>\n",
       "    <tr>\n",
       "      <td>16378</td>\n",
       "      <td>198</td>\n",
       "      <td>1.98</td>\n",
       "      <td>4.0</td>\n",
       "      <td>0</td>\n",
       "      <td>0</td>\n",
       "      <td>0</td>\n",
       "      <td>0</td>\n",
       "      <td>1</td>\n",
       "      <td>0</td>\n",
       "      <td>0</td>\n",
       "      <td>...</td>\n",
       "      <td>0</td>\n",
       "      <td>0</td>\n",
       "      <td>0</td>\n",
       "      <td>0</td>\n",
       "      <td>0</td>\n",
       "      <td>0</td>\n",
       "      <td>0</td>\n",
       "      <td>1</td>\n",
       "      <td>0</td>\n",
       "      <td>0</td>\n",
       "    </tr>\n",
       "  </tbody>\n",
       "</table>\n",
       "<p>37519 rows × 142 columns</p>\n",
       "</div>"
      ],
      "text/plain": [
       "       score  risk_factor  tenure  owner_name_Analyst_1  owner_name_Analyst_3  \\\n",
       "0        174         1.74    22.0                     0                     0   \n",
       "1        171         1.71    22.0                     0                     0   \n",
       "2        321         3.21    22.0                     0                     0   \n",
       "3        312         3.12    22.0                     0                     0   \n",
       "4        300         3.00    22.0                     0                     0   \n",
       "...      ...          ...     ...                   ...                   ...   \n",
       "16377    216         2.16     4.0                     0                     0   \n",
       "16377    216         2.16     4.0                     0                     0   \n",
       "16378    198         1.98     4.0                     0                     0   \n",
       "16378    198         1.98     4.0                     0                     0   \n",
       "16378    198         1.98     4.0                     0                     0   \n",
       "\n",
       "       owner_name_Analyst_4  owner_name_Analyst_6  owner_name_Analyst_7  \\\n",
       "0                         0                     0                     0   \n",
       "1                         0                     0                     0   \n",
       "2                         0                     0                     0   \n",
       "3                         0                     0                     0   \n",
       "4                         0                     0                     0   \n",
       "...                     ...                   ...                   ...   \n",
       "16377                     0                     1                     0   \n",
       "16377                     0                     1                     0   \n",
       "16378                     0                     0                     1   \n",
       "16378                     0                     0                     1   \n",
       "16378                     0                     0                     1   \n",
       "\n",
       "       owner_name_Analyst_8  owner_name_None  ...  \\\n",
       "0                         0                0  ...   \n",
       "1                         0                0  ...   \n",
       "2                         0                0  ...   \n",
       "3                         0                0  ...   \n",
       "4                         0                0  ...   \n",
       "...                     ...              ...  ...   \n",
       "16377                     0                0  ...   \n",
       "16377                     0                0  ...   \n",
       "16378                     0                0  ...   \n",
       "16378                     0                0  ...   \n",
       "16378                     0                0  ...   \n",
       "\n",
       "       job_function_JOB_FUNCTION_8  career_band_CAREER_BAND_1  \\\n",
       "0                                0                          0   \n",
       "1                                0                          0   \n",
       "2                                0                          0   \n",
       "3                                0                          0   \n",
       "4                                0                          0   \n",
       "...                            ...                        ...   \n",
       "16377                            0                          0   \n",
       "16377                            0                          0   \n",
       "16378                            0                          0   \n",
       "16378                            0                          0   \n",
       "16378                            0                          0   \n",
       "\n",
       "       career_band_CAREER_BAND_10  career_band_CAREER_BAND_2  \\\n",
       "0                               0                          1   \n",
       "1                               0                          1   \n",
       "2                               0                          1   \n",
       "3                               0                          1   \n",
       "4                               0                          1   \n",
       "...                           ...                        ...   \n",
       "16377                           0                          0   \n",
       "16377                           0                          0   \n",
       "16378                           0                          0   \n",
       "16378                           0                          0   \n",
       "16378                           0                          0   \n",
       "\n",
       "       career_band_CAREER_BAND_3  career_band_CAREER_BAND_4  \\\n",
       "0                              0                          0   \n",
       "1                              0                          0   \n",
       "2                              0                          0   \n",
       "3                              0                          0   \n",
       "4                              0                          0   \n",
       "...                          ...                        ...   \n",
       "16377                          0                          0   \n",
       "16377                          0                          0   \n",
       "16378                          0                          0   \n",
       "16378                          0                          0   \n",
       "16378                          0                          0   \n",
       "\n",
       "       career_band_CAREER_BAND_5  career_band_CAREER_BAND_6  \\\n",
       "0                              0                          0   \n",
       "1                              0                          0   \n",
       "2                              0                          0   \n",
       "3                              0                          0   \n",
       "4                              0                          0   \n",
       "...                          ...                        ...   \n",
       "16377                          0                          1   \n",
       "16377                          0                          1   \n",
       "16378                          0                          1   \n",
       "16378                          0                          1   \n",
       "16378                          0                          1   \n",
       "\n",
       "       career_band_CAREER_BAND_7  career_band_CAREER_BAND_8  \n",
       "0                              0                          0  \n",
       "1                              0                          0  \n",
       "2                              0                          0  \n",
       "3                              0                          0  \n",
       "4                              0                          0  \n",
       "...                          ...                        ...  \n",
       "16377                          0                          0  \n",
       "16377                          0                          0  \n",
       "16378                          0                          0  \n",
       "16378                          0                          0  \n",
       "16378                          0                          0  \n",
       "\n",
       "[37519 rows x 142 columns]"
      ]
     },
     "execution_count": 89,
     "metadata": {},
     "output_type": "execute_result"
    }
   ],
   "source": [
    "tpHighDf.iloc[:, np.r_[0, 2, 4:144]]"
   ]
  },
  {
   "cell_type": "code",
   "execution_count": 90,
   "metadata": {},
   "outputs": [],
   "source": [
    "X=tpHighDf.iloc[:, np.r_[0, 2, 4:144]]\n",
    "Y=tpHighDf.iloc[:, 3]"
   ]
  },
  {
   "cell_type": "code",
   "execution_count": null,
   "metadata": {},
   "outputs": [],
   "source": []
  },
  {
   "cell_type": "code",
   "execution_count": 91,
   "metadata": {},
   "outputs": [],
   "source": [
    "X_train, X_test, y_train, y_test = train_test_split(X, Y, test_size=0.28, random_state=1)"
   ]
  },
  {
   "cell_type": "code",
   "execution_count": 92,
   "metadata": {},
   "outputs": [],
   "source": [
    "sampler = RandomOverSampler(random_state=0)\n",
    "\n",
    "X_rs, y_rs = sampler.fit_sample(X_train, y_train)"
   ]
  },
  {
   "cell_type": "code",
   "execution_count": 93,
   "metadata": {},
   "outputs": [],
   "source": [
    "clf=DecisionTreeClassifier()"
   ]
  },
  {
   "cell_type": "code",
   "execution_count": 94,
   "metadata": {},
   "outputs": [],
   "source": [
    "clf=clf.fit(X_rs, y_rs)"
   ]
  },
  {
   "cell_type": "code",
   "execution_count": 95,
   "metadata": {},
   "outputs": [],
   "source": [
    "y_pred=clf.predict(X_test)"
   ]
  },
  {
   "cell_type": "code",
   "execution_count": 96,
   "metadata": {},
   "outputs": [
    {
     "name": "stdout",
     "output_type": "stream",
     "text": [
      "Accuracy: 0.9772510946126023\n"
     ]
    }
   ],
   "source": [
    "print(\"Accuracy:\", metrics.accuracy_score(y_test, y_pred))"
   ]
  },
  {
   "cell_type": "code",
   "execution_count": 97,
   "metadata": {},
   "outputs": [
    {
     "name": "stdout",
     "output_type": "stream",
     "text": [
      "Decision Tree for High Risk\n",
      "Predicted Observation     0    1\n",
      "Actual Observation              \n",
      "0                      9324  118\n",
      "1                       121  943\n",
      "              precision    recall  f1-score   support\n",
      "\n",
      "           0       0.99      0.99      0.99      9442\n",
      "           1       0.89      0.89      0.89      1064\n",
      "\n",
      "    accuracy                           0.98     10506\n",
      "   macro avg       0.94      0.94      0.94     10506\n",
      "weighted avg       0.98      0.98      0.98     10506\n",
      "\n",
      "\n",
      "Accuracy: 0.9772510946126023\n"
     ]
    }
   ],
   "source": [
    "print(\"Decision Tree for High Risk\", sep=('\\n'))\n",
    "print(pd.crosstab(y_test, y_pred, rownames=['Actual Observation'], colnames=['Predicted Observation']))\n",
    "from sklearn.metrics import classification_report\n",
    "print(classification_report(y_test, y_pred))\n",
    "print(\"\")\n",
    "print(\"Accuracy:\", metrics.accuracy_score(y_test, y_pred))"
   ]
  },
  {
   "cell_type": "code",
   "execution_count": 98,
   "metadata": {},
   "outputs": [
    {
     "data": {
      "text/plain": [
       "array([[9324,  118],\n",
       "       [ 121,  943]])"
      ]
     },
     "execution_count": 98,
     "metadata": {},
     "output_type": "execute_result"
    }
   ],
   "source": [
    "confusion_matrix(y_test, y_pred)"
   ]
  },
  {
   "cell_type": "code",
   "execution_count": 99,
   "metadata": {},
   "outputs": [
    {
     "name": "stdout",
     "output_type": "stream",
     "text": [
      "              precision    recall  f1-score   support\n",
      "\n",
      "           0       0.99      0.99      0.99      9442\n",
      "           1       0.89      0.89      0.89      1064\n",
      "\n",
      "    accuracy                           0.98     10506\n",
      "   macro avg       0.94      0.94      0.94     10506\n",
      "weighted avg       0.98      0.98      0.98     10506\n",
      "\n"
     ]
    }
   ],
   "source": [
    "from sklearn.metrics import classification_report\n",
    "print(classification_report(y_test, y_pred))"
   ]
  },
  {
   "cell_type": "code",
   "execution_count": 100,
   "metadata": {},
   "outputs": [
    {
     "name": "stdout",
     "output_type": "stream",
     "text": [
      "Libraries Imported\n"
     ]
    }
   ],
   "source": [
    "#random forest\n",
    "import numpy as np\n",
    "import pandas as pd\n",
    "from sklearn.model_selection import train_test_split\n",
    "from sklearn.preprocessing import StandardScaler\n",
    "from sklearn.ensemble import RandomForestClassifier\n",
    "from sklearn.metrics import confusion_matrix\n",
    "from sklearn.externals import joblib\n",
    "print('Libraries Imported')"
   ]
  },
  {
   "cell_type": "code",
   "execution_count": 101,
   "metadata": {},
   "outputs": [
    {
     "data": {
      "text/html": [
       "<div>\n",
       "<style scoped>\n",
       "    .dataframe tbody tr th:only-of-type {\n",
       "        vertical-align: middle;\n",
       "    }\n",
       "\n",
       "    .dataframe tbody tr th {\n",
       "        vertical-align: top;\n",
       "    }\n",
       "\n",
       "    .dataframe thead th {\n",
       "        text-align: right;\n",
       "    }\n",
       "</style>\n",
       "<table border=\"1\" class=\"dataframe\">\n",
       "  <thead>\n",
       "    <tr style=\"text-align: right;\">\n",
       "      <th></th>\n",
       "      <th>score</th>\n",
       "      <th>employee_id</th>\n",
       "      <th>risk_factor</th>\n",
       "      <th>classification</th>\n",
       "      <th>tenure</th>\n",
       "      <th>owner_name_Analyst_1</th>\n",
       "      <th>owner_name_Analyst_3</th>\n",
       "      <th>owner_name_Analyst_4</th>\n",
       "      <th>owner_name_Analyst_6</th>\n",
       "      <th>owner_name_Analyst_7</th>\n",
       "      <th>...</th>\n",
       "      <th>job_function_JOB_FUNCTION_8</th>\n",
       "      <th>career_band_CAREER_BAND_1</th>\n",
       "      <th>career_band_CAREER_BAND_10</th>\n",
       "      <th>career_band_CAREER_BAND_2</th>\n",
       "      <th>career_band_CAREER_BAND_3</th>\n",
       "      <th>career_band_CAREER_BAND_4</th>\n",
       "      <th>career_band_CAREER_BAND_5</th>\n",
       "      <th>career_band_CAREER_BAND_6</th>\n",
       "      <th>career_band_CAREER_BAND_7</th>\n",
       "      <th>career_band_CAREER_BAND_8</th>\n",
       "    </tr>\n",
       "  </thead>\n",
       "  <tbody>\n",
       "    <tr>\n",
       "      <td>0</td>\n",
       "      <td>174</td>\n",
       "      <td>19616361638</td>\n",
       "      <td>1.74</td>\n",
       "      <td>0</td>\n",
       "      <td>22.0</td>\n",
       "      <td>0</td>\n",
       "      <td>0</td>\n",
       "      <td>0</td>\n",
       "      <td>0</td>\n",
       "      <td>0</td>\n",
       "      <td>...</td>\n",
       "      <td>0</td>\n",
       "      <td>0</td>\n",
       "      <td>0</td>\n",
       "      <td>1</td>\n",
       "      <td>0</td>\n",
       "      <td>0</td>\n",
       "      <td>0</td>\n",
       "      <td>0</td>\n",
       "      <td>0</td>\n",
       "      <td>0</td>\n",
       "    </tr>\n",
       "    <tr>\n",
       "      <td>1</td>\n",
       "      <td>171</td>\n",
       "      <td>19616361638</td>\n",
       "      <td>1.71</td>\n",
       "      <td>0</td>\n",
       "      <td>22.0</td>\n",
       "      <td>0</td>\n",
       "      <td>0</td>\n",
       "      <td>0</td>\n",
       "      <td>0</td>\n",
       "      <td>0</td>\n",
       "      <td>...</td>\n",
       "      <td>0</td>\n",
       "      <td>0</td>\n",
       "      <td>0</td>\n",
       "      <td>1</td>\n",
       "      <td>0</td>\n",
       "      <td>0</td>\n",
       "      <td>0</td>\n",
       "      <td>0</td>\n",
       "      <td>0</td>\n",
       "      <td>0</td>\n",
       "    </tr>\n",
       "    <tr>\n",
       "      <td>2</td>\n",
       "      <td>321</td>\n",
       "      <td>19616361638</td>\n",
       "      <td>3.21</td>\n",
       "      <td>0</td>\n",
       "      <td>22.0</td>\n",
       "      <td>0</td>\n",
       "      <td>0</td>\n",
       "      <td>0</td>\n",
       "      <td>0</td>\n",
       "      <td>0</td>\n",
       "      <td>...</td>\n",
       "      <td>0</td>\n",
       "      <td>0</td>\n",
       "      <td>0</td>\n",
       "      <td>1</td>\n",
       "      <td>0</td>\n",
       "      <td>0</td>\n",
       "      <td>0</td>\n",
       "      <td>0</td>\n",
       "      <td>0</td>\n",
       "      <td>0</td>\n",
       "    </tr>\n",
       "    <tr>\n",
       "      <td>3</td>\n",
       "      <td>312</td>\n",
       "      <td>19616361638</td>\n",
       "      <td>3.12</td>\n",
       "      <td>0</td>\n",
       "      <td>22.0</td>\n",
       "      <td>0</td>\n",
       "      <td>0</td>\n",
       "      <td>0</td>\n",
       "      <td>0</td>\n",
       "      <td>0</td>\n",
       "      <td>...</td>\n",
       "      <td>0</td>\n",
       "      <td>0</td>\n",
       "      <td>0</td>\n",
       "      <td>1</td>\n",
       "      <td>0</td>\n",
       "      <td>0</td>\n",
       "      <td>0</td>\n",
       "      <td>0</td>\n",
       "      <td>0</td>\n",
       "      <td>0</td>\n",
       "    </tr>\n",
       "    <tr>\n",
       "      <td>4</td>\n",
       "      <td>300</td>\n",
       "      <td>19616361638</td>\n",
       "      <td>3.00</td>\n",
       "      <td>0</td>\n",
       "      <td>22.0</td>\n",
       "      <td>0</td>\n",
       "      <td>0</td>\n",
       "      <td>0</td>\n",
       "      <td>0</td>\n",
       "      <td>0</td>\n",
       "      <td>...</td>\n",
       "      <td>0</td>\n",
       "      <td>0</td>\n",
       "      <td>0</td>\n",
       "      <td>1</td>\n",
       "      <td>0</td>\n",
       "      <td>0</td>\n",
       "      <td>0</td>\n",
       "      <td>0</td>\n",
       "      <td>0</td>\n",
       "      <td>0</td>\n",
       "    </tr>\n",
       "  </tbody>\n",
       "</table>\n",
       "<p>5 rows × 144 columns</p>\n",
       "</div>"
      ],
      "text/plain": [
       "   score  employee_id  risk_factor  classification  tenure  \\\n",
       "0    174  19616361638         1.74               0    22.0   \n",
       "1    171  19616361638         1.71               0    22.0   \n",
       "2    321  19616361638         3.21               0    22.0   \n",
       "3    312  19616361638         3.12               0    22.0   \n",
       "4    300  19616361638         3.00               0    22.0   \n",
       "\n",
       "   owner_name_Analyst_1  owner_name_Analyst_3  owner_name_Analyst_4  \\\n",
       "0                     0                     0                     0   \n",
       "1                     0                     0                     0   \n",
       "2                     0                     0                     0   \n",
       "3                     0                     0                     0   \n",
       "4                     0                     0                     0   \n",
       "\n",
       "   owner_name_Analyst_6  owner_name_Analyst_7  ...  \\\n",
       "0                     0                     0  ...   \n",
       "1                     0                     0  ...   \n",
       "2                     0                     0  ...   \n",
       "3                     0                     0  ...   \n",
       "4                     0                     0  ...   \n",
       "\n",
       "   job_function_JOB_FUNCTION_8  career_band_CAREER_BAND_1  \\\n",
       "0                            0                          0   \n",
       "1                            0                          0   \n",
       "2                            0                          0   \n",
       "3                            0                          0   \n",
       "4                            0                          0   \n",
       "\n",
       "   career_band_CAREER_BAND_10  career_band_CAREER_BAND_2  \\\n",
       "0                           0                          1   \n",
       "1                           0                          1   \n",
       "2                           0                          1   \n",
       "3                           0                          1   \n",
       "4                           0                          1   \n",
       "\n",
       "   career_band_CAREER_BAND_3  career_band_CAREER_BAND_4  \\\n",
       "0                          0                          0   \n",
       "1                          0                          0   \n",
       "2                          0                          0   \n",
       "3                          0                          0   \n",
       "4                          0                          0   \n",
       "\n",
       "   career_band_CAREER_BAND_5  career_band_CAREER_BAND_6  \\\n",
       "0                          0                          0   \n",
       "1                          0                          0   \n",
       "2                          0                          0   \n",
       "3                          0                          0   \n",
       "4                          0                          0   \n",
       "\n",
       "   career_band_CAREER_BAND_7  career_band_CAREER_BAND_8  \n",
       "0                          0                          0  \n",
       "1                          0                          0  \n",
       "2                          0                          0  \n",
       "3                          0                          0  \n",
       "4                          0                          0  \n",
       "\n",
       "[5 rows x 144 columns]"
      ]
     },
     "execution_count": 101,
     "metadata": {},
     "output_type": "execute_result"
    }
   ],
   "source": [
    "tpHighDf.head()"
   ]
  },
  {
   "cell_type": "code",
   "execution_count": 102,
   "metadata": {},
   "outputs": [
    {
     "name": "stdout",
     "output_type": "stream",
     "text": [
      "0    0\n",
      "1    0\n",
      "2    0\n",
      "3    0\n",
      "4    0\n",
      "Name: classification, dtype: int64\n",
      "Int64Index([0, 1], dtype='int64')\n"
     ]
    }
   ],
   "source": [
    "#Creating the dependent variable class (factorization)\n",
    "factor = pd.factorize(tpHighDf['classification'])\n",
    "tpHighDf.classification = factor[0]\n",
    "definitions = factor[1]\n",
    "print(tpHighDf.classification.head())\n",
    "print(definitions)"
   ]
  },
  {
   "cell_type": "code",
   "execution_count": 103,
   "metadata": {},
   "outputs": [],
   "source": [
    "X=tpHighDf.iloc[:, np.r_[0, 2, 4:144]]\n",
    "Y=tpHighDf.iloc[:, 3]"
   ]
  },
  {
   "cell_type": "code",
   "execution_count": 104,
   "metadata": {},
   "outputs": [],
   "source": [
    "# Creating the Training and Test set from data\n",
    "X_train, X_test, y_train, y_test = train_test_split(X, Y, test_size = 0.28, random_state = 21)"
   ]
  },
  {
   "cell_type": "code",
   "execution_count": 105,
   "metadata": {},
   "outputs": [],
   "source": [
    "# Feature Scaling\n",
    "scaler = StandardScaler()\n",
    "X_train = scaler.fit_transform(X_train)\n",
    "X_test = scaler.transform(X_test)"
   ]
  },
  {
   "cell_type": "code",
   "execution_count": 106,
   "metadata": {},
   "outputs": [],
   "source": [
    "sampler = RandomOverSampler(random_state=0)\n",
    "\n",
    "X_rs, y_rs = sampler.fit_sample(X_train, y_train)"
   ]
  },
  {
   "cell_type": "code",
   "execution_count": 107,
   "metadata": {},
   "outputs": [
    {
     "data": {
      "text/plain": [
       "RandomForestClassifier(bootstrap=True, ccp_alpha=0.0, class_weight=None,\n",
       "                       criterion='entropy', max_depth=None, max_features='auto',\n",
       "                       max_leaf_nodes=None, max_samples=None,\n",
       "                       min_impurity_decrease=0.0, min_impurity_split=None,\n",
       "                       min_samples_leaf=1, min_samples_split=2,\n",
       "                       min_weight_fraction_leaf=0.0, n_estimators=10,\n",
       "                       n_jobs=None, oob_score=False, random_state=42, verbose=0,\n",
       "                       warm_start=False)"
      ]
     },
     "execution_count": 107,
     "metadata": {},
     "output_type": "execute_result"
    }
   ],
   "source": [
    "# Fitting Random Forest Classification to the Training set\n",
    "classifier = RandomForestClassifier(n_estimators = 10, criterion = 'entropy', random_state = 42)\n",
    "classifier.fit(X_rs, y_rs)"
   ]
  },
  {
   "cell_type": "code",
   "execution_count": 108,
   "metadata": {},
   "outputs": [],
   "source": [
    "# Predicting the Test set results\n",
    "y_pred = classifier.predict(X_test)\n"
   ]
  },
  {
   "cell_type": "code",
   "execution_count": 109,
   "metadata": {},
   "outputs": [
    {
     "data": {
      "text/plain": [
       "array([0, 0, 0, ..., 0, 0, 0])"
      ]
     },
     "execution_count": 109,
     "metadata": {},
     "output_type": "execute_result"
    }
   ],
   "source": [
    "y_pred"
   ]
  },
  {
   "cell_type": "code",
   "execution_count": 110,
   "metadata": {},
   "outputs": [],
   "source": [
    "#Reverse factorize (converting y_pred from 0s,1s and 2s to Iris-setosa, Iris-versicolor and Iris-virginica\n",
    "reversefactor = dict(zip(range(4),definitions))\n"
   ]
  },
  {
   "cell_type": "code",
   "execution_count": 111,
   "metadata": {},
   "outputs": [],
   "source": [
    "y_test = np.vectorize(reversefactor.get)(y_test)\n"
   ]
  },
  {
   "cell_type": "code",
   "execution_count": 112,
   "metadata": {},
   "outputs": [
    {
     "name": "stdout",
     "output_type": "stream",
     "text": [
      "Random Forest for High Risk\n",
      "Predicted Observation     0    1\n",
      "Actual Observation              \n",
      "0                      9291  141\n",
      "1                        90  984\n",
      "              precision    recall  f1-score   support\n",
      "\n",
      "           0       0.99      0.99      0.99      9432\n",
      "           1       0.87      0.92      0.89      1074\n",
      "\n",
      "    accuracy                           0.98     10506\n",
      "   macro avg       0.93      0.95      0.94     10506\n",
      "weighted avg       0.98      0.98      0.98     10506\n",
      "\n",
      "\n",
      "Accuracy: 0.9780125642490006\n"
     ]
    }
   ],
   "source": [
    "y_pred = np.vectorize(reversefactor.get)(y_pred)\n",
    "# Making the Confusion Matrix\n",
    "print(\"Random Forest for High Risk\", sep=('\\n'))\n",
    "print(pd.crosstab(y_test, y_pred, rownames=['Actual Observation'], colnames=['Predicted Observation']))\n",
    "from sklearn.metrics import classification_report\n",
    "print(classification_report(y_test, y_pred))\n",
    "print(\"\")\n",
    "print(\"Accuracy:\", metrics.accuracy_score(y_test, y_pred))"
   ]
  },
  {
   "cell_type": "code",
   "execution_count": 113,
   "metadata": {},
   "outputs": [
    {
     "name": "stdout",
     "output_type": "stream",
     "text": [
      "Accuracy: 0.9780125642490006\n"
     ]
    }
   ],
   "source": [
    "print(\"Accuracy:\", metrics.accuracy_score(y_test, y_pred))"
   ]
  },
  {
   "cell_type": "code",
   "execution_count": 114,
   "metadata": {},
   "outputs": [
    {
     "name": "stdout",
     "output_type": "stream",
     "text": [
      "              precision    recall  f1-score   support\n",
      "\n",
      "           0       0.99      0.99      0.99      9432\n",
      "           1       0.87      0.92      0.89      1074\n",
      "\n",
      "    accuracy                           0.98     10506\n",
      "   macro avg       0.93      0.95      0.94     10506\n",
      "weighted avg       0.98      0.98      0.98     10506\n",
      "\n"
     ]
    }
   ],
   "source": [
    "from sklearn.metrics import classification_report\n",
    "print(classification_report(y_test, y_pred))"
   ]
  },
  {
   "cell_type": "code",
   "execution_count": 115,
   "metadata": {},
   "outputs": [],
   "source": [
    "# Import the classifiers\n",
    "from sklearn.tree import DecisionTreeClassifier\n",
    "from sklearn.ensemble import RandomForestClassifier\n",
    "\n",
    "from sklearn.metrics import roc_curve, roc_auc_score\n",
    "\n",
    "# Instantiate the classfiers and make a list\n",
    "classifiers = [DecisionTreeClassifier(random_state=1234),\n",
    "               RandomForestClassifier(random_state=1234)]\n",
    "\n",
    "# Define a result table as a DataFrame\n",
    "result_table = pd.DataFrame(columns=['classifiers', 'fpr','tpr','auc'])\n",
    "\n",
    "# Train the models and record the results\n",
    "for cls in classifiers:\n",
    "    model = cls.fit(X_train, y_train)\n",
    "    yproba = model.predict_proba(X_test)[::,1]\n",
    "    \n",
    "    fpr, tpr, _ = roc_curve(y_test,  yproba)\n",
    "    auc = roc_auc_score(y_test, yproba)\n",
    "    \n",
    "    result_table = result_table.append({'classifiers':cls.__class__.__name__,\n",
    "                                        'fpr':fpr, \n",
    "                                        'tpr':tpr, \n",
    "                                        'auc':auc}, ignore_index=True)\n",
    "\n",
    "# Set name of the classifiers as index labels\n",
    "result_table.set_index('classifiers', inplace=True)"
   ]
  },
  {
   "cell_type": "code",
   "execution_count": 116,
   "metadata": {},
   "outputs": [
    {
     "data": {
      "image/png": "[encoded data removed]",
      "text/plain": [
       "<Figure size 576x432 with 1 Axes>"
      ]
     },
     "metadata": {
      "needs_background": "light"
     },
     "output_type": "display_data"
    }
   ],
   "source": [
    "fig = plt.figure(figsize=(8,6))\n",
    "\n",
    "for i in result_table.index:\n",
    "    plt.plot(result_table.loc[i]['fpr'], \n",
    "             result_table.loc[i]['tpr'], \n",
    "             label=\"{}, AUC={:.3f}\".format(i, result_table.loc[i]['auc']))\n",
    "    \n",
    "plt.plot([0,1], [0,1], color='orange', linestyle='--')\n",
    "\n",
    "plt.xticks(np.arange(0.0, 1.1, step=0.1))\n",
    "plt.xlabel(\"Flase Positive Rate\", fontsize=15)\n",
    "\n",
    "plt.yticks(np.arange(0.0, 1.1, step=0.1))\n",
    "plt.ylabel(\"True Positive Rate\", fontsize=15)\n",
    "\n",
    "plt.title('ROC Curve Analysis', fontweight='bold', fontsize=15)\n",
    "plt.legend(prop={'size':13}, loc='lower right')\n",
    "\n",
    "plt.show()"
   ]
  },
  {
   "cell_type": "code",
   "execution_count": 117,
   "metadata": {},
   "outputs": [],
   "source": [
    "#TP/HIGH and TP/LOW 1 and rest 0 #DT"
   ]
  },
  {
   "cell_type": "code",
   "execution_count": 118,
   "metadata": {},
   "outputs": [],
   "source": [
    "tpHighNewDf=newdata_rf_dummy.copy()"
   ]
  },
  {
   "cell_type": "code",
   "execution_count": 119,
   "metadata": {},
   "outputs": [
    {
     "data": {
      "text/plain": [
       "array([0, 1, 2, 3])"
      ]
     },
     "execution_count": 119,
     "metadata": {},
     "output_type": "execute_result"
    }
   ],
   "source": [
    "tpHighNewDf['classification'].unique()"
   ]
  },
  {
   "cell_type": "code",
   "execution_count": 120,
   "metadata": {},
   "outputs": [],
   "source": [
    "tpHighNewDf['classification'].replace({0:0, 1:0, 2:1, 3:1}, inplace=True)"
   ]
  },
  {
   "cell_type": "code",
   "execution_count": 121,
   "metadata": {},
   "outputs": [
    {
     "data": {
      "text/plain": [
       "0    32357\n",
       "1     5162\n",
       "Name: classification, dtype: int64"
      ]
     },
     "execution_count": 121,
     "metadata": {},
     "output_type": "execute_result"
    }
   ],
   "source": [
    "tpHighNewDf['classification'].value_counts()"
   ]
  },
  {
   "cell_type": "code",
   "execution_count": 122,
   "metadata": {},
   "outputs": [],
   "source": [
    "X=tpHighNewDf.iloc[:, np.r_[0, 2, 4:144]]\n",
    "Y=tpHighNewDf.iloc[:, 3]"
   ]
  },
  {
   "cell_type": "code",
   "execution_count": 123,
   "metadata": {},
   "outputs": [],
   "source": [
    "X_train, X_test, y_train, y_test = train_test_split(X, Y, test_size=0.28, random_state=1)"
   ]
  },
  {
   "cell_type": "code",
   "execution_count": 124,
   "metadata": {},
   "outputs": [],
   "source": [
    "sampler = RandomOverSampler(random_state=0)\n",
    "\n",
    "X_rs, y_rs = sampler.fit_sample(X_train, y_train)"
   ]
  },
  {
   "cell_type": "code",
   "execution_count": 125,
   "metadata": {},
   "outputs": [],
   "source": [
    "clf=DecisionTreeClassifier()"
   ]
  },
  {
   "cell_type": "code",
   "execution_count": 126,
   "metadata": {},
   "outputs": [],
   "source": [
    "clf=clf.fit(X_rs, y_rs)"
   ]
  },
  {
   "cell_type": "code",
   "execution_count": 127,
   "metadata": {},
   "outputs": [],
   "source": [
    "y_pred=clf.predict(X_test)"
   ]
  },
  {
   "cell_type": "code",
   "execution_count": 128,
   "metadata": {},
   "outputs": [
    {
     "name": "stdout",
     "output_type": "stream",
     "text": [
      "Accuracy: 0.933466590519703\n"
     ]
    }
   ],
   "source": [
    "print(\"Accuracy:\", metrics.accuracy_score(y_test, y_pred))"
   ]
  },
  {
   "cell_type": "code",
   "execution_count": 129,
   "metadata": {},
   "outputs": [
    {
     "name": "stdout",
     "output_type": "stream",
     "text": [
      "Decision Tree for Notable Risk\n",
      "Predicted Observation     0     1\n",
      "Actual Observation               \n",
      "0                      8630   414\n",
      "1                       285  1177\n",
      "              precision    recall  f1-score   support\n",
      "\n",
      "           0       0.97      0.95      0.96      9044\n",
      "           1       0.74      0.81      0.77      1462\n",
      "\n",
      "    accuracy                           0.93     10506\n",
      "   macro avg       0.85      0.88      0.87     10506\n",
      "weighted avg       0.94      0.93      0.93     10506\n",
      "\n",
      "\n",
      "Accuracy: 0.933466590519703\n"
     ]
    }
   ],
   "source": [
    "print(\"Decision Tree for Notable Risk\", sep=('\\n'))\n",
    "print(pd.crosstab(y_test, y_pred, rownames=['Actual Observation'], colnames=['Predicted Observation']))\n",
    "\n",
    "from sklearn.metrics import classification_report\n",
    "print(classification_report(y_test, y_pred))\n",
    "print(\"\")\n",
    "print(\"Accuracy:\", metrics.accuracy_score(y_test, y_pred))"
   ]
  },
  {
   "cell_type": "code",
   "execution_count": 130,
   "metadata": {},
   "outputs": [
    {
     "name": "stdout",
     "output_type": "stream",
     "text": [
      "0    0\n",
      "1    0\n",
      "2    0\n",
      "3    0\n",
      "4    0\n",
      "Name: classification, dtype: int64\n",
      "Int64Index([0, 1], dtype='int64')\n"
     ]
    }
   ],
   "source": [
    "#RB \n",
    "#Creating the dependent variable class\n",
    "factor = pd.factorize(tpHighNewDf['classification'])\n",
    "tpHighNewDf.classification = factor[0]\n",
    "definitions = factor[1]\n",
    "print(tpHighNewDf.classification.head())\n",
    "print(definitions)"
   ]
  },
  {
   "cell_type": "code",
   "execution_count": 131,
   "metadata": {},
   "outputs": [],
   "source": [
    "X=tpHighNewDf.iloc[:, np.r_[0, 2, 4:144]]\n",
    "Y=tpHighNewDf.iloc[:, 3]"
   ]
  },
  {
   "cell_type": "code",
   "execution_count": 132,
   "metadata": {},
   "outputs": [],
   "source": [
    "X_train, X_test, y_train, y_test = train_test_split(X, Y, test_size=0.28, random_state=21)"
   ]
  },
  {
   "cell_type": "code",
   "execution_count": 133,
   "metadata": {},
   "outputs": [],
   "source": [
    "# Feature Scaling\n",
    "scaler = StandardScaler()\n",
    "X_train = scaler.fit_transform(X_train)\n",
    "X_test = scaler.transform(X_test)"
   ]
  },
  {
   "cell_type": "code",
   "execution_count": 134,
   "metadata": {},
   "outputs": [],
   "source": [
    "sampler = RandomOverSampler(random_state=0)\n",
    "\n",
    "X_rs, y_rs = sampler.fit_sample(X_train, y_train)"
   ]
  },
  {
   "cell_type": "code",
   "execution_count": 135,
   "metadata": {},
   "outputs": [
    {
     "data": {
      "text/plain": [
       "RandomForestClassifier(bootstrap=True, ccp_alpha=0.0, class_weight=None,\n",
       "                       criterion='entropy', max_depth=None, max_features='auto',\n",
       "                       max_leaf_nodes=None, max_samples=None,\n",
       "                       min_impurity_decrease=0.0, min_impurity_split=None,\n",
       "                       min_samples_leaf=1, min_samples_split=2,\n",
       "                       min_weight_fraction_leaf=0.0, n_estimators=10,\n",
       "                       n_jobs=None, oob_score=False, random_state=42, verbose=0,\n",
       "                       warm_start=False)"
      ]
     },
     "execution_count": 135,
     "metadata": {},
     "output_type": "execute_result"
    }
   ],
   "source": [
    "# Fitting Random Forest Classification to the Training set\n",
    "classifier = RandomForestClassifier(n_estimators = 10, criterion = 'entropy', random_state = 42)\n",
    "classifier.fit(X_rs, y_rs)"
   ]
  },
  {
   "cell_type": "code",
   "execution_count": 136,
   "metadata": {},
   "outputs": [],
   "source": [
    "# Predicting the Test set results\n",
    "y_pred = classifier.predict(X_test)\n"
   ]
  },
  {
   "cell_type": "code",
   "execution_count": 137,
   "metadata": {},
   "outputs": [
    {
     "name": "stdout",
     "output_type": "stream",
     "text": [
      "Random Forest for Notable Risk\n",
      "Predicted Observation     0     1\n",
      "Actual Observation               \n",
      "0                      8565   477\n",
      "1                       273  1191\n",
      "              precision    recall  f1-score   support\n",
      "\n",
      "           0       0.97      0.95      0.96      9042\n",
      "           1       0.71      0.81      0.76      1464\n",
      "\n",
      "    accuracy                           0.93     10506\n",
      "   macro avg       0.84      0.88      0.86     10506\n",
      "weighted avg       0.93      0.93      0.93     10506\n",
      "\n",
      "\n",
      "Accuracy: 0.9286122215876642\n"
     ]
    }
   ],
   "source": [
    "print(\"Random Forest for Notable Risk\", sep=('\\n'))\n",
    "print(pd.crosstab(y_test, y_pred, rownames=['Actual Observation'], colnames=['Predicted Observation']))\n",
    "from sklearn.metrics import classification_report\n",
    "print(classification_report(y_test, y_pred))\n",
    "print(\"\")\n",
    "print(\"Accuracy:\", metrics.accuracy_score(y_test, y_pred))"
   ]
  },
  {
   "cell_type": "code",
   "execution_count": 138,
   "metadata": {},
   "outputs": [
    {
     "name": "stdout",
     "output_type": "stream",
     "text": [
      "Accuracy: 0.9286122215876642\n"
     ]
    }
   ],
   "source": [
    "print(\"Accuracy:\", metrics.accuracy_score(y_test, y_pred))"
   ]
  },
  {
   "cell_type": "code",
   "execution_count": 139,
   "metadata": {},
   "outputs": [
    {
     "name": "stdout",
     "output_type": "stream",
     "text": [
      "              precision    recall  f1-score   support\n",
      "\n",
      "           0       0.97      0.95      0.96      9042\n",
      "           1       0.71      0.81      0.76      1464\n",
      "\n",
      "    accuracy                           0.93     10506\n",
      "   macro avg       0.84      0.88      0.86     10506\n",
      "weighted avg       0.93      0.93      0.93     10506\n",
      "\n"
     ]
    }
   ],
   "source": [
    "from sklearn.metrics import classification_report\n",
    "print(classification_report(y_test, y_pred))"
   ]
  },
  {
   "cell_type": "code",
   "execution_count": 140,
   "metadata": {},
   "outputs": [
    {
     "data": {
      "text/plain": [
       "(10506,)"
      ]
     },
     "execution_count": 140,
     "metadata": {},
     "output_type": "execute_result"
    }
   ],
   "source": [
    "y_test.shape"
   ]
  },
  {
   "cell_type": "code",
   "execution_count": 141,
   "metadata": {},
   "outputs": [
    {
     "data": {
      "text/plain": [
       "(10506,)"
      ]
     },
     "execution_count": 141,
     "metadata": {},
     "output_type": "execute_result"
    }
   ],
   "source": [
    "y_pred.shape"
   ]
  },
  {
   "cell_type": "code",
   "execution_count": null,
   "metadata": {},
   "outputs": [],
   "source": []
  },
  {
   "cell_type": "code",
   "execution_count": 212,
   "metadata": {},
   "outputs": [],
   "source": [
    "#TP/HIGH and TP/LOW are 0 and rest are set to 1"
   ]
  },
  {
   "cell_type": "code",
   "execution_count": 142,
   "metadata": {},
   "outputs": [],
   "source": [
    "# Import the classifiers\n",
    "from sklearn.tree import DecisionTreeClassifier\n",
    "from sklearn.ensemble import RandomForestClassifier\n",
    "\n",
    "from sklearn.metrics import roc_curve, roc_auc_score\n",
    "\n",
    "# Instantiate the classfiers and make a list\n",
    "classifiers = [DecisionTreeClassifier(random_state=1234),\n",
    "               RandomForestClassifier(random_state=1234)]\n",
    "\n",
    "# Define a result table as a DataFrame\n",
    "result_table = pd.DataFrame(columns=['classifiers', 'fpr','tpr','auc'])\n",
    "\n",
    "# Train the models and record the results\n",
    "for cls in classifiers:\n",
    "    model = cls.fit(X_train, y_train)\n",
    "    yproba = model.predict_proba(X_test)[::,1]\n",
    "    \n",
    "    fpr, tpr, _ = roc_curve(y_test,  yproba)\n",
    "    auc = roc_auc_score(y_test, yproba)\n",
    "    \n",
    "    result_table = result_table.append({'classifiers':cls.__class__.__name__,\n",
    "                                        'fpr':fpr, \n",
    "                                        'tpr':tpr, \n",
    "                                        'auc':auc}, ignore_index=True)\n",
    "\n",
    "# Set name of the classifiers as index labels\n",
    "result_table.set_index('classifiers', inplace=True)"
   ]
  },
  {
   "cell_type": "code",
   "execution_count": 143,
   "metadata": {},
   "outputs": [
    {
     "data": {
      "image/png": "[encoded data removed]",
      "text/plain": [
       "<Figure size 576x432 with 1 Axes>"
      ]
     },
     "metadata": {
      "needs_background": "light"
     },
     "output_type": "display_data"
    }
   ],
   "source": [
    "fig = plt.figure(figsize=(8,6))\n",
    "\n",
    "for i in result_table.index:\n",
    "    plt.plot(result_table.loc[i]['fpr'], \n",
    "             result_table.loc[i]['tpr'], \n",
    "             label=\"{}, AUC={:.3f}\".format(i, result_table.loc[i]['auc']))\n",
    "    \n",
    "plt.plot([0,1], [0,1], color='orange', linestyle='--')\n",
    "\n",
    "plt.xticks(np.arange(0.0, 1.1, step=0.1))\n",
    "plt.xlabel(\"Flase Positive Rate\", fontsize=15)\n",
    "\n",
    "plt.yticks(np.arange(0.0, 1.1, step=0.1))\n",
    "plt.ylabel(\"True Positive Rate\", fontsize=15)\n",
    "\n",
    "plt.title('ROC Curve Analysis', fontweight='bold', fontsize=15)\n",
    "plt.legend(prop={'size':13}, loc='lower right')\n",
    "\n",
    "plt.show()"
   ]
  },
  {
   "cell_type": "code",
   "execution_count": 215,
   "metadata": {},
   "outputs": [],
   "source": [
    "threshold = 0.4\n",
    "\n",
    "predicted_proba = classifier.predict_proba(X_test)\n",
    "predicted = (predicted_proba [:,1] >= threshold).astype('int')\n",
    "\n",
    "accuracy = metrics.accuracy_score(y_test, predicted)"
   ]
  },
  {
   "cell_type": "code",
   "execution_count": 216,
   "metadata": {},
   "outputs": [
    {
     "name": "stdout",
     "output_type": "stream",
     "text": [
      "Predicted Observation     0     1\n",
      "Actual Observation               \n",
      "0                      8465   577\n",
      "1                       219  1245\n",
      "              precision    recall  f1-score   support\n",
      "\n",
      "           0       0.97      0.95      0.96      9042\n",
      "           1       0.71      0.81      0.76      1464\n",
      "\n",
      "    accuracy                           0.93     10506\n",
      "   macro avg       0.84      0.88      0.86     10506\n",
      "weighted avg       0.93      0.93      0.93     10506\n",
      "\n",
      "\n",
      "Accuracy: 0.9286122215876642\n"
     ]
    }
   ],
   "source": [
    "print(pd.crosstab(y_test, predicted, rownames=['Actual Observation'], colnames=['Predicted Observation']))\n",
    "from sklearn.metrics import classification_report\n",
    "print(classification_report(y_test, y_pred))\n",
    "print(\"\")\n",
    "print(\"Accuracy:\", metrics.accuracy_score(y_test, y_pred))"
   ]
  },
  {
   "cell_type": "code",
   "execution_count": 217,
   "metadata": {},
   "outputs": [],
   "source": [
    "threshold = 0.3\n",
    "\n",
    "predicted_proba = classifier.predict_proba(X_test)\n",
    "predicted = (predicted_proba [:,1] >= threshold).astype('int')\n",
    "\n",
    "accuracy = metrics.accuracy_score(y_test, predicted)\n"
   ]
  },
  {
   "cell_type": "code",
   "execution_count": 218,
   "metadata": {},
   "outputs": [
    {
     "name": "stdout",
     "output_type": "stream",
     "text": [
      "Predicted Observation     0     1\n",
      "Actual Observation               \n",
      "0                      8381   661\n",
      "1                       171  1293\n",
      "              precision    recall  f1-score   support\n",
      "\n",
      "           0       0.97      0.95      0.96      9042\n",
      "           1       0.71      0.81      0.76      1464\n",
      "\n",
      "    accuracy                           0.93     10506\n",
      "   macro avg       0.84      0.88      0.86     10506\n",
      "weighted avg       0.93      0.93      0.93     10506\n",
      "\n",
      "\n",
      "Accuracy: 0.9286122215876642\n"
     ]
    }
   ],
   "source": [
    "print(pd.crosstab(y_test, predicted, rownames=['Actual Observation'], colnames=['Predicted Observation']))\n",
    "from sklearn.metrics import classification_report\n",
    "print(classification_report(y_test, y_pred))\n",
    "print(\"\")\n",
    "print(\"Accuracy:\", metrics.accuracy_score(y_test, y_pred))"
   ]
  },
  {
   "cell_type": "code",
   "execution_count": null,
   "metadata": {},
   "outputs": [],
   "source": []
  },
  {
   "cell_type": "code",
   "execution_count": 219,
   "metadata": {},
   "outputs": [],
   "source": [
    "#SVM"
   ]
  },
  {
   "cell_type": "code",
   "execution_count": 220,
   "metadata": {},
   "outputs": [
    {
     "name": "stdout",
     "output_type": "stream",
     "text": [
      "Requirement already satisfied: cvxopt in /Users/arvindpawar/opt/anaconda3/lib/python3.7/site-packages (1.2.4)\r\n"
     ]
    }
   ],
   "source": [
    "import sys\n",
    "!{sys.executable} -m pip install cvxopt"
   ]
  },
  {
   "cell_type": "code",
   "execution_count": 221,
   "metadata": {},
   "outputs": [
    {
     "name": "stderr",
     "output_type": "stream",
     "text": [
      "/Users/arvindpawar/opt/anaconda3/lib/python3.7/site-packages/sklearn/utils/deprecation.py:144: FutureWarning: The sklearn.datasets.samples_generator module is  deprecated in version 0.22 and will be removed in version 0.24. The corresponding classes / functions should instead be imported from sklearn.datasets. Anything that cannot be imported from sklearn.datasets is now part of the private API.\n",
      "  warnings.warn(message, FutureWarning)\n"
     ]
    }
   ],
   "source": [
    "import numpy as np\n",
    "import cvxopt\n",
    "from sklearn.datasets.samples_generator import make_blobs\n",
    "from sklearn.model_selection import train_test_split\n",
    "from matplotlib import pyplot as plt\n",
    "from sklearn.svm import LinearSVC\n",
    "from sklearn.metrics import confusion_matrix"
   ]
  },
  {
   "cell_type": "code",
   "execution_count": 222,
   "metadata": {},
   "outputs": [],
   "source": [
    "# #Creating the dependent variable class\n",
    "# factor = pd.factorize(tpHighDf['classification'])\n",
    "# tpHighDf.classification = factor[0]\n",
    "# definitions = factor[1]\n",
    "# print(tpHighDf.classification.head())\n",
    "# print(definitions)\n",
    "\n",
    "# X = tpHighDf.iloc[:, np.r_[2:80]].values\n",
    "# Y = tpHighDf.iloc[:,1].values"
   ]
  },
  {
   "cell_type": "code",
   "execution_count": 223,
   "metadata": {},
   "outputs": [
    {
     "name": "stdout",
     "output_type": "stream",
     "text": [
      "0    0\n",
      "1    0\n",
      "2    0\n",
      "3    0\n",
      "4    0\n",
      "Name: classification, dtype: int64\n",
      "Int64Index([0, 1], dtype='int64')\n"
     ]
    }
   ],
   "source": [
    "#Creating the dependent variable class\n",
    "factor = pd.factorize(tpHighNewDf['classification'])\n",
    "tpHighNewDf.classification = factor[0]\n",
    "definitions = factor[1]\n",
    "print(tpHighNewDf.classification.head())\n",
    "print(definitions)\n",
    "\n",
    "X = tpHighNewDf.iloc[:, np.r_[2:80]].values\n",
    "Y = tpHighNewDf.iloc[:,1].values"
   ]
  },
  {
   "cell_type": "code",
   "execution_count": 224,
   "metadata": {},
   "outputs": [],
   "source": [
    "X_train, X_test, y_train, y_test = train_test_split(X, Y, test_size=0.30, random_state=21)"
   ]
  },
  {
   "cell_type": "code",
   "execution_count": 225,
   "metadata": {},
   "outputs": [],
   "source": [
    "sampler = RandomOverSampler(random_state=0)\n",
    "\n",
    "X_rs, y_rs = sampler.fit_sample(X_train, y_train)"
   ]
  },
  {
   "cell_type": "code",
   "execution_count": 226,
   "metadata": {},
   "outputs": [],
   "source": [
    "svc = LinearSVC()\n"
   ]
  },
  {
   "cell_type": "code",
   "execution_count": null,
   "metadata": {},
   "outputs": [],
   "source": [
    "# print(\"Performance measures of SVM for Notable Risk\", sep=('\\n'))\n",
    "# print(pd.crosstab(y_test, predicted, rownames=['Actual Observation'], colnames=['Predicted Observation']))\n",
    "# from sklearn.metrics import classification_report\n",
    "# print(classification_report(y_test, y_pred))\n",
    "# print(\"\")\n",
    "# print(\"Accuracy:\", metrics.accuracy_score(y_test, y_pred))"
   ]
  },
  {
   "cell_type": "code",
   "execution_count": null,
   "metadata": {},
   "outputs": [],
   "source": [
    "# accuracy = metrics.accuracy_score(y_test, predicted)\n",
    "# accuracy"
   ]
  },
  {
   "cell_type": "code",
   "execution_count": null,
   "metadata": {},
   "outputs": [],
   "source": []
  },
  {
   "cell_type": "code",
   "execution_count": 144,
   "metadata": {},
   "outputs": [
    {
     "data": {
      "text/plain": [
       "RandomForestClassifier(bootstrap=True, ccp_alpha=0.0, class_weight=None,\n",
       "                       criterion='gini', max_depth=None, max_features='auto',\n",
       "                       max_leaf_nodes=None, max_samples=None,\n",
       "                       min_impurity_decrease=0.0, min_impurity_split=None,\n",
       "                       min_samples_leaf=1, min_samples_split=2,\n",
       "                       min_weight_fraction_leaf=0.0, n_estimators=100,\n",
       "                       n_jobs=None, oob_score=False, random_state=None,\n",
       "                       verbose=0, warm_start=False)"
      ]
     },
     "execution_count": 144,
     "metadata": {},
     "output_type": "execute_result"
    }
   ],
   "source": [
    "from sklearn.ensemble import RandomForestClassifier\n",
    "\n",
    "#Create a Gaussian Classifier\n",
    "clf=RandomForestClassifier(n_estimators=100)\n",
    "\n",
    "#Train the model using the training sets y_pred=clf.predict(X_test)\n",
    "clf.fit(X_train,y_train)"
   ]
  },
  {
   "cell_type": "code",
   "execution_count": 146,
   "metadata": {},
   "outputs": [],
   "source": [
    "newdataframe=tpHighNewDf.iloc[:, np.r_[0, 2, 4:144]].copy()"
   ]
  },
  {
   "cell_type": "code",
   "execution_count": 147,
   "metadata": {},
   "outputs": [
    {
     "data": {
      "text/plain": [
       "score                                        1.552357e-01\n",
       "risk_factor                                  1.408603e-01\n",
       "owner_name_Senior_Analyst_1                  1.045323e-01\n",
       "owner_name_Senior_Analyst_2                  8.075336e-02\n",
       "tenure                                       7.814932e-02\n",
       "                                                 ...     \n",
       "indicators_App_9_Heat_RDP_IND                3.226162e-07\n",
       "indicators_App_3_Heat_Email_HRO              2.519562e-07\n",
       "job_function_JOB_FUNCTION_2                  1.629955e-07\n",
       "indicators_App_1_Heat_CD_Burn_PRE_2016_Q3    9.182314e-08\n",
       "job_function_JOB_FUNCTION_4                  7.327550e-08\n",
       "Length: 142, dtype: float64"
      ]
     },
     "execution_count": 147,
     "metadata": {},
     "output_type": "execute_result"
    }
   ],
   "source": [
    "import pandas as pd\n",
    "feature_imp = pd.Series(clf.feature_importances_,index=newdataframe.columns).sort_values(ascending=False)\n",
    "feature_imp"
   ]
  },
  {
   "cell_type": "code",
   "execution_count": 148,
   "metadata": {},
   "outputs": [],
   "source": [
    "feature_imp=feature_imp.nlargest(20)"
   ]
  },
  {
   "cell_type": "code",
   "execution_count": 149,
   "metadata": {},
   "outputs": [
    {
     "name": "stderr",
     "output_type": "stream",
     "text": [
      "No handles with labels found to put in legend.\n"
     ]
    },
    {
     "data": {
      "image/png": "[encoded data removed]",
      "text/plain": [
       "<Figure size 432x288 with 1 Axes>"
      ]
     },
     "metadata": {
      "needs_background": "light"
     },
     "output_type": "display_data"
    }
   ],
   "source": [
    "import matplotlib.pyplot as plt\n",
    "import seaborn as sns\n",
    "%matplotlib inline\n",
    "# Creating a bar plot\n",
    "sns.barplot(x=feature_imp, y=feature_imp.index)\n",
    "# Add labels to your graph\n",
    "plt.xlabel('Feature Importance Score')\n",
    "plt.ylabel('Features')\n",
    "plt.title(\"Visualizing Important Features\")\n",
    "plt.legend()\n",
    "plt.show()"
   ]
  },
  {
   "cell_type": "code",
   "execution_count": null,
   "metadata": {},
   "outputs": [],
   "source": []
  },
  {
   "cell_type": "code",
   "execution_count": 150,
   "metadata": {},
   "outputs": [],
   "source": [
    "#Gradient Boosting\n",
    "\n",
    "import pandas as pd\n",
    "from sklearn.preprocessing import MinMaxScaler\n",
    "from sklearn.model_selection import train_test_split\n",
    "from sklearn.metrics import classification_report, confusion_matrix\n",
    "from sklearn.ensemble import GradientBoostingClassifier"
   ]
  },
  {
   "cell_type": "code",
   "execution_count": 151,
   "metadata": {},
   "outputs": [
    {
     "data": {
      "text/html": [
       "<div>\n",
       "<style scoped>\n",
       "    .dataframe tbody tr th:only-of-type {\n",
       "        vertical-align: middle;\n",
       "    }\n",
       "\n",
       "    .dataframe tbody tr th {\n",
       "        vertical-align: top;\n",
       "    }\n",
       "\n",
       "    .dataframe thead th {\n",
       "        text-align: right;\n",
       "    }\n",
       "</style>\n",
       "<table border=\"1\" class=\"dataframe\">\n",
       "  <thead>\n",
       "    <tr style=\"text-align: right;\">\n",
       "      <th></th>\n",
       "      <th>score</th>\n",
       "      <th>employee_id</th>\n",
       "      <th>risk_factor</th>\n",
       "      <th>classification</th>\n",
       "      <th>tenure</th>\n",
       "      <th>owner_name_Analyst_1</th>\n",
       "      <th>owner_name_Analyst_3</th>\n",
       "      <th>owner_name_Analyst_4</th>\n",
       "      <th>owner_name_Analyst_6</th>\n",
       "      <th>owner_name_Analyst_7</th>\n",
       "      <th>...</th>\n",
       "      <th>job_function_JOB_FUNCTION_8</th>\n",
       "      <th>career_band_CAREER_BAND_1</th>\n",
       "      <th>career_band_CAREER_BAND_10</th>\n",
       "      <th>career_band_CAREER_BAND_2</th>\n",
       "      <th>career_band_CAREER_BAND_3</th>\n",
       "      <th>career_band_CAREER_BAND_4</th>\n",
       "      <th>career_band_CAREER_BAND_5</th>\n",
       "      <th>career_band_CAREER_BAND_6</th>\n",
       "      <th>career_band_CAREER_BAND_7</th>\n",
       "      <th>career_band_CAREER_BAND_8</th>\n",
       "    </tr>\n",
       "  </thead>\n",
       "  <tbody>\n",
       "    <tr>\n",
       "      <td>0</td>\n",
       "      <td>174</td>\n",
       "      <td>19616361638</td>\n",
       "      <td>1.74</td>\n",
       "      <td>0</td>\n",
       "      <td>22.0</td>\n",
       "      <td>0</td>\n",
       "      <td>0</td>\n",
       "      <td>0</td>\n",
       "      <td>0</td>\n",
       "      <td>0</td>\n",
       "      <td>...</td>\n",
       "      <td>0</td>\n",
       "      <td>0</td>\n",
       "      <td>0</td>\n",
       "      <td>1</td>\n",
       "      <td>0</td>\n",
       "      <td>0</td>\n",
       "      <td>0</td>\n",
       "      <td>0</td>\n",
       "      <td>0</td>\n",
       "      <td>0</td>\n",
       "    </tr>\n",
       "    <tr>\n",
       "      <td>1</td>\n",
       "      <td>171</td>\n",
       "      <td>19616361638</td>\n",
       "      <td>1.71</td>\n",
       "      <td>0</td>\n",
       "      <td>22.0</td>\n",
       "      <td>0</td>\n",
       "      <td>0</td>\n",
       "      <td>0</td>\n",
       "      <td>0</td>\n",
       "      <td>0</td>\n",
       "      <td>...</td>\n",
       "      <td>0</td>\n",
       "      <td>0</td>\n",
       "      <td>0</td>\n",
       "      <td>1</td>\n",
       "      <td>0</td>\n",
       "      <td>0</td>\n",
       "      <td>0</td>\n",
       "      <td>0</td>\n",
       "      <td>0</td>\n",
       "      <td>0</td>\n",
       "    </tr>\n",
       "    <tr>\n",
       "      <td>2</td>\n",
       "      <td>321</td>\n",
       "      <td>19616361638</td>\n",
       "      <td>3.21</td>\n",
       "      <td>0</td>\n",
       "      <td>22.0</td>\n",
       "      <td>0</td>\n",
       "      <td>0</td>\n",
       "      <td>0</td>\n",
       "      <td>0</td>\n",
       "      <td>0</td>\n",
       "      <td>...</td>\n",
       "      <td>0</td>\n",
       "      <td>0</td>\n",
       "      <td>0</td>\n",
       "      <td>1</td>\n",
       "      <td>0</td>\n",
       "      <td>0</td>\n",
       "      <td>0</td>\n",
       "      <td>0</td>\n",
       "      <td>0</td>\n",
       "      <td>0</td>\n",
       "    </tr>\n",
       "    <tr>\n",
       "      <td>3</td>\n",
       "      <td>312</td>\n",
       "      <td>19616361638</td>\n",
       "      <td>3.12</td>\n",
       "      <td>0</td>\n",
       "      <td>22.0</td>\n",
       "      <td>0</td>\n",
       "      <td>0</td>\n",
       "      <td>0</td>\n",
       "      <td>0</td>\n",
       "      <td>0</td>\n",
       "      <td>...</td>\n",
       "      <td>0</td>\n",
       "      <td>0</td>\n",
       "      <td>0</td>\n",
       "      <td>1</td>\n",
       "      <td>0</td>\n",
       "      <td>0</td>\n",
       "      <td>0</td>\n",
       "      <td>0</td>\n",
       "      <td>0</td>\n",
       "      <td>0</td>\n",
       "    </tr>\n",
       "    <tr>\n",
       "      <td>4</td>\n",
       "      <td>300</td>\n",
       "      <td>19616361638</td>\n",
       "      <td>3.00</td>\n",
       "      <td>0</td>\n",
       "      <td>22.0</td>\n",
       "      <td>0</td>\n",
       "      <td>0</td>\n",
       "      <td>0</td>\n",
       "      <td>0</td>\n",
       "      <td>0</td>\n",
       "      <td>...</td>\n",
       "      <td>0</td>\n",
       "      <td>0</td>\n",
       "      <td>0</td>\n",
       "      <td>1</td>\n",
       "      <td>0</td>\n",
       "      <td>0</td>\n",
       "      <td>0</td>\n",
       "      <td>0</td>\n",
       "      <td>0</td>\n",
       "      <td>0</td>\n",
       "    </tr>\n",
       "  </tbody>\n",
       "</table>\n",
       "<p>5 rows × 144 columns</p>\n",
       "</div>"
      ],
      "text/plain": [
       "   score  employee_id  risk_factor  classification  tenure  \\\n",
       "0    174  19616361638         1.74               0    22.0   \n",
       "1    171  19616361638         1.71               0    22.0   \n",
       "2    321  19616361638         3.21               0    22.0   \n",
       "3    312  19616361638         3.12               0    22.0   \n",
       "4    300  19616361638         3.00               0    22.0   \n",
       "\n",
       "   owner_name_Analyst_1  owner_name_Analyst_3  owner_name_Analyst_4  \\\n",
       "0                     0                     0                     0   \n",
       "1                     0                     0                     0   \n",
       "2                     0                     0                     0   \n",
       "3                     0                     0                     0   \n",
       "4                     0                     0                     0   \n",
       "\n",
       "   owner_name_Analyst_6  owner_name_Analyst_7  ...  \\\n",
       "0                     0                     0  ...   \n",
       "1                     0                     0  ...   \n",
       "2                     0                     0  ...   \n",
       "3                     0                     0  ...   \n",
       "4                     0                     0  ...   \n",
       "\n",
       "   job_function_JOB_FUNCTION_8  career_band_CAREER_BAND_1  \\\n",
       "0                            0                          0   \n",
       "1                            0                          0   \n",
       "2                            0                          0   \n",
       "3                            0                          0   \n",
       "4                            0                          0   \n",
       "\n",
       "   career_band_CAREER_BAND_10  career_band_CAREER_BAND_2  \\\n",
       "0                           0                          1   \n",
       "1                           0                          1   \n",
       "2                           0                          1   \n",
       "3                           0                          1   \n",
       "4                           0                          1   \n",
       "\n",
       "   career_band_CAREER_BAND_3  career_band_CAREER_BAND_4  \\\n",
       "0                          0                          0   \n",
       "1                          0                          0   \n",
       "2                          0                          0   \n",
       "3                          0                          0   \n",
       "4                          0                          0   \n",
       "\n",
       "   career_band_CAREER_BAND_5  career_band_CAREER_BAND_6  \\\n",
       "0                          0                          0   \n",
       "1                          0                          0   \n",
       "2                          0                          0   \n",
       "3                          0                          0   \n",
       "4                          0                          0   \n",
       "\n",
       "   career_band_CAREER_BAND_7  career_band_CAREER_BAND_8  \n",
       "0                          0                          0  \n",
       "1                          0                          0  \n",
       "2                          0                          0  \n",
       "3                          0                          0  \n",
       "4                          0                          0  \n",
       "\n",
       "[5 rows x 144 columns]"
      ]
     },
     "execution_count": 151,
     "metadata": {},
     "output_type": "execute_result"
    }
   ],
   "source": [
    "tpHighDf.head()"
   ]
  },
  {
   "cell_type": "code",
   "execution_count": 152,
   "metadata": {},
   "outputs": [
    {
     "data": {
      "text/plain": [
       "0    32357\n",
       "1     5162\n",
       "Name: classification, dtype: int64"
      ]
     },
     "execution_count": 152,
     "metadata": {},
     "output_type": "execute_result"
    }
   ],
   "source": [
    "tpHighNewDf['classification'].value_counts()"
   ]
  },
  {
   "cell_type": "code",
   "execution_count": 153,
   "metadata": {},
   "outputs": [
    {
     "name": "stdout",
     "output_type": "stream",
     "text": [
      "0    0\n",
      "1    0\n",
      "2    0\n",
      "3    0\n",
      "4    0\n",
      "Name: classification, dtype: int64\n",
      "Int64Index([0, 1], dtype='int64')\n"
     ]
    }
   ],
   "source": [
    "#Creating the dependent variable class\n",
    "factor = pd.factorize(tpHighDf['classification'])\n",
    "tpHighDf.classification = factor[0]\n",
    "definitions = factor[1]\n",
    "print(tpHighDf.classification.head())\n",
    "print(definitions)\n",
    "\n",
    "X=tpHighDf.iloc[:, np.r_[0, 2, 4:144]]\n",
    "Y=tpHighDf.iloc[:, 3]"
   ]
  },
  {
   "cell_type": "code",
   "execution_count": 154,
   "metadata": {},
   "outputs": [],
   "source": [
    "# #Creating the dependent variable class\n",
    "# factor = pd.factorize(tpHighNewDf['classification'])\n",
    "# tpHighNewDf.classification = factor[0]\n",
    "# definitions = factor[1]\n",
    "# print(tpHighNewDf.classification.head())\n",
    "# print(definitions)\n",
    "\n",
    "# X=tpHighNewDf.iloc[:, np.r_[0, 2, 4:144]]\n",
    "# Y=tpHighNewDf.iloc[:, 3]\n"
   ]
  },
  {
   "cell_type": "code",
   "execution_count": 155,
   "metadata": {},
   "outputs": [
    {
     "name": "stdout",
     "output_type": "stream",
     "text": [
      "(37519, 142)\n",
      "(37519,)\n"
     ]
    }
   ],
   "source": [
    "print(X.shape)\n",
    "\n",
    "print(Y.shape)"
   ]
  },
  {
   "cell_type": "code",
   "execution_count": 156,
   "metadata": {},
   "outputs": [
    {
     "name": "stdout",
     "output_type": "stream",
     "text": [
      "Requirement already satisfied: imblearn in /Users/arvindpawar/opt/anaconda3/lib/python3.7/site-packages (0.0)\r\n",
      "Requirement already satisfied: imbalanced-learn in /Users/arvindpawar/opt/anaconda3/lib/python3.7/site-packages (from imblearn) (0.6.2)\r\n",
      "Requirement already satisfied: joblib>=0.11 in /Users/arvindpawar/opt/anaconda3/lib/python3.7/site-packages (from imbalanced-learn->imblearn) (0.13.2)\r\n",
      "Requirement already satisfied: scikit-learn>=0.22 in /Users/arvindpawar/opt/anaconda3/lib/python3.7/site-packages (from imbalanced-learn->imblearn) (0.22.2.post1)\r\n",
      "Requirement already satisfied: numpy>=1.11 in /Users/arvindpawar/opt/anaconda3/lib/python3.7/site-packages (from imbalanced-learn->imblearn) (1.17.2)\r\n",
      "Requirement already satisfied: scipy>=0.17 in /Users/arvindpawar/opt/anaconda3/lib/python3.7/site-packages (from imbalanced-learn->imblearn) (1.4.1)\r\n"
     ]
    }
   ],
   "source": [
    "import sys\n",
    "!{sys.executable} -m pip install imblearn"
   ]
  },
  {
   "cell_type": "code",
   "execution_count": 157,
   "metadata": {},
   "outputs": [],
   "source": [
    "from imblearn.over_sampling import (RandomOverSampler)"
   ]
  },
  {
   "cell_type": "code",
   "execution_count": 158,
   "metadata": {},
   "outputs": [],
   "source": [
    "import scipy"
   ]
  },
  {
   "cell_type": "code",
   "execution_count": null,
   "metadata": {},
   "outputs": [],
   "source": []
  },
  {
   "cell_type": "code",
   "execution_count": 163,
   "metadata": {},
   "outputs": [],
   "source": [
    "X_train, X_test, y_train, y_test = train_test_split(X, Y, test_size=0.28)"
   ]
  },
  {
   "cell_type": "code",
   "execution_count": 164,
   "metadata": {},
   "outputs": [],
   "source": [
    "sampler = RandomOverSampler(random_state=0)\n",
    "\n",
    "X_rs, y_rs = sampler.fit_sample(X_train, y_train)"
   ]
  },
  {
   "cell_type": "code",
   "execution_count": 165,
   "metadata": {},
   "outputs": [],
   "source": [
    "model=GradientBoostingClassifier()"
   ]
  },
  {
   "cell_type": "code",
   "execution_count": 166,
   "metadata": {},
   "outputs": [
    {
     "data": {
      "text/plain": [
       "0        0\n",
       "1        0\n",
       "2        0\n",
       "3        0\n",
       "4        0\n",
       "        ..\n",
       "16377    0\n",
       "16377    0\n",
       "16378    0\n",
       "16378    0\n",
       "16378    0\n",
       "Name: classification, Length: 37519, dtype: int64"
      ]
     },
     "execution_count": 166,
     "metadata": {},
     "output_type": "execute_result"
    }
   ],
   "source": [
    "Y"
   ]
  },
  {
   "cell_type": "code",
   "execution_count": 167,
   "metadata": {},
   "outputs": [
    {
     "data": {
      "text/plain": [
       "GradientBoostingClassifier(ccp_alpha=0.0, criterion='friedman_mse', init=None,\n",
       "                           learning_rate=0.1, loss='deviance', max_depth=3,\n",
       "                           max_features=None, max_leaf_nodes=None,\n",
       "                           min_impurity_decrease=0.0, min_impurity_split=None,\n",
       "                           min_samples_leaf=1, min_samples_split=2,\n",
       "                           min_weight_fraction_leaf=0.0, n_estimators=100,\n",
       "                           n_iter_no_change=None, presort='deprecated',\n",
       "                           random_state=None, subsample=1.0, tol=0.0001,\n",
       "                           validation_fraction=0.1, verbose=0,\n",
       "                           warm_start=False)"
      ]
     },
     "execution_count": 167,
     "metadata": {},
     "output_type": "execute_result"
    }
   ],
   "source": [
    "model.fit(X_rs, y_rs)"
   ]
  },
  {
   "cell_type": "code",
   "execution_count": null,
   "metadata": {},
   "outputs": [],
   "source": []
  },
  {
   "cell_type": "code",
   "execution_count": 168,
   "metadata": {},
   "outputs": [],
   "source": [
    "y_pred=model.predict(X_test)"
   ]
  },
  {
   "cell_type": "code",
   "execution_count": 169,
   "metadata": {},
   "outputs": [
    {
     "name": "stdout",
     "output_type": "stream",
     "text": [
      "[[8753  718]\n",
      " [  14 1021]]\n"
     ]
    }
   ],
   "source": [
    "print(confusion_matrix(y_test, y_pred))"
   ]
  },
  {
   "cell_type": "code",
   "execution_count": 170,
   "metadata": {},
   "outputs": [
    {
     "name": "stdout",
     "output_type": "stream",
     "text": [
      "Gradient Boosting for Notable Risk\n",
      "Predicted Observation     0     1\n",
      "Actual Observation               \n",
      "0                      8753   718\n",
      "1                        14  1021\n",
      "              precision    recall  f1-score   support\n",
      "\n",
      "           0       1.00      0.92      0.96      9471\n",
      "           1       0.59      0.99      0.74      1035\n",
      "\n",
      "    accuracy                           0.93     10506\n",
      "   macro avg       0.79      0.96      0.85     10506\n",
      "weighted avg       0.96      0.93      0.94     10506\n",
      "\n",
      "\n",
      "Accuracy: 0.9303255282695603\n"
     ]
    }
   ],
   "source": [
    "print(\"Gradient Boosting for Notable Risk\", sep=('\\n'))\n",
    "print(pd.crosstab(y_test, y_pred, rownames=['Actual Observation'], \n",
    "                  colnames=['Predicted Observation']))\n",
    "\n",
    "from sklearn.metrics import classification_report\n",
    "print(classification_report(y_test, y_pred))\n",
    "print(\"\")\n",
    "print(\"Accuracy:\", metrics.accuracy_score(y_test, y_pred))"
   ]
  },
  {
   "cell_type": "code",
   "execution_count": 171,
   "metadata": {},
   "outputs": [
    {
     "data": {
      "text/plain": [
       "0.9553315307291977"
      ]
     },
     "execution_count": 171,
     "metadata": {},
     "output_type": "execute_result"
    }
   ],
   "source": [
    "from sklearn.metrics import roc_curve, auc\n",
    "false_positive_rate, true_positive_rate, thresholds = roc_curve(y_test, y_pred)\n",
    "roc_auc = auc(false_positive_rate, true_positive_rate)\n",
    "roc_auc"
   ]
  },
  {
   "cell_type": "code",
   "execution_count": 172,
   "metadata": {},
   "outputs": [
    {
     "name": "stdout",
     "output_type": "stream",
     "text": [
      "Accuracy: 0.9303255282695603\n"
     ]
    }
   ],
   "source": [
    "print(\"Accuracy:\", metrics.accuracy_score(y_test, y_pred))"
   ]
  },
  {
   "cell_type": "code",
   "execution_count": 173,
   "metadata": {},
   "outputs": [
    {
     "name": "stdout",
     "output_type": "stream",
     "text": [
      "              precision    recall  f1-score   support\n",
      "\n",
      "           0       1.00      0.92      0.96      9471\n",
      "           1       0.59      0.99      0.74      1035\n",
      "\n",
      "    accuracy                           0.93     10506\n",
      "   macro avg       0.79      0.96      0.85     10506\n",
      "weighted avg       0.96      0.93      0.94     10506\n",
      "\n"
     ]
    }
   ],
   "source": [
    "from sklearn.metrics import classification_report\n",
    "print(classification_report(y_test, y_pred))"
   ]
  },
  {
   "cell_type": "code",
   "execution_count": 174,
   "metadata": {},
   "outputs": [],
   "source": [
    "# Import the classifiers\n",
    "from sklearn.tree import DecisionTreeClassifier\n",
    "from sklearn.ensemble import RandomForestClassifier\n",
    "\n",
    "from sklearn.metrics import roc_curve, roc_auc_score\n",
    "\n",
    "# Instantiate the classfiers and make a list\n",
    "classifiers = [DecisionTreeClassifier(random_state=1234),\n",
    "               RandomForestClassifier(random_state=1234),\n",
    "              GradientBoostingClassifier(random_state=1234)]\n",
    "\n",
    "# Define a result table as a DataFrame\n",
    "result_table = pd.DataFrame(columns=['classifiers', 'fpr','tpr','auc'])\n",
    "\n",
    "# Train the models and record the results\n",
    "for cls in classifiers:\n",
    "    model = cls.fit(X_train, y_train)\n",
    "    yproba = model.predict_proba(X_test)[::,1]\n",
    "    \n",
    "    fpr, tpr, _ = roc_curve(y_test,  yproba)\n",
    "    auc = roc_auc_score(y_test, yproba)\n",
    "    \n",
    "    result_table = result_table.append({'classifiers':cls.__class__.__name__,\n",
    "                                        'fpr':fpr, \n",
    "                                        'tpr':tpr, \n",
    "                                        'auc':auc}, ignore_index=True)\n",
    "\n",
    "# Set name of the classifiers as index labels\n",
    "result_table.set_index('classifiers', inplace=True)"
   ]
  },
  {
   "cell_type": "code",
   "execution_count": 175,
   "metadata": {},
   "outputs": [
    {
     "data": {
      "image/png": "[encoded data removed]",
      "text/plain": [
       "<Figure size 576x432 with 1 Axes>"
      ]
     },
     "metadata": {
      "needs_background": "light"
     },
     "output_type": "display_data"
    }
   ],
   "source": [
    "fig = plt.figure(figsize=(8,6))\n",
    "\n",
    "for i in result_table.index:\n",
    "    plt.plot(result_table.loc[i]['fpr'], \n",
    "             result_table.loc[i]['tpr'], \n",
    "             label=\"{}, AUC={:.3f}\".format(i, result_table.loc[i]['auc']))\n",
    "    \n",
    "plt.plot([0,1], [0,1], color='orange', linestyle='--')\n",
    "\n",
    "plt.xticks(np.arange(0.0, 1.1, step=0.1))\n",
    "plt.xlabel(\"Flase Positive Rate\", fontsize=15)\n",
    "\n",
    "plt.yticks(np.arange(0.0, 1.1, step=0.1))\n",
    "plt.ylabel(\"True Positive Rate\", fontsize=15)\n",
    "\n",
    "plt.title('ROC Curve Analysis', fontweight='bold', fontsize=15)\n",
    "plt.legend(prop={'size':13}, loc='lower right')\n",
    "\n",
    "plt.show()"
   ]
  },
  {
   "cell_type": "code",
   "execution_count": 2083,
   "metadata": {},
   "outputs": [
    {
     "data": {
      "image/png": "[encoded data removed]",
      "text/plain": [
       "<Figure size 576x432 with 1 Axes>"
      ]
     },
     "metadata": {
      "needs_background": "light"
     },
     "output_type": "display_data"
    }
   ],
   "source": [
    "# Import the classifiers\n",
    "from sklearn.tree import DecisionTreeClassifier\n",
    "from sklearn.ensemble import RandomForestClassifier\n",
    "\n",
    "from sklearn.metrics import roc_curve, roc_auc_score\n",
    "\n",
    "# Instantiate the classfiers and make a list\n",
    "classifiers = [DecisionTreeClassifier(random_state=1234),\n",
    "               RandomForestClassifier(random_state=1234),\n",
    "              GradientBoostingClassifier(random_state=1234)]\n",
    "\n",
    "# Define a result table as a DataFrame\n",
    "result_table = pd.DataFrame(columns=['classifiers', 'fpr','tpr','auc'])\n",
    "\n",
    "# Train the models and record the results\n",
    "for cls in classifiers:\n",
    "    model = cls.fit(X_train, y_train)\n",
    "    yproba = model.predict_proba(X_test)[::,1]\n",
    "    \n",
    "    fpr, tpr, _ = roc_curve(y_test,  yproba)\n",
    "    auc = roc_auc_score(y_test, yproba)\n",
    "    \n",
    "    result_table = result_table.append({'classifiers':cls.__class__.__name__,\n",
    "                                        'fpr':fpr, \n",
    "                                        'tpr':tpr, \n",
    "                                        'auc':auc}, ignore_index=True)\n",
    "\n",
    "# Set name of the classifiers as index labels\n",
    "result_table.set_index('classifiers', inplace=True)\n",
    "\n",
    "\n",
    "fig = plt.figure(figsize=(8,6))\n",
    "\n",
    "for i in result_table.index:\n",
    "    plt.plot(result_table.loc[i]['fpr'], \n",
    "             result_table.loc[i]['tpr'], \n",
    "             label=\"{}, AUC={:.3f}\".format(i, result_table.loc[i]['auc']))\n",
    "    \n",
    "plt.plot([0,1], [0,1], color='orange', linestyle='--')\n",
    "\n",
    "plt.xticks(np.arange(0.0, 1.1, step=0.1))\n",
    "plt.xlabel(\"Flase Positive Rate\", fontsize=15)\n",
    "\n",
    "plt.yticks(np.arange(0.0, 1.1, step=0.1))\n",
    "plt.ylabel(\"True Positive Rate\", fontsize=15)\n",
    "\n",
    "plt.title('ROC Curve Analysis', fontweight='bold', fontsize=15)\n",
    "plt.legend(prop={'size':13}, loc='lower right')\n",
    "\n",
    "plt.show()"
   ]
  },
  {
   "cell_type": "code",
   "execution_count": null,
   "metadata": {},
   "outputs": [],
   "source": []
  }
 ],
 "metadata": {
  "kernelspec": {
   "display_name": "Python 3",
   "language": "python",
   "name": "python3"
  },
  "language_info": {
   "codemirror_mode": {
    "name": "ipython",
    "version": 3
   },
   "file_extension": ".py",
   "mimetype": "text/x-python",
   "name": "python",
   "nbconvert_exporter": "python",
   "pygments_lexer": "ipython3",
   "version": "3.7.4"
  }
 },
 "nbformat": 4,
 "nbformat_minor": 2
}
