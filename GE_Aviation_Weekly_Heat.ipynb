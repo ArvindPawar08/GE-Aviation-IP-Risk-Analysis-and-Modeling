{
 "cells": [
  {
   "cell_type": "code",
   "execution_count": 470,
   "metadata": {},
   "outputs": [],
   "source": [
    "import numpy as np\n",
    "import pandas as pd\n",
    "import os\n",
    "import seaborn as sns\n",
    "import matplotlib as mlp\n",
    "import matplotlib.pyplot as plt\n",
    "from sklearn.tree import DecisionTreeRegressor\n",
    "from imblearn.over_sampling import (RandomOverSampler)"
   ]
  },
  {
   "cell_type": "code",
   "execution_count": 471,
   "metadata": {},
   "outputs": [
    {
     "data": {
      "text/plain": [
       "'/Users/arvindpawar/Desktop/XN Updated'"
      ]
     },
     "execution_count": 471,
     "metadata": {},
     "output_type": "execute_result"
    }
   ],
   "source": [
    "os.getcwd()"
   ]
  },
  {
   "cell_type": "code",
   "execution_count": 472,
   "metadata": {},
   "outputs": [],
   "source": [
    "os.chdir(r'/Users/arvindpawar/Desktop/XN Updated')"
   ]
  },
  {
   "cell_type": "code",
   "execution_count": 473,
   "metadata": {},
   "outputs": [],
   "source": [
    "indicatorData=pd.read_csv('indicator_pairs_data updated.csv')"
   ]
  },
  {
   "cell_type": "code",
   "execution_count": 474,
   "metadata": {},
   "outputs": [
    {
     "data": {
      "text/plain": [
       "Atomic          92589\n",
       "Daily_Heat      16379\n",
       "Weekly_Heat     11681\n",
       "Monthly_Heat    11428\n",
       "Name: alert_type, dtype: int64"
      ]
     },
     "execution_count": 474,
     "metadata": {},
     "output_type": "execute_result"
    }
   ],
   "source": [
    "indicatorData['alert_type'].value_counts()"
   ]
  },
  {
   "cell_type": "code",
   "execution_count": 475,
   "metadata": {},
   "outputs": [
    {
     "data": {
      "text/html": [
       "<div>\n",
       "<style scoped>\n",
       "    .dataframe tbody tr th:only-of-type {\n",
       "        vertical-align: middle;\n",
       "    }\n",
       "\n",
       "    .dataframe tbody tr th {\n",
       "        vertical-align: top;\n",
       "    }\n",
       "\n",
       "    .dataframe thead th {\n",
       "        text-align: right;\n",
       "    }\n",
       "</style>\n",
       "<table border=\"1\" class=\"dataframe\">\n",
       "  <thead>\n",
       "    <tr style=\"text-align: right;\">\n",
       "      <th></th>\n",
       "      <th>index</th>\n",
       "      <th>alert_escalation_date</th>\n",
       "      <th>alert_id_fk</th>\n",
       "      <th>insert_date</th>\n",
       "      <th>score</th>\n",
       "      <th>owner_name</th>\n",
       "      <th>employee_id</th>\n",
       "      <th>risk_factor</th>\n",
       "      <th>avg_score</th>\n",
       "      <th>classification</th>\n",
       "      <th>hru</th>\n",
       "      <th>alert_category</th>\n",
       "      <th>alert_type</th>\n",
       "      <th>indicator_pairs</th>\n",
       "    </tr>\n",
       "  </thead>\n",
       "  <tbody>\n",
       "    <tr>\n",
       "      <td>0</td>\n",
       "      <td>11005</td>\n",
       "      <td>2/9/2018</td>\n",
       "      <td>1355807855</td>\n",
       "      <td>2/8/2018</td>\n",
       "      <td>1344</td>\n",
       "      <td>Senior_Analyst_1</td>\n",
       "      <td>19616361638</td>\n",
       "      <td>5.868996</td>\n",
       "      <td>229</td>\n",
       "      <td>TP/DE</td>\n",
       "      <td>None</td>\n",
       "      <td>Heat</td>\n",
       "      <td>Weekly_Heat</td>\n",
       "      <td>App_1_Heat_Box_PRE_2016_Q3</td>\n",
       "    </tr>\n",
       "    <tr>\n",
       "      <td>1</td>\n",
       "      <td>11014</td>\n",
       "      <td>2/9/2018</td>\n",
       "      <td>1820665313</td>\n",
       "      <td>2/8/2018</td>\n",
       "      <td>1392</td>\n",
       "      <td>Senior_Analyst_1</td>\n",
       "      <td>19616361638</td>\n",
       "      <td>6.078603</td>\n",
       "      <td>229</td>\n",
       "      <td>TP/DE</td>\n",
       "      <td>None</td>\n",
       "      <td>Heat</td>\n",
       "      <td>Weekly_Heat</td>\n",
       "      <td>App_1_Heat_Box_PRE_2016_Q3</td>\n",
       "    </tr>\n",
       "    <tr>\n",
       "      <td>2</td>\n",
       "      <td>11072</td>\n",
       "      <td>2/9/2018</td>\n",
       "      <td>1443239342</td>\n",
       "      <td>2/9/2018</td>\n",
       "      <td>1377</td>\n",
       "      <td>Senior_Analyst_1</td>\n",
       "      <td>19616361638</td>\n",
       "      <td>5.884615</td>\n",
       "      <td>234</td>\n",
       "      <td>TP/DE</td>\n",
       "      <td>None</td>\n",
       "      <td>Heat</td>\n",
       "      <td>Weekly_Heat</td>\n",
       "      <td>App_1_Heat_Box_PRE_2016_Q3</td>\n",
       "    </tr>\n",
       "    <tr>\n",
       "      <td>3</td>\n",
       "      <td>11188</td>\n",
       "      <td>2/9/2018</td>\n",
       "      <td>925641347</td>\n",
       "      <td>2/9/2018</td>\n",
       "      <td>1383</td>\n",
       "      <td>Senior_Analyst_1</td>\n",
       "      <td>19616361638</td>\n",
       "      <td>5.668033</td>\n",
       "      <td>244</td>\n",
       "      <td>TP/DE</td>\n",
       "      <td>None</td>\n",
       "      <td>Heat</td>\n",
       "      <td>Weekly_Heat</td>\n",
       "      <td>App_1_Heat_Box_PRE_2016_Q3</td>\n",
       "    </tr>\n",
       "    <tr>\n",
       "      <td>4</td>\n",
       "      <td>11236</td>\n",
       "      <td>2/9/2018</td>\n",
       "      <td>942732622</td>\n",
       "      <td>2/9/2018</td>\n",
       "      <td>1380</td>\n",
       "      <td>Senior_Analyst_1</td>\n",
       "      <td>19616361638</td>\n",
       "      <td>5.587045</td>\n",
       "      <td>247</td>\n",
       "      <td>TP/DE</td>\n",
       "      <td>None</td>\n",
       "      <td>Heat</td>\n",
       "      <td>Weekly_Heat</td>\n",
       "      <td>App_1_Heat_Box_PRE_2016_Q3</td>\n",
       "    </tr>\n",
       "    <tr>\n",
       "      <td>...</td>\n",
       "      <td>...</td>\n",
       "      <td>...</td>\n",
       "      <td>...</td>\n",
       "      <td>...</td>\n",
       "      <td>...</td>\n",
       "      <td>...</td>\n",
       "      <td>...</td>\n",
       "      <td>...</td>\n",
       "      <td>...</td>\n",
       "      <td>...</td>\n",
       "      <td>...</td>\n",
       "      <td>...</td>\n",
       "      <td>...</td>\n",
       "      <td>...</td>\n",
       "    </tr>\n",
       "    <tr>\n",
       "      <td>11676</td>\n",
       "      <td>132067</td>\n",
       "      <td>9/24/2019</td>\n",
       "      <td>1118112272</td>\n",
       "      <td>9/24/2019</td>\n",
       "      <td>617</td>\n",
       "      <td>Analyst_7</td>\n",
       "      <td>3388632044</td>\n",
       "      <td>5.609091</td>\n",
       "      <td>110</td>\n",
       "      <td>TP/DE</td>\n",
       "      <td>None</td>\n",
       "      <td>Heat</td>\n",
       "      <td>Weekly_Heat</td>\n",
       "      <td>App_13_Heat_Print_IND/App_6_Heat_Print_NON_MIL...</td>\n",
       "    </tr>\n",
       "    <tr>\n",
       "      <td>11677</td>\n",
       "      <td>132070</td>\n",
       "      <td>9/24/2019</td>\n",
       "      <td>1200315855</td>\n",
       "      <td>9/24/2019</td>\n",
       "      <td>460</td>\n",
       "      <td>Analyst_7</td>\n",
       "      <td>20933453827</td>\n",
       "      <td>5.111111</td>\n",
       "      <td>90</td>\n",
       "      <td>TP/DE</td>\n",
       "      <td>HRU11</td>\n",
       "      <td>Heat</td>\n",
       "      <td>Weekly_Heat</td>\n",
       "      <td>App_10_Threshold_Access_30_Day/App_10_Threshol...</td>\n",
       "    </tr>\n",
       "    <tr>\n",
       "      <td>11678</td>\n",
       "      <td>132072</td>\n",
       "      <td>9/24/2019</td>\n",
       "      <td>1942510248</td>\n",
       "      <td>9/24/2019</td>\n",
       "      <td>609</td>\n",
       "      <td>Analyst_7</td>\n",
       "      <td>665484379</td>\n",
       "      <td>5.437500</td>\n",
       "      <td>112</td>\n",
       "      <td>TP/DE</td>\n",
       "      <td>None</td>\n",
       "      <td>Heat</td>\n",
       "      <td>Weekly_Heat</td>\n",
       "      <td>App_15_Heat_Badge_MS/App_3_Heat_Email_CD/App_9...</td>\n",
       "    </tr>\n",
       "    <tr>\n",
       "      <td>11679</td>\n",
       "      <td>132074</td>\n",
       "      <td>9/24/2019</td>\n",
       "      <td>1118117103</td>\n",
       "      <td>9/24/2019</td>\n",
       "      <td>980</td>\n",
       "      <td>Analyst_7</td>\n",
       "      <td>2841423367</td>\n",
       "      <td>8.376068</td>\n",
       "      <td>117</td>\n",
       "      <td>TP/DE</td>\n",
       "      <td>None</td>\n",
       "      <td>Heat</td>\n",
       "      <td>Weekly_Heat</td>\n",
       "      <td>App_3_Heat_Email_CD/Threshold_Heat_BA_IND/Thre...</td>\n",
       "    </tr>\n",
       "    <tr>\n",
       "      <td>11680</td>\n",
       "      <td>132078</td>\n",
       "      <td>9/24/2019</td>\n",
       "      <td>1992564027</td>\n",
       "      <td>9/24/2019</td>\n",
       "      <td>1152</td>\n",
       "      <td>Analyst_7</td>\n",
       "      <td>17382104989</td>\n",
       "      <td>5.097345</td>\n",
       "      <td>226</td>\n",
       "      <td>TP/DE</td>\n",
       "      <td>None</td>\n",
       "      <td>Heat</td>\n",
       "      <td>Weekly_Heat</td>\n",
       "      <td>App_3_Heat_Email_CD/Threshold_Heat_Email_IND</td>\n",
       "    </tr>\n",
       "  </tbody>\n",
       "</table>\n",
       "<p>11681 rows × 14 columns</p>\n",
       "</div>"
      ],
      "text/plain": [
       "        index alert_escalation_date  alert_id_fk insert_date  score  \\\n",
       "0       11005              2/9/2018   1355807855    2/8/2018   1344   \n",
       "1       11014              2/9/2018   1820665313    2/8/2018   1392   \n",
       "2       11072              2/9/2018   1443239342    2/9/2018   1377   \n",
       "3       11188              2/9/2018    925641347    2/9/2018   1383   \n",
       "4       11236              2/9/2018    942732622    2/9/2018   1380   \n",
       "...       ...                   ...          ...         ...    ...   \n",
       "11676  132067             9/24/2019   1118112272   9/24/2019    617   \n",
       "11677  132070             9/24/2019   1200315855   9/24/2019    460   \n",
       "11678  132072             9/24/2019   1942510248   9/24/2019    609   \n",
       "11679  132074             9/24/2019   1118117103   9/24/2019    980   \n",
       "11680  132078             9/24/2019   1992564027   9/24/2019   1152   \n",
       "\n",
       "             owner_name  employee_id  risk_factor  avg_score classification  \\\n",
       "0      Senior_Analyst_1  19616361638     5.868996        229          TP/DE   \n",
       "1      Senior_Analyst_1  19616361638     6.078603        229          TP/DE   \n",
       "2      Senior_Analyst_1  19616361638     5.884615        234          TP/DE   \n",
       "3      Senior_Analyst_1  19616361638     5.668033        244          TP/DE   \n",
       "4      Senior_Analyst_1  19616361638     5.587045        247          TP/DE   \n",
       "...                 ...          ...          ...        ...            ...   \n",
       "11676         Analyst_7   3388632044     5.609091        110          TP/DE   \n",
       "11677         Analyst_7  20933453827     5.111111         90          TP/DE   \n",
       "11678         Analyst_7    665484379     5.437500        112          TP/DE   \n",
       "11679         Analyst_7   2841423367     8.376068        117          TP/DE   \n",
       "11680         Analyst_7  17382104989     5.097345        226          TP/DE   \n",
       "\n",
       "         hru alert_category   alert_type  \\\n",
       "0       None           Heat  Weekly_Heat   \n",
       "1       None           Heat  Weekly_Heat   \n",
       "2       None           Heat  Weekly_Heat   \n",
       "3       None           Heat  Weekly_Heat   \n",
       "4       None           Heat  Weekly_Heat   \n",
       "...      ...            ...          ...   \n",
       "11676   None           Heat  Weekly_Heat   \n",
       "11677  HRU11           Heat  Weekly_Heat   \n",
       "11678   None           Heat  Weekly_Heat   \n",
       "11679   None           Heat  Weekly_Heat   \n",
       "11680   None           Heat  Weekly_Heat   \n",
       "\n",
       "                                         indicator_pairs  \n",
       "0                             App_1_Heat_Box_PRE_2016_Q3  \n",
       "1                             App_1_Heat_Box_PRE_2016_Q3  \n",
       "2                             App_1_Heat_Box_PRE_2016_Q3  \n",
       "3                             App_1_Heat_Box_PRE_2016_Q3  \n",
       "4                             App_1_Heat_Box_PRE_2016_Q3  \n",
       "...                                                  ...  \n",
       "11676  App_13_Heat_Print_IND/App_6_Heat_Print_NON_MIL...  \n",
       "11677  App_10_Threshold_Access_30_Day/App_10_Threshol...  \n",
       "11678  App_15_Heat_Badge_MS/App_3_Heat_Email_CD/App_9...  \n",
       "11679  App_3_Heat_Email_CD/Threshold_Heat_BA_IND/Thre...  \n",
       "11680       App_3_Heat_Email_CD/Threshold_Heat_Email_IND  \n",
       "\n",
       "[11681 rows x 14 columns]"
      ]
     },
     "execution_count": 475,
     "metadata": {},
     "output_type": "execute_result"
    }
   ],
   "source": [
    "indicatorData.loc[indicatorData['alert_type'] == 'Weekly_Heat'].reset_index()"
   ]
  },
  {
   "cell_type": "code",
   "execution_count": 476,
   "metadata": {},
   "outputs": [],
   "source": [
    "indicatorData=indicatorData.loc[indicatorData['alert_type'] == 'Weekly_Heat'].reset_index()"
   ]
  },
  {
   "cell_type": "code",
   "execution_count": 477,
   "metadata": {},
   "outputs": [
    {
     "data": {
      "text/plain": [
       "(11681, 14)"
      ]
     },
     "execution_count": 477,
     "metadata": {},
     "output_type": "execute_result"
    }
   ],
   "source": [
    "indicatorData.shape"
   ]
  },
  {
   "cell_type": "code",
   "execution_count": 478,
   "metadata": {},
   "outputs": [
    {
     "data": {
      "text/plain": [
       "TP/DE      8561\n",
       "FP         1452\n",
       "TP/LOW     1129\n",
       "TP/HIGH     539\n",
       "Name: classification, dtype: int64"
      ]
     },
     "execution_count": 478,
     "metadata": {},
     "output_type": "execute_result"
    }
   ],
   "source": [
    "indicatorData['classification'].value_counts()"
   ]
  },
  {
   "cell_type": "code",
   "execution_count": 479,
   "metadata": {},
   "outputs": [],
   "source": [
    "employeeData=pd.read_csv('obfuscated_demo_data2.csv')"
   ]
  },
  {
   "cell_type": "code",
   "execution_count": 480,
   "metadata": {},
   "outputs": [
    {
     "data": {
      "text/html": [
       "<div>\n",
       "<style scoped>\n",
       "    .dataframe tbody tr th:only-of-type {\n",
       "        vertical-align: middle;\n",
       "    }\n",
       "\n",
       "    .dataframe tbody tr th {\n",
       "        vertical-align: top;\n",
       "    }\n",
       "\n",
       "    .dataframe thead th {\n",
       "        text-align: right;\n",
       "    }\n",
       "</style>\n",
       "<table border=\"1\" class=\"dataframe\">\n",
       "  <thead>\n",
       "    <tr style=\"text-align: right;\">\n",
       "      <th></th>\n",
       "      <th>employee_id</th>\n",
       "      <th>person_type</th>\n",
       "      <th>person_status</th>\n",
       "      <th>ge_hire_date</th>\n",
       "      <th>city</th>\n",
       "      <th>state_name</th>\n",
       "      <th>country_name</th>\n",
       "      <th>function_group</th>\n",
       "      <th>job_function</th>\n",
       "      <th>career_band</th>\n",
       "      <th>industry_focus_name</th>\n",
       "    </tr>\n",
       "  </thead>\n",
       "  <tbody>\n",
       "    <tr>\n",
       "      <td>0</td>\n",
       "      <td>2163707601</td>\n",
       "      <td>EMPLOYEE</td>\n",
       "      <td>A</td>\n",
       "      <td>9/1/1997 0:00</td>\n",
       "      <td>Reau</td>\n",
       "      <td>No_Data</td>\n",
       "      <td>France</td>\n",
       "      <td>Production</td>\n",
       "      <td>JOB_FUNCTION_7</td>\n",
       "      <td>CAREER_BAND_10</td>\n",
       "      <td>BUSINESS_SEGMENT_4</td>\n",
       "    </tr>\n",
       "    <tr>\n",
       "      <td>1</td>\n",
       "      <td>9225331209</td>\n",
       "      <td>EMPLOYEE</td>\n",
       "      <td>A</td>\n",
       "      <td>8/22/2006 0:00</td>\n",
       "      <td>Dubai</td>\n",
       "      <td>Dubai</td>\n",
       "      <td>United Arab Emirates</td>\n",
       "      <td>Commercial</td>\n",
       "      <td>JOB_FUNCTION_22</td>\n",
       "      <td>CAREER_BAND_9</td>\n",
       "      <td>BUSINESS_SEGMENT_4</td>\n",
       "    </tr>\n",
       "    <tr>\n",
       "      <td>2</td>\n",
       "      <td>9777696464</td>\n",
       "      <td>EMPLOYEE</td>\n",
       "      <td>I</td>\n",
       "      <td>3/1/2007 0:00</td>\n",
       "      <td>Dubai</td>\n",
       "      <td>Dubai</td>\n",
       "      <td>United Arab Emirates</td>\n",
       "      <td>Production</td>\n",
       "      <td>JOB_FUNCTION_24</td>\n",
       "      <td>CAREER_BAND_4</td>\n",
       "      <td>BUSINESS_SEGMENT_4</td>\n",
       "    </tr>\n",
       "    <tr>\n",
       "      <td>3</td>\n",
       "      <td>8893235549</td>\n",
       "      <td>EMPLOYEE</td>\n",
       "      <td>A</td>\n",
       "      <td>9/1/2003 0:00</td>\n",
       "      <td>Dzierzoniow</td>\n",
       "      <td>Lower Silesian</td>\n",
       "      <td>Poland</td>\n",
       "      <td>Enabling</td>\n",
       "      <td>JOB_FUNCTION_10</td>\n",
       "      <td>CAREER_BAND_4</td>\n",
       "      <td>BUSINESS_SEGMENT_4</td>\n",
       "    </tr>\n",
       "    <tr>\n",
       "      <td>4</td>\n",
       "      <td>1310142434</td>\n",
       "      <td>EMPLOYEE</td>\n",
       "      <td>I</td>\n",
       "      <td>9/4/2000 0:00</td>\n",
       "      <td>Veresegyhaz</td>\n",
       "      <td>Pest</td>\n",
       "      <td>Hungary</td>\n",
       "      <td>Production</td>\n",
       "      <td>JOB_FUNCTION_7</td>\n",
       "      <td>CAREER_BAND_10</td>\n",
       "      <td>BUSINESS_SEGMENT_4</td>\n",
       "    </tr>\n",
       "  </tbody>\n",
       "</table>\n",
       "</div>"
      ],
      "text/plain": [
       "   employee_id person_type person_status    ge_hire_date         city  \\\n",
       "0   2163707601    EMPLOYEE             A   9/1/1997 0:00         Reau   \n",
       "1   9225331209    EMPLOYEE             A  8/22/2006 0:00        Dubai   \n",
       "2   9777696464    EMPLOYEE             I   3/1/2007 0:00        Dubai   \n",
       "3   8893235549    EMPLOYEE             A   9/1/2003 0:00  Dzierzoniow   \n",
       "4   1310142434    EMPLOYEE             I   9/4/2000 0:00  Veresegyhaz   \n",
       "\n",
       "       state_name          country_name function_group     job_function  \\\n",
       "0         No_Data                France     Production   JOB_FUNCTION_7   \n",
       "1           Dubai  United Arab Emirates     Commercial  JOB_FUNCTION_22   \n",
       "2           Dubai  United Arab Emirates     Production  JOB_FUNCTION_24   \n",
       "3  Lower Silesian                Poland       Enabling  JOB_FUNCTION_10   \n",
       "4            Pest               Hungary     Production   JOB_FUNCTION_7   \n",
       "\n",
       "      career_band industry_focus_name  \n",
       "0  CAREER_BAND_10  BUSINESS_SEGMENT_4  \n",
       "1   CAREER_BAND_9  BUSINESS_SEGMENT_4  \n",
       "2   CAREER_BAND_4  BUSINESS_SEGMENT_4  \n",
       "3   CAREER_BAND_4  BUSINESS_SEGMENT_4  \n",
       "4  CAREER_BAND_10  BUSINESS_SEGMENT_4  "
      ]
     },
     "execution_count": 480,
     "metadata": {},
     "output_type": "execute_result"
    }
   ],
   "source": [
    "employeeData.head()"
   ]
  },
  {
   "cell_type": "code",
   "execution_count": 481,
   "metadata": {},
   "outputs": [
    {
     "data": {
      "text/plain": [
       "array(['A', 'I'], dtype=object)"
      ]
     },
     "execution_count": 481,
     "metadata": {},
     "output_type": "execute_result"
    }
   ],
   "source": [
    "employeeData['person_status'].unique()"
   ]
  },
  {
   "cell_type": "code",
   "execution_count": 482,
   "metadata": {},
   "outputs": [],
   "source": [
    "employeeData=employeeData.drop_duplicates(subset =\"employee_id\")"
   ]
  },
  {
   "cell_type": "code",
   "execution_count": 483,
   "metadata": {},
   "outputs": [
    {
     "data": {
      "text/plain": [
       "(3157, 11)"
      ]
     },
     "execution_count": 483,
     "metadata": {},
     "output_type": "execute_result"
    }
   ],
   "source": [
    "employeeData.shape"
   ]
  },
  {
   "cell_type": "code",
   "execution_count": 484,
   "metadata": {},
   "outputs": [],
   "source": [
    "employeeData['Year']=pd.DatetimeIndex(employeeData['ge_hire_date']).year"
   ]
  },
  {
   "cell_type": "code",
   "execution_count": 485,
   "metadata": {},
   "outputs": [
    {
     "data": {
      "text/plain": [
       "employee_id              0\n",
       "person_type              0\n",
       "person_status            0\n",
       "ge_hire_date           478\n",
       "city                   142\n",
       "state_name             174\n",
       "country_name           174\n",
       "function_group         174\n",
       "job_function             0\n",
       "career_band              0\n",
       "industry_focus_name      0\n",
       "Year                   478\n",
       "dtype: int64"
      ]
     },
     "execution_count": 485,
     "metadata": {},
     "output_type": "execute_result"
    }
   ],
   "source": [
    "employeeData.isnull().sum()"
   ]
  },
  {
   "cell_type": "code",
   "execution_count": 486,
   "metadata": {},
   "outputs": [],
   "source": [
    "employeeData['tenure']=(2020-employeeData['Year'])"
   ]
  },
  {
   "cell_type": "code",
   "execution_count": 487,
   "metadata": {},
   "outputs": [],
   "source": [
    "empdummydata=pd.get_dummies(employeeData, columns=['career_band', 'job_function'])"
   ]
  },
  {
   "cell_type": "code",
   "execution_count": 488,
   "metadata": {},
   "outputs": [],
   "source": [
    "empdummydata=empdummydata.iloc[:, np.r_[0,10:47]]"
   ]
  },
  {
   "cell_type": "code",
   "execution_count": 489,
   "metadata": {},
   "outputs": [
    {
     "data": {
      "text/html": [
       "<div>\n",
       "<style scoped>\n",
       "    .dataframe tbody tr th:only-of-type {\n",
       "        vertical-align: middle;\n",
       "    }\n",
       "\n",
       "    .dataframe tbody tr th {\n",
       "        vertical-align: top;\n",
       "    }\n",
       "\n",
       "    .dataframe thead th {\n",
       "        text-align: right;\n",
       "    }\n",
       "</style>\n",
       "<table border=\"1\" class=\"dataframe\">\n",
       "  <thead>\n",
       "    <tr style=\"text-align: right;\">\n",
       "      <th></th>\n",
       "      <th>employee_id</th>\n",
       "      <th>tenure</th>\n",
       "      <th>career_band_CAREER_BAND_1</th>\n",
       "      <th>career_band_CAREER_BAND_10</th>\n",
       "      <th>career_band_CAREER_BAND_2</th>\n",
       "      <th>career_band_CAREER_BAND_3</th>\n",
       "      <th>career_band_CAREER_BAND_4</th>\n",
       "      <th>career_band_CAREER_BAND_5</th>\n",
       "      <th>career_band_CAREER_BAND_6</th>\n",
       "      <th>career_band_CAREER_BAND_7</th>\n",
       "      <th>...</th>\n",
       "      <th>job_function_JOB_FUNCTION_24</th>\n",
       "      <th>job_function_JOB_FUNCTION_25</th>\n",
       "      <th>job_function_JOB_FUNCTION_26</th>\n",
       "      <th>job_function_JOB_FUNCTION_3</th>\n",
       "      <th>job_function_JOB_FUNCTION_4</th>\n",
       "      <th>job_function_JOB_FUNCTION_5</th>\n",
       "      <th>job_function_JOB_FUNCTION_6</th>\n",
       "      <th>job_function_JOB_FUNCTION_7</th>\n",
       "      <th>job_function_JOB_FUNCTION_8</th>\n",
       "      <th>job_function_JOB_FUNCTION_9</th>\n",
       "    </tr>\n",
       "  </thead>\n",
       "  <tbody>\n",
       "    <tr>\n",
       "      <td>0</td>\n",
       "      <td>2163707601</td>\n",
       "      <td>23.0</td>\n",
       "      <td>0</td>\n",
       "      <td>1</td>\n",
       "      <td>0</td>\n",
       "      <td>0</td>\n",
       "      <td>0</td>\n",
       "      <td>0</td>\n",
       "      <td>0</td>\n",
       "      <td>0</td>\n",
       "      <td>...</td>\n",
       "      <td>0</td>\n",
       "      <td>0</td>\n",
       "      <td>0</td>\n",
       "      <td>0</td>\n",
       "      <td>0</td>\n",
       "      <td>0</td>\n",
       "      <td>0</td>\n",
       "      <td>1</td>\n",
       "      <td>0</td>\n",
       "      <td>0</td>\n",
       "    </tr>\n",
       "    <tr>\n",
       "      <td>1</td>\n",
       "      <td>9225331209</td>\n",
       "      <td>14.0</td>\n",
       "      <td>0</td>\n",
       "      <td>0</td>\n",
       "      <td>0</td>\n",
       "      <td>0</td>\n",
       "      <td>0</td>\n",
       "      <td>0</td>\n",
       "      <td>0</td>\n",
       "      <td>0</td>\n",
       "      <td>...</td>\n",
       "      <td>0</td>\n",
       "      <td>0</td>\n",
       "      <td>0</td>\n",
       "      <td>0</td>\n",
       "      <td>0</td>\n",
       "      <td>0</td>\n",
       "      <td>0</td>\n",
       "      <td>0</td>\n",
       "      <td>0</td>\n",
       "      <td>0</td>\n",
       "    </tr>\n",
       "    <tr>\n",
       "      <td>2</td>\n",
       "      <td>9777696464</td>\n",
       "      <td>13.0</td>\n",
       "      <td>0</td>\n",
       "      <td>0</td>\n",
       "      <td>0</td>\n",
       "      <td>0</td>\n",
       "      <td>1</td>\n",
       "      <td>0</td>\n",
       "      <td>0</td>\n",
       "      <td>0</td>\n",
       "      <td>...</td>\n",
       "      <td>1</td>\n",
       "      <td>0</td>\n",
       "      <td>0</td>\n",
       "      <td>0</td>\n",
       "      <td>0</td>\n",
       "      <td>0</td>\n",
       "      <td>0</td>\n",
       "      <td>0</td>\n",
       "      <td>0</td>\n",
       "      <td>0</td>\n",
       "    </tr>\n",
       "    <tr>\n",
       "      <td>3</td>\n",
       "      <td>8893235549</td>\n",
       "      <td>17.0</td>\n",
       "      <td>0</td>\n",
       "      <td>0</td>\n",
       "      <td>0</td>\n",
       "      <td>0</td>\n",
       "      <td>1</td>\n",
       "      <td>0</td>\n",
       "      <td>0</td>\n",
       "      <td>0</td>\n",
       "      <td>...</td>\n",
       "      <td>0</td>\n",
       "      <td>0</td>\n",
       "      <td>0</td>\n",
       "      <td>0</td>\n",
       "      <td>0</td>\n",
       "      <td>0</td>\n",
       "      <td>0</td>\n",
       "      <td>0</td>\n",
       "      <td>0</td>\n",
       "      <td>0</td>\n",
       "    </tr>\n",
       "    <tr>\n",
       "      <td>4</td>\n",
       "      <td>1310142434</td>\n",
       "      <td>20.0</td>\n",
       "      <td>0</td>\n",
       "      <td>1</td>\n",
       "      <td>0</td>\n",
       "      <td>0</td>\n",
       "      <td>0</td>\n",
       "      <td>0</td>\n",
       "      <td>0</td>\n",
       "      <td>0</td>\n",
       "      <td>...</td>\n",
       "      <td>0</td>\n",
       "      <td>0</td>\n",
       "      <td>0</td>\n",
       "      <td>0</td>\n",
       "      <td>0</td>\n",
       "      <td>0</td>\n",
       "      <td>0</td>\n",
       "      <td>1</td>\n",
       "      <td>0</td>\n",
       "      <td>0</td>\n",
       "    </tr>\n",
       "  </tbody>\n",
       "</table>\n",
       "<p>5 rows × 38 columns</p>\n",
       "</div>"
      ],
      "text/plain": [
       "   employee_id  tenure  career_band_CAREER_BAND_1  career_band_CAREER_BAND_10  \\\n",
       "0   2163707601    23.0                          0                           1   \n",
       "1   9225331209    14.0                          0                           0   \n",
       "2   9777696464    13.0                          0                           0   \n",
       "3   8893235549    17.0                          0                           0   \n",
       "4   1310142434    20.0                          0                           1   \n",
       "\n",
       "   career_band_CAREER_BAND_2  career_band_CAREER_BAND_3  \\\n",
       "0                          0                          0   \n",
       "1                          0                          0   \n",
       "2                          0                          0   \n",
       "3                          0                          0   \n",
       "4                          0                          0   \n",
       "\n",
       "   career_band_CAREER_BAND_4  career_band_CAREER_BAND_5  \\\n",
       "0                          0                          0   \n",
       "1                          0                          0   \n",
       "2                          1                          0   \n",
       "3                          1                          0   \n",
       "4                          0                          0   \n",
       "\n",
       "   career_band_CAREER_BAND_6  career_band_CAREER_BAND_7  ...  \\\n",
       "0                          0                          0  ...   \n",
       "1                          0                          0  ...   \n",
       "2                          0                          0  ...   \n",
       "3                          0                          0  ...   \n",
       "4                          0                          0  ...   \n",
       "\n",
       "   job_function_JOB_FUNCTION_24  job_function_JOB_FUNCTION_25  \\\n",
       "0                             0                             0   \n",
       "1                             0                             0   \n",
       "2                             1                             0   \n",
       "3                             0                             0   \n",
       "4                             0                             0   \n",
       "\n",
       "   job_function_JOB_FUNCTION_26  job_function_JOB_FUNCTION_3  \\\n",
       "0                             0                            0   \n",
       "1                             0                            0   \n",
       "2                             0                            0   \n",
       "3                             0                            0   \n",
       "4                             0                            0   \n",
       "\n",
       "   job_function_JOB_FUNCTION_4  job_function_JOB_FUNCTION_5  \\\n",
       "0                            0                            0   \n",
       "1                            0                            0   \n",
       "2                            0                            0   \n",
       "3                            0                            0   \n",
       "4                            0                            0   \n",
       "\n",
       "   job_function_JOB_FUNCTION_6  job_function_JOB_FUNCTION_7  \\\n",
       "0                            0                            1   \n",
       "1                            0                            0   \n",
       "2                            0                            0   \n",
       "3                            0                            0   \n",
       "4                            0                            1   \n",
       "\n",
       "   job_function_JOB_FUNCTION_8  job_function_JOB_FUNCTION_9  \n",
       "0                            0                            0  \n",
       "1                            0                            0  \n",
       "2                            0                            0  \n",
       "3                            0                            0  \n",
       "4                            0                            0  \n",
       "\n",
       "[5 rows x 38 columns]"
      ]
     },
     "execution_count": 489,
     "metadata": {},
     "output_type": "execute_result"
    }
   ],
   "source": [
    "empdummydata.head()"
   ]
  },
  {
   "cell_type": "code",
   "execution_count": 490,
   "metadata": {},
   "outputs": [],
   "source": [
    "testset=empdummydata[empdummydata['tenure'].isnull()]"
   ]
  },
  {
   "cell_type": "code",
   "execution_count": 491,
   "metadata": {},
   "outputs": [],
   "source": [
    "trainset=empdummydata[~empdummydata['tenure'].isnull()]"
   ]
  },
  {
   "cell_type": "code",
   "execution_count": 492,
   "metadata": {},
   "outputs": [
    {
     "data": {
      "text/html": [
       "<div>\n",
       "<style scoped>\n",
       "    .dataframe tbody tr th:only-of-type {\n",
       "        vertical-align: middle;\n",
       "    }\n",
       "\n",
       "    .dataframe tbody tr th {\n",
       "        vertical-align: top;\n",
       "    }\n",
       "\n",
       "    .dataframe thead th {\n",
       "        text-align: right;\n",
       "    }\n",
       "</style>\n",
       "<table border=\"1\" class=\"dataframe\">\n",
       "  <thead>\n",
       "    <tr style=\"text-align: right;\">\n",
       "      <th></th>\n",
       "      <th>employee_id</th>\n",
       "      <th>tenure</th>\n",
       "      <th>career_band_CAREER_BAND_1</th>\n",
       "      <th>career_band_CAREER_BAND_10</th>\n",
       "      <th>career_band_CAREER_BAND_2</th>\n",
       "      <th>career_band_CAREER_BAND_3</th>\n",
       "      <th>career_band_CAREER_BAND_4</th>\n",
       "      <th>career_band_CAREER_BAND_5</th>\n",
       "      <th>career_band_CAREER_BAND_6</th>\n",
       "      <th>career_band_CAREER_BAND_7</th>\n",
       "      <th>...</th>\n",
       "      <th>job_function_JOB_FUNCTION_24</th>\n",
       "      <th>job_function_JOB_FUNCTION_25</th>\n",
       "      <th>job_function_JOB_FUNCTION_26</th>\n",
       "      <th>job_function_JOB_FUNCTION_3</th>\n",
       "      <th>job_function_JOB_FUNCTION_4</th>\n",
       "      <th>job_function_JOB_FUNCTION_5</th>\n",
       "      <th>job_function_JOB_FUNCTION_6</th>\n",
       "      <th>job_function_JOB_FUNCTION_7</th>\n",
       "      <th>job_function_JOB_FUNCTION_8</th>\n",
       "      <th>job_function_JOB_FUNCTION_9</th>\n",
       "    </tr>\n",
       "  </thead>\n",
       "  <tbody>\n",
       "    <tr>\n",
       "      <td>0</td>\n",
       "      <td>2163707601</td>\n",
       "      <td>23.0</td>\n",
       "      <td>0</td>\n",
       "      <td>1</td>\n",
       "      <td>0</td>\n",
       "      <td>0</td>\n",
       "      <td>0</td>\n",
       "      <td>0</td>\n",
       "      <td>0</td>\n",
       "      <td>0</td>\n",
       "      <td>...</td>\n",
       "      <td>0</td>\n",
       "      <td>0</td>\n",
       "      <td>0</td>\n",
       "      <td>0</td>\n",
       "      <td>0</td>\n",
       "      <td>0</td>\n",
       "      <td>0</td>\n",
       "      <td>1</td>\n",
       "      <td>0</td>\n",
       "      <td>0</td>\n",
       "    </tr>\n",
       "    <tr>\n",
       "      <td>1</td>\n",
       "      <td>9225331209</td>\n",
       "      <td>14.0</td>\n",
       "      <td>0</td>\n",
       "      <td>0</td>\n",
       "      <td>0</td>\n",
       "      <td>0</td>\n",
       "      <td>0</td>\n",
       "      <td>0</td>\n",
       "      <td>0</td>\n",
       "      <td>0</td>\n",
       "      <td>...</td>\n",
       "      <td>0</td>\n",
       "      <td>0</td>\n",
       "      <td>0</td>\n",
       "      <td>0</td>\n",
       "      <td>0</td>\n",
       "      <td>0</td>\n",
       "      <td>0</td>\n",
       "      <td>0</td>\n",
       "      <td>0</td>\n",
       "      <td>0</td>\n",
       "    </tr>\n",
       "    <tr>\n",
       "      <td>2</td>\n",
       "      <td>9777696464</td>\n",
       "      <td>13.0</td>\n",
       "      <td>0</td>\n",
       "      <td>0</td>\n",
       "      <td>0</td>\n",
       "      <td>0</td>\n",
       "      <td>1</td>\n",
       "      <td>0</td>\n",
       "      <td>0</td>\n",
       "      <td>0</td>\n",
       "      <td>...</td>\n",
       "      <td>1</td>\n",
       "      <td>0</td>\n",
       "      <td>0</td>\n",
       "      <td>0</td>\n",
       "      <td>0</td>\n",
       "      <td>0</td>\n",
       "      <td>0</td>\n",
       "      <td>0</td>\n",
       "      <td>0</td>\n",
       "      <td>0</td>\n",
       "    </tr>\n",
       "    <tr>\n",
       "      <td>3</td>\n",
       "      <td>8893235549</td>\n",
       "      <td>17.0</td>\n",
       "      <td>0</td>\n",
       "      <td>0</td>\n",
       "      <td>0</td>\n",
       "      <td>0</td>\n",
       "      <td>1</td>\n",
       "      <td>0</td>\n",
       "      <td>0</td>\n",
       "      <td>0</td>\n",
       "      <td>...</td>\n",
       "      <td>0</td>\n",
       "      <td>0</td>\n",
       "      <td>0</td>\n",
       "      <td>0</td>\n",
       "      <td>0</td>\n",
       "      <td>0</td>\n",
       "      <td>0</td>\n",
       "      <td>0</td>\n",
       "      <td>0</td>\n",
       "      <td>0</td>\n",
       "    </tr>\n",
       "    <tr>\n",
       "      <td>4</td>\n",
       "      <td>1310142434</td>\n",
       "      <td>20.0</td>\n",
       "      <td>0</td>\n",
       "      <td>1</td>\n",
       "      <td>0</td>\n",
       "      <td>0</td>\n",
       "      <td>0</td>\n",
       "      <td>0</td>\n",
       "      <td>0</td>\n",
       "      <td>0</td>\n",
       "      <td>...</td>\n",
       "      <td>0</td>\n",
       "      <td>0</td>\n",
       "      <td>0</td>\n",
       "      <td>0</td>\n",
       "      <td>0</td>\n",
       "      <td>0</td>\n",
       "      <td>0</td>\n",
       "      <td>1</td>\n",
       "      <td>0</td>\n",
       "      <td>0</td>\n",
       "    </tr>\n",
       "  </tbody>\n",
       "</table>\n",
       "<p>5 rows × 38 columns</p>\n",
       "</div>"
      ],
      "text/plain": [
       "   employee_id  tenure  career_band_CAREER_BAND_1  career_band_CAREER_BAND_10  \\\n",
       "0   2163707601    23.0                          0                           1   \n",
       "1   9225331209    14.0                          0                           0   \n",
       "2   9777696464    13.0                          0                           0   \n",
       "3   8893235549    17.0                          0                           0   \n",
       "4   1310142434    20.0                          0                           1   \n",
       "\n",
       "   career_band_CAREER_BAND_2  career_band_CAREER_BAND_3  \\\n",
       "0                          0                          0   \n",
       "1                          0                          0   \n",
       "2                          0                          0   \n",
       "3                          0                          0   \n",
       "4                          0                          0   \n",
       "\n",
       "   career_band_CAREER_BAND_4  career_band_CAREER_BAND_5  \\\n",
       "0                          0                          0   \n",
       "1                          0                          0   \n",
       "2                          1                          0   \n",
       "3                          1                          0   \n",
       "4                          0                          0   \n",
       "\n",
       "   career_band_CAREER_BAND_6  career_band_CAREER_BAND_7  ...  \\\n",
       "0                          0                          0  ...   \n",
       "1                          0                          0  ...   \n",
       "2                          0                          0  ...   \n",
       "3                          0                          0  ...   \n",
       "4                          0                          0  ...   \n",
       "\n",
       "   job_function_JOB_FUNCTION_24  job_function_JOB_FUNCTION_25  \\\n",
       "0                             0                             0   \n",
       "1                             0                             0   \n",
       "2                             1                             0   \n",
       "3                             0                             0   \n",
       "4                             0                             0   \n",
       "\n",
       "   job_function_JOB_FUNCTION_26  job_function_JOB_FUNCTION_3  \\\n",
       "0                             0                            0   \n",
       "1                             0                            0   \n",
       "2                             0                            0   \n",
       "3                             0                            0   \n",
       "4                             0                            0   \n",
       "\n",
       "   job_function_JOB_FUNCTION_4  job_function_JOB_FUNCTION_5  \\\n",
       "0                            0                            0   \n",
       "1                            0                            0   \n",
       "2                            0                            0   \n",
       "3                            0                            0   \n",
       "4                            0                            0   \n",
       "\n",
       "   job_function_JOB_FUNCTION_6  job_function_JOB_FUNCTION_7  \\\n",
       "0                            0                            1   \n",
       "1                            0                            0   \n",
       "2                            0                            0   \n",
       "3                            0                            0   \n",
       "4                            0                            1   \n",
       "\n",
       "   job_function_JOB_FUNCTION_8  job_function_JOB_FUNCTION_9  \n",
       "0                            0                            0  \n",
       "1                            0                            0  \n",
       "2                            0                            0  \n",
       "3                            0                            0  \n",
       "4                            0                            0  \n",
       "\n",
       "[5 rows x 38 columns]"
      ]
     },
     "execution_count": 492,
     "metadata": {},
     "output_type": "execute_result"
    }
   ],
   "source": [
    "trainset.head()"
   ]
  },
  {
   "cell_type": "code",
   "execution_count": 493,
   "metadata": {},
   "outputs": [
    {
     "data": {
      "text/html": [
       "<div>\n",
       "<style scoped>\n",
       "    .dataframe tbody tr th:only-of-type {\n",
       "        vertical-align: middle;\n",
       "    }\n",
       "\n",
       "    .dataframe tbody tr th {\n",
       "        vertical-align: top;\n",
       "    }\n",
       "\n",
       "    .dataframe thead th {\n",
       "        text-align: right;\n",
       "    }\n",
       "</style>\n",
       "<table border=\"1\" class=\"dataframe\">\n",
       "  <thead>\n",
       "    <tr style=\"text-align: right;\">\n",
       "      <th></th>\n",
       "      <th>employee_id</th>\n",
       "      <th>tenure</th>\n",
       "      <th>career_band_CAREER_BAND_1</th>\n",
       "      <th>career_band_CAREER_BAND_10</th>\n",
       "      <th>career_band_CAREER_BAND_2</th>\n",
       "      <th>career_band_CAREER_BAND_3</th>\n",
       "      <th>career_band_CAREER_BAND_4</th>\n",
       "      <th>career_band_CAREER_BAND_5</th>\n",
       "      <th>career_band_CAREER_BAND_6</th>\n",
       "      <th>career_band_CAREER_BAND_7</th>\n",
       "      <th>...</th>\n",
       "      <th>job_function_JOB_FUNCTION_24</th>\n",
       "      <th>job_function_JOB_FUNCTION_25</th>\n",
       "      <th>job_function_JOB_FUNCTION_26</th>\n",
       "      <th>job_function_JOB_FUNCTION_3</th>\n",
       "      <th>job_function_JOB_FUNCTION_4</th>\n",
       "      <th>job_function_JOB_FUNCTION_5</th>\n",
       "      <th>job_function_JOB_FUNCTION_6</th>\n",
       "      <th>job_function_JOB_FUNCTION_7</th>\n",
       "      <th>job_function_JOB_FUNCTION_8</th>\n",
       "      <th>job_function_JOB_FUNCTION_9</th>\n",
       "    </tr>\n",
       "  </thead>\n",
       "  <tbody>\n",
       "    <tr>\n",
       "      <td>5</td>\n",
       "      <td>8714002494</td>\n",
       "      <td>NaN</td>\n",
       "      <td>1</td>\n",
       "      <td>0</td>\n",
       "      <td>0</td>\n",
       "      <td>0</td>\n",
       "      <td>0</td>\n",
       "      <td>0</td>\n",
       "      <td>0</td>\n",
       "      <td>0</td>\n",
       "      <td>...</td>\n",
       "      <td>0</td>\n",
       "      <td>0</td>\n",
       "      <td>0</td>\n",
       "      <td>0</td>\n",
       "      <td>0</td>\n",
       "      <td>0</td>\n",
       "      <td>0</td>\n",
       "      <td>1</td>\n",
       "      <td>0</td>\n",
       "      <td>0</td>\n",
       "    </tr>\n",
       "    <tr>\n",
       "      <td>11</td>\n",
       "      <td>187153423</td>\n",
       "      <td>NaN</td>\n",
       "      <td>1</td>\n",
       "      <td>0</td>\n",
       "      <td>0</td>\n",
       "      <td>0</td>\n",
       "      <td>0</td>\n",
       "      <td>0</td>\n",
       "      <td>0</td>\n",
       "      <td>0</td>\n",
       "      <td>...</td>\n",
       "      <td>0</td>\n",
       "      <td>0</td>\n",
       "      <td>0</td>\n",
       "      <td>0</td>\n",
       "      <td>0</td>\n",
       "      <td>0</td>\n",
       "      <td>0</td>\n",
       "      <td>1</td>\n",
       "      <td>0</td>\n",
       "      <td>0</td>\n",
       "    </tr>\n",
       "    <tr>\n",
       "      <td>12</td>\n",
       "      <td>4680091097</td>\n",
       "      <td>NaN</td>\n",
       "      <td>1</td>\n",
       "      <td>0</td>\n",
       "      <td>0</td>\n",
       "      <td>0</td>\n",
       "      <td>0</td>\n",
       "      <td>0</td>\n",
       "      <td>0</td>\n",
       "      <td>0</td>\n",
       "      <td>...</td>\n",
       "      <td>0</td>\n",
       "      <td>1</td>\n",
       "      <td>0</td>\n",
       "      <td>0</td>\n",
       "      <td>0</td>\n",
       "      <td>0</td>\n",
       "      <td>0</td>\n",
       "      <td>0</td>\n",
       "      <td>0</td>\n",
       "      <td>0</td>\n",
       "    </tr>\n",
       "    <tr>\n",
       "      <td>14</td>\n",
       "      <td>9678700500</td>\n",
       "      <td>NaN</td>\n",
       "      <td>1</td>\n",
       "      <td>0</td>\n",
       "      <td>0</td>\n",
       "      <td>0</td>\n",
       "      <td>0</td>\n",
       "      <td>0</td>\n",
       "      <td>0</td>\n",
       "      <td>0</td>\n",
       "      <td>...</td>\n",
       "      <td>0</td>\n",
       "      <td>1</td>\n",
       "      <td>0</td>\n",
       "      <td>0</td>\n",
       "      <td>0</td>\n",
       "      <td>0</td>\n",
       "      <td>0</td>\n",
       "      <td>0</td>\n",
       "      <td>0</td>\n",
       "      <td>0</td>\n",
       "    </tr>\n",
       "    <tr>\n",
       "      <td>91</td>\n",
       "      <td>19639355437</td>\n",
       "      <td>NaN</td>\n",
       "      <td>1</td>\n",
       "      <td>0</td>\n",
       "      <td>0</td>\n",
       "      <td>0</td>\n",
       "      <td>0</td>\n",
       "      <td>0</td>\n",
       "      <td>0</td>\n",
       "      <td>0</td>\n",
       "      <td>...</td>\n",
       "      <td>0</td>\n",
       "      <td>0</td>\n",
       "      <td>0</td>\n",
       "      <td>0</td>\n",
       "      <td>0</td>\n",
       "      <td>0</td>\n",
       "      <td>0</td>\n",
       "      <td>1</td>\n",
       "      <td>0</td>\n",
       "      <td>0</td>\n",
       "    </tr>\n",
       "  </tbody>\n",
       "</table>\n",
       "<p>5 rows × 38 columns</p>\n",
       "</div>"
      ],
      "text/plain": [
       "    employee_id  tenure  career_band_CAREER_BAND_1  \\\n",
       "5    8714002494     NaN                          1   \n",
       "11    187153423     NaN                          1   \n",
       "12   4680091097     NaN                          1   \n",
       "14   9678700500     NaN                          1   \n",
       "91  19639355437     NaN                          1   \n",
       "\n",
       "    career_band_CAREER_BAND_10  career_band_CAREER_BAND_2  \\\n",
       "5                            0                          0   \n",
       "11                           0                          0   \n",
       "12                           0                          0   \n",
       "14                           0                          0   \n",
       "91                           0                          0   \n",
       "\n",
       "    career_band_CAREER_BAND_3  career_band_CAREER_BAND_4  \\\n",
       "5                           0                          0   \n",
       "11                          0                          0   \n",
       "12                          0                          0   \n",
       "14                          0                          0   \n",
       "91                          0                          0   \n",
       "\n",
       "    career_band_CAREER_BAND_5  career_band_CAREER_BAND_6  \\\n",
       "5                           0                          0   \n",
       "11                          0                          0   \n",
       "12                          0                          0   \n",
       "14                          0                          0   \n",
       "91                          0                          0   \n",
       "\n",
       "    career_band_CAREER_BAND_7  ...  job_function_JOB_FUNCTION_24  \\\n",
       "5                           0  ...                             0   \n",
       "11                          0  ...                             0   \n",
       "12                          0  ...                             0   \n",
       "14                          0  ...                             0   \n",
       "91                          0  ...                             0   \n",
       "\n",
       "    job_function_JOB_FUNCTION_25  job_function_JOB_FUNCTION_26  \\\n",
       "5                              0                             0   \n",
       "11                             0                             0   \n",
       "12                             1                             0   \n",
       "14                             1                             0   \n",
       "91                             0                             0   \n",
       "\n",
       "    job_function_JOB_FUNCTION_3  job_function_JOB_FUNCTION_4  \\\n",
       "5                             0                            0   \n",
       "11                            0                            0   \n",
       "12                            0                            0   \n",
       "14                            0                            0   \n",
       "91                            0                            0   \n",
       "\n",
       "    job_function_JOB_FUNCTION_5  job_function_JOB_FUNCTION_6  \\\n",
       "5                             0                            0   \n",
       "11                            0                            0   \n",
       "12                            0                            0   \n",
       "14                            0                            0   \n",
       "91                            0                            0   \n",
       "\n",
       "    job_function_JOB_FUNCTION_7  job_function_JOB_FUNCTION_8  \\\n",
       "5                             1                            0   \n",
       "11                            1                            0   \n",
       "12                            0                            0   \n",
       "14                            0                            0   \n",
       "91                            1                            0   \n",
       "\n",
       "    job_function_JOB_FUNCTION_9  \n",
       "5                             0  \n",
       "11                            0  \n",
       "12                            0  \n",
       "14                            0  \n",
       "91                            0  \n",
       "\n",
       "[5 rows x 38 columns]"
      ]
     },
     "execution_count": 493,
     "metadata": {},
     "output_type": "execute_result"
    }
   ],
   "source": [
    "testset.head()"
   ]
  },
  {
   "cell_type": "code",
   "execution_count": 494,
   "metadata": {},
   "outputs": [],
   "source": [
    "X=trainset.iloc[:, 2:]"
   ]
  },
  {
   "cell_type": "code",
   "execution_count": 495,
   "metadata": {},
   "outputs": [],
   "source": [
    "# X=trainset.iloc[:, 2:]\n",
    "Y=trainset.iloc[:, 1]\n",
    "# regressor=DecisionTreeRegressor(random_state=0)\n",
    "# regressor.fit(X,Y)\n",
    "# testset_pred=testset.iloc[:,2:]\n",
    "# tenure_predict=regressor.predict(testset_pred)\n",
    "# testset=testset.reset_index()\n",
    "# testset=testset.drop(['index'], axis=1)\n",
    "# testset['tenure_pred']=pd.DataFrame({\"tenure_pred\":tenure_predict})\n",
    "# testset=testset.drop(['tenure'], axis=1)\n",
    "# employeeData.loc[employeeData.employee_id.isin(testset.employee_id),'tenure'] = employeeData.employee_id.map(testset.set_index('employee_id').tenure_pred)"
   ]
  },
  {
   "cell_type": "code",
   "execution_count": 496,
   "metadata": {},
   "outputs": [],
   "source": [
    "regressor=DecisionTreeRegressor(random_state=0)"
   ]
  },
  {
   "cell_type": "code",
   "execution_count": 497,
   "metadata": {},
   "outputs": [
    {
     "data": {
      "text/plain": [
       "DecisionTreeRegressor(ccp_alpha=0.0, criterion='mse', max_depth=None,\n",
       "                      max_features=None, max_leaf_nodes=None,\n",
       "                      min_impurity_decrease=0.0, min_impurity_split=None,\n",
       "                      min_samples_leaf=1, min_samples_split=2,\n",
       "                      min_weight_fraction_leaf=0.0, presort='deprecated',\n",
       "                      random_state=0, splitter='best')"
      ]
     },
     "execution_count": 497,
     "metadata": {},
     "output_type": "execute_result"
    }
   ],
   "source": [
    "regressor.fit(X,Y)"
   ]
  },
  {
   "cell_type": "code",
   "execution_count": 498,
   "metadata": {},
   "outputs": [],
   "source": [
    "testset_pred=testset.iloc[:,2:]"
   ]
  },
  {
   "cell_type": "code",
   "execution_count": 499,
   "metadata": {},
   "outputs": [],
   "source": [
    "tenure_predict=regressor.predict(testset_pred)"
   ]
  },
  {
   "cell_type": "code",
   "execution_count": 500,
   "metadata": {},
   "outputs": [],
   "source": [
    "testset=testset.reset_index()"
   ]
  },
  {
   "cell_type": "code",
   "execution_count": 501,
   "metadata": {},
   "outputs": [],
   "source": [
    "testset=testset.drop(['index'], axis=1)"
   ]
  },
  {
   "cell_type": "code",
   "execution_count": 502,
   "metadata": {},
   "outputs": [],
   "source": [
    "testset['tenure_pred']=pd.DataFrame({\"tenure_pred\":tenure_predict})"
   ]
  },
  {
   "cell_type": "code",
   "execution_count": 503,
   "metadata": {},
   "outputs": [],
   "source": [
    "testset=testset.drop(['tenure'], axis=1)"
   ]
  },
  {
   "cell_type": "code",
   "execution_count": 504,
   "metadata": {},
   "outputs": [],
   "source": [
    "employeeData.loc[employeeData.employee_id.isin(testset.employee_id),'tenure'] = employeeData.employee_id.map(testset.set_index('employee_id').tenure_pred)"
   ]
  },
  {
   "cell_type": "code",
   "execution_count": 505,
   "metadata": {},
   "outputs": [
    {
     "data": {
      "text/plain": [
       "employee_id              0\n",
       "person_type              0\n",
       "person_status            0\n",
       "ge_hire_date           478\n",
       "city                   142\n",
       "state_name             174\n",
       "country_name           174\n",
       "function_group         174\n",
       "job_function             0\n",
       "career_band              0\n",
       "industry_focus_name      0\n",
       "Year                   478\n",
       "tenure                   0\n",
       "dtype: int64"
      ]
     },
     "execution_count": 505,
     "metadata": {},
     "output_type": "execute_result"
    }
   ],
   "source": [
    "employeeData.isnull().sum()"
   ]
  },
  {
   "cell_type": "code",
   "execution_count": 506,
   "metadata": {},
   "outputs": [],
   "source": [
    "newdata = indicatorData.merge(employeeData,\n",
    "                             left_on = 'employee_id',\n",
    "                             right_on = 'employee_id',\n",
    "                             how = 'left')"
   ]
  },
  {
   "cell_type": "code",
   "execution_count": 507,
   "metadata": {},
   "outputs": [
    {
     "data": {
      "text/plain": [
       "index                       0\n",
       "alert_escalation_date       0\n",
       "alert_id_fk                 0\n",
       "insert_date                 0\n",
       "score                       0\n",
       "owner_name                 63\n",
       "employee_id                 0\n",
       "risk_factor                 0\n",
       "avg_score                   0\n",
       "classification              0\n",
       "hru                         0\n",
       "alert_category              0\n",
       "alert_type                  0\n",
       "indicator_pairs             0\n",
       "person_type                 0\n",
       "person_status               0\n",
       "ge_hire_date             2801\n",
       "city                      652\n",
       "state_name               1027\n",
       "country_name             1027\n",
       "function_group           1027\n",
       "job_function                0\n",
       "career_band                 0\n",
       "industry_focus_name         0\n",
       "Year                     2801\n",
       "tenure                      0\n",
       "dtype: int64"
      ]
     },
     "execution_count": 507,
     "metadata": {},
     "output_type": "execute_result"
    }
   ],
   "source": [
    "newdata.isnull().sum()"
   ]
  },
  {
   "cell_type": "code",
   "execution_count": 508,
   "metadata": {},
   "outputs": [
    {
     "data": {
      "text/plain": [
       "TP/DE      8561\n",
       "FP         1452\n",
       "TP/LOW     1129\n",
       "TP/HIGH     539\n",
       "Name: classification, dtype: int64"
      ]
     },
     "execution_count": 508,
     "metadata": {},
     "output_type": "execute_result"
    }
   ],
   "source": [
    "newdata['classification'].value_counts()"
   ]
  },
  {
   "cell_type": "code",
   "execution_count": 509,
   "metadata": {},
   "outputs": [],
   "source": [
    "newdata[\"owner_name\"].fillna(\"None\", inplace = True) "
   ]
  },
  {
   "cell_type": "code",
   "execution_count": 510,
   "metadata": {},
   "outputs": [],
   "source": [
    "newdata[\"country_name\"].fillna(\"None\", inplace = True) "
   ]
  },
  {
   "cell_type": "code",
   "execution_count": 511,
   "metadata": {},
   "outputs": [
    {
     "data": {
      "text/plain": [
       "index                       0\n",
       "alert_escalation_date       0\n",
       "alert_id_fk                 0\n",
       "insert_date                 0\n",
       "score                       0\n",
       "owner_name                  0\n",
       "employee_id                 0\n",
       "risk_factor                 0\n",
       "avg_score                   0\n",
       "classification              0\n",
       "hru                         0\n",
       "alert_category              0\n",
       "alert_type                  0\n",
       "indicator_pairs             0\n",
       "person_type                 0\n",
       "person_status               0\n",
       "ge_hire_date             2801\n",
       "city                      652\n",
       "state_name               1027\n",
       "country_name                0\n",
       "function_group           1027\n",
       "job_function                0\n",
       "career_band                 0\n",
       "industry_focus_name         0\n",
       "Year                     2801\n",
       "tenure                      0\n",
       "dtype: int64"
      ]
     },
     "execution_count": 511,
     "metadata": {},
     "output_type": "execute_result"
    }
   ],
   "source": [
    "newdata.isnull().sum()"
   ]
  },
  {
   "cell_type": "code",
   "execution_count": 512,
   "metadata": {},
   "outputs": [
    {
     "data": {
      "text/plain": [
       "(11681, 26)"
      ]
     },
     "execution_count": 512,
     "metadata": {},
     "output_type": "execute_result"
    }
   ],
   "source": [
    "newdata.shape"
   ]
  },
  {
   "cell_type": "code",
   "execution_count": 513,
   "metadata": {},
   "outputs": [
    {
     "data": {
      "text/plain": [
       "TP/DE      8561\n",
       "FP         1452\n",
       "TP/LOW     1129\n",
       "TP/HIGH     539\n",
       "Name: classification, dtype: int64"
      ]
     },
     "execution_count": 513,
     "metadata": {},
     "output_type": "execute_result"
    }
   ],
   "source": [
    "newdata['classification'].value_counts()"
   ]
  },
  {
   "cell_type": "code",
   "execution_count": 514,
   "metadata": {},
   "outputs": [],
   "source": [
    "from pandas import Series"
   ]
  },
  {
   "cell_type": "code",
   "execution_count": 515,
   "metadata": {},
   "outputs": [],
   "source": [
    "s=newdata['indicator_pairs'].str.split('/').apply(Series, 1).stack()"
   ]
  },
  {
   "cell_type": "code",
   "execution_count": 516,
   "metadata": {},
   "outputs": [],
   "source": [
    "s.index=s.index.droplevel(-1)"
   ]
  },
  {
   "cell_type": "code",
   "execution_count": 517,
   "metadata": {},
   "outputs": [],
   "source": [
    "s.name='indicators'"
   ]
  },
  {
   "cell_type": "code",
   "execution_count": 518,
   "metadata": {},
   "outputs": [],
   "source": [
    "newdata_fin_s=newdata.join(s)"
   ]
  },
  {
   "cell_type": "code",
   "execution_count": 519,
   "metadata": {},
   "outputs": [
    {
     "data": {
      "text/plain": [
       "(37770, 27)"
      ]
     },
     "execution_count": 519,
     "metadata": {},
     "output_type": "execute_result"
    }
   ],
   "source": [
    "newdata_fin_s.shape"
   ]
  },
  {
   "cell_type": "code",
   "execution_count": null,
   "metadata": {},
   "outputs": [],
   "source": []
  },
  {
   "cell_type": "code",
   "execution_count": 520,
   "metadata": {},
   "outputs": [],
   "source": [
    "d=newdata_fin_s.duplicated(subset=None, keep='last')"
   ]
  },
  {
   "cell_type": "code",
   "execution_count": 521,
   "metadata": {},
   "outputs": [
    {
     "data": {
      "text/plain": [
       "False    34223\n",
       "True      3547\n",
       "dtype: int64"
      ]
     },
     "execution_count": 521,
     "metadata": {},
     "output_type": "execute_result"
    }
   ],
   "source": [
    "d.value_counts()"
   ]
  },
  {
   "cell_type": "code",
   "execution_count": 522,
   "metadata": {},
   "outputs": [],
   "source": [
    "newdata_fin_s.drop_duplicates(keep='last', inplace=True)"
   ]
  },
  {
   "cell_type": "code",
   "execution_count": 523,
   "metadata": {},
   "outputs": [],
   "source": [
    "newdata_fin_s.to_csv(r'/Users/arvindpawar/Desktop/XN Updated/new_fin_s_nipa_updated.csv')"
   ]
  },
  {
   "cell_type": "code",
   "execution_count": 524,
   "metadata": {},
   "outputs": [
    {
     "data": {
      "text/plain": [
       "(34223, 27)"
      ]
     },
     "execution_count": 524,
     "metadata": {},
     "output_type": "execute_result"
    }
   ],
   "source": [
    "newdata_fin_s.shape"
   ]
  },
  {
   "cell_type": "code",
   "execution_count": 525,
   "metadata": {},
   "outputs": [
    {
     "data": {
      "text/plain": [
       "TP/DE      25556\n",
       "TP/LOW      3603\n",
       "FP          3117\n",
       "TP/HIGH     1947\n",
       "Name: classification, dtype: int64"
      ]
     },
     "execution_count": 525,
     "metadata": {},
     "output_type": "execute_result"
    }
   ],
   "source": [
    "newdata_fin_s['classification'].value_counts()"
   ]
  },
  {
   "cell_type": "code",
   "execution_count": 526,
   "metadata": {},
   "outputs": [],
   "source": [
    "newdata1 = newdata_fin_s.drop(['alert_escalation_date','insert_date','alert_category','alert_type'\n",
    "                               ,'person_status','ge_hire_date','city','state_name',\n",
    "                         'function_group', 'alert_id_fk', 'avg_score', 'Year', \n",
    "                               'person_type', 'country_name', 'industry_focus_name'\n",
    "                               ], axis=1)"
   ]
  },
  {
   "cell_type": "code",
   "execution_count": 527,
   "metadata": {},
   "outputs": [],
   "source": [
    "newdata_fin_dummy=pd.get_dummies(newdata1, columns=['owner_name','classification','hru','job_function','indicators',\n",
    "                                                       'career_band'\n",
    "                                                    ])"
   ]
  },
  {
   "cell_type": "code",
   "execution_count": 528,
   "metadata": {},
   "outputs": [],
   "source": [
    "newdata_fin_dummy_backup=newdata_fin_dummy.copy()"
   ]
  },
  {
   "cell_type": "code",
   "execution_count": 529,
   "metadata": {},
   "outputs": [],
   "source": [
    "newdata_final_avi = newdata_fin_dummy.drop(['employee_id', 'indicator_pairs'], axis=1)"
   ]
  },
  {
   "cell_type": "code",
   "execution_count": 530,
   "metadata": {},
   "outputs": [],
   "source": [
    "newdata_final_avi=newdata_final_avi.drop(['index'], axis=1)"
   ]
  },
  {
   "cell_type": "code",
   "execution_count": 531,
   "metadata": {},
   "outputs": [
    {
     "data": {
      "text/html": [
       "<div>\n",
       "<style scoped>\n",
       "    .dataframe tbody tr th:only-of-type {\n",
       "        vertical-align: middle;\n",
       "    }\n",
       "\n",
       "    .dataframe tbody tr th {\n",
       "        vertical-align: top;\n",
       "    }\n",
       "\n",
       "    .dataframe thead th {\n",
       "        text-align: right;\n",
       "    }\n",
       "</style>\n",
       "<table border=\"1\" class=\"dataframe\">\n",
       "  <thead>\n",
       "    <tr style=\"text-align: right;\">\n",
       "      <th></th>\n",
       "      <th>score</th>\n",
       "      <th>risk_factor</th>\n",
       "      <th>tenure</th>\n",
       "      <th>owner_name_Analyst_1</th>\n",
       "      <th>owner_name_Analyst_3</th>\n",
       "      <th>owner_name_Analyst_4</th>\n",
       "      <th>owner_name_Analyst_6</th>\n",
       "      <th>owner_name_Analyst_7</th>\n",
       "      <th>owner_name_Analyst_8</th>\n",
       "      <th>owner_name_None</th>\n",
       "      <th>...</th>\n",
       "      <th>career_band_CAREER_BAND_1</th>\n",
       "      <th>career_band_CAREER_BAND_10</th>\n",
       "      <th>career_band_CAREER_BAND_2</th>\n",
       "      <th>career_band_CAREER_BAND_3</th>\n",
       "      <th>career_band_CAREER_BAND_4</th>\n",
       "      <th>career_band_CAREER_BAND_5</th>\n",
       "      <th>career_band_CAREER_BAND_6</th>\n",
       "      <th>career_band_CAREER_BAND_7</th>\n",
       "      <th>career_band_CAREER_BAND_8</th>\n",
       "      <th>career_band_CAREER_BAND_9</th>\n",
       "    </tr>\n",
       "  </thead>\n",
       "  <tbody>\n",
       "    <tr>\n",
       "      <td>0</td>\n",
       "      <td>1344</td>\n",
       "      <td>5.868996</td>\n",
       "      <td>22.0</td>\n",
       "      <td>0</td>\n",
       "      <td>0</td>\n",
       "      <td>0</td>\n",
       "      <td>0</td>\n",
       "      <td>0</td>\n",
       "      <td>0</td>\n",
       "      <td>0</td>\n",
       "      <td>...</td>\n",
       "      <td>0</td>\n",
       "      <td>0</td>\n",
       "      <td>1</td>\n",
       "      <td>0</td>\n",
       "      <td>0</td>\n",
       "      <td>0</td>\n",
       "      <td>0</td>\n",
       "      <td>0</td>\n",
       "      <td>0</td>\n",
       "      <td>0</td>\n",
       "    </tr>\n",
       "    <tr>\n",
       "      <td>1</td>\n",
       "      <td>1392</td>\n",
       "      <td>6.078603</td>\n",
       "      <td>22.0</td>\n",
       "      <td>0</td>\n",
       "      <td>0</td>\n",
       "      <td>0</td>\n",
       "      <td>0</td>\n",
       "      <td>0</td>\n",
       "      <td>0</td>\n",
       "      <td>0</td>\n",
       "      <td>...</td>\n",
       "      <td>0</td>\n",
       "      <td>0</td>\n",
       "      <td>1</td>\n",
       "      <td>0</td>\n",
       "      <td>0</td>\n",
       "      <td>0</td>\n",
       "      <td>0</td>\n",
       "      <td>0</td>\n",
       "      <td>0</td>\n",
       "      <td>0</td>\n",
       "    </tr>\n",
       "    <tr>\n",
       "      <td>2</td>\n",
       "      <td>1377</td>\n",
       "      <td>5.884615</td>\n",
       "      <td>22.0</td>\n",
       "      <td>0</td>\n",
       "      <td>0</td>\n",
       "      <td>0</td>\n",
       "      <td>0</td>\n",
       "      <td>0</td>\n",
       "      <td>0</td>\n",
       "      <td>0</td>\n",
       "      <td>...</td>\n",
       "      <td>0</td>\n",
       "      <td>0</td>\n",
       "      <td>1</td>\n",
       "      <td>0</td>\n",
       "      <td>0</td>\n",
       "      <td>0</td>\n",
       "      <td>0</td>\n",
       "      <td>0</td>\n",
       "      <td>0</td>\n",
       "      <td>0</td>\n",
       "    </tr>\n",
       "    <tr>\n",
       "      <td>3</td>\n",
       "      <td>1383</td>\n",
       "      <td>5.668033</td>\n",
       "      <td>22.0</td>\n",
       "      <td>0</td>\n",
       "      <td>0</td>\n",
       "      <td>0</td>\n",
       "      <td>0</td>\n",
       "      <td>0</td>\n",
       "      <td>0</td>\n",
       "      <td>0</td>\n",
       "      <td>...</td>\n",
       "      <td>0</td>\n",
       "      <td>0</td>\n",
       "      <td>1</td>\n",
       "      <td>0</td>\n",
       "      <td>0</td>\n",
       "      <td>0</td>\n",
       "      <td>0</td>\n",
       "      <td>0</td>\n",
       "      <td>0</td>\n",
       "      <td>0</td>\n",
       "    </tr>\n",
       "    <tr>\n",
       "      <td>4</td>\n",
       "      <td>1380</td>\n",
       "      <td>5.587045</td>\n",
       "      <td>22.0</td>\n",
       "      <td>0</td>\n",
       "      <td>0</td>\n",
       "      <td>0</td>\n",
       "      <td>0</td>\n",
       "      <td>0</td>\n",
       "      <td>0</td>\n",
       "      <td>0</td>\n",
       "      <td>...</td>\n",
       "      <td>0</td>\n",
       "      <td>0</td>\n",
       "      <td>1</td>\n",
       "      <td>0</td>\n",
       "      <td>0</td>\n",
       "      <td>0</td>\n",
       "      <td>0</td>\n",
       "      <td>0</td>\n",
       "      <td>0</td>\n",
       "      <td>0</td>\n",
       "    </tr>\n",
       "  </tbody>\n",
       "</table>\n",
       "<p>5 rows × 149 columns</p>\n",
       "</div>"
      ],
      "text/plain": [
       "   score  risk_factor  tenure  owner_name_Analyst_1  owner_name_Analyst_3  \\\n",
       "0   1344     5.868996    22.0                     0                     0   \n",
       "1   1392     6.078603    22.0                     0                     0   \n",
       "2   1377     5.884615    22.0                     0                     0   \n",
       "3   1383     5.668033    22.0                     0                     0   \n",
       "4   1380     5.587045    22.0                     0                     0   \n",
       "\n",
       "   owner_name_Analyst_4  owner_name_Analyst_6  owner_name_Analyst_7  \\\n",
       "0                     0                     0                     0   \n",
       "1                     0                     0                     0   \n",
       "2                     0                     0                     0   \n",
       "3                     0                     0                     0   \n",
       "4                     0                     0                     0   \n",
       "\n",
       "   owner_name_Analyst_8  owner_name_None  ...  career_band_CAREER_BAND_1  \\\n",
       "0                     0                0  ...                          0   \n",
       "1                     0                0  ...                          0   \n",
       "2                     0                0  ...                          0   \n",
       "3                     0                0  ...                          0   \n",
       "4                     0                0  ...                          0   \n",
       "\n",
       "   career_band_CAREER_BAND_10  career_band_CAREER_BAND_2  \\\n",
       "0                           0                          1   \n",
       "1                           0                          1   \n",
       "2                           0                          1   \n",
       "3                           0                          1   \n",
       "4                           0                          1   \n",
       "\n",
       "   career_band_CAREER_BAND_3  career_band_CAREER_BAND_4  \\\n",
       "0                          0                          0   \n",
       "1                          0                          0   \n",
       "2                          0                          0   \n",
       "3                          0                          0   \n",
       "4                          0                          0   \n",
       "\n",
       "   career_band_CAREER_BAND_5  career_band_CAREER_BAND_6  \\\n",
       "0                          0                          0   \n",
       "1                          0                          0   \n",
       "2                          0                          0   \n",
       "3                          0                          0   \n",
       "4                          0                          0   \n",
       "\n",
       "   career_band_CAREER_BAND_7  career_band_CAREER_BAND_8  \\\n",
       "0                          0                          0   \n",
       "1                          0                          0   \n",
       "2                          0                          0   \n",
       "3                          0                          0   \n",
       "4                          0                          0   \n",
       "\n",
       "   career_band_CAREER_BAND_9  \n",
       "0                          0  \n",
       "1                          0  \n",
       "2                          0  \n",
       "3                          0  \n",
       "4                          0  \n",
       "\n",
       "[5 rows x 149 columns]"
      ]
     },
     "execution_count": 531,
     "metadata": {},
     "output_type": "execute_result"
    }
   ],
   "source": [
    "newdata_final_avi.head()"
   ]
  },
  {
   "cell_type": "code",
   "execution_count": 532,
   "metadata": {},
   "outputs": [],
   "source": [
    "from sklearn.cluster import KMeans"
   ]
  },
  {
   "cell_type": "code",
   "execution_count": 533,
   "metadata": {},
   "outputs": [],
   "source": [
    "distortions = []\n",
    "K = range(1,11)\n",
    "for k in K:\n",
    "    kmeanModel = KMeans(n_clusters=k)\n",
    "    kmeanModel.fit(newdata_final_avi)\n",
    "    distortions.append(kmeanModel.inertia_)"
   ]
  },
  {
   "cell_type": "code",
   "execution_count": 534,
   "metadata": {},
   "outputs": [
    {
     "data": {
      "text/plain": [
       "Text(0.5, 1.0, 'The Elbow Method showing the optimal k')"
      ]
     },
     "execution_count": 534,
     "metadata": {},
     "output_type": "execute_result"
    },
    {
     "data": {
      "image/png": "[encoded data removed]",
      "text/plain": [
       "<Figure size 1152x576 with 1 Axes>"
      ]
     },
     "metadata": {
      "needs_background": "light"
     },
     "output_type": "display_data"
    }
   ],
   "source": [
    "plt.figure(figsize=(16,8))\n",
    "plt.plot(K, distortions, 'bx-', color='green')\n",
    "plt.xlabel('k')\n",
    "plt.ylabel('Distortion')\n",
    "plt.title('The Elbow Method showing the optimal k')"
   ]
  },
  {
   "cell_type": "code",
   "execution_count": 535,
   "metadata": {},
   "outputs": [],
   "source": [
    "# from sklearn.metrics import silhouette_score\n",
    "# range_n_clusters = list (range(3,10))\n",
    "# for n_clusters in range_n_clusters:\n",
    "#     clusterer = KMeans(n_clusters=n_clusters)\n",
    "#     preds = clusterer.fit_predict(newdata_final_avi)\n",
    "#     centers = clusterer.cluster_centers_\n",
    "\n",
    "#     score = silhouette_score(newdata_final_avi, preds)\n",
    "#     print(\"For n_clusters = {}, silhouette score is {})\".format(n_clusters, score))"
   ]
  },
  {
   "cell_type": "code",
   "execution_count": 536,
   "metadata": {},
   "outputs": [],
   "source": [
    "kmeans = KMeans(n_clusters=4, random_state=0)"
   ]
  },
  {
   "cell_type": "code",
   "execution_count": 537,
   "metadata": {},
   "outputs": [],
   "source": [
    "clusters = kmeans.fit_predict(newdata_final_avi)"
   ]
  },
  {
   "cell_type": "code",
   "execution_count": 538,
   "metadata": {},
   "outputs": [
    {
     "name": "stdout",
     "output_type": "stream",
     "text": [
      "[0 0 0 ... 0 0 0]\n"
     ]
    }
   ],
   "source": [
    "print(clusters)"
   ]
  },
  {
   "cell_type": "code",
   "execution_count": 539,
   "metadata": {},
   "outputs": [],
   "source": [
    "newdata_fin_dummy=newdata_fin_dummy.drop(['index', 'employee_id'], axis=1)"
   ]
  },
  {
   "cell_type": "code",
   "execution_count": 540,
   "metadata": {},
   "outputs": [
    {
     "data": {
      "text/html": [
       "<div>\n",
       "<style scoped>\n",
       "    .dataframe tbody tr th:only-of-type {\n",
       "        vertical-align: middle;\n",
       "    }\n",
       "\n",
       "    .dataframe tbody tr th {\n",
       "        vertical-align: top;\n",
       "    }\n",
       "\n",
       "    .dataframe thead th {\n",
       "        text-align: right;\n",
       "    }\n",
       "</style>\n",
       "<table border=\"1\" class=\"dataframe\">\n",
       "  <thead>\n",
       "    <tr style=\"text-align: right;\">\n",
       "      <th></th>\n",
       "      <th>score</th>\n",
       "      <th>risk_factor</th>\n",
       "      <th>indicator_pairs</th>\n",
       "      <th>tenure</th>\n",
       "      <th>owner_name_Analyst_1</th>\n",
       "      <th>owner_name_Analyst_3</th>\n",
       "      <th>owner_name_Analyst_4</th>\n",
       "      <th>owner_name_Analyst_6</th>\n",
       "      <th>owner_name_Analyst_7</th>\n",
       "      <th>owner_name_Analyst_8</th>\n",
       "      <th>...</th>\n",
       "      <th>career_band_CAREER_BAND_1</th>\n",
       "      <th>career_band_CAREER_BAND_10</th>\n",
       "      <th>career_band_CAREER_BAND_2</th>\n",
       "      <th>career_band_CAREER_BAND_3</th>\n",
       "      <th>career_band_CAREER_BAND_4</th>\n",
       "      <th>career_band_CAREER_BAND_5</th>\n",
       "      <th>career_band_CAREER_BAND_6</th>\n",
       "      <th>career_band_CAREER_BAND_7</th>\n",
       "      <th>career_band_CAREER_BAND_8</th>\n",
       "      <th>career_band_CAREER_BAND_9</th>\n",
       "    </tr>\n",
       "  </thead>\n",
       "  <tbody>\n",
       "    <tr>\n",
       "      <td>0</td>\n",
       "      <td>1344</td>\n",
       "      <td>5.868996</td>\n",
       "      <td>App_1_Heat_Box_PRE_2016_Q3</td>\n",
       "      <td>22.0</td>\n",
       "      <td>0</td>\n",
       "      <td>0</td>\n",
       "      <td>0</td>\n",
       "      <td>0</td>\n",
       "      <td>0</td>\n",
       "      <td>0</td>\n",
       "      <td>...</td>\n",
       "      <td>0</td>\n",
       "      <td>0</td>\n",
       "      <td>1</td>\n",
       "      <td>0</td>\n",
       "      <td>0</td>\n",
       "      <td>0</td>\n",
       "      <td>0</td>\n",
       "      <td>0</td>\n",
       "      <td>0</td>\n",
       "      <td>0</td>\n",
       "    </tr>\n",
       "    <tr>\n",
       "      <td>1</td>\n",
       "      <td>1392</td>\n",
       "      <td>6.078603</td>\n",
       "      <td>App_1_Heat_Box_PRE_2016_Q3</td>\n",
       "      <td>22.0</td>\n",
       "      <td>0</td>\n",
       "      <td>0</td>\n",
       "      <td>0</td>\n",
       "      <td>0</td>\n",
       "      <td>0</td>\n",
       "      <td>0</td>\n",
       "      <td>...</td>\n",
       "      <td>0</td>\n",
       "      <td>0</td>\n",
       "      <td>1</td>\n",
       "      <td>0</td>\n",
       "      <td>0</td>\n",
       "      <td>0</td>\n",
       "      <td>0</td>\n",
       "      <td>0</td>\n",
       "      <td>0</td>\n",
       "      <td>0</td>\n",
       "    </tr>\n",
       "    <tr>\n",
       "      <td>2</td>\n",
       "      <td>1377</td>\n",
       "      <td>5.884615</td>\n",
       "      <td>App_1_Heat_Box_PRE_2016_Q3</td>\n",
       "      <td>22.0</td>\n",
       "      <td>0</td>\n",
       "      <td>0</td>\n",
       "      <td>0</td>\n",
       "      <td>0</td>\n",
       "      <td>0</td>\n",
       "      <td>0</td>\n",
       "      <td>...</td>\n",
       "      <td>0</td>\n",
       "      <td>0</td>\n",
       "      <td>1</td>\n",
       "      <td>0</td>\n",
       "      <td>0</td>\n",
       "      <td>0</td>\n",
       "      <td>0</td>\n",
       "      <td>0</td>\n",
       "      <td>0</td>\n",
       "      <td>0</td>\n",
       "    </tr>\n",
       "    <tr>\n",
       "      <td>3</td>\n",
       "      <td>1383</td>\n",
       "      <td>5.668033</td>\n",
       "      <td>App_1_Heat_Box_PRE_2016_Q3</td>\n",
       "      <td>22.0</td>\n",
       "      <td>0</td>\n",
       "      <td>0</td>\n",
       "      <td>0</td>\n",
       "      <td>0</td>\n",
       "      <td>0</td>\n",
       "      <td>0</td>\n",
       "      <td>...</td>\n",
       "      <td>0</td>\n",
       "      <td>0</td>\n",
       "      <td>1</td>\n",
       "      <td>0</td>\n",
       "      <td>0</td>\n",
       "      <td>0</td>\n",
       "      <td>0</td>\n",
       "      <td>0</td>\n",
       "      <td>0</td>\n",
       "      <td>0</td>\n",
       "    </tr>\n",
       "    <tr>\n",
       "      <td>4</td>\n",
       "      <td>1380</td>\n",
       "      <td>5.587045</td>\n",
       "      <td>App_1_Heat_Box_PRE_2016_Q3</td>\n",
       "      <td>22.0</td>\n",
       "      <td>0</td>\n",
       "      <td>0</td>\n",
       "      <td>0</td>\n",
       "      <td>0</td>\n",
       "      <td>0</td>\n",
       "      <td>0</td>\n",
       "      <td>...</td>\n",
       "      <td>0</td>\n",
       "      <td>0</td>\n",
       "      <td>1</td>\n",
       "      <td>0</td>\n",
       "      <td>0</td>\n",
       "      <td>0</td>\n",
       "      <td>0</td>\n",
       "      <td>0</td>\n",
       "      <td>0</td>\n",
       "      <td>0</td>\n",
       "    </tr>\n",
       "    <tr>\n",
       "      <td>...</td>\n",
       "      <td>...</td>\n",
       "      <td>...</td>\n",
       "      <td>...</td>\n",
       "      <td>...</td>\n",
       "      <td>...</td>\n",
       "      <td>...</td>\n",
       "      <td>...</td>\n",
       "      <td>...</td>\n",
       "      <td>...</td>\n",
       "      <td>...</td>\n",
       "      <td>...</td>\n",
       "      <td>...</td>\n",
       "      <td>...</td>\n",
       "      <td>...</td>\n",
       "      <td>...</td>\n",
       "      <td>...</td>\n",
       "      <td>...</td>\n",
       "      <td>...</td>\n",
       "      <td>...</td>\n",
       "      <td>...</td>\n",
       "      <td>...</td>\n",
       "    </tr>\n",
       "    <tr>\n",
       "      <td>11679</td>\n",
       "      <td>980</td>\n",
       "      <td>8.376068</td>\n",
       "      <td>App_3_Heat_Email_CD/Threshold_Heat_BA_IND/Thre...</td>\n",
       "      <td>12.0</td>\n",
       "      <td>0</td>\n",
       "      <td>0</td>\n",
       "      <td>0</td>\n",
       "      <td>0</td>\n",
       "      <td>1</td>\n",
       "      <td>0</td>\n",
       "      <td>...</td>\n",
       "      <td>0</td>\n",
       "      <td>1</td>\n",
       "      <td>0</td>\n",
       "      <td>0</td>\n",
       "      <td>0</td>\n",
       "      <td>0</td>\n",
       "      <td>0</td>\n",
       "      <td>0</td>\n",
       "      <td>0</td>\n",
       "      <td>0</td>\n",
       "    </tr>\n",
       "    <tr>\n",
       "      <td>11679</td>\n",
       "      <td>980</td>\n",
       "      <td>8.376068</td>\n",
       "      <td>App_3_Heat_Email_CD/Threshold_Heat_BA_IND/Thre...</td>\n",
       "      <td>12.0</td>\n",
       "      <td>0</td>\n",
       "      <td>0</td>\n",
       "      <td>0</td>\n",
       "      <td>0</td>\n",
       "      <td>1</td>\n",
       "      <td>0</td>\n",
       "      <td>...</td>\n",
       "      <td>0</td>\n",
       "      <td>1</td>\n",
       "      <td>0</td>\n",
       "      <td>0</td>\n",
       "      <td>0</td>\n",
       "      <td>0</td>\n",
       "      <td>0</td>\n",
       "      <td>0</td>\n",
       "      <td>0</td>\n",
       "      <td>0</td>\n",
       "    </tr>\n",
       "    <tr>\n",
       "      <td>11679</td>\n",
       "      <td>980</td>\n",
       "      <td>8.376068</td>\n",
       "      <td>App_3_Heat_Email_CD/Threshold_Heat_BA_IND/Thre...</td>\n",
       "      <td>12.0</td>\n",
       "      <td>0</td>\n",
       "      <td>0</td>\n",
       "      <td>0</td>\n",
       "      <td>0</td>\n",
       "      <td>1</td>\n",
       "      <td>0</td>\n",
       "      <td>...</td>\n",
       "      <td>0</td>\n",
       "      <td>1</td>\n",
       "      <td>0</td>\n",
       "      <td>0</td>\n",
       "      <td>0</td>\n",
       "      <td>0</td>\n",
       "      <td>0</td>\n",
       "      <td>0</td>\n",
       "      <td>0</td>\n",
       "      <td>0</td>\n",
       "    </tr>\n",
       "    <tr>\n",
       "      <td>11680</td>\n",
       "      <td>1152</td>\n",
       "      <td>5.097345</td>\n",
       "      <td>App_3_Heat_Email_CD/Threshold_Heat_Email_IND</td>\n",
       "      <td>9.0</td>\n",
       "      <td>0</td>\n",
       "      <td>0</td>\n",
       "      <td>0</td>\n",
       "      <td>0</td>\n",
       "      <td>1</td>\n",
       "      <td>0</td>\n",
       "      <td>...</td>\n",
       "      <td>0</td>\n",
       "      <td>0</td>\n",
       "      <td>0</td>\n",
       "      <td>0</td>\n",
       "      <td>0</td>\n",
       "      <td>0</td>\n",
       "      <td>0</td>\n",
       "      <td>0</td>\n",
       "      <td>1</td>\n",
       "      <td>0</td>\n",
       "    </tr>\n",
       "    <tr>\n",
       "      <td>11680</td>\n",
       "      <td>1152</td>\n",
       "      <td>5.097345</td>\n",
       "      <td>App_3_Heat_Email_CD/Threshold_Heat_Email_IND</td>\n",
       "      <td>9.0</td>\n",
       "      <td>0</td>\n",
       "      <td>0</td>\n",
       "      <td>0</td>\n",
       "      <td>0</td>\n",
       "      <td>1</td>\n",
       "      <td>0</td>\n",
       "      <td>...</td>\n",
       "      <td>0</td>\n",
       "      <td>0</td>\n",
       "      <td>0</td>\n",
       "      <td>0</td>\n",
       "      <td>0</td>\n",
       "      <td>0</td>\n",
       "      <td>0</td>\n",
       "      <td>0</td>\n",
       "      <td>1</td>\n",
       "      <td>0</td>\n",
       "    </tr>\n",
       "  </tbody>\n",
       "</table>\n",
       "<p>34223 rows × 150 columns</p>\n",
       "</div>"
      ],
      "text/plain": [
       "       score  risk_factor                                    indicator_pairs  \\\n",
       "0       1344     5.868996                         App_1_Heat_Box_PRE_2016_Q3   \n",
       "1       1392     6.078603                         App_1_Heat_Box_PRE_2016_Q3   \n",
       "2       1377     5.884615                         App_1_Heat_Box_PRE_2016_Q3   \n",
       "3       1383     5.668033                         App_1_Heat_Box_PRE_2016_Q3   \n",
       "4       1380     5.587045                         App_1_Heat_Box_PRE_2016_Q3   \n",
       "...      ...          ...                                                ...   \n",
       "11679    980     8.376068  App_3_Heat_Email_CD/Threshold_Heat_BA_IND/Thre...   \n",
       "11679    980     8.376068  App_3_Heat_Email_CD/Threshold_Heat_BA_IND/Thre...   \n",
       "11679    980     8.376068  App_3_Heat_Email_CD/Threshold_Heat_BA_IND/Thre...   \n",
       "11680   1152     5.097345       App_3_Heat_Email_CD/Threshold_Heat_Email_IND   \n",
       "11680   1152     5.097345       App_3_Heat_Email_CD/Threshold_Heat_Email_IND   \n",
       "\n",
       "       tenure  owner_name_Analyst_1  owner_name_Analyst_3  \\\n",
       "0        22.0                     0                     0   \n",
       "1        22.0                     0                     0   \n",
       "2        22.0                     0                     0   \n",
       "3        22.0                     0                     0   \n",
       "4        22.0                     0                     0   \n",
       "...       ...                   ...                   ...   \n",
       "11679    12.0                     0                     0   \n",
       "11679    12.0                     0                     0   \n",
       "11679    12.0                     0                     0   \n",
       "11680     9.0                     0                     0   \n",
       "11680     9.0                     0                     0   \n",
       "\n",
       "       owner_name_Analyst_4  owner_name_Analyst_6  owner_name_Analyst_7  \\\n",
       "0                         0                     0                     0   \n",
       "1                         0                     0                     0   \n",
       "2                         0                     0                     0   \n",
       "3                         0                     0                     0   \n",
       "4                         0                     0                     0   \n",
       "...                     ...                   ...                   ...   \n",
       "11679                     0                     0                     1   \n",
       "11679                     0                     0                     1   \n",
       "11679                     0                     0                     1   \n",
       "11680                     0                     0                     1   \n",
       "11680                     0                     0                     1   \n",
       "\n",
       "       owner_name_Analyst_8  ...  career_band_CAREER_BAND_1  \\\n",
       "0                         0  ...                          0   \n",
       "1                         0  ...                          0   \n",
       "2                         0  ...                          0   \n",
       "3                         0  ...                          0   \n",
       "4                         0  ...                          0   \n",
       "...                     ...  ...                        ...   \n",
       "11679                     0  ...                          0   \n",
       "11679                     0  ...                          0   \n",
       "11679                     0  ...                          0   \n",
       "11680                     0  ...                          0   \n",
       "11680                     0  ...                          0   \n",
       "\n",
       "       career_band_CAREER_BAND_10  career_band_CAREER_BAND_2  \\\n",
       "0                               0                          1   \n",
       "1                               0                          1   \n",
       "2                               0                          1   \n",
       "3                               0                          1   \n",
       "4                               0                          1   \n",
       "...                           ...                        ...   \n",
       "11679                           1                          0   \n",
       "11679                           1                          0   \n",
       "11679                           1                          0   \n",
       "11680                           0                          0   \n",
       "11680                           0                          0   \n",
       "\n",
       "       career_band_CAREER_BAND_3  career_band_CAREER_BAND_4  \\\n",
       "0                              0                          0   \n",
       "1                              0                          0   \n",
       "2                              0                          0   \n",
       "3                              0                          0   \n",
       "4                              0                          0   \n",
       "...                          ...                        ...   \n",
       "11679                          0                          0   \n",
       "11679                          0                          0   \n",
       "11679                          0                          0   \n",
       "11680                          0                          0   \n",
       "11680                          0                          0   \n",
       "\n",
       "       career_band_CAREER_BAND_5  career_band_CAREER_BAND_6  \\\n",
       "0                              0                          0   \n",
       "1                              0                          0   \n",
       "2                              0                          0   \n",
       "3                              0                          0   \n",
       "4                              0                          0   \n",
       "...                          ...                        ...   \n",
       "11679                          0                          0   \n",
       "11679                          0                          0   \n",
       "11679                          0                          0   \n",
       "11680                          0                          0   \n",
       "11680                          0                          0   \n",
       "\n",
       "       career_band_CAREER_BAND_7  career_band_CAREER_BAND_8  \\\n",
       "0                              0                          0   \n",
       "1                              0                          0   \n",
       "2                              0                          0   \n",
       "3                              0                          0   \n",
       "4                              0                          0   \n",
       "...                          ...                        ...   \n",
       "11679                          0                          0   \n",
       "11679                          0                          0   \n",
       "11679                          0                          0   \n",
       "11680                          0                          1   \n",
       "11680                          0                          1   \n",
       "\n",
       "       career_band_CAREER_BAND_9  \n",
       "0                              0  \n",
       "1                              0  \n",
       "2                              0  \n",
       "3                              0  \n",
       "4                              0  \n",
       "...                          ...  \n",
       "11679                          0  \n",
       "11679                          0  \n",
       "11679                          0  \n",
       "11680                          0  \n",
       "11680                          0  \n",
       "\n",
       "[34223 rows x 150 columns]"
      ]
     },
     "execution_count": 540,
     "metadata": {},
     "output_type": "execute_result"
    }
   ],
   "source": [
    "newdata_fin_dummy"
   ]
  },
  {
   "cell_type": "code",
   "execution_count": 541,
   "metadata": {},
   "outputs": [],
   "source": [
    "newdata_fin_dummy= newdata_fin_dummy.reset_index()\n",
    "df= pd.DataFrame(clusters)\n",
    "df.columns = ['cluster_pred']\n",
    "df1_avi= pd.concat([newdata_fin_dummy, df], axis = 1).reset_index()"
   ]
  },
  {
   "cell_type": "code",
   "execution_count": 542,
   "metadata": {},
   "outputs": [],
   "source": [
    "# df1_avi.head()"
   ]
  },
  {
   "cell_type": "code",
   "execution_count": 543,
   "metadata": {},
   "outputs": [],
   "source": [
    "# df1_avi.iloc[:, 7:]"
   ]
  },
  {
   "cell_type": "code",
   "execution_count": 544,
   "metadata": {},
   "outputs": [],
   "source": [
    "gb = df1_avi.groupby(['cluster_pred']).sum()"
   ]
  },
  {
   "cell_type": "code",
   "execution_count": 545,
   "metadata": {},
   "outputs": [
    {
     "data": {
      "text/html": [
       "<div>\n",
       "<style scoped>\n",
       "    .dataframe tbody tr th:only-of-type {\n",
       "        vertical-align: middle;\n",
       "    }\n",
       "\n",
       "    .dataframe tbody tr th {\n",
       "        vertical-align: top;\n",
       "    }\n",
       "\n",
       "    .dataframe thead th {\n",
       "        text-align: right;\n",
       "    }\n",
       "</style>\n",
       "<table border=\"1\" class=\"dataframe\">\n",
       "  <thead>\n",
       "    <tr style=\"text-align: right;\">\n",
       "      <th></th>\n",
       "      <th>classification_TP/HIGH</th>\n",
       "      <th>classification_TP/LOW</th>\n",
       "    </tr>\n",
       "    <tr>\n",
       "      <th>cluster_pred</th>\n",
       "      <th></th>\n",
       "      <th></th>\n",
       "    </tr>\n",
       "  </thead>\n",
       "  <tbody>\n",
       "    <tr>\n",
       "      <td>0</td>\n",
       "      <td>1813.0</td>\n",
       "      <td>3325.0</td>\n",
       "    </tr>\n",
       "    <tr>\n",
       "      <td>1</td>\n",
       "      <td>18.0</td>\n",
       "      <td>27.0</td>\n",
       "    </tr>\n",
       "    <tr>\n",
       "      <td>2</td>\n",
       "      <td>116.0</td>\n",
       "      <td>226.0</td>\n",
       "    </tr>\n",
       "    <tr>\n",
       "      <td>3</td>\n",
       "      <td>0.0</td>\n",
       "      <td>25.0</td>\n",
       "    </tr>\n",
       "  </tbody>\n",
       "</table>\n",
       "</div>"
      ],
      "text/plain": [
       "              classification_TP/HIGH  classification_TP/LOW\n",
       "cluster_pred                                               \n",
       "0                             1813.0                 3325.0\n",
       "1                               18.0                   27.0\n",
       "2                              116.0                  226.0\n",
       "3                                0.0                   25.0"
      ]
     },
     "execution_count": 545,
     "metadata": {},
     "output_type": "execute_result"
    }
   ],
   "source": [
    "gb[['classification_TP/HIGH', 'classification_TP/LOW']]"
   ]
  },
  {
   "cell_type": "code",
   "execution_count": 546,
   "metadata": {},
   "outputs": [],
   "source": [
    "gb.to_csv(r'/Users/arvindpawar/Desktop/Automic ss/updated_weekly_avi_4.csv')"
   ]
  },
  {
   "cell_type": "code",
   "execution_count": null,
   "metadata": {},
   "outputs": [],
   "source": []
  },
  {
   "cell_type": "code",
   "execution_count": 357,
   "metadata": {},
   "outputs": [],
   "source": [
    "##TP/HIGH is 1 and rest are 0 - predictive analytics"
   ]
  },
  {
   "cell_type": "code",
   "execution_count": null,
   "metadata": {},
   "outputs": [],
   "source": []
  },
  {
   "cell_type": "code",
   "execution_count": null,
   "metadata": {},
   "outputs": [],
   "source": []
  },
  {
   "cell_type": "code",
   "execution_count": 358,
   "metadata": {},
   "outputs": [
    {
     "name": "stdout",
     "output_type": "stream",
     "text": [
      "Libraries Imported\n",
      "0    0\n",
      "1    0\n",
      "2    0\n",
      "3    0\n",
      "4    0\n",
      "Name: classification, dtype: int64\n",
      "Index(['1', '3', '0', '2'], dtype='object')\n"
     ]
    }
   ],
   "source": [
    "#random forest\n",
    "import numpy as np\n",
    "import pandas as pd\n",
    "from sklearn.model_selection import train_test_split\n",
    "from sklearn.preprocessing import StandardScaler\n",
    "from sklearn.ensemble import RandomForestClassifier\n",
    "from sklearn.metrics import confusion_matrix\n",
    "from sklearn.externals import joblib\n",
    "print('Libraries Imported')\n",
    "newdata_rf_dummy=pd.get_dummies(newdata1, columns=['owner_name','hru','indicators',\n",
    "                                                    'job_function','career_band'\n",
    "                                                       ])\n",
    "\n",
    "newdata_rf_dummy=newdata_rf_dummy.drop(['indicator_pairs'], axis=1)\n",
    "newdata_rf_dummy['classification'].replace({\"FP\":\"0\", \"TP/DE\":\"1\", \"TP/LOW\":\"2\", \"TP/HIGH\":\"3\"}, inplace=True)\n",
    "newdata_rf_dummy=newdata_rf_dummy.drop(['index'], axis=1)\n",
    "\n",
    "#Creating the dependent variable class\n",
    "factor = pd.factorize(newdata_rf_dummy['classification'])\n",
    "newdata_rf_dummy.classification = factor[0]\n",
    "definitions = factor[1]\n",
    "print(newdata_rf_dummy.classification.head())\n",
    "print(definitions)"
   ]
  },
  {
   "cell_type": "code",
   "execution_count": 359,
   "metadata": {},
   "outputs": [],
   "source": [
    "#newdata_rf_dummy=newdata_rf_dummy.drop(['index'], axis=1)"
   ]
  },
  {
   "cell_type": "code",
   "execution_count": 360,
   "metadata": {},
   "outputs": [],
   "source": [
    "tpHighDf=newdata_rf_dummy.copy()"
   ]
  },
  {
   "cell_type": "code",
   "execution_count": 361,
   "metadata": {},
   "outputs": [
    {
     "data": {
      "text/plain": [
       "array([0, 1, 2, 3])"
      ]
     },
     "execution_count": 361,
     "metadata": {},
     "output_type": "execute_result"
    }
   ],
   "source": [
    "tpHighDf['classification'].unique()"
   ]
  },
  {
   "cell_type": "code",
   "execution_count": 362,
   "metadata": {},
   "outputs": [],
   "source": [
    "tpHighDf['classification'] = (tpHighDf['classification'] == 3).astype(int)"
   ]
  },
  {
   "cell_type": "code",
   "execution_count": 363,
   "metadata": {},
   "outputs": [
    {
     "data": {
      "text/plain": [
       "0    30620\n",
       "1     3603\n",
       "Name: classification, dtype: int64"
      ]
     },
     "execution_count": 363,
     "metadata": {},
     "output_type": "execute_result"
    }
   ],
   "source": [
    "tpHighDf['classification'].value_counts()"
   ]
  },
  {
   "cell_type": "code",
   "execution_count": 364,
   "metadata": {},
   "outputs": [
    {
     "data": {
      "text/plain": [
       "(34223, 147)"
      ]
     },
     "execution_count": 364,
     "metadata": {},
     "output_type": "execute_result"
    }
   ],
   "source": [
    "tpHighDf.shape"
   ]
  },
  {
   "cell_type": "code",
   "execution_count": 365,
   "metadata": {},
   "outputs": [],
   "source": [
    "#Decision Tree TP/HIGH = 1 and rest are 0"
   ]
  },
  {
   "cell_type": "code",
   "execution_count": 366,
   "metadata": {},
   "outputs": [],
   "source": [
    "from sklearn.tree import DecisionTreeClassifier"
   ]
  },
  {
   "cell_type": "code",
   "execution_count": 367,
   "metadata": {},
   "outputs": [],
   "source": [
    "from sklearn.model_selection import train_test_split"
   ]
  },
  {
   "cell_type": "code",
   "execution_count": 368,
   "metadata": {},
   "outputs": [],
   "source": [
    "from sklearn import metrics"
   ]
  },
  {
   "cell_type": "code",
   "execution_count": 369,
   "metadata": {},
   "outputs": [
    {
     "data": {
      "text/html": [
       "<div>\n",
       "<style scoped>\n",
       "    .dataframe tbody tr th:only-of-type {\n",
       "        vertical-align: middle;\n",
       "    }\n",
       "\n",
       "    .dataframe tbody tr th {\n",
       "        vertical-align: top;\n",
       "    }\n",
       "\n",
       "    .dataframe thead th {\n",
       "        text-align: right;\n",
       "    }\n",
       "</style>\n",
       "<table border=\"1\" class=\"dataframe\">\n",
       "  <thead>\n",
       "    <tr style=\"text-align: right;\">\n",
       "      <th></th>\n",
       "      <th>score</th>\n",
       "      <th>employee_id</th>\n",
       "      <th>risk_factor</th>\n",
       "      <th>classification</th>\n",
       "      <th>tenure</th>\n",
       "      <th>owner_name_Analyst_1</th>\n",
       "      <th>owner_name_Analyst_3</th>\n",
       "      <th>owner_name_Analyst_4</th>\n",
       "      <th>owner_name_Analyst_6</th>\n",
       "      <th>owner_name_Analyst_7</th>\n",
       "      <th>...</th>\n",
       "      <th>career_band_CAREER_BAND_1</th>\n",
       "      <th>career_band_CAREER_BAND_10</th>\n",
       "      <th>career_band_CAREER_BAND_2</th>\n",
       "      <th>career_band_CAREER_BAND_3</th>\n",
       "      <th>career_band_CAREER_BAND_4</th>\n",
       "      <th>career_band_CAREER_BAND_5</th>\n",
       "      <th>career_band_CAREER_BAND_6</th>\n",
       "      <th>career_band_CAREER_BAND_7</th>\n",
       "      <th>career_band_CAREER_BAND_8</th>\n",
       "      <th>career_band_CAREER_BAND_9</th>\n",
       "    </tr>\n",
       "  </thead>\n",
       "  <tbody>\n",
       "    <tr>\n",
       "      <td>0</td>\n",
       "      <td>1344</td>\n",
       "      <td>19616361638</td>\n",
       "      <td>5.868996</td>\n",
       "      <td>0</td>\n",
       "      <td>22.0</td>\n",
       "      <td>0</td>\n",
       "      <td>0</td>\n",
       "      <td>0</td>\n",
       "      <td>0</td>\n",
       "      <td>0</td>\n",
       "      <td>...</td>\n",
       "      <td>0</td>\n",
       "      <td>0</td>\n",
       "      <td>1</td>\n",
       "      <td>0</td>\n",
       "      <td>0</td>\n",
       "      <td>0</td>\n",
       "      <td>0</td>\n",
       "      <td>0</td>\n",
       "      <td>0</td>\n",
       "      <td>0</td>\n",
       "    </tr>\n",
       "    <tr>\n",
       "      <td>1</td>\n",
       "      <td>1392</td>\n",
       "      <td>19616361638</td>\n",
       "      <td>6.078603</td>\n",
       "      <td>0</td>\n",
       "      <td>22.0</td>\n",
       "      <td>0</td>\n",
       "      <td>0</td>\n",
       "      <td>0</td>\n",
       "      <td>0</td>\n",
       "      <td>0</td>\n",
       "      <td>...</td>\n",
       "      <td>0</td>\n",
       "      <td>0</td>\n",
       "      <td>1</td>\n",
       "      <td>0</td>\n",
       "      <td>0</td>\n",
       "      <td>0</td>\n",
       "      <td>0</td>\n",
       "      <td>0</td>\n",
       "      <td>0</td>\n",
       "      <td>0</td>\n",
       "    </tr>\n",
       "    <tr>\n",
       "      <td>2</td>\n",
       "      <td>1377</td>\n",
       "      <td>19616361638</td>\n",
       "      <td>5.884615</td>\n",
       "      <td>0</td>\n",
       "      <td>22.0</td>\n",
       "      <td>0</td>\n",
       "      <td>0</td>\n",
       "      <td>0</td>\n",
       "      <td>0</td>\n",
       "      <td>0</td>\n",
       "      <td>...</td>\n",
       "      <td>0</td>\n",
       "      <td>0</td>\n",
       "      <td>1</td>\n",
       "      <td>0</td>\n",
       "      <td>0</td>\n",
       "      <td>0</td>\n",
       "      <td>0</td>\n",
       "      <td>0</td>\n",
       "      <td>0</td>\n",
       "      <td>0</td>\n",
       "    </tr>\n",
       "    <tr>\n",
       "      <td>3</td>\n",
       "      <td>1383</td>\n",
       "      <td>19616361638</td>\n",
       "      <td>5.668033</td>\n",
       "      <td>0</td>\n",
       "      <td>22.0</td>\n",
       "      <td>0</td>\n",
       "      <td>0</td>\n",
       "      <td>0</td>\n",
       "      <td>0</td>\n",
       "      <td>0</td>\n",
       "      <td>...</td>\n",
       "      <td>0</td>\n",
       "      <td>0</td>\n",
       "      <td>1</td>\n",
       "      <td>0</td>\n",
       "      <td>0</td>\n",
       "      <td>0</td>\n",
       "      <td>0</td>\n",
       "      <td>0</td>\n",
       "      <td>0</td>\n",
       "      <td>0</td>\n",
       "    </tr>\n",
       "    <tr>\n",
       "      <td>4</td>\n",
       "      <td>1380</td>\n",
       "      <td>19616361638</td>\n",
       "      <td>5.587045</td>\n",
       "      <td>0</td>\n",
       "      <td>22.0</td>\n",
       "      <td>0</td>\n",
       "      <td>0</td>\n",
       "      <td>0</td>\n",
       "      <td>0</td>\n",
       "      <td>0</td>\n",
       "      <td>...</td>\n",
       "      <td>0</td>\n",
       "      <td>0</td>\n",
       "      <td>1</td>\n",
       "      <td>0</td>\n",
       "      <td>0</td>\n",
       "      <td>0</td>\n",
       "      <td>0</td>\n",
       "      <td>0</td>\n",
       "      <td>0</td>\n",
       "      <td>0</td>\n",
       "    </tr>\n",
       "  </tbody>\n",
       "</table>\n",
       "<p>5 rows × 147 columns</p>\n",
       "</div>"
      ],
      "text/plain": [
       "   score  employee_id  risk_factor  classification  tenure  \\\n",
       "0   1344  19616361638     5.868996               0    22.0   \n",
       "1   1392  19616361638     6.078603               0    22.0   \n",
       "2   1377  19616361638     5.884615               0    22.0   \n",
       "3   1383  19616361638     5.668033               0    22.0   \n",
       "4   1380  19616361638     5.587045               0    22.0   \n",
       "\n",
       "   owner_name_Analyst_1  owner_name_Analyst_3  owner_name_Analyst_4  \\\n",
       "0                     0                     0                     0   \n",
       "1                     0                     0                     0   \n",
       "2                     0                     0                     0   \n",
       "3                     0                     0                     0   \n",
       "4                     0                     0                     0   \n",
       "\n",
       "   owner_name_Analyst_6  owner_name_Analyst_7  ...  career_band_CAREER_BAND_1  \\\n",
       "0                     0                     0  ...                          0   \n",
       "1                     0                     0  ...                          0   \n",
       "2                     0                     0  ...                          0   \n",
       "3                     0                     0  ...                          0   \n",
       "4                     0                     0  ...                          0   \n",
       "\n",
       "   career_band_CAREER_BAND_10  career_band_CAREER_BAND_2  \\\n",
       "0                           0                          1   \n",
       "1                           0                          1   \n",
       "2                           0                          1   \n",
       "3                           0                          1   \n",
       "4                           0                          1   \n",
       "\n",
       "   career_band_CAREER_BAND_3  career_band_CAREER_BAND_4  \\\n",
       "0                          0                          0   \n",
       "1                          0                          0   \n",
       "2                          0                          0   \n",
       "3                          0                          0   \n",
       "4                          0                          0   \n",
       "\n",
       "   career_band_CAREER_BAND_5  career_band_CAREER_BAND_6  \\\n",
       "0                          0                          0   \n",
       "1                          0                          0   \n",
       "2                          0                          0   \n",
       "3                          0                          0   \n",
       "4                          0                          0   \n",
       "\n",
       "   career_band_CAREER_BAND_7  career_band_CAREER_BAND_8  \\\n",
       "0                          0                          0   \n",
       "1                          0                          0   \n",
       "2                          0                          0   \n",
       "3                          0                          0   \n",
       "4                          0                          0   \n",
       "\n",
       "   career_band_CAREER_BAND_9  \n",
       "0                          0  \n",
       "1                          0  \n",
       "2                          0  \n",
       "3                          0  \n",
       "4                          0  \n",
       "\n",
       "[5 rows x 147 columns]"
      ]
     },
     "execution_count": 369,
     "metadata": {},
     "output_type": "execute_result"
    }
   ],
   "source": [
    "tpHighDf.head()"
   ]
  },
  {
   "cell_type": "code",
   "execution_count": 370,
   "metadata": {},
   "outputs": [
    {
     "data": {
      "text/html": [
       "<div>\n",
       "<style scoped>\n",
       "    .dataframe tbody tr th:only-of-type {\n",
       "        vertical-align: middle;\n",
       "    }\n",
       "\n",
       "    .dataframe tbody tr th {\n",
       "        vertical-align: top;\n",
       "    }\n",
       "\n",
       "    .dataframe thead th {\n",
       "        text-align: right;\n",
       "    }\n",
       "</style>\n",
       "<table border=\"1\" class=\"dataframe\">\n",
       "  <thead>\n",
       "    <tr style=\"text-align: right;\">\n",
       "      <th></th>\n",
       "      <th>score</th>\n",
       "      <th>risk_factor</th>\n",
       "      <th>tenure</th>\n",
       "      <th>owner_name_Analyst_1</th>\n",
       "      <th>owner_name_Analyst_3</th>\n",
       "      <th>owner_name_Analyst_4</th>\n",
       "      <th>owner_name_Analyst_6</th>\n",
       "      <th>owner_name_Analyst_7</th>\n",
       "      <th>owner_name_Analyst_8</th>\n",
       "      <th>owner_name_None</th>\n",
       "      <th>...</th>\n",
       "      <th>career_band_CAREER_BAND_1</th>\n",
       "      <th>career_band_CAREER_BAND_10</th>\n",
       "      <th>career_band_CAREER_BAND_2</th>\n",
       "      <th>career_band_CAREER_BAND_3</th>\n",
       "      <th>career_band_CAREER_BAND_4</th>\n",
       "      <th>career_band_CAREER_BAND_5</th>\n",
       "      <th>career_band_CAREER_BAND_6</th>\n",
       "      <th>career_band_CAREER_BAND_7</th>\n",
       "      <th>career_band_CAREER_BAND_8</th>\n",
       "      <th>career_band_CAREER_BAND_9</th>\n",
       "    </tr>\n",
       "  </thead>\n",
       "  <tbody>\n",
       "    <tr>\n",
       "      <td>0</td>\n",
       "      <td>1344</td>\n",
       "      <td>5.868996</td>\n",
       "      <td>22.0</td>\n",
       "      <td>0</td>\n",
       "      <td>0</td>\n",
       "      <td>0</td>\n",
       "      <td>0</td>\n",
       "      <td>0</td>\n",
       "      <td>0</td>\n",
       "      <td>0</td>\n",
       "      <td>...</td>\n",
       "      <td>0</td>\n",
       "      <td>0</td>\n",
       "      <td>1</td>\n",
       "      <td>0</td>\n",
       "      <td>0</td>\n",
       "      <td>0</td>\n",
       "      <td>0</td>\n",
       "      <td>0</td>\n",
       "      <td>0</td>\n",
       "      <td>0</td>\n",
       "    </tr>\n",
       "    <tr>\n",
       "      <td>1</td>\n",
       "      <td>1392</td>\n",
       "      <td>6.078603</td>\n",
       "      <td>22.0</td>\n",
       "      <td>0</td>\n",
       "      <td>0</td>\n",
       "      <td>0</td>\n",
       "      <td>0</td>\n",
       "      <td>0</td>\n",
       "      <td>0</td>\n",
       "      <td>0</td>\n",
       "      <td>...</td>\n",
       "      <td>0</td>\n",
       "      <td>0</td>\n",
       "      <td>1</td>\n",
       "      <td>0</td>\n",
       "      <td>0</td>\n",
       "      <td>0</td>\n",
       "      <td>0</td>\n",
       "      <td>0</td>\n",
       "      <td>0</td>\n",
       "      <td>0</td>\n",
       "    </tr>\n",
       "    <tr>\n",
       "      <td>2</td>\n",
       "      <td>1377</td>\n",
       "      <td>5.884615</td>\n",
       "      <td>22.0</td>\n",
       "      <td>0</td>\n",
       "      <td>0</td>\n",
       "      <td>0</td>\n",
       "      <td>0</td>\n",
       "      <td>0</td>\n",
       "      <td>0</td>\n",
       "      <td>0</td>\n",
       "      <td>...</td>\n",
       "      <td>0</td>\n",
       "      <td>0</td>\n",
       "      <td>1</td>\n",
       "      <td>0</td>\n",
       "      <td>0</td>\n",
       "      <td>0</td>\n",
       "      <td>0</td>\n",
       "      <td>0</td>\n",
       "      <td>0</td>\n",
       "      <td>0</td>\n",
       "    </tr>\n",
       "    <tr>\n",
       "      <td>3</td>\n",
       "      <td>1383</td>\n",
       "      <td>5.668033</td>\n",
       "      <td>22.0</td>\n",
       "      <td>0</td>\n",
       "      <td>0</td>\n",
       "      <td>0</td>\n",
       "      <td>0</td>\n",
       "      <td>0</td>\n",
       "      <td>0</td>\n",
       "      <td>0</td>\n",
       "      <td>...</td>\n",
       "      <td>0</td>\n",
       "      <td>0</td>\n",
       "      <td>1</td>\n",
       "      <td>0</td>\n",
       "      <td>0</td>\n",
       "      <td>0</td>\n",
       "      <td>0</td>\n",
       "      <td>0</td>\n",
       "      <td>0</td>\n",
       "      <td>0</td>\n",
       "    </tr>\n",
       "    <tr>\n",
       "      <td>4</td>\n",
       "      <td>1380</td>\n",
       "      <td>5.587045</td>\n",
       "      <td>22.0</td>\n",
       "      <td>0</td>\n",
       "      <td>0</td>\n",
       "      <td>0</td>\n",
       "      <td>0</td>\n",
       "      <td>0</td>\n",
       "      <td>0</td>\n",
       "      <td>0</td>\n",
       "      <td>...</td>\n",
       "      <td>0</td>\n",
       "      <td>0</td>\n",
       "      <td>1</td>\n",
       "      <td>0</td>\n",
       "      <td>0</td>\n",
       "      <td>0</td>\n",
       "      <td>0</td>\n",
       "      <td>0</td>\n",
       "      <td>0</td>\n",
       "      <td>0</td>\n",
       "    </tr>\n",
       "    <tr>\n",
       "      <td>...</td>\n",
       "      <td>...</td>\n",
       "      <td>...</td>\n",
       "      <td>...</td>\n",
       "      <td>...</td>\n",
       "      <td>...</td>\n",
       "      <td>...</td>\n",
       "      <td>...</td>\n",
       "      <td>...</td>\n",
       "      <td>...</td>\n",
       "      <td>...</td>\n",
       "      <td>...</td>\n",
       "      <td>...</td>\n",
       "      <td>...</td>\n",
       "      <td>...</td>\n",
       "      <td>...</td>\n",
       "      <td>...</td>\n",
       "      <td>...</td>\n",
       "      <td>...</td>\n",
       "      <td>...</td>\n",
       "      <td>...</td>\n",
       "      <td>...</td>\n",
       "    </tr>\n",
       "    <tr>\n",
       "      <td>11679</td>\n",
       "      <td>980</td>\n",
       "      <td>8.376068</td>\n",
       "      <td>12.0</td>\n",
       "      <td>0</td>\n",
       "      <td>0</td>\n",
       "      <td>0</td>\n",
       "      <td>0</td>\n",
       "      <td>1</td>\n",
       "      <td>0</td>\n",
       "      <td>0</td>\n",
       "      <td>...</td>\n",
       "      <td>0</td>\n",
       "      <td>1</td>\n",
       "      <td>0</td>\n",
       "      <td>0</td>\n",
       "      <td>0</td>\n",
       "      <td>0</td>\n",
       "      <td>0</td>\n",
       "      <td>0</td>\n",
       "      <td>0</td>\n",
       "      <td>0</td>\n",
       "    </tr>\n",
       "    <tr>\n",
       "      <td>11679</td>\n",
       "      <td>980</td>\n",
       "      <td>8.376068</td>\n",
       "      <td>12.0</td>\n",
       "      <td>0</td>\n",
       "      <td>0</td>\n",
       "      <td>0</td>\n",
       "      <td>0</td>\n",
       "      <td>1</td>\n",
       "      <td>0</td>\n",
       "      <td>0</td>\n",
       "      <td>...</td>\n",
       "      <td>0</td>\n",
       "      <td>1</td>\n",
       "      <td>0</td>\n",
       "      <td>0</td>\n",
       "      <td>0</td>\n",
       "      <td>0</td>\n",
       "      <td>0</td>\n",
       "      <td>0</td>\n",
       "      <td>0</td>\n",
       "      <td>0</td>\n",
       "    </tr>\n",
       "    <tr>\n",
       "      <td>11679</td>\n",
       "      <td>980</td>\n",
       "      <td>8.376068</td>\n",
       "      <td>12.0</td>\n",
       "      <td>0</td>\n",
       "      <td>0</td>\n",
       "      <td>0</td>\n",
       "      <td>0</td>\n",
       "      <td>1</td>\n",
       "      <td>0</td>\n",
       "      <td>0</td>\n",
       "      <td>...</td>\n",
       "      <td>0</td>\n",
       "      <td>1</td>\n",
       "      <td>0</td>\n",
       "      <td>0</td>\n",
       "      <td>0</td>\n",
       "      <td>0</td>\n",
       "      <td>0</td>\n",
       "      <td>0</td>\n",
       "      <td>0</td>\n",
       "      <td>0</td>\n",
       "    </tr>\n",
       "    <tr>\n",
       "      <td>11680</td>\n",
       "      <td>1152</td>\n",
       "      <td>5.097345</td>\n",
       "      <td>9.0</td>\n",
       "      <td>0</td>\n",
       "      <td>0</td>\n",
       "      <td>0</td>\n",
       "      <td>0</td>\n",
       "      <td>1</td>\n",
       "      <td>0</td>\n",
       "      <td>0</td>\n",
       "      <td>...</td>\n",
       "      <td>0</td>\n",
       "      <td>0</td>\n",
       "      <td>0</td>\n",
       "      <td>0</td>\n",
       "      <td>0</td>\n",
       "      <td>0</td>\n",
       "      <td>0</td>\n",
       "      <td>0</td>\n",
       "      <td>1</td>\n",
       "      <td>0</td>\n",
       "    </tr>\n",
       "    <tr>\n",
       "      <td>11680</td>\n",
       "      <td>1152</td>\n",
       "      <td>5.097345</td>\n",
       "      <td>9.0</td>\n",
       "      <td>0</td>\n",
       "      <td>0</td>\n",
       "      <td>0</td>\n",
       "      <td>0</td>\n",
       "      <td>1</td>\n",
       "      <td>0</td>\n",
       "      <td>0</td>\n",
       "      <td>...</td>\n",
       "      <td>0</td>\n",
       "      <td>0</td>\n",
       "      <td>0</td>\n",
       "      <td>0</td>\n",
       "      <td>0</td>\n",
       "      <td>0</td>\n",
       "      <td>0</td>\n",
       "      <td>0</td>\n",
       "      <td>1</td>\n",
       "      <td>0</td>\n",
       "    </tr>\n",
       "  </tbody>\n",
       "</table>\n",
       "<p>34223 rows × 145 columns</p>\n",
       "</div>"
      ],
      "text/plain": [
       "       score  risk_factor  tenure  owner_name_Analyst_1  owner_name_Analyst_3  \\\n",
       "0       1344     5.868996    22.0                     0                     0   \n",
       "1       1392     6.078603    22.0                     0                     0   \n",
       "2       1377     5.884615    22.0                     0                     0   \n",
       "3       1383     5.668033    22.0                     0                     0   \n",
       "4       1380     5.587045    22.0                     0                     0   \n",
       "...      ...          ...     ...                   ...                   ...   \n",
       "11679    980     8.376068    12.0                     0                     0   \n",
       "11679    980     8.376068    12.0                     0                     0   \n",
       "11679    980     8.376068    12.0                     0                     0   \n",
       "11680   1152     5.097345     9.0                     0                     0   \n",
       "11680   1152     5.097345     9.0                     0                     0   \n",
       "\n",
       "       owner_name_Analyst_4  owner_name_Analyst_6  owner_name_Analyst_7  \\\n",
       "0                         0                     0                     0   \n",
       "1                         0                     0                     0   \n",
       "2                         0                     0                     0   \n",
       "3                         0                     0                     0   \n",
       "4                         0                     0                     0   \n",
       "...                     ...                   ...                   ...   \n",
       "11679                     0                     0                     1   \n",
       "11679                     0                     0                     1   \n",
       "11679                     0                     0                     1   \n",
       "11680                     0                     0                     1   \n",
       "11680                     0                     0                     1   \n",
       "\n",
       "       owner_name_Analyst_8  owner_name_None  ...  career_band_CAREER_BAND_1  \\\n",
       "0                         0                0  ...                          0   \n",
       "1                         0                0  ...                          0   \n",
       "2                         0                0  ...                          0   \n",
       "3                         0                0  ...                          0   \n",
       "4                         0                0  ...                          0   \n",
       "...                     ...              ...  ...                        ...   \n",
       "11679                     0                0  ...                          0   \n",
       "11679                     0                0  ...                          0   \n",
       "11679                     0                0  ...                          0   \n",
       "11680                     0                0  ...                          0   \n",
       "11680                     0                0  ...                          0   \n",
       "\n",
       "       career_band_CAREER_BAND_10  career_band_CAREER_BAND_2  \\\n",
       "0                               0                          1   \n",
       "1                               0                          1   \n",
       "2                               0                          1   \n",
       "3                               0                          1   \n",
       "4                               0                          1   \n",
       "...                           ...                        ...   \n",
       "11679                           1                          0   \n",
       "11679                           1                          0   \n",
       "11679                           1                          0   \n",
       "11680                           0                          0   \n",
       "11680                           0                          0   \n",
       "\n",
       "       career_band_CAREER_BAND_3  career_band_CAREER_BAND_4  \\\n",
       "0                              0                          0   \n",
       "1                              0                          0   \n",
       "2                              0                          0   \n",
       "3                              0                          0   \n",
       "4                              0                          0   \n",
       "...                          ...                        ...   \n",
       "11679                          0                          0   \n",
       "11679                          0                          0   \n",
       "11679                          0                          0   \n",
       "11680                          0                          0   \n",
       "11680                          0                          0   \n",
       "\n",
       "       career_band_CAREER_BAND_5  career_band_CAREER_BAND_6  \\\n",
       "0                              0                          0   \n",
       "1                              0                          0   \n",
       "2                              0                          0   \n",
       "3                              0                          0   \n",
       "4                              0                          0   \n",
       "...                          ...                        ...   \n",
       "11679                          0                          0   \n",
       "11679                          0                          0   \n",
       "11679                          0                          0   \n",
       "11680                          0                          0   \n",
       "11680                          0                          0   \n",
       "\n",
       "       career_band_CAREER_BAND_7  career_band_CAREER_BAND_8  \\\n",
       "0                              0                          0   \n",
       "1                              0                          0   \n",
       "2                              0                          0   \n",
       "3                              0                          0   \n",
       "4                              0                          0   \n",
       "...                          ...                        ...   \n",
       "11679                          0                          0   \n",
       "11679                          0                          0   \n",
       "11679                          0                          0   \n",
       "11680                          0                          1   \n",
       "11680                          0                          1   \n",
       "\n",
       "       career_band_CAREER_BAND_9  \n",
       "0                              0  \n",
       "1                              0  \n",
       "2                              0  \n",
       "3                              0  \n",
       "4                              0  \n",
       "...                          ...  \n",
       "11679                          0  \n",
       "11679                          0  \n",
       "11679                          0  \n",
       "11680                          0  \n",
       "11680                          0  \n",
       "\n",
       "[34223 rows x 145 columns]"
      ]
     },
     "execution_count": 370,
     "metadata": {},
     "output_type": "execute_result"
    }
   ],
   "source": [
    "tpHighDf.iloc[:, np.r_[0, 2, 4:147]]"
   ]
  },
  {
   "cell_type": "code",
   "execution_count": 371,
   "metadata": {},
   "outputs": [],
   "source": [
    "X=tpHighDf.iloc[:, np.r_[0, 2, 4:147]]\n",
    "Y=tpHighDf.iloc[:, 3]"
   ]
  },
  {
   "cell_type": "code",
   "execution_count": null,
   "metadata": {},
   "outputs": [],
   "source": []
  },
  {
   "cell_type": "code",
   "execution_count": 372,
   "metadata": {},
   "outputs": [],
   "source": [
    "X_train, X_test, y_train, y_test = train_test_split(X, Y, test_size=0.30, random_state=1)"
   ]
  },
  {
   "cell_type": "code",
   "execution_count": 373,
   "metadata": {},
   "outputs": [],
   "source": [
    "sampler = RandomOverSampler(random_state=0)\n",
    "\n",
    "X_rs, y_rs = sampler.fit_sample(X_train, y_train)"
   ]
  },
  {
   "cell_type": "code",
   "execution_count": 374,
   "metadata": {},
   "outputs": [],
   "source": [
    "clf=DecisionTreeClassifier()"
   ]
  },
  {
   "cell_type": "code",
   "execution_count": 375,
   "metadata": {},
   "outputs": [],
   "source": [
    "clf=clf.fit(X_rs, y_rs)"
   ]
  },
  {
   "cell_type": "code",
   "execution_count": 376,
   "metadata": {},
   "outputs": [],
   "source": [
    "y_pred=clf.predict(X_test)"
   ]
  },
  {
   "cell_type": "code",
   "execution_count": 377,
   "metadata": {},
   "outputs": [
    {
     "name": "stdout",
     "output_type": "stream",
     "text": [
      "Accuracy: 0.9177948767897146\n"
     ]
    }
   ],
   "source": [
    "print(\"Accuracy:\", metrics.accuracy_score(y_test, y_pred))"
   ]
  },
  {
   "cell_type": "code",
   "execution_count": 378,
   "metadata": {},
   "outputs": [
    {
     "name": "stdout",
     "output_type": "stream",
     "text": [
      "Decision Tree for High Risk\n",
      "Predicted Observation     0    1\n",
      "Actual Observation              \n",
      "0                      8711  494\n",
      "1                       350  712\n",
      "              precision    recall  f1-score   support\n",
      "\n",
      "           0       0.96      0.95      0.95      9205\n",
      "           1       0.59      0.67      0.63      1062\n",
      "\n",
      "    accuracy                           0.92     10267\n",
      "   macro avg       0.78      0.81      0.79     10267\n",
      "weighted avg       0.92      0.92      0.92     10267\n",
      "\n",
      "\n",
      "Accuracy: 0.9177948767897146\n"
     ]
    }
   ],
   "source": [
    "print(\"Decision Tree for High Risk\", sep=('\\n'))\n",
    "print(pd.crosstab(y_test, y_pred, rownames=['Actual Observation'], colnames=['Predicted Observation']))\n",
    "from sklearn.metrics import classification_report\n",
    "print(classification_report(y_test, y_pred))\n",
    "print(\"\")\n",
    "print(\"Accuracy:\", metrics.accuracy_score(y_test, y_pred))"
   ]
  },
  {
   "cell_type": "code",
   "execution_count": 379,
   "metadata": {},
   "outputs": [
    {
     "data": {
      "text/plain": [
       "array([[8711,  494],\n",
       "       [ 350,  712]])"
      ]
     },
     "execution_count": 379,
     "metadata": {},
     "output_type": "execute_result"
    }
   ],
   "source": [
    "confusion_matrix(y_test, y_pred)"
   ]
  },
  {
   "cell_type": "code",
   "execution_count": 380,
   "metadata": {},
   "outputs": [
    {
     "name": "stdout",
     "output_type": "stream",
     "text": [
      "              precision    recall  f1-score   support\n",
      "\n",
      "           0       0.96      0.95      0.95      9205\n",
      "           1       0.59      0.67      0.63      1062\n",
      "\n",
      "    accuracy                           0.92     10267\n",
      "   macro avg       0.78      0.81      0.79     10267\n",
      "weighted avg       0.92      0.92      0.92     10267\n",
      "\n"
     ]
    }
   ],
   "source": [
    "from sklearn.metrics import classification_report\n",
    "print(classification_report(y_test, y_pred))"
   ]
  },
  {
   "cell_type": "code",
   "execution_count": 381,
   "metadata": {},
   "outputs": [
    {
     "name": "stdout",
     "output_type": "stream",
     "text": [
      "Libraries Imported\n"
     ]
    }
   ],
   "source": [
    "#random forest\n",
    "import numpy as np\n",
    "import pandas as pd\n",
    "from sklearn.model_selection import train_test_split\n",
    "from sklearn.preprocessing import StandardScaler\n",
    "from sklearn.ensemble import RandomForestClassifier\n",
    "from sklearn.metrics import confusion_matrix\n",
    "from sklearn.externals import joblib\n",
    "print('Libraries Imported')"
   ]
  },
  {
   "cell_type": "code",
   "execution_count": 382,
   "metadata": {},
   "outputs": [
    {
     "data": {
      "text/html": [
       "<div>\n",
       "<style scoped>\n",
       "    .dataframe tbody tr th:only-of-type {\n",
       "        vertical-align: middle;\n",
       "    }\n",
       "\n",
       "    .dataframe tbody tr th {\n",
       "        vertical-align: top;\n",
       "    }\n",
       "\n",
       "    .dataframe thead th {\n",
       "        text-align: right;\n",
       "    }\n",
       "</style>\n",
       "<table border=\"1\" class=\"dataframe\">\n",
       "  <thead>\n",
       "    <tr style=\"text-align: right;\">\n",
       "      <th></th>\n",
       "      <th>score</th>\n",
       "      <th>employee_id</th>\n",
       "      <th>risk_factor</th>\n",
       "      <th>classification</th>\n",
       "      <th>tenure</th>\n",
       "      <th>owner_name_Analyst_1</th>\n",
       "      <th>owner_name_Analyst_3</th>\n",
       "      <th>owner_name_Analyst_4</th>\n",
       "      <th>owner_name_Analyst_6</th>\n",
       "      <th>owner_name_Analyst_7</th>\n",
       "      <th>...</th>\n",
       "      <th>career_band_CAREER_BAND_1</th>\n",
       "      <th>career_band_CAREER_BAND_10</th>\n",
       "      <th>career_band_CAREER_BAND_2</th>\n",
       "      <th>career_band_CAREER_BAND_3</th>\n",
       "      <th>career_band_CAREER_BAND_4</th>\n",
       "      <th>career_band_CAREER_BAND_5</th>\n",
       "      <th>career_band_CAREER_BAND_6</th>\n",
       "      <th>career_band_CAREER_BAND_7</th>\n",
       "      <th>career_band_CAREER_BAND_8</th>\n",
       "      <th>career_band_CAREER_BAND_9</th>\n",
       "    </tr>\n",
       "  </thead>\n",
       "  <tbody>\n",
       "    <tr>\n",
       "      <td>0</td>\n",
       "      <td>1344</td>\n",
       "      <td>19616361638</td>\n",
       "      <td>5.868996</td>\n",
       "      <td>0</td>\n",
       "      <td>22.0</td>\n",
       "      <td>0</td>\n",
       "      <td>0</td>\n",
       "      <td>0</td>\n",
       "      <td>0</td>\n",
       "      <td>0</td>\n",
       "      <td>...</td>\n",
       "      <td>0</td>\n",
       "      <td>0</td>\n",
       "      <td>1</td>\n",
       "      <td>0</td>\n",
       "      <td>0</td>\n",
       "      <td>0</td>\n",
       "      <td>0</td>\n",
       "      <td>0</td>\n",
       "      <td>0</td>\n",
       "      <td>0</td>\n",
       "    </tr>\n",
       "    <tr>\n",
       "      <td>1</td>\n",
       "      <td>1392</td>\n",
       "      <td>19616361638</td>\n",
       "      <td>6.078603</td>\n",
       "      <td>0</td>\n",
       "      <td>22.0</td>\n",
       "      <td>0</td>\n",
       "      <td>0</td>\n",
       "      <td>0</td>\n",
       "      <td>0</td>\n",
       "      <td>0</td>\n",
       "      <td>...</td>\n",
       "      <td>0</td>\n",
       "      <td>0</td>\n",
       "      <td>1</td>\n",
       "      <td>0</td>\n",
       "      <td>0</td>\n",
       "      <td>0</td>\n",
       "      <td>0</td>\n",
       "      <td>0</td>\n",
       "      <td>0</td>\n",
       "      <td>0</td>\n",
       "    </tr>\n",
       "    <tr>\n",
       "      <td>2</td>\n",
       "      <td>1377</td>\n",
       "      <td>19616361638</td>\n",
       "      <td>5.884615</td>\n",
       "      <td>0</td>\n",
       "      <td>22.0</td>\n",
       "      <td>0</td>\n",
       "      <td>0</td>\n",
       "      <td>0</td>\n",
       "      <td>0</td>\n",
       "      <td>0</td>\n",
       "      <td>...</td>\n",
       "      <td>0</td>\n",
       "      <td>0</td>\n",
       "      <td>1</td>\n",
       "      <td>0</td>\n",
       "      <td>0</td>\n",
       "      <td>0</td>\n",
       "      <td>0</td>\n",
       "      <td>0</td>\n",
       "      <td>0</td>\n",
       "      <td>0</td>\n",
       "    </tr>\n",
       "    <tr>\n",
       "      <td>3</td>\n",
       "      <td>1383</td>\n",
       "      <td>19616361638</td>\n",
       "      <td>5.668033</td>\n",
       "      <td>0</td>\n",
       "      <td>22.0</td>\n",
       "      <td>0</td>\n",
       "      <td>0</td>\n",
       "      <td>0</td>\n",
       "      <td>0</td>\n",
       "      <td>0</td>\n",
       "      <td>...</td>\n",
       "      <td>0</td>\n",
       "      <td>0</td>\n",
       "      <td>1</td>\n",
       "      <td>0</td>\n",
       "      <td>0</td>\n",
       "      <td>0</td>\n",
       "      <td>0</td>\n",
       "      <td>0</td>\n",
       "      <td>0</td>\n",
       "      <td>0</td>\n",
       "    </tr>\n",
       "    <tr>\n",
       "      <td>4</td>\n",
       "      <td>1380</td>\n",
       "      <td>19616361638</td>\n",
       "      <td>5.587045</td>\n",
       "      <td>0</td>\n",
       "      <td>22.0</td>\n",
       "      <td>0</td>\n",
       "      <td>0</td>\n",
       "      <td>0</td>\n",
       "      <td>0</td>\n",
       "      <td>0</td>\n",
       "      <td>...</td>\n",
       "      <td>0</td>\n",
       "      <td>0</td>\n",
       "      <td>1</td>\n",
       "      <td>0</td>\n",
       "      <td>0</td>\n",
       "      <td>0</td>\n",
       "      <td>0</td>\n",
       "      <td>0</td>\n",
       "      <td>0</td>\n",
       "      <td>0</td>\n",
       "    </tr>\n",
       "  </tbody>\n",
       "</table>\n",
       "<p>5 rows × 147 columns</p>\n",
       "</div>"
      ],
      "text/plain": [
       "   score  employee_id  risk_factor  classification  tenure  \\\n",
       "0   1344  19616361638     5.868996               0    22.0   \n",
       "1   1392  19616361638     6.078603               0    22.0   \n",
       "2   1377  19616361638     5.884615               0    22.0   \n",
       "3   1383  19616361638     5.668033               0    22.0   \n",
       "4   1380  19616361638     5.587045               0    22.0   \n",
       "\n",
       "   owner_name_Analyst_1  owner_name_Analyst_3  owner_name_Analyst_4  \\\n",
       "0                     0                     0                     0   \n",
       "1                     0                     0                     0   \n",
       "2                     0                     0                     0   \n",
       "3                     0                     0                     0   \n",
       "4                     0                     0                     0   \n",
       "\n",
       "   owner_name_Analyst_6  owner_name_Analyst_7  ...  career_band_CAREER_BAND_1  \\\n",
       "0                     0                     0  ...                          0   \n",
       "1                     0                     0  ...                          0   \n",
       "2                     0                     0  ...                          0   \n",
       "3                     0                     0  ...                          0   \n",
       "4                     0                     0  ...                          0   \n",
       "\n",
       "   career_band_CAREER_BAND_10  career_band_CAREER_BAND_2  \\\n",
       "0                           0                          1   \n",
       "1                           0                          1   \n",
       "2                           0                          1   \n",
       "3                           0                          1   \n",
       "4                           0                          1   \n",
       "\n",
       "   career_band_CAREER_BAND_3  career_band_CAREER_BAND_4  \\\n",
       "0                          0                          0   \n",
       "1                          0                          0   \n",
       "2                          0                          0   \n",
       "3                          0                          0   \n",
       "4                          0                          0   \n",
       "\n",
       "   career_band_CAREER_BAND_5  career_band_CAREER_BAND_6  \\\n",
       "0                          0                          0   \n",
       "1                          0                          0   \n",
       "2                          0                          0   \n",
       "3                          0                          0   \n",
       "4                          0                          0   \n",
       "\n",
       "   career_band_CAREER_BAND_7  career_band_CAREER_BAND_8  \\\n",
       "0                          0                          0   \n",
       "1                          0                          0   \n",
       "2                          0                          0   \n",
       "3                          0                          0   \n",
       "4                          0                          0   \n",
       "\n",
       "   career_band_CAREER_BAND_9  \n",
       "0                          0  \n",
       "1                          0  \n",
       "2                          0  \n",
       "3                          0  \n",
       "4                          0  \n",
       "\n",
       "[5 rows x 147 columns]"
      ]
     },
     "execution_count": 382,
     "metadata": {},
     "output_type": "execute_result"
    }
   ],
   "source": [
    "tpHighDf.head()"
   ]
  },
  {
   "cell_type": "code",
   "execution_count": 383,
   "metadata": {},
   "outputs": [
    {
     "name": "stdout",
     "output_type": "stream",
     "text": [
      "0    0\n",
      "1    0\n",
      "2    0\n",
      "3    0\n",
      "4    0\n",
      "Name: classification, dtype: int64\n",
      "Int64Index([0, 1], dtype='int64')\n"
     ]
    }
   ],
   "source": [
    "#Creating the dependent variable class (factorization)\n",
    "factor = pd.factorize(tpHighDf['classification'])\n",
    "tpHighDf.classification = factor[0]\n",
    "definitions = factor[1]\n",
    "print(tpHighDf.classification.head())\n",
    "print(definitions)"
   ]
  },
  {
   "cell_type": "code",
   "execution_count": 384,
   "metadata": {},
   "outputs": [],
   "source": [
    "X=tpHighDf.iloc[:, np.r_[0, 2, 4:147]]\n",
    "Y=tpHighDf.iloc[:, 3]"
   ]
  },
  {
   "cell_type": "code",
   "execution_count": 385,
   "metadata": {},
   "outputs": [],
   "source": [
    "# Creating the Training and Test set from data\n",
    "X_train, X_test, y_train, y_test = train_test_split(X, Y, test_size = 0.30, random_state = 21)"
   ]
  },
  {
   "cell_type": "code",
   "execution_count": 386,
   "metadata": {},
   "outputs": [],
   "source": [
    "# Feature Scaling\n",
    "scaler = StandardScaler()\n",
    "X_train = scaler.fit_transform(X_train)\n",
    "X_test = scaler.transform(X_test)"
   ]
  },
  {
   "cell_type": "code",
   "execution_count": 387,
   "metadata": {},
   "outputs": [],
   "source": [
    "sampler = RandomOverSampler(random_state=0)\n",
    "\n",
    "X_rs, y_rs = sampler.fit_sample(X_train, y_train)"
   ]
  },
  {
   "cell_type": "code",
   "execution_count": 388,
   "metadata": {},
   "outputs": [
    {
     "data": {
      "text/plain": [
       "RandomForestClassifier(bootstrap=True, ccp_alpha=0.0, class_weight=None,\n",
       "                       criterion='entropy', max_depth=None, max_features='auto',\n",
       "                       max_leaf_nodes=None, max_samples=None,\n",
       "                       min_impurity_decrease=0.0, min_impurity_split=None,\n",
       "                       min_samples_leaf=1, min_samples_split=2,\n",
       "                       min_weight_fraction_leaf=0.0, n_estimators=10,\n",
       "                       n_jobs=None, oob_score=False, random_state=42, verbose=0,\n",
       "                       warm_start=False)"
      ]
     },
     "execution_count": 388,
     "metadata": {},
     "output_type": "execute_result"
    }
   ],
   "source": [
    "# Fitting Random Forest Classification to the Training set\n",
    "classifier = RandomForestClassifier(n_estimators = 10, criterion = 'entropy', random_state = 42)\n",
    "classifier.fit(X_rs, y_rs)"
   ]
  },
  {
   "cell_type": "code",
   "execution_count": 389,
   "metadata": {},
   "outputs": [],
   "source": [
    "# Predicting the Test set results\n",
    "y_pred = classifier.predict(X_test)\n"
   ]
  },
  {
   "cell_type": "code",
   "execution_count": 390,
   "metadata": {},
   "outputs": [
    {
     "data": {
      "text/plain": [
       "array([1, 0, 0, ..., 0, 0, 1])"
      ]
     },
     "execution_count": 390,
     "metadata": {},
     "output_type": "execute_result"
    }
   ],
   "source": [
    "y_pred"
   ]
  },
  {
   "cell_type": "code",
   "execution_count": 391,
   "metadata": {},
   "outputs": [],
   "source": [
    "#Reverse factorize (converting y_pred from 0s,1s and 2s to Iris-setosa, Iris-versicolor and Iris-virginica\n",
    "reversefactor = dict(zip(range(4),definitions))\n"
   ]
  },
  {
   "cell_type": "code",
   "execution_count": 392,
   "metadata": {},
   "outputs": [],
   "source": [
    "y_test = np.vectorize(reversefactor.get)(y_test)\n"
   ]
  },
  {
   "cell_type": "code",
   "execution_count": 393,
   "metadata": {},
   "outputs": [
    {
     "name": "stdout",
     "output_type": "stream",
     "text": [
      "Random Forest for High Risk\n",
      "Predicted Observation     0    1\n",
      "Actual Observation              \n",
      "0                      8689  466\n",
      "1                       382  730\n",
      "              precision    recall  f1-score   support\n",
      "\n",
      "           0       0.96      0.95      0.95      9155\n",
      "           1       0.61      0.66      0.63      1112\n",
      "\n",
      "    accuracy                           0.92     10267\n",
      "   macro avg       0.78      0.80      0.79     10267\n",
      "weighted avg       0.92      0.92      0.92     10267\n",
      "\n",
      "\n",
      "Accuracy: 0.9174052790493815\n"
     ]
    }
   ],
   "source": [
    "y_pred = np.vectorize(reversefactor.get)(y_pred)\n",
    "# Making the Confusion Matrix\n",
    "print(\"Random Forest for High Risk\", sep=('\\n'))\n",
    "print(pd.crosstab(y_test, y_pred, rownames=['Actual Observation'], colnames=['Predicted Observation']))\n",
    "from sklearn.metrics import classification_report\n",
    "print(classification_report(y_test, y_pred))\n",
    "print(\"\")\n",
    "print(\"Accuracy:\", metrics.accuracy_score(y_test, y_pred))"
   ]
  },
  {
   "cell_type": "code",
   "execution_count": 394,
   "metadata": {},
   "outputs": [
    {
     "name": "stdout",
     "output_type": "stream",
     "text": [
      "Accuracy: 0.9174052790493815\n"
     ]
    }
   ],
   "source": [
    "print(\"Accuracy:\", metrics.accuracy_score(y_test, y_pred))"
   ]
  },
  {
   "cell_type": "code",
   "execution_count": 395,
   "metadata": {},
   "outputs": [
    {
     "name": "stdout",
     "output_type": "stream",
     "text": [
      "              precision    recall  f1-score   support\n",
      "\n",
      "           0       0.96      0.95      0.95      9155\n",
      "           1       0.61      0.66      0.63      1112\n",
      "\n",
      "    accuracy                           0.92     10267\n",
      "   macro avg       0.78      0.80      0.79     10267\n",
      "weighted avg       0.92      0.92      0.92     10267\n",
      "\n"
     ]
    }
   ],
   "source": [
    "from sklearn.metrics import classification_report\n",
    "print(classification_report(y_test, y_pred))"
   ]
  },
  {
   "cell_type": "code",
   "execution_count": 396,
   "metadata": {},
   "outputs": [],
   "source": [
    "# Import the classifiers\n",
    "from sklearn.tree import DecisionTreeClassifier\n",
    "from sklearn.ensemble import RandomForestClassifier\n",
    "\n",
    "from sklearn.metrics import roc_curve, roc_auc_score\n",
    "\n",
    "# Instantiate the classfiers and make a list\n",
    "classifiers = [DecisionTreeClassifier(random_state=1234),\n",
    "               RandomForestClassifier(random_state=1234)]\n",
    "\n",
    "# Define a result table as a DataFrame\n",
    "result_table = pd.DataFrame(columns=['classifiers', 'fpr','tpr','auc'])\n",
    "\n",
    "# Train the models and record the results\n",
    "for cls in classifiers:\n",
    "    model = cls.fit(X_train, y_train)\n",
    "    yproba = model.predict_proba(X_test)[::,1]\n",
    "    \n",
    "    fpr, tpr, _ = roc_curve(y_test,  yproba)\n",
    "    auc = roc_auc_score(y_test, yproba)\n",
    "    \n",
    "    result_table = result_table.append({'classifiers':cls.__class__.__name__,\n",
    "                                        'fpr':fpr, \n",
    "                                        'tpr':tpr, \n",
    "                                        'auc':auc}, ignore_index=True)\n",
    "\n",
    "# Set name of the classifiers as index labels\n",
    "result_table.set_index('classifiers', inplace=True)"
   ]
  },
  {
   "cell_type": "code",
   "execution_count": 397,
   "metadata": {},
   "outputs": [
    {
     "data": {
      "image/png": "[encoded data removed]",
      "text/plain": [
       "<Figure size 576x432 with 1 Axes>"
      ]
     },
     "metadata": {
      "needs_background": "light"
     },
     "output_type": "display_data"
    }
   ],
   "source": [
    "fig = plt.figure(figsize=(8,6))\n",
    "\n",
    "for i in result_table.index:\n",
    "    plt.plot(result_table.loc[i]['fpr'], \n",
    "             result_table.loc[i]['tpr'], \n",
    "             label=\"{}, AUC={:.3f}\".format(i, result_table.loc[i]['auc']))\n",
    "    \n",
    "plt.plot([0,1], [0,1], color='orange', linestyle='--')\n",
    "\n",
    "plt.xticks(np.arange(0.0, 1.1, step=0.1))\n",
    "plt.xlabel(\"Flase Positive Rate\", fontsize=15)\n",
    "\n",
    "plt.yticks(np.arange(0.0, 1.1, step=0.1))\n",
    "plt.ylabel(\"True Positive Rate\", fontsize=15)\n",
    "\n",
    "plt.title('ROC Curve Analysis', fontweight='bold', fontsize=15)\n",
    "plt.legend(prop={'size':13}, loc='lower right')\n",
    "\n",
    "plt.show()"
   ]
  },
  {
   "cell_type": "code",
   "execution_count": 398,
   "metadata": {},
   "outputs": [],
   "source": [
    "#TP/HIGH and TP/LOW 1 and rest 0 #DT"
   ]
  },
  {
   "cell_type": "code",
   "execution_count": 399,
   "metadata": {},
   "outputs": [],
   "source": [
    "tpHighNewDf=newdata_rf_dummy.copy()"
   ]
  },
  {
   "cell_type": "code",
   "execution_count": 400,
   "metadata": {},
   "outputs": [
    {
     "data": {
      "text/plain": [
       "array([0, 1, 2, 3])"
      ]
     },
     "execution_count": 400,
     "metadata": {},
     "output_type": "execute_result"
    }
   ],
   "source": [
    "tpHighNewDf['classification'].unique()"
   ]
  },
  {
   "cell_type": "code",
   "execution_count": 401,
   "metadata": {},
   "outputs": [],
   "source": [
    "tpHighNewDf['classification'].replace({0:0, 1:0, 2:1, 3:1}, inplace=True)"
   ]
  },
  {
   "cell_type": "code",
   "execution_count": 402,
   "metadata": {},
   "outputs": [
    {
     "data": {
      "text/plain": [
       "0    27503\n",
       "1     6720\n",
       "Name: classification, dtype: int64"
      ]
     },
     "execution_count": 402,
     "metadata": {},
     "output_type": "execute_result"
    }
   ],
   "source": [
    "tpHighNewDf['classification'].value_counts()"
   ]
  },
  {
   "cell_type": "code",
   "execution_count": 403,
   "metadata": {},
   "outputs": [],
   "source": [
    "X=tpHighNewDf.iloc[:, np.r_[0, 2, 4:147]]\n",
    "Y=tpHighNewDf.iloc[:, 3]"
   ]
  },
  {
   "cell_type": "code",
   "execution_count": 404,
   "metadata": {},
   "outputs": [],
   "source": [
    "X_train, X_test, y_train, y_test = train_test_split(X, Y, test_size=0.30, random_state=1)"
   ]
  },
  {
   "cell_type": "code",
   "execution_count": 405,
   "metadata": {},
   "outputs": [],
   "source": [
    "sampler = RandomOverSampler(random_state=0)\n",
    "\n",
    "X_rs, y_rs = sampler.fit_sample(X_train, y_train)"
   ]
  },
  {
   "cell_type": "code",
   "execution_count": 406,
   "metadata": {},
   "outputs": [],
   "source": [
    "clf=DecisionTreeClassifier()"
   ]
  },
  {
   "cell_type": "code",
   "execution_count": 407,
   "metadata": {},
   "outputs": [],
   "source": [
    "clf=clf.fit(X_rs, y_rs)"
   ]
  },
  {
   "cell_type": "code",
   "execution_count": 408,
   "metadata": {},
   "outputs": [],
   "source": [
    "y_pred=clf.predict(X_test)"
   ]
  },
  {
   "cell_type": "code",
   "execution_count": 409,
   "metadata": {},
   "outputs": [
    {
     "name": "stdout",
     "output_type": "stream",
     "text": [
      "Accuracy: 0.9086393298918867\n"
     ]
    }
   ],
   "source": [
    "print(\"Accuracy:\", metrics.accuracy_score(y_test, y_pred))"
   ]
  },
  {
   "cell_type": "code",
   "execution_count": 410,
   "metadata": {},
   "outputs": [
    {
     "name": "stdout",
     "output_type": "stream",
     "text": [
      "Decision Tree for Notable Risk\n",
      "Predicted Observation     0     1\n",
      "Actual Observation               \n",
      "0                      7717   538\n",
      "1                       400  1612\n",
      "              precision    recall  f1-score   support\n",
      "\n",
      "           0       0.95      0.93      0.94      8255\n",
      "           1       0.75      0.80      0.77      2012\n",
      "\n",
      "    accuracy                           0.91     10267\n",
      "   macro avg       0.85      0.87      0.86     10267\n",
      "weighted avg       0.91      0.91      0.91     10267\n",
      "\n",
      "\n",
      "Accuracy: 0.9086393298918867\n"
     ]
    }
   ],
   "source": [
    "print(\"Decision Tree for Notable Risk\", sep=('\\n'))\n",
    "print(pd.crosstab(y_test, y_pred, rownames=['Actual Observation'], colnames=['Predicted Observation']))\n",
    "\n",
    "from sklearn.metrics import classification_report\n",
    "print(classification_report(y_test, y_pred))\n",
    "print(\"\")\n",
    "print(\"Accuracy:\", metrics.accuracy_score(y_test, y_pred))"
   ]
  },
  {
   "cell_type": "code",
   "execution_count": 411,
   "metadata": {},
   "outputs": [
    {
     "name": "stdout",
     "output_type": "stream",
     "text": [
      "0    0\n",
      "1    0\n",
      "2    0\n",
      "3    0\n",
      "4    0\n",
      "Name: classification, dtype: int64\n",
      "Int64Index([0, 1], dtype='int64')\n"
     ]
    }
   ],
   "source": [
    "#RB \n",
    "#Creating the dependent variable class\n",
    "factor = pd.factorize(tpHighNewDf['classification'])\n",
    "tpHighNewDf.classification = factor[0]\n",
    "definitions = factor[1]\n",
    "print(tpHighNewDf.classification.head())\n",
    "print(definitions)"
   ]
  },
  {
   "cell_type": "code",
   "execution_count": 412,
   "metadata": {},
   "outputs": [],
   "source": [
    "X=tpHighNewDf.iloc[:, np.r_[0, 2, 4:147]]\n",
    "Y=tpHighNewDf.iloc[:, 3]"
   ]
  },
  {
   "cell_type": "code",
   "execution_count": 413,
   "metadata": {},
   "outputs": [],
   "source": [
    "X_train, X_test, y_train, y_test = train_test_split(X, Y, test_size=0.30, random_state=21)"
   ]
  },
  {
   "cell_type": "code",
   "execution_count": 414,
   "metadata": {},
   "outputs": [],
   "source": [
    "# Feature Scaling\n",
    "scaler = StandardScaler()\n",
    "X_train = scaler.fit_transform(X_train)\n",
    "X_test = scaler.transform(X_test)"
   ]
  },
  {
   "cell_type": "code",
   "execution_count": 415,
   "metadata": {},
   "outputs": [],
   "source": [
    "sampler = RandomOverSampler(random_state=0)\n",
    "\n",
    "X_rs, y_rs = sampler.fit_sample(X_train, y_train)"
   ]
  },
  {
   "cell_type": "code",
   "execution_count": 416,
   "metadata": {},
   "outputs": [
    {
     "data": {
      "text/plain": [
       "RandomForestClassifier(bootstrap=True, ccp_alpha=0.0, class_weight=None,\n",
       "                       criterion='entropy', max_depth=None, max_features='auto',\n",
       "                       max_leaf_nodes=None, max_samples=None,\n",
       "                       min_impurity_decrease=0.0, min_impurity_split=None,\n",
       "                       min_samples_leaf=1, min_samples_split=2,\n",
       "                       min_weight_fraction_leaf=0.0, n_estimators=10,\n",
       "                       n_jobs=None, oob_score=False, random_state=42, verbose=0,\n",
       "                       warm_start=False)"
      ]
     },
     "execution_count": 416,
     "metadata": {},
     "output_type": "execute_result"
    }
   ],
   "source": [
    "# Fitting Random Forest Classification to the Training set\n",
    "classifier = RandomForestClassifier(n_estimators = 10, criterion = 'entropy', random_state = 42)\n",
    "classifier.fit(X_rs, y_rs)"
   ]
  },
  {
   "cell_type": "code",
   "execution_count": 417,
   "metadata": {},
   "outputs": [],
   "source": [
    "# Predicting the Test set results\n",
    "y_pred = classifier.predict(X_test)\n"
   ]
  },
  {
   "cell_type": "code",
   "execution_count": 418,
   "metadata": {},
   "outputs": [
    {
     "name": "stdout",
     "output_type": "stream",
     "text": [
      "Random Forest for Notable Risk\n",
      "Predicted Observation     0     1\n",
      "Actual Observation               \n",
      "0                      7685   512\n",
      "1                       431  1639\n",
      "              precision    recall  f1-score   support\n",
      "\n",
      "           0       0.95      0.94      0.94      8197\n",
      "           1       0.76      0.79      0.78      2070\n",
      "\n",
      "    accuracy                           0.91     10267\n",
      "   macro avg       0.85      0.86      0.86     10267\n",
      "weighted avg       0.91      0.91      0.91     10267\n",
      "\n",
      "\n",
      "Accuracy: 0.9081523327164702\n"
     ]
    }
   ],
   "source": [
    "print(\"Random Forest for Notable Risk\", sep=('\\n'))\n",
    "print(pd.crosstab(y_test, y_pred, rownames=['Actual Observation'], colnames=['Predicted Observation']))\n",
    "from sklearn.metrics import classification_report\n",
    "print(classification_report(y_test, y_pred))\n",
    "print(\"\")\n",
    "print(\"Accuracy:\", metrics.accuracy_score(y_test, y_pred))"
   ]
  },
  {
   "cell_type": "code",
   "execution_count": 419,
   "metadata": {},
   "outputs": [
    {
     "name": "stdout",
     "output_type": "stream",
     "text": [
      "Accuracy: 0.9081523327164702\n"
     ]
    }
   ],
   "source": [
    "print(\"Accuracy:\", metrics.accuracy_score(y_test, y_pred))"
   ]
  },
  {
   "cell_type": "code",
   "execution_count": 420,
   "metadata": {},
   "outputs": [
    {
     "name": "stdout",
     "output_type": "stream",
     "text": [
      "              precision    recall  f1-score   support\n",
      "\n",
      "           0       0.95      0.94      0.94      8197\n",
      "           1       0.76      0.79      0.78      2070\n",
      "\n",
      "    accuracy                           0.91     10267\n",
      "   macro avg       0.85      0.86      0.86     10267\n",
      "weighted avg       0.91      0.91      0.91     10267\n",
      "\n"
     ]
    }
   ],
   "source": [
    "from sklearn.metrics import classification_report\n",
    "print(classification_report(y_test, y_pred))"
   ]
  },
  {
   "cell_type": "code",
   "execution_count": 421,
   "metadata": {},
   "outputs": [
    {
     "data": {
      "text/plain": [
       "(10267,)"
      ]
     },
     "execution_count": 421,
     "metadata": {},
     "output_type": "execute_result"
    }
   ],
   "source": [
    "y_test.shape"
   ]
  },
  {
   "cell_type": "code",
   "execution_count": 422,
   "metadata": {},
   "outputs": [
    {
     "data": {
      "text/plain": [
       "(10267,)"
      ]
     },
     "execution_count": 422,
     "metadata": {},
     "output_type": "execute_result"
    }
   ],
   "source": [
    "y_pred.shape"
   ]
  },
  {
   "cell_type": "code",
   "execution_count": null,
   "metadata": {},
   "outputs": [],
   "source": []
  },
  {
   "cell_type": "code",
   "execution_count": 423,
   "metadata": {},
   "outputs": [],
   "source": [
    "#TP/HIGH and TP/LOW are 0 and rest are set to 1"
   ]
  },
  {
   "cell_type": "code",
   "execution_count": 424,
   "metadata": {},
   "outputs": [],
   "source": [
    "# Import the classifiers\n",
    "from sklearn.tree import DecisionTreeClassifier\n",
    "from sklearn.ensemble import RandomForestClassifier\n",
    "\n",
    "from sklearn.metrics import roc_curve, roc_auc_score\n",
    "\n",
    "# Instantiate the classfiers and make a list\n",
    "classifiers = [DecisionTreeClassifier(random_state=1234),\n",
    "               RandomForestClassifier(random_state=1234)]\n",
    "\n",
    "# Define a result table as a DataFrame\n",
    "result_table = pd.DataFrame(columns=['classifiers', 'fpr','tpr','auc'])\n",
    "\n",
    "# Train the models and record the results\n",
    "for cls in classifiers:\n",
    "    model = cls.fit(X_train, y_train)\n",
    "    yproba = model.predict_proba(X_test)[::,1]\n",
    "    \n",
    "    fpr, tpr, _ = roc_curve(y_test,  yproba)\n",
    "    auc = roc_auc_score(y_test, yproba)\n",
    "    \n",
    "    result_table = result_table.append({'classifiers':cls.__class__.__name__,\n",
    "                                        'fpr':fpr, \n",
    "                                        'tpr':tpr, \n",
    "                                        'auc':auc}, ignore_index=True)\n",
    "\n",
    "# Set name of the classifiers as index labels\n",
    "result_table.set_index('classifiers', inplace=True)"
   ]
  },
  {
   "cell_type": "code",
   "execution_count": 425,
   "metadata": {},
   "outputs": [
    {
     "data": {
      "image/png": "[encoded data removed]",
      "text/plain": [
       "<Figure size 576x432 with 1 Axes>"
      ]
     },
     "metadata": {
      "needs_background": "light"
     },
     "output_type": "display_data"
    }
   ],
   "source": [
    "fig = plt.figure(figsize=(8,6))\n",
    "\n",
    "for i in result_table.index:\n",
    "    plt.plot(result_table.loc[i]['fpr'], \n",
    "             result_table.loc[i]['tpr'], \n",
    "             label=\"{}, AUC={:.3f}\".format(i, result_table.loc[i]['auc']))\n",
    "    \n",
    "plt.plot([0,1], [0,1], color='orange', linestyle='--')\n",
    "\n",
    "plt.xticks(np.arange(0.0, 1.1, step=0.1))\n",
    "plt.xlabel(\"Flase Positive Rate\", fontsize=15)\n",
    "\n",
    "plt.yticks(np.arange(0.0, 1.1, step=0.1))\n",
    "plt.ylabel(\"True Positive Rate\", fontsize=15)\n",
    "\n",
    "plt.title('ROC Curve Analysis', fontweight='bold', fontsize=15)\n",
    "plt.legend(prop={'size':13}, loc='lower right')\n",
    "\n",
    "plt.show()"
   ]
  },
  {
   "cell_type": "code",
   "execution_count": 426,
   "metadata": {},
   "outputs": [],
   "source": [
    "threshold = 0.4\n",
    "\n",
    "predicted_proba = classifier.predict_proba(X_test)\n",
    "predicted = (predicted_proba [:,1] >= threshold).astype('int')\n",
    "\n",
    "accuracy = metrics.accuracy_score(y_test, predicted)"
   ]
  },
  {
   "cell_type": "code",
   "execution_count": 427,
   "metadata": {},
   "outputs": [
    {
     "name": "stdout",
     "output_type": "stream",
     "text": [
      "Predicted Observation     0     1\n",
      "Actual Observation               \n",
      "0                      7580   617\n",
      "1                       342  1728\n",
      "              precision    recall  f1-score   support\n",
      "\n",
      "           0       0.95      0.94      0.94      8197\n",
      "           1       0.76      0.79      0.78      2070\n",
      "\n",
      "    accuracy                           0.91     10267\n",
      "   macro avg       0.85      0.86      0.86     10267\n",
      "weighted avg       0.91      0.91      0.91     10267\n",
      "\n",
      "\n",
      "Accuracy: 0.9081523327164702\n"
     ]
    }
   ],
   "source": [
    "print(pd.crosstab(y_test, predicted, rownames=['Actual Observation'], colnames=['Predicted Observation']))\n",
    "from sklearn.metrics import classification_report\n",
    "print(classification_report(y_test, y_pred))\n",
    "print(\"\")\n",
    "print(\"Accuracy:\", metrics.accuracy_score(y_test, y_pred))"
   ]
  },
  {
   "cell_type": "code",
   "execution_count": 428,
   "metadata": {},
   "outputs": [],
   "source": [
    "threshold = 0.3\n",
    "\n",
    "predicted_proba = classifier.predict_proba(X_test)\n",
    "predicted = (predicted_proba [:,1] >= threshold).astype('int')\n",
    "\n",
    "accuracy = metrics.accuracy_score(y_test, predicted)\n"
   ]
  },
  {
   "cell_type": "code",
   "execution_count": 429,
   "metadata": {},
   "outputs": [
    {
     "name": "stdout",
     "output_type": "stream",
     "text": [
      "Predicted Observation     0     1\n",
      "Actual Observation               \n",
      "0                      7477   720\n",
      "1                       262  1808\n",
      "              precision    recall  f1-score   support\n",
      "\n",
      "           0       0.95      0.94      0.94      8197\n",
      "           1       0.76      0.79      0.78      2070\n",
      "\n",
      "    accuracy                           0.91     10267\n",
      "   macro avg       0.85      0.86      0.86     10267\n",
      "weighted avg       0.91      0.91      0.91     10267\n",
      "\n",
      "\n",
      "Accuracy: 0.9081523327164702\n"
     ]
    }
   ],
   "source": [
    "print(pd.crosstab(y_test, predicted, rownames=['Actual Observation'], colnames=['Predicted Observation']))\n",
    "from sklearn.metrics import classification_report\n",
    "print(classification_report(y_test, y_pred))\n",
    "print(\"\")\n",
    "print(\"Accuracy:\", metrics.accuracy_score(y_test, y_pred))"
   ]
  },
  {
   "cell_type": "code",
   "execution_count": null,
   "metadata": {},
   "outputs": [],
   "source": []
  },
  {
   "cell_type": "code",
   "execution_count": 219,
   "metadata": {},
   "outputs": [],
   "source": [
    "#SVM"
   ]
  },
  {
   "cell_type": "code",
   "execution_count": 220,
   "metadata": {},
   "outputs": [
    {
     "name": "stdout",
     "output_type": "stream",
     "text": [
      "Requirement already satisfied: cvxopt in /Users/arvindpawar/opt/anaconda3/lib/python3.7/site-packages (1.2.4)\r\n"
     ]
    }
   ],
   "source": [
    "import sys\n",
    "!{sys.executable} -m pip install cvxopt"
   ]
  },
  {
   "cell_type": "code",
   "execution_count": 221,
   "metadata": {},
   "outputs": [
    {
     "name": "stderr",
     "output_type": "stream",
     "text": [
      "/Users/arvindpawar/opt/anaconda3/lib/python3.7/site-packages/sklearn/utils/deprecation.py:144: FutureWarning: The sklearn.datasets.samples_generator module is  deprecated in version 0.22 and will be removed in version 0.24. The corresponding classes / functions should instead be imported from sklearn.datasets. Anything that cannot be imported from sklearn.datasets is now part of the private API.\n",
      "  warnings.warn(message, FutureWarning)\n"
     ]
    }
   ],
   "source": [
    "import numpy as np\n",
    "import cvxopt\n",
    "from sklearn.datasets.samples_generator import make_blobs\n",
    "from sklearn.model_selection import train_test_split\n",
    "from matplotlib import pyplot as plt\n",
    "from sklearn.svm import LinearSVC\n",
    "from sklearn.metrics import confusion_matrix"
   ]
  },
  {
   "cell_type": "code",
   "execution_count": 222,
   "metadata": {},
   "outputs": [],
   "source": [
    "# #Creating the dependent variable class\n",
    "# factor = pd.factorize(tpHighDf['classification'])\n",
    "# tpHighDf.classification = factor[0]\n",
    "# definitions = factor[1]\n",
    "# print(tpHighDf.classification.head())\n",
    "# print(definitions)\n",
    "\n",
    "# X = tpHighDf.iloc[:, np.r_[2:80]].values\n",
    "# Y = tpHighDf.iloc[:,1].values"
   ]
  },
  {
   "cell_type": "code",
   "execution_count": 223,
   "metadata": {},
   "outputs": [
    {
     "name": "stdout",
     "output_type": "stream",
     "text": [
      "0    0\n",
      "1    0\n",
      "2    0\n",
      "3    0\n",
      "4    0\n",
      "Name: classification, dtype: int64\n",
      "Int64Index([0, 1], dtype='int64')\n"
     ]
    }
   ],
   "source": [
    "#Creating the dependent variable class\n",
    "factor = pd.factorize(tpHighNewDf['classification'])\n",
    "tpHighNewDf.classification = factor[0]\n",
    "definitions = factor[1]\n",
    "print(tpHighNewDf.classification.head())\n",
    "print(definitions)\n",
    "\n",
    "X = tpHighNewDf.iloc[:, np.r_[2:80]].values\n",
    "Y = tpHighNewDf.iloc[:,1].values"
   ]
  },
  {
   "cell_type": "code",
   "execution_count": 224,
   "metadata": {},
   "outputs": [],
   "source": [
    "X_train, X_test, y_train, y_test = train_test_split(X, Y, test_size=0.30, random_state=21)"
   ]
  },
  {
   "cell_type": "code",
   "execution_count": 225,
   "metadata": {},
   "outputs": [],
   "source": [
    "sampler = RandomOverSampler(random_state=0)\n",
    "\n",
    "X_rs, y_rs = sampler.fit_sample(X_train, y_train)"
   ]
  },
  {
   "cell_type": "code",
   "execution_count": 226,
   "metadata": {},
   "outputs": [],
   "source": [
    "svc = LinearSVC()\n"
   ]
  },
  {
   "cell_type": "code",
   "execution_count": null,
   "metadata": {},
   "outputs": [],
   "source": [
    "# print(\"Performance measures of SVM for Notable Risk\", sep=('\\n'))\n",
    "# print(pd.crosstab(y_test, predicted, rownames=['Actual Observation'], colnames=['Predicted Observation']))\n",
    "# from sklearn.metrics import classification_report\n",
    "# print(classification_report(y_test, y_pred))\n",
    "# print(\"\")\n",
    "# print(\"Accuracy:\", metrics.accuracy_score(y_test, y_pred))"
   ]
  },
  {
   "cell_type": "code",
   "execution_count": null,
   "metadata": {},
   "outputs": [],
   "source": [
    "# accuracy = metrics.accuracy_score(y_test, predicted)\n",
    "# accuracy"
   ]
  },
  {
   "cell_type": "code",
   "execution_count": null,
   "metadata": {},
   "outputs": [],
   "source": []
  },
  {
   "cell_type": "code",
   "execution_count": 144,
   "metadata": {},
   "outputs": [
    {
     "data": {
      "text/plain": [
       "RandomForestClassifier(bootstrap=True, ccp_alpha=0.0, class_weight=None,\n",
       "                       criterion='gini', max_depth=None, max_features='auto',\n",
       "                       max_leaf_nodes=None, max_samples=None,\n",
       "                       min_impurity_decrease=0.0, min_impurity_split=None,\n",
       "                       min_samples_leaf=1, min_samples_split=2,\n",
       "                       min_weight_fraction_leaf=0.0, n_estimators=100,\n",
       "                       n_jobs=None, oob_score=False, random_state=None,\n",
       "                       verbose=0, warm_start=False)"
      ]
     },
     "execution_count": 144,
     "metadata": {},
     "output_type": "execute_result"
    }
   ],
   "source": [
    "from sklearn.ensemble import RandomForestClassifier\n",
    "\n",
    "#Create a Gaussian Classifier\n",
    "clf=RandomForestClassifier(n_estimators=100)\n",
    "\n",
    "#Train the model using the training sets y_pred=clf.predict(X_test)\n",
    "clf.fit(X_train,y_train)"
   ]
  },
  {
   "cell_type": "code",
   "execution_count": 146,
   "metadata": {},
   "outputs": [],
   "source": [
    "newdataframe=tpHighNewDf.iloc[:, np.r_[0, 2, 4:144]].copy()"
   ]
  },
  {
   "cell_type": "code",
   "execution_count": 147,
   "metadata": {},
   "outputs": [
    {
     "data": {
      "text/plain": [
       "score                                        1.552357e-01\n",
       "risk_factor                                  1.408603e-01\n",
       "owner_name_Senior_Analyst_1                  1.045323e-01\n",
       "owner_name_Senior_Analyst_2                  8.075336e-02\n",
       "tenure                                       7.814932e-02\n",
       "                                                 ...     \n",
       "indicators_App_9_Heat_RDP_IND                3.226162e-07\n",
       "indicators_App_3_Heat_Email_HRO              2.519562e-07\n",
       "job_function_JOB_FUNCTION_2                  1.629955e-07\n",
       "indicators_App_1_Heat_CD_Burn_PRE_2016_Q3    9.182314e-08\n",
       "job_function_JOB_FUNCTION_4                  7.327550e-08\n",
       "Length: 142, dtype: float64"
      ]
     },
     "execution_count": 147,
     "metadata": {},
     "output_type": "execute_result"
    }
   ],
   "source": [
    "import pandas as pd\n",
    "feature_imp = pd.Series(clf.feature_importances_,index=newdataframe.columns).sort_values(ascending=False)\n",
    "feature_imp"
   ]
  },
  {
   "cell_type": "code",
   "execution_count": 148,
   "metadata": {},
   "outputs": [],
   "source": [
    "feature_imp=feature_imp.nlargest(20)"
   ]
  },
  {
   "cell_type": "code",
   "execution_count": 149,
   "metadata": {},
   "outputs": [
    {
     "name": "stderr",
     "output_type": "stream",
     "text": [
      "No handles with labels found to put in legend.\n"
     ]
    },
    {
     "data": {
      "image/png": "[encoded data removed]",
      "text/plain": [
       "<Figure size 432x288 with 1 Axes>"
      ]
     },
     "metadata": {
      "needs_background": "light"
     },
     "output_type": "display_data"
    }
   ],
   "source": [
    "import matplotlib.pyplot as plt\n",
    "import seaborn as sns\n",
    "%matplotlib inline\n",
    "# Creating a bar plot\n",
    "sns.barplot(x=feature_imp, y=feature_imp.index)\n",
    "# Add labels to your graph\n",
    "plt.xlabel('Feature Importance Score')\n",
    "plt.ylabel('Features')\n",
    "plt.title(\"Visualizing Important Features\")\n",
    "plt.legend()\n",
    "plt.show()"
   ]
  },
  {
   "cell_type": "code",
   "execution_count": null,
   "metadata": {},
   "outputs": [],
   "source": []
  },
  {
   "cell_type": "code",
   "execution_count": 453,
   "metadata": {},
   "outputs": [],
   "source": [
    "#Gradient Boosting\n",
    "\n",
    "import pandas as pd\n",
    "from sklearn.preprocessing import MinMaxScaler\n",
    "from sklearn.model_selection import train_test_split\n",
    "from sklearn.metrics import classification_report, confusion_matrix\n",
    "from sklearn.ensemble import GradientBoostingClassifier"
   ]
  },
  {
   "cell_type": "code",
   "execution_count": 454,
   "metadata": {},
   "outputs": [
    {
     "data": {
      "text/html": [
       "<div>\n",
       "<style scoped>\n",
       "    .dataframe tbody tr th:only-of-type {\n",
       "        vertical-align: middle;\n",
       "    }\n",
       "\n",
       "    .dataframe tbody tr th {\n",
       "        vertical-align: top;\n",
       "    }\n",
       "\n",
       "    .dataframe thead th {\n",
       "        text-align: right;\n",
       "    }\n",
       "</style>\n",
       "<table border=\"1\" class=\"dataframe\">\n",
       "  <thead>\n",
       "    <tr style=\"text-align: right;\">\n",
       "      <th></th>\n",
       "      <th>score</th>\n",
       "      <th>employee_id</th>\n",
       "      <th>risk_factor</th>\n",
       "      <th>classification</th>\n",
       "      <th>tenure</th>\n",
       "      <th>owner_name_Analyst_1</th>\n",
       "      <th>owner_name_Analyst_3</th>\n",
       "      <th>owner_name_Analyst_4</th>\n",
       "      <th>owner_name_Analyst_6</th>\n",
       "      <th>owner_name_Analyst_7</th>\n",
       "      <th>...</th>\n",
       "      <th>career_band_CAREER_BAND_1</th>\n",
       "      <th>career_band_CAREER_BAND_10</th>\n",
       "      <th>career_band_CAREER_BAND_2</th>\n",
       "      <th>career_band_CAREER_BAND_3</th>\n",
       "      <th>career_band_CAREER_BAND_4</th>\n",
       "      <th>career_band_CAREER_BAND_5</th>\n",
       "      <th>career_band_CAREER_BAND_6</th>\n",
       "      <th>career_band_CAREER_BAND_7</th>\n",
       "      <th>career_band_CAREER_BAND_8</th>\n",
       "      <th>career_band_CAREER_BAND_9</th>\n",
       "    </tr>\n",
       "  </thead>\n",
       "  <tbody>\n",
       "    <tr>\n",
       "      <td>0</td>\n",
       "      <td>1344</td>\n",
       "      <td>19616361638</td>\n",
       "      <td>5.868996</td>\n",
       "      <td>0</td>\n",
       "      <td>22.0</td>\n",
       "      <td>0</td>\n",
       "      <td>0</td>\n",
       "      <td>0</td>\n",
       "      <td>0</td>\n",
       "      <td>0</td>\n",
       "      <td>...</td>\n",
       "      <td>0</td>\n",
       "      <td>0</td>\n",
       "      <td>1</td>\n",
       "      <td>0</td>\n",
       "      <td>0</td>\n",
       "      <td>0</td>\n",
       "      <td>0</td>\n",
       "      <td>0</td>\n",
       "      <td>0</td>\n",
       "      <td>0</td>\n",
       "    </tr>\n",
       "    <tr>\n",
       "      <td>1</td>\n",
       "      <td>1392</td>\n",
       "      <td>19616361638</td>\n",
       "      <td>6.078603</td>\n",
       "      <td>0</td>\n",
       "      <td>22.0</td>\n",
       "      <td>0</td>\n",
       "      <td>0</td>\n",
       "      <td>0</td>\n",
       "      <td>0</td>\n",
       "      <td>0</td>\n",
       "      <td>...</td>\n",
       "      <td>0</td>\n",
       "      <td>0</td>\n",
       "      <td>1</td>\n",
       "      <td>0</td>\n",
       "      <td>0</td>\n",
       "      <td>0</td>\n",
       "      <td>0</td>\n",
       "      <td>0</td>\n",
       "      <td>0</td>\n",
       "      <td>0</td>\n",
       "    </tr>\n",
       "    <tr>\n",
       "      <td>2</td>\n",
       "      <td>1377</td>\n",
       "      <td>19616361638</td>\n",
       "      <td>5.884615</td>\n",
       "      <td>0</td>\n",
       "      <td>22.0</td>\n",
       "      <td>0</td>\n",
       "      <td>0</td>\n",
       "      <td>0</td>\n",
       "      <td>0</td>\n",
       "      <td>0</td>\n",
       "      <td>...</td>\n",
       "      <td>0</td>\n",
       "      <td>0</td>\n",
       "      <td>1</td>\n",
       "      <td>0</td>\n",
       "      <td>0</td>\n",
       "      <td>0</td>\n",
       "      <td>0</td>\n",
       "      <td>0</td>\n",
       "      <td>0</td>\n",
       "      <td>0</td>\n",
       "    </tr>\n",
       "    <tr>\n",
       "      <td>3</td>\n",
       "      <td>1383</td>\n",
       "      <td>19616361638</td>\n",
       "      <td>5.668033</td>\n",
       "      <td>0</td>\n",
       "      <td>22.0</td>\n",
       "      <td>0</td>\n",
       "      <td>0</td>\n",
       "      <td>0</td>\n",
       "      <td>0</td>\n",
       "      <td>0</td>\n",
       "      <td>...</td>\n",
       "      <td>0</td>\n",
       "      <td>0</td>\n",
       "      <td>1</td>\n",
       "      <td>0</td>\n",
       "      <td>0</td>\n",
       "      <td>0</td>\n",
       "      <td>0</td>\n",
       "      <td>0</td>\n",
       "      <td>0</td>\n",
       "      <td>0</td>\n",
       "    </tr>\n",
       "    <tr>\n",
       "      <td>4</td>\n",
       "      <td>1380</td>\n",
       "      <td>19616361638</td>\n",
       "      <td>5.587045</td>\n",
       "      <td>0</td>\n",
       "      <td>22.0</td>\n",
       "      <td>0</td>\n",
       "      <td>0</td>\n",
       "      <td>0</td>\n",
       "      <td>0</td>\n",
       "      <td>0</td>\n",
       "      <td>...</td>\n",
       "      <td>0</td>\n",
       "      <td>0</td>\n",
       "      <td>1</td>\n",
       "      <td>0</td>\n",
       "      <td>0</td>\n",
       "      <td>0</td>\n",
       "      <td>0</td>\n",
       "      <td>0</td>\n",
       "      <td>0</td>\n",
       "      <td>0</td>\n",
       "    </tr>\n",
       "  </tbody>\n",
       "</table>\n",
       "<p>5 rows × 147 columns</p>\n",
       "</div>"
      ],
      "text/plain": [
       "   score  employee_id  risk_factor  classification  tenure  \\\n",
       "0   1344  19616361638     5.868996               0    22.0   \n",
       "1   1392  19616361638     6.078603               0    22.0   \n",
       "2   1377  19616361638     5.884615               0    22.0   \n",
       "3   1383  19616361638     5.668033               0    22.0   \n",
       "4   1380  19616361638     5.587045               0    22.0   \n",
       "\n",
       "   owner_name_Analyst_1  owner_name_Analyst_3  owner_name_Analyst_4  \\\n",
       "0                     0                     0                     0   \n",
       "1                     0                     0                     0   \n",
       "2                     0                     0                     0   \n",
       "3                     0                     0                     0   \n",
       "4                     0                     0                     0   \n",
       "\n",
       "   owner_name_Analyst_6  owner_name_Analyst_7  ...  career_band_CAREER_BAND_1  \\\n",
       "0                     0                     0  ...                          0   \n",
       "1                     0                     0  ...                          0   \n",
       "2                     0                     0  ...                          0   \n",
       "3                     0                     0  ...                          0   \n",
       "4                     0                     0  ...                          0   \n",
       "\n",
       "   career_band_CAREER_BAND_10  career_band_CAREER_BAND_2  \\\n",
       "0                           0                          1   \n",
       "1                           0                          1   \n",
       "2                           0                          1   \n",
       "3                           0                          1   \n",
       "4                           0                          1   \n",
       "\n",
       "   career_band_CAREER_BAND_3  career_band_CAREER_BAND_4  \\\n",
       "0                          0                          0   \n",
       "1                          0                          0   \n",
       "2                          0                          0   \n",
       "3                          0                          0   \n",
       "4                          0                          0   \n",
       "\n",
       "   career_band_CAREER_BAND_5  career_band_CAREER_BAND_6  \\\n",
       "0                          0                          0   \n",
       "1                          0                          0   \n",
       "2                          0                          0   \n",
       "3                          0                          0   \n",
       "4                          0                          0   \n",
       "\n",
       "   career_band_CAREER_BAND_7  career_band_CAREER_BAND_8  \\\n",
       "0                          0                          0   \n",
       "1                          0                          0   \n",
       "2                          0                          0   \n",
       "3                          0                          0   \n",
       "4                          0                          0   \n",
       "\n",
       "   career_band_CAREER_BAND_9  \n",
       "0                          0  \n",
       "1                          0  \n",
       "2                          0  \n",
       "3                          0  \n",
       "4                          0  \n",
       "\n",
       "[5 rows x 147 columns]"
      ]
     },
     "execution_count": 454,
     "metadata": {},
     "output_type": "execute_result"
    }
   ],
   "source": [
    "tpHighDf.head()"
   ]
  },
  {
   "cell_type": "code",
   "execution_count": 455,
   "metadata": {},
   "outputs": [
    {
     "data": {
      "text/plain": [
       "0    27503\n",
       "1     6720\n",
       "Name: classification, dtype: int64"
      ]
     },
     "execution_count": 455,
     "metadata": {},
     "output_type": "execute_result"
    }
   ],
   "source": [
    "tpHighNewDf['classification'].value_counts()"
   ]
  },
  {
   "cell_type": "code",
   "execution_count": 456,
   "metadata": {},
   "outputs": [
    {
     "name": "stdout",
     "output_type": "stream",
     "text": [
      "0    0\n",
      "1    0\n",
      "2    0\n",
      "3    0\n",
      "4    0\n",
      "Name: classification, dtype: int64\n",
      "Int64Index([0, 1], dtype='int64')\n"
     ]
    }
   ],
   "source": [
    "#Creating the dependent variable class\n",
    "factor = pd.factorize(tpHighDf['classification'])\n",
    "tpHighDf.classification = factor[0]\n",
    "definitions = factor[1]\n",
    "print(tpHighDf.classification.head())\n",
    "print(definitions)\n",
    "\n",
    "X=tpHighDf.iloc[:, np.r_[0, 2, 4:147]]\n",
    "Y=tpHighDf.iloc[:, 3]"
   ]
  },
  {
   "cell_type": "code",
   "execution_count": 457,
   "metadata": {},
   "outputs": [],
   "source": [
    "# #Creating the dependent variable class\n",
    "# factor = pd.factorize(tpHighNewDf['classification'])\n",
    "# tpHighNewDf.classification = factor[0]\n",
    "# definitions = factor[1]\n",
    "# print(tpHighNewDf.classification.head())\n",
    "# print(definitions)\n",
    "\n",
    "# X=tpHighNewDf.iloc[:, np.r_[0, 2, 4:147]]\n",
    "# Y=tpHighNewDf.iloc[:, 3]\n"
   ]
  },
  {
   "cell_type": "code",
   "execution_count": 458,
   "metadata": {},
   "outputs": [
    {
     "name": "stdout",
     "output_type": "stream",
     "text": [
      "(34223, 145)\n",
      "(34223,)\n"
     ]
    }
   ],
   "source": [
    "print(X.shape)\n",
    "\n",
    "print(Y.shape)"
   ]
  },
  {
   "cell_type": "code",
   "execution_count": 459,
   "metadata": {},
   "outputs": [
    {
     "name": "stdout",
     "output_type": "stream",
     "text": [
      "Requirement already satisfied: imblearn in /Users/arvindpawar/opt/anaconda3/lib/python3.7/site-packages (0.0)\n",
      "Requirement already satisfied: imbalanced-learn in /Users/arvindpawar/opt/anaconda3/lib/python3.7/site-packages (from imblearn) (0.6.2)\n",
      "Requirement already satisfied: joblib>=0.11 in /Users/arvindpawar/opt/anaconda3/lib/python3.7/site-packages (from imbalanced-learn->imblearn) (0.13.2)\n",
      "Requirement already satisfied: scikit-learn>=0.22 in /Users/arvindpawar/opt/anaconda3/lib/python3.7/site-packages (from imbalanced-learn->imblearn) (0.22.2.post1)\n",
      "Requirement already satisfied: numpy>=1.11 in /Users/arvindpawar/opt/anaconda3/lib/python3.7/site-packages (from imbalanced-learn->imblearn) (1.17.2)\n",
      "Requirement already satisfied: scipy>=0.17 in /Users/arvindpawar/opt/anaconda3/lib/python3.7/site-packages (from imbalanced-learn->imblearn) (1.4.1)\n"
     ]
    }
   ],
   "source": [
    "import sys\n",
    "!{sys.executable} -m pip install imblearn"
   ]
  },
  {
   "cell_type": "code",
   "execution_count": 460,
   "metadata": {},
   "outputs": [],
   "source": [
    "from imblearn.over_sampling import (RandomOverSampler)"
   ]
  },
  {
   "cell_type": "code",
   "execution_count": 461,
   "metadata": {},
   "outputs": [],
   "source": [
    "import scipy"
   ]
  },
  {
   "cell_type": "code",
   "execution_count": null,
   "metadata": {},
   "outputs": [],
   "source": []
  },
  {
   "cell_type": "code",
   "execution_count": 462,
   "metadata": {},
   "outputs": [],
   "source": [
    "X_train, X_test, y_train, y_test = train_test_split(X, Y, test_size=0.30)"
   ]
  },
  {
   "cell_type": "code",
   "execution_count": 463,
   "metadata": {},
   "outputs": [],
   "source": [
    "sampler = RandomOverSampler(random_state=0)\n",
    "\n",
    "X_rs, y_rs = sampler.fit_sample(X_train, y_train)"
   ]
  },
  {
   "cell_type": "code",
   "execution_count": 464,
   "metadata": {},
   "outputs": [],
   "source": [
    "model=GradientBoostingClassifier()"
   ]
  },
  {
   "cell_type": "code",
   "execution_count": 465,
   "metadata": {},
   "outputs": [
    {
     "data": {
      "text/plain": [
       "0        0\n",
       "1        0\n",
       "2        0\n",
       "3        0\n",
       "4        0\n",
       "        ..\n",
       "11679    0\n",
       "11679    0\n",
       "11679    0\n",
       "11680    0\n",
       "11680    0\n",
       "Name: classification, Length: 34223, dtype: int64"
      ]
     },
     "execution_count": 465,
     "metadata": {},
     "output_type": "execute_result"
    }
   ],
   "source": [
    "Y"
   ]
  },
  {
   "cell_type": "code",
   "execution_count": 466,
   "metadata": {},
   "outputs": [
    {
     "data": {
      "text/plain": [
       "GradientBoostingClassifier(ccp_alpha=0.0, criterion='friedman_mse', init=None,\n",
       "                           learning_rate=0.1, loss='deviance', max_depth=3,\n",
       "                           max_features=None, max_leaf_nodes=None,\n",
       "                           min_impurity_decrease=0.0, min_impurity_split=None,\n",
       "                           min_samples_leaf=1, min_samples_split=2,\n",
       "                           min_weight_fraction_leaf=0.0, n_estimators=100,\n",
       "                           n_iter_no_change=None, presort='deprecated',\n",
       "                           random_state=None, subsample=1.0, tol=0.0001,\n",
       "                           validation_fraction=0.1, verbose=0,\n",
       "                           warm_start=False)"
      ]
     },
     "execution_count": 466,
     "metadata": {},
     "output_type": "execute_result"
    }
   ],
   "source": [
    "model.fit(X_rs, y_rs)"
   ]
  },
  {
   "cell_type": "code",
   "execution_count": null,
   "metadata": {},
   "outputs": [],
   "source": []
  },
  {
   "cell_type": "code",
   "execution_count": 467,
   "metadata": {},
   "outputs": [],
   "source": [
    "y_pred=model.predict(X_test)"
   ]
  },
  {
   "cell_type": "code",
   "execution_count": 468,
   "metadata": {},
   "outputs": [
    {
     "name": "stdout",
     "output_type": "stream",
     "text": [
      "[[8007 1197]\n",
      " [ 238  825]]\n"
     ]
    }
   ],
   "source": [
    "print(confusion_matrix(y_test, y_pred))"
   ]
  },
  {
   "cell_type": "code",
   "execution_count": 469,
   "metadata": {},
   "outputs": [
    {
     "name": "stdout",
     "output_type": "stream",
     "text": [
      "Gradient Boosting for High Risk\n",
      "Predicted Observation     0     1\n",
      "Actual Observation               \n",
      "0                      8007  1197\n",
      "1                       238   825\n",
      "              precision    recall  f1-score   support\n",
      "\n",
      "           0       0.97      0.87      0.92      9204\n",
      "           1       0.41      0.78      0.53      1063\n",
      "\n",
      "    accuracy                           0.86     10267\n",
      "   macro avg       0.69      0.82      0.73     10267\n",
      "weighted avg       0.91      0.86      0.88     10267\n",
      "\n",
      "\n",
      "Accuracy: 0.8602318106554983\n"
     ]
    }
   ],
   "source": [
    "print(\"Gradient Boosting for High Risk\", sep=('\\n'))\n",
    "print(pd.crosstab(y_test, y_pred, rownames=['Actual Observation'], \n",
    "                  colnames=['Predicted Observation']))\n",
    "\n",
    "from sklearn.metrics import classification_report\n",
    "print(classification_report(y_test, y_pred))\n",
    "print(\"\")\n",
    "print(\"Accuracy:\", metrics.accuracy_score(y_test, y_pred))"
   ]
  },
  {
   "cell_type": "code",
   "execution_count": 447,
   "metadata": {},
   "outputs": [
    {
     "data": {
      "text/plain": [
       "0.8264566202906124"
      ]
     },
     "execution_count": 447,
     "metadata": {},
     "output_type": "execute_result"
    }
   ],
   "source": [
    "from sklearn.metrics import roc_curve, auc\n",
    "false_positive_rate, true_positive_rate, thresholds = roc_curve(y_test, y_pred)\n",
    "roc_auc = auc(false_positive_rate, true_positive_rate)\n",
    "roc_auc"
   ]
  },
  {
   "cell_type": "code",
   "execution_count": 448,
   "metadata": {},
   "outputs": [
    {
     "name": "stdout",
     "output_type": "stream",
     "text": [
      "Accuracy: 0.8512710626278368\n"
     ]
    }
   ],
   "source": [
    "print(\"Accuracy:\", metrics.accuracy_score(y_test, y_pred))"
   ]
  },
  {
   "cell_type": "code",
   "execution_count": 449,
   "metadata": {},
   "outputs": [
    {
     "name": "stdout",
     "output_type": "stream",
     "text": [
      "              precision    recall  f1-score   support\n",
      "\n",
      "           0       0.94      0.87      0.90      8223\n",
      "           1       0.60      0.79      0.68      2044\n",
      "\n",
      "    accuracy                           0.85     10267\n",
      "   macro avg       0.77      0.83      0.79     10267\n",
      "weighted avg       0.87      0.85      0.86     10267\n",
      "\n"
     ]
    }
   ],
   "source": [
    "from sklearn.metrics import classification_report\n",
    "print(classification_report(y_test, y_pred))"
   ]
  },
  {
   "cell_type": "code",
   "execution_count": 450,
   "metadata": {},
   "outputs": [],
   "source": [
    "# Import the classifiers\n",
    "from sklearn.tree import DecisionTreeClassifier\n",
    "from sklearn.ensemble import RandomForestClassifier\n",
    "\n",
    "from sklearn.metrics import roc_curve, roc_auc_score\n",
    "\n",
    "# Instantiate the classfiers and make a list\n",
    "classifiers = [DecisionTreeClassifier(random_state=1234),\n",
    "               RandomForestClassifier(random_state=1234),\n",
    "              GradientBoostingClassifier(random_state=1234)]\n",
    "\n",
    "# Define a result table as a DataFrame\n",
    "result_table = pd.DataFrame(columns=['classifiers', 'fpr','tpr','auc'])\n",
    "\n",
    "# Train the models and record the results\n",
    "for cls in classifiers:\n",
    "    model = cls.fit(X_rs, y_rs)\n",
    "    yproba = model.predict_proba(X_test)[::,1]\n",
    "    \n",
    "    fpr, tpr, _ = roc_curve(y_test,  yproba)\n",
    "    auc = roc_auc_score(y_test, yproba)\n",
    "    \n",
    "    result_table = result_table.append({'classifiers':cls.__class__.__name__,\n",
    "                                        'fpr':fpr, \n",
    "                                        'tpr':tpr, \n",
    "                                        'auc':auc}, ignore_index=True)\n",
    "\n",
    "# Set name of the classifiers as index labels\n",
    "result_table.set_index('classifiers', inplace=True)"
   ]
  },
  {
   "cell_type": "code",
   "execution_count": 451,
   "metadata": {},
   "outputs": [
    {
     "data": {
      "image/png": "[encoded data removed]",
      "text/plain": [
       "<Figure size 576x432 with 1 Axes>"
      ]
     },
     "metadata": {
      "needs_background": "light"
     },
     "output_type": "display_data"
    }
   ],
   "source": [
    "fig = plt.figure(figsize=(8,6))\n",
    "\n",
    "for i in result_table.index:\n",
    "    plt.plot(result_table.loc[i]['fpr'], \n",
    "             result_table.loc[i]['tpr'], \n",
    "             label=\"{}, AUC={:.3f}\".format(i, result_table.loc[i]['auc']))\n",
    "    \n",
    "plt.plot([0,1], [0,1], color='orange', linestyle='--')\n",
    "\n",
    "plt.xticks(np.arange(0.0, 1.1, step=0.1))\n",
    "plt.xlabel(\"Flase Positive Rate\", fontsize=15)\n",
    "\n",
    "plt.yticks(np.arange(0.0, 1.1, step=0.1))\n",
    "plt.ylabel(\"True Positive Rate\", fontsize=15)\n",
    "\n",
    "plt.title('ROC Curve Analysis', fontweight='bold', fontsize=15)\n",
    "plt.legend(prop={'size':13}, loc='lower right')\n",
    "\n",
    "plt.show()"
   ]
  },
  {
   "cell_type": "code",
   "execution_count": 452,
   "metadata": {},
   "outputs": [
    {
     "data": {
      "image/png": "[encoded data removed]",
      "text/plain": [
       "<Figure size 576x432 with 1 Axes>"
      ]
     },
     "metadata": {
      "needs_background": "light"
     },
     "output_type": "display_data"
    }
   ],
   "source": [
    "# Import the classifiers\n",
    "from sklearn.tree import DecisionTreeClassifier\n",
    "from sklearn.ensemble import RandomForestClassifier\n",
    "\n",
    "from sklearn.metrics import roc_curve, roc_auc_score\n",
    "\n",
    "# Instantiate the classfiers and make a list\n",
    "classifiers = [DecisionTreeClassifier(random_state=1234),\n",
    "               RandomForestClassifier(random_state=1234),\n",
    "              GradientBoostingClassifier(random_state=1234)]\n",
    "\n",
    "# Define a result table as a DataFrame\n",
    "result_table = pd.DataFrame(columns=['classifiers', 'fpr','tpr','auc'])\n",
    "\n",
    "# Train the models and record the results\n",
    "for cls in classifiers:\n",
    "    model = cls.fit(X_train, y_train)\n",
    "    yproba = model.predict_proba(X_test)[::,1]\n",
    "    \n",
    "    fpr, tpr, _ = roc_curve(y_test,  yproba)\n",
    "    auc = roc_auc_score(y_test, yproba)\n",
    "    \n",
    "    result_table = result_table.append({'classifiers':cls.__class__.__name__,\n",
    "                                        'fpr':fpr, \n",
    "                                        'tpr':tpr, \n",
    "                                        'auc':auc}, ignore_index=True)\n",
    "\n",
    "# Set name of the classifiers as index labels\n",
    "result_table.set_index('classifiers', inplace=True)\n",
    "\n",
    "\n",
    "fig = plt.figure(figsize=(8,6))\n",
    "\n",
    "for i in result_table.index:\n",
    "    plt.plot(result_table.loc[i]['fpr'], \n",
    "             result_table.loc[i]['tpr'], \n",
    "             label=\"{}, AUC={:.3f}\".format(i, result_table.loc[i]['auc']))\n",
    "    \n",
    "plt.plot([0,1], [0,1], color='orange', linestyle='--')\n",
    "\n",
    "plt.xticks(np.arange(0.0, 1.1, step=0.1))\n",
    "plt.xlabel(\"Flase Positive Rate\", fontsize=15)\n",
    "\n",
    "plt.yticks(np.arange(0.0, 1.1, step=0.1))\n",
    "plt.ylabel(\"True Positive Rate\", fontsize=15)\n",
    "\n",
    "plt.title('ROC Curve Analysis', fontweight='bold', fontsize=15)\n",
    "plt.legend(prop={'size':13}, loc='lower right')\n",
    "\n",
    "plt.show()\n",
    "\n"
   ]
  },
  {
   "cell_type": "code",
   "execution_count": null,
   "metadata": {},
   "outputs": [],
   "source": []
  },
  {
   "cell_type": "code",
   "execution_count": null,
   "metadata": {},
   "outputs": [],
   "source": []
  }
 ],
 "metadata": {
  "kernelspec": {
   "display_name": "Python 3",
   "language": "python",
   "name": "python3"
  },
  "language_info": {
   "codemirror_mode": {
    "name": "ipython",
    "version": 3
   },
   "file_extension": ".py",
   "mimetype": "text/x-python",
   "name": "python",
   "nbconvert_exporter": "python",
   "pygments_lexer": "ipython3",
   "version": "3.7.4"
  }
 },
 "nbformat": 4,
 "nbformat_minor": 2
}
